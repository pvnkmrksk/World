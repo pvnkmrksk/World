{
 "cells": [
  {
   "cell_type": "code",
   "execution_count": 1,
   "metadata": {
    "collapsed": false
   },
   "outputs": [
    {
     "name": "stderr",
     "output_type": "stream",
     "text": [
      "/home/rhagoletis/catkin/src/beginner/scripts/panda/world/venv/lib/python2.7/site-packages/matplotlib/font_manager.py:273: UserWarning: Matplotlib is building the font cache using fc-list. This may take a moment.\n",
      "  warnings.warn('Matplotlib is building the font cache using fc-list. This may take a moment.')\n"
     ]
    }
   ],
   "source": [
    "from params import parameters\n",
    "import matplotlib.pyplot as plt"
   ]
  },
  {
   "cell_type": "code",
   "execution_count": 16,
   "metadata": {
    "collapsed": true
   },
   "outputs": [],
   "source": [
    "import numpy as np\n",
    "def plumeStripGen( fieldWidth, fieldHeight, stripWidth, stripHeight, initX, initY):\n",
    "    \"\"\"\n",
    "\n",
    "    Args:\n",
    "        fieldWidth: width of array\n",
    "        fieldHeight: height of array\n",
    "        stripWidth:  width of the plume strip\n",
    "        stripHeight: height of the plume strip\n",
    "        initX:      starting X point of strip in numpy array\n",
    "        initY:      starting Y point of strip in numpy array\n",
    "\n",
    "    Returns:\n",
    "        stripField :    An array with 1 where the plume exists, which is a\n",
    "                        rectangular strip and 0 else where\n",
    "    \"\"\"\n",
    "    fieldWidth=int(fieldWidth)\n",
    "    fieldHeight=int(fieldHeight)\n",
    "    stripWidth=int(stripWidth)\n",
    "    stripHeight=int(stripHeight)\n",
    "    initX=int(initX)\n",
    "    initY=int(initY)\n",
    "\n",
    "    stripField = np.zeros([fieldWidth, fieldHeight])\n",
    "    stripField[initX:initX + stripWidth, initY:initY + stripHeight] = 1\n",
    "\n",
    "    # print \"stripfield is\",stripField\n",
    "    return stripField\n",
    "\n",
    "\n",
    "def odourFieldGen():\n",
    "    odourField = np.zeros([parameters[\"worldSize\"], parameters[\"worldSize\"]])\n",
    "\n",
    "    offset = int((parameters[\"worldSize\"] - 1) / 2)\n",
    "    world = parameters[\"worldSize\"]\n",
    "\n",
    "    parameters[\"odourQuadImage\"] = parameters[\"odourQuad\"]\n",
    "    quad = 0\n",
    "    for i in parameters[\"odourQuad\"]:\n",
    "        from skimage.io import imread\n",
    "\n",
    "        if i == 'c':\n",
    "            parameters[\"odourQuadImage\"][quad] = np.rot90(imread(\"models/odour/\" + str(quad + 1) + \".png\") / 255)\n",
    "            # py 0 index but non zero quadrants and the image is rotated to fix plt and array axes\n",
    "            print \"odour image is\", quad, parameters[\"odourQuadImage\"][quad]\n",
    "        elif i == 's':\n",
    "            width = 15\n",
    "            strip = plumeStripGen(offset, offset, width, offset, offset / 2 - (width / 2), 0)\n",
    "            parameters[\"odourQuadImage\"][quad] = strip\n",
    "\n",
    "        quad += 1\n",
    "\n",
    "    odourField[0:offset, 0:offset] = parameters[\"odourQuadImage\"][2]\n",
    "    odourField[offset + 1:world, 0:offset] = parameters[\"odourQuadImage\"][3]\n",
    "    odourField[0:offset, offset + 1:world] = parameters[\"odourQuadImage\"][1]\n",
    "    odourField[offset + 1:world, offset + 1:world] = parameters[\"odourQuadImage\"][0]\n",
    "    parameters[\"odourField\"] = odourField\n",
    "    thresh=0.905\n",
    "    rand=(np.random.rand(odourField.shape[0],odourField.shape[1])>thresh)*1\n",
    "    odourField=np.logical_and(odourField,rand)\n",
    "    plt.imshow(np.rot90(odourField))\n",
    "    plt.gray()\n",
    "    plt.show()\n",
    "#     plt.show(block=False)\n",
    "    # print \"odour field\",parameters[\"odourField\"]\n",
    "    return odourField\n"
   ]
  },
  {
   "cell_type": "code",
   "execution_count": 17,
   "metadata": {
    "collapsed": false
   },
   "outputs": [
    {
     "name": "stderr",
     "output_type": "stream",
     "text": [
      "/usr/local/lib/python2.7/dist-packages/ipykernel/__main__.py:42: FutureWarning: elementwise comparison failed; returning scalar instead, but in the future will perform elementwise comparison\n",
      "/usr/local/lib/python2.7/dist-packages/ipykernel/__main__.py:46: FutureWarning: elementwise comparison failed; returning scalar instead, but in the future will perform elementwise comparison\n"
     ]
    }
   ],
   "source": [
    "a=odourFieldGen()"
   ]
  },
  {
   "cell_type": "code",
   "execution_count": null,
   "metadata": {
    "collapsed": false
   },
   "outputs": [],
   "source": [
    "a"
   ]
  },
  {
   "cell_type": "code",
   "execution_count": null,
   "metadata": {
    "collapsed": false
   },
   "outputs": [],
   "source": [
    "np.random.randint(0,2,size=(a.shape))"
   ]
  },
  {
   "cell_type": "code",
   "execution_count": null,
   "metadata": {
    "collapsed": false
   },
   "outputs": [],
   "source": [
    "a.shape"
   ]
  },
  {
   "cell_type": "code",
   "execution_count": null,
   "metadata": {
    "collapsed": true
   },
   "outputs": [],
   "source": []
  }
 ],
 "metadata": {
  "kernelspec": {
   "display_name": "Python 2",
   "language": "python",
   "name": "python2"
  },
  "language_info": {
   "codemirror_mode": {
    "name": "ipython",
    "version": 2
   },
   "file_extension": ".py",
   "mimetype": "text/x-python",
   "name": "python",
   "nbconvert_exporter": "python",
   "pygments_lexer": "ipython2",
   "version": "2.7.6"
  }
 },
 "nbformat": 4,
 "nbformat_minor": 0
}
