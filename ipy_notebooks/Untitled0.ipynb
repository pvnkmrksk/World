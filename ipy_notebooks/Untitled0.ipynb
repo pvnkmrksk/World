{
 "metadata": {
  "name": ""
 },
 "nbformat": 3,
 "nbformat_minor": 0,
 "worksheets": [
  {
   "cells": [
    {
     "cell_type": "code",
     "collapsed": false,
     "input": [
      "import numpy as np\n",
      "import matplotlib.pyplot as plt\n",
      "import pickle as pl\n",
      "\n",
      "# Plot simple sinus function\n",
      "fig_handle = plt.figure()\n",
      "x = np.linspace(0,2*np.pi)\n",
      "y = np.sin(x)\n",
      "plt.plot(x,y)\n",
      "\n",
      "# Save figure handle to disk\n",
      "pl.dump(fig_handle,file('sinus.pickle','w'))\n"
     ],
     "language": "python",
     "metadata": {},
     "outputs": [],
     "prompt_number": 1
    },
    {
     "cell_type": "code",
     "collapsed": false,
     "input": [],
     "language": "python",
     "metadata": {},
     "outputs": []
    }
   ],
   "metadata": {}
  }
 ]
}