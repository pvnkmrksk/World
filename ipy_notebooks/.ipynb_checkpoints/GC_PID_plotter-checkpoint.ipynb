{
 "cells": [
  {
   "cell_type": "code",
   "execution_count": 1,
   "metadata": {
    "collapsed": false
   },
   "outputs": [
    {
     "ename": "ImportError",
     "evalue": "No module named bokeh",
     "output_type": "error",
     "traceback": [
      "\u001b[1;31m---------------------------------------------------------------------------\u001b[0m",
      "\u001b[1;31mImportError\u001b[0m                               Traceback (most recent call last)",
      "\u001b[1;32m<ipython-input-1-660a909c10ec>\u001b[0m in \u001b[0;36m<module>\u001b[1;34m()\u001b[0m\n\u001b[0;32m      7\u001b[0m \u001b[1;32mimport\u001b[0m \u001b[0mmatplotlib\u001b[0m\u001b[1;33m\u001b[0m\u001b[0m\n\u001b[0;32m      8\u001b[0m \u001b[1;32mimport\u001b[0m \u001b[0mcollections\u001b[0m\u001b[1;33m\u001b[0m\u001b[0m\n\u001b[1;32m----> 9\u001b[1;33m \u001b[1;32mimport\u001b[0m \u001b[0mbokeh\u001b[0m\u001b[1;33m\u001b[0m\u001b[0m\n\u001b[0m",
      "\u001b[1;31mImportError\u001b[0m: No module named bokeh"
     ]
    }
   ],
   "source": [
    "# %matplotlib inline\n",
    "import pandas as pd\n",
    "import numpy as np\n",
    "import easygui\n",
    "import matplotlib.pyplot as plt\n",
    "import seaborn as sns\n",
    "import matplotlib\n",
    "import collections\n",
    "import bokeh"
   ]
  },
  {
   "cell_type": "code",
   "execution_count": null,
   "metadata": {
    "collapsed": false
   },
   "outputs": [],
   "source": [
    "\n",
    "def osc(files,proc=collections.OrderedDict(),meanLen=300,prestim=200,scale1=1,\n",
    "        scale2=100,rollWindow=100,threshold=2,xlim=(0,1300),ylim=(-0.01,0.04),\n",
    "        lims=True,metaLabel=None,exceptions=None):\n",
    "    \n",
    "    Yoffsets={}\n",
    "    Xoffsets={}\n",
    "    def exceptionHandler(exceptions,df):\n",
    "        if exceptions:#handle exception if dict present\n",
    "            for key, value in exceptions.iteritems():\n",
    "                if key in file:\n",
    "#                     print file\n",
    "#                     print len(df)\n",
    "                    df=df[value:]#delete 1st n items which are junk\n",
    "#                     print len(df)\n",
    "        return df\n",
    "\n",
    "\n",
    "    for file in files:\n",
    "        df=pd.read_csv(file)\n",
    "        df=df.ix[:,4]\n",
    "        df=df.dropna()\n",
    "            \n",
    "        if 'CH2' in file:\n",
    "\n",
    "            \n",
    "            df=exceptionHandler(exceptions,df)\n",
    "\n",
    "#             Yoffset=3.5\n",
    "            Yoffset = df.ix[1:meanLen].mean()\n",
    "            thresh=(df.diff()>threshold)\n",
    "            fall=thresh[thresh==True]\n",
    "            Xoffset=fall.index[0]\n",
    "            ind=file.index('CH')\n",
    "            label=file[ind-2:ind]\n",
    "            Xoffsets[label]=Xoffset\n",
    "\n",
    "            df=df-Yoffset\n",
    "            df=df/scale2\n",
    "            df=abs(df) #flipping\n",
    "            df=df.ix[Xoffsets[label]-prestim:]\n",
    "    \n",
    "    proc['trig_fname'+label]=df\n",
    "\n",
    "#     plt.plot(df,label='trig')\n",
    "\n",
    "    # plt.show()\n",
    "\n",
    "\n",
    "\n",
    "    for file in files:\n",
    "        df=pd.read_csv(file)\n",
    "        df=df.ix[:,4]\n",
    "        df=df.dropna()\n",
    "        if 'CH1' in file:\n",
    "            \n",
    "            df=exceptionHandler(exceptions,df)\n",
    "            #             if exceptions:#handle exception if dict present\n",
    "#                 for key, value in exceptions.iteritems():\n",
    "#                     if key in file:\n",
    "#                         print file\n",
    "#                         print len(df)\n",
    "#                         df=df[value:]#delete 1st n items which are junk\n",
    "#                         print len(df)\n",
    "\n",
    "            Yoffset =df[1:meanLen].mean() #1st point is off\n",
    "            ind=file.index('CH')\n",
    "            \n",
    "            label=file[ind-2:ind]\n",
    "            Yoffsets[label]=Yoffset\n",
    "            df=df-Yoffset\n",
    "            df=df/scale1\n",
    "            df=df.ix[Xoffsets[label]-prestim:]\n",
    "            df=df.rolling(window=rollWindow).mean()\n",
    "            if metaLabel:\n",
    "                try:\n",
    "                    label=metaLabel[int(label)]+'_fname'+label\n",
    "                except KeyError:\n",
    "                    print \"%s key missing\"%label\n",
    "            \n",
    "            proc[label]=df\n",
    "\n",
    "            plt.plot(df,label=label)\n",
    "\n",
    "    if lims:\n",
    "        plt.xlim(xlim)\n",
    "        plt.ylim(ylim)\n",
    "        \n",
    "    proc=pd.DataFrame(proc)\n",
    "    proc=proc.dropna()\n",
    "#     print proc\n",
    "    return proc\n",
    "\n",
    "#     plt.legend()\n",
    "#     plt.show()\n",
    "    \n"
   ]
  },
  {
   "cell_type": "code",
   "execution_count": null,
   "metadata": {
    "collapsed": true
   },
   "outputs": [],
   "source": [
    "files08=easygui.fileopenbox(filetypes=['*.CSV'],multiple=True,)"
   ]
  },
  {
   "cell_type": "code",
   "execution_count": null,
   "metadata": {
    "collapsed": false
   },
   "outputs": [],
   "source": [
    "df=osc(files08,scale1=10,metaLabel=metaLabel,meanLen=100,exceptions={'50':140,'45':300,'55':275},lims=False)\n",
    "# timeBase=2.5 #seconds/div\n",
    "# df.index/=timeBase*10. #seconds/div*noofdiv\n",
    "plt.legend()\n",
    "plt.show()\n",
    "# df"
   ]
  },
  {
   "cell_type": "code",
   "execution_count": null,
   "metadata": {
    "collapsed": true
   },
   "outputs": [],
   "source": []
  },
  {
   "cell_type": "code",
   "execution_count": null,
   "metadata": {
    "collapsed": false
   },
   "outputs": [],
   "source": [
    "metaLabel={20:'0.5 5.8', 21:'1.5 5.8',22:'off off',23:'0.5 5.8',25:'0.5 30',27:'0.5 55',28:'0.5 15', 29:'0.5 off',\n",
    "          30:'1_lpm',31:'1.5_lpm',32:'0.5_lpm',33:'2_lpm',34:'0lpm' }"
   ]
  },
  {
   "cell_type": "code",
   "execution_count": null,
   "metadata": {
    "collapsed": false
   },
   "outputs": [],
   "source": [
    "files31 = easygui.fileopenbox(filetypes=['*.CSV'],multiple=True)\n",
    "files01 = easygui.fileopenbox(filetypes=['*.CSV'],multiple=True)\n",
    "files01h = easygui.fileopenbox(filetypes=['*.CSV'],multiple=True)\n"
   ]
  },
  {
   "cell_type": "code",
   "execution_count": null,
   "metadata": {
    "collapsed": false
   },
   "outputs": [],
   "source": [
    "#13 15\n",
    "df=osc(files31)\n",
    "\n",
    "#20 27\n",
    "df=osc(files01,scale1=10,metaLabel=metaLabel,proc=df)\n",
    "\n",
    "df=osc(files01h,scale1=10,metaLabel=metaLabel,proc=df)\n",
    "\n",
    "timeBase=5 #seconds/div\n",
    "df.index/=timeBase*10. #seconds/div*noofdiv\n",
    "plt.legend()\n",
    "plt.show()\n",
    "df.index"
   ]
  },
  {
   "cell_type": "code",
   "execution_count": null,
   "metadata": {
    "collapsed": true
   },
   "outputs": [],
   "source": [
    "df.to_csv('test.csv')"
   ]
  },
  {
   "cell_type": "code",
   "execution_count": null,
   "metadata": {
    "collapsed": false
   },
   "outputs": [],
   "source": [
    "158+180+174+232+370+366+380+171+469+269+133+468+206+190+400+275+158+200+190+100+213+363+420+221+290+127+249+115+225+200+284\n"
   ]
  },
  {
   "cell_type": "code",
   "execution_count": null,
   "metadata": {
    "collapsed": false
   },
   "outputs": [],
   "source": [
    "554+633+570+776+728+791+765+733+716+949+621"
   ]
  },
  {
   "cell_type": "code",
   "execution_count": null,
   "metadata": {
    "collapsed": false
   },
   "outputs": [],
   "source": [
    "3893+744+131+8825+2585+73+486"
   ]
  },
  {
   "cell_type": "code",
   "execution_count": null,
   "metadata": {
    "collapsed": false
   },
   "outputs": [],
   "source": [
    "4930+4424+4039+4897+3428+3661"
   ]
  },
  {
   "cell_type": "code",
   "execution_count": null,
   "metadata": {
    "collapsed": false
   },
   "outputs": [],
   "source": [
    "2075+1042+1076+1259+2016"
   ]
  },
  {
   "cell_type": "code",
   "execution_count": null,
   "metadata": {
    "collapsed": false
   },
   "outputs": [],
   "source": [
    "422+4917+2459+1934+273+390+569+2595+1484+569+991+829+219+917+1424+1730"
   ]
  },
  {
   "cell_type": "code",
   "execution_count": null,
   "metadata": {
    "collapsed": false
   },
   "outputs": [],
   "source": [
    "7796+7836+16737+25379+7468+21722"
   ]
  },
  {
   "cell_type": "code",
   "execution_count": null,
   "metadata": {
    "collapsed": true
   },
   "outputs": [],
   "source": [
    "250+300+500+"
   ]
  }
 ],
 "metadata": {
  "kernelspec": {
   "display_name": "Python 2",
   "language": "python",
   "name": "python2"
  },
  "language_info": {
   "codemirror_mode": {
    "name": "ipython",
    "version": 2
   },
   "file_extension": ".py",
   "mimetype": "text/x-python",
   "name": "python",
   "nbconvert_exporter": "python",
   "pygments_lexer": "ipython2",
   "version": "2.7.6"
  }
 },
 "nbformat": 4,
 "nbformat_minor": 0
}
