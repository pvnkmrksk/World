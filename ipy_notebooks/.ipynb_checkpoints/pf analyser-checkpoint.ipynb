{
 "cells": [
  {
   "cell_type": "code",
   "execution_count": 1,
   "metadata": {
    "collapsed": false
   },
   "outputs": [],
   "source": [
    "from ipyimports import *\n"
   ]
  },
  {
   "cell_type": "code",
   "execution_count": 2,
   "metadata": {
    "collapsed": false
   },
   "outputs": [],
   "source": [
    "import matplotlib as mpl\n",
    "# df=metadata=None\n",
    "def addBoutFrame(df):\n",
    "    a=[]\n",
    "    j=0\n",
    "    for i in df.trajectory__reset:\n",
    "            if i==1:\n",
    "                j=0\n",
    "            a.append(j)\n",
    "            j+=1\n",
    "    return a\n",
    "# df[\"boutFrame\"]=a\n",
    "\n",
    "def pfPlotter(df,metadata,pth='plot.pdf',col=[0,0,0,1],off=20,\n",
    "                xmin=506,xmax=520,ymin=508,ymax=522,rm=10,s=4,xt='X (m)',yt='Y (m)'):\n",
    "    \n",
    "    parameters=metadata['parameters']\n",
    "        # row and column sharing\n",
    "#     fig, ((ax2, ax1), (ax3, ax4)) = plt.subplots(2, 2, sharex=True, sharey=True,figsize=(14,14))\n",
    "#     ax={4:ax4,1:ax1,2:ax2,3:ax3}\n",
    "    fig,ax4= plt.subplots(2, 2, sharex=True, sharey=True,figsize=(14,14))\n",
    "    ax={4:ax4}\n",
    "\n",
    "    maxS=df.trajectory__speed.max()\n",
    "    try:\n",
    "        df.boutFrame\n",
    "    except AttributeError:\n",
    "        df['boutFrame']=addBoutFrame(df)\n",
    "    # ax1.set_title('lr anal')\n",
    "    for i in range(1):#int(df.trajectory__trial.max()+0)):\n",
    "        try:\n",
    "            df2=df[(df.trajectory__isFlying==True)]\n",
    "    #         i=df2.trajectory__pf\n",
    "            c1=[1,0,0,0.5]\n",
    "            c2=[0,1,0,0.5]\n",
    "            sc=0.7\n",
    "            r1=sc*parameters['obj1Scale']/2\n",
    "            r2=sc*parameters['obj2Scale']/2\n",
    "\n",
    "            ls=parameters['loadingString']\n",
    "            non=[0,0,0,0]\n",
    "            red=[1,0,0,0.3]\n",
    "            green=[0,1,0,0.3]\n",
    "            wf=3 #wifth fat\n",
    "            w0=0 #width thin\n",
    "\n",
    "            if (ls=='00' or ls=='pf'):\n",
    "                l=non\n",
    "                r=non\n",
    "                w1=wf\n",
    "                w2=wf\n",
    "            elif ls=='01':\n",
    "                l=non\n",
    "                r=red\n",
    "                w1=wf\n",
    "                w2=w0\n",
    "            elif ls=='10':\n",
    "                l=green\n",
    "                r=non\n",
    "                w1=w0\n",
    "                w2=wf\n",
    "            elif ls=='11':\n",
    "                l=green\n",
    "                r=red\n",
    "                w1=w0\n",
    "                w2=w0\n",
    "            else:\n",
    "                print \"what happened\"\n",
    "\n",
    "            try:\n",
    "                if df2.trajectory__case[0] == 0:\n",
    "                    c1=l\n",
    "                    c2=l\n",
    "                    l1=w1\n",
    "                    l2=w1\n",
    "                elif df2.trajectory__case[0]== 1:\n",
    "                    c1=r\n",
    "                    c2=l\n",
    "                    l1=w2\n",
    "                    l2=w1\n",
    "                elif df2.trajectory__case[0]== 2:\n",
    "                    c1=l\n",
    "                    c2=r\n",
    "                    l1=w1\n",
    "                    l2=w2\n",
    "                elif df2.trajectory__case[0] == 3:\n",
    "                    c1=r\n",
    "                    c2=r\n",
    "                    l1=w2\n",
    "                    l2=w2\n",
    "                print 'c1 c2 is',c1,c2\n",
    "            except IndexError:\n",
    "                print \"something badsy\"\n",
    "                continue\n",
    "\n",
    "\n",
    "            x=df2.trajectory__pPos_x[::rm].values\n",
    "            y=df2.trajectory__pPos_y[::rm].values\n",
    "\n",
    "            timeCol=True\n",
    "            if df.trajectory__speedControl[0]:\n",
    "                col=df2.trajectory__speed.values/maxS\n",
    "            elif timeCol:\n",
    "    #             col = np.arange(len(x))\n",
    "                col=df2.boutFrame[::rm].values#/df2.boutFrame[::rm].max()\n",
    "            else:\n",
    "                col=col\n",
    "            ox=(df2.trajectory__pPos_x[df2.trajectory__valve2==1])[::rm]\n",
    "            oy=(df2.trajectory__pPos_y[df2.trajectory__valve2==1])[::rm]\n",
    "\n",
    "\n",
    "            im=ax[i+1].scatter(x,y,lw=0,s=s   ,c=col,cmap='viridis_r',rasterized=True)\n",
    "            ax[i+1].scatter(ox,oy)\n",
    "\n",
    "\n",
    "            ax[i+1].scatter(parameters['playerInitPos'][0],parameters['playerInitPos'][1],c=np.array([255,0,0,200])/255.,\n",
    "                            marker='^',lw=0,s=500)\n",
    "\n",
    "            ax[i+1].scatter(parameters['posL'][0],parameters['posL'][1],c=c1,lw=l1,s=sc*parameters['obj1Scale'])\n",
    "            ax[i+1].scatter(parameters['posR'][0],parameters['posR'][1],c=c2,lw=l2,s=sc*parameters[ 'obj2Scale'])\n",
    "\n",
    "            ax[i+1].add_patch(\n",
    "                patches.Rectangle(\n",
    "                    (513,200),   # (x,y)\n",
    "                    1,          # width\n",
    "                    500,          # height\n",
    "                    alpha=0.1\n",
    "                    )\n",
    "                )\n",
    "\n",
    "            ax[i+1].set_xlim([xmin,xmax])\n",
    "            ax[i+1].set_ylim([ymin,ymax])\n",
    "\n",
    "            ax[i+1].set_aspect('equal', 'datalim')\n",
    "    #         ax[i+1].set_title(i)\n",
    "\n",
    "            ax[i+1].set_xlabel(xt)\n",
    "            ax[i+1].set_ylabel(yt)\n",
    "            ax[i+1].set_title(parameters[\"odourQuad\"][int(df2.trajectory__case[100])])\n",
    "\n",
    "            print i\n",
    "            plt.tight_layout()\n",
    "        except KeyError as e:\n",
    "            print \"going bad again\",e\n",
    "            continue\n",
    "    #         cax,kw = mpl.colorbar.make_axes([ax1,ax2,ax3,ax4])\n",
    "#         plt.colorbar(im, cax=cax, **kw)\n",
    "# #         fig.text(0.5, 0.04, xt, ha='center')\n",
    "#         fig.text(0.04, 0.5, yt, va='center', rotation='vertical')\n",
    "\n",
    "#     sns.despine()\n",
    "#     sns.set_style(\"ticks\")\n",
    "#         sns.set_style(\"white\")\n",
    "#         sns.set_style(\"whitegrid\")\n",
    "\n",
    "\n",
    "#         sns.set_style(\"ticks\", {\"xtick.major.size\": 8, \"ytick.major.size\": 8})\n",
    "    fig.subplots_adjust(right=0.8)\n",
    "    \n",
    "    if df.trajectory__speedControl[0]:\n",
    "\n",
    "        cbar_ax = fig.add_axes([0.85, 0.15, 0.05, 0.7])\n",
    "        fig.colorbar(im, cax=cbar_ax)\n",
    "    cbar_ax = fig.add_axes([0.85, 0.15, 0.05, 0.7])\n",
    "#     fig.colorbar(im, cax=cbar_ax)\n",
    "\n",
    "    plt.savefig(pth, dpi=400)\n",
    "\n",
    "    plt.show()\n",
    "    return fig\n",
    "\n",
    "def loader():\n",
    "    '''Load a dataframe from pickle and analyse lr cases'''\n",
    "\n",
    "    defaultPath=\"/home/rhagoletis/catkin/src/World/bags/\"\n",
    "    path=easygui.fileopenbox(title=\"Choose pickle Dataframes\"\n",
    "                              ,default=defaultPath,\n",
    "                              multiple=False,filetypes=[\"*df.pickle\"])\n",
    "    print path\n",
    "\n",
    "    dff=pd.read_pickle(path)\n",
    "    df=dff['df']\n",
    "    metadata=dff['metadata']\n",
    "    return df,metadata,path\n"
   ]
  },
  {
   "cell_type": "code",
   "execution_count": 7,
   "metadata": {
    "collapsed": false
   },
   "outputs": [
    {
     "name": "stdout",
     "output_type": "stream",
     "text": [
      "None\n"
     ]
    },
    {
     "ename": "TypeError",
     "evalue": "coercing to Unicode: need string or buffer, NoneType found",
     "output_type": "error",
     "traceback": [
      "\u001b[1;31m-------------------------------------------------------------------------\u001b[0m",
      "\u001b[1;31mTypeError\u001b[0m                               Traceback (most recent call last)",
      "\u001b[1;32m<ipython-input-7-230e9a3671ae>\u001b[0m in \u001b[0;36m<module>\u001b[1;34m()\u001b[0m\n\u001b[1;32m----> 1\u001b[1;33m \u001b[0mdf\u001b[0m\u001b[1;33m,\u001b[0m\u001b[0mmetadata\u001b[0m\u001b[1;33m,\u001b[0m\u001b[0mpath\u001b[0m\u001b[1;33m=\u001b[0m\u001b[0mloader\u001b[0m\u001b[1;33m(\u001b[0m\u001b[1;33m)\u001b[0m\u001b[1;33m\u001b[0m\u001b[0m\n\u001b[0m\u001b[0;32m      2\u001b[0m \u001b[0mparameters\u001b[0m\u001b[1;33m=\u001b[0m\u001b[0mmetadata\u001b[0m\u001b[1;33m[\u001b[0m\u001b[1;34m'parameters'\u001b[0m\u001b[1;33m]\u001b[0m\u001b[1;33m\u001b[0m\u001b[0m\n\u001b[0;32m      3\u001b[0m \u001b[0mpth\u001b[0m\u001b[1;33m=\u001b[0m\u001b[0mpath\u001b[0m\u001b[1;33m.\u001b[0m\u001b[0msplit\u001b[0m\u001b[1;33m(\u001b[0m\u001b[1;34m'/'\u001b[0m\u001b[1;33m)\u001b[0m\u001b[1;33m[\u001b[0m\u001b[1;33m-\u001b[0m\u001b[1;36m1\u001b[0m\u001b[1;33m]\u001b[0m\u001b[1;33m.\u001b[0m\u001b[0msplit\u001b[0m\u001b[1;33m(\u001b[0m\u001b[1;34m'.bag'\u001b[0m\u001b[1;33m)\u001b[0m\u001b[1;33m[\u001b[0m\u001b[1;36m0\u001b[0m\u001b[1;33m]\u001b[0m\u001b[1;33m+\u001b[0m\u001b[1;34m'.pdf'\u001b[0m\u001b[1;33m\u001b[0m\u001b[0m\n\u001b[0;32m      4\u001b[0m \u001b[0mpfPlotter\u001b[0m\u001b[1;33m(\u001b[0m\u001b[0mdf\u001b[0m\u001b[1;33m=\u001b[0m\u001b[0mdf\u001b[0m\u001b[1;33m,\u001b[0m\u001b[0mmetadata\u001b[0m\u001b[1;33m=\u001b[0m\u001b[0mmetadata\u001b[0m\u001b[1;33m,\u001b[0m\u001b[0moff\u001b[0m\u001b[1;33m=\u001b[0m\u001b[1;36m3\u001b[0m\u001b[1;33m,\u001b[0m\u001b[0mrm\u001b[0m\u001b[1;33m=\u001b[0m\u001b[1;36m3\u001b[0m\u001b[1;33m,\u001b[0m\u001b[0mxt\u001b[0m\u001b[1;33m=\u001b[0m\u001b[1;34m'X (m)'\u001b[0m\u001b[1;33m,\u001b[0m\u001b[0myt\u001b[0m\u001b[1;33m=\u001b[0m\u001b[1;34m'Y (m)'\u001b[0m\u001b[1;33m,\u001b[0m\u001b[0ms\u001b[0m\u001b[1;33m=\u001b[0m\u001b[1;36m3\u001b[0m\u001b[1;33m,\u001b[0m\u001b[0mpth\u001b[0m\u001b[1;33m=\u001b[0m\u001b[0mpth\u001b[0m\u001b[1;33m,\u001b[0m\u001b[0mcol\u001b[0m\u001b[1;33m=\u001b[0m\u001b[1;33m[\u001b[0m\u001b[1;36m0\u001b[0m\u001b[1;33m,\u001b[0m\u001b[1;36m0\u001b[0m\u001b[1;33m,\u001b[0m\u001b[1;36m0\u001b[0m\u001b[1;33m,\u001b[0m\u001b[1;36m1\u001b[0m\u001b[1;33m]\u001b[0m\u001b[1;33m,\u001b[0m\u001b[0mxmin\u001b[0m\u001b[1;33m=\u001b[0m\u001b[1;36m500\u001b[0m\u001b[1;33m,\u001b[0m\u001b[0mxmax\u001b[0m\u001b[1;33m=\u001b[0m\u001b[1;36m526\u001b[0m\u001b[1;33m,\u001b[0m\u001b[0mymin\u001b[0m\u001b[1;33m=\u001b[0m\u001b[1;36m500\u001b[0m\u001b[1;33m,\u001b[0m\u001b[0mymax\u001b[0m\u001b[1;33m=\u001b[0m\u001b[1;36m526\u001b[0m\u001b[1;33m)\u001b[0m\u001b[1;33m\u001b[0m\u001b[0m\n",
      "\u001b[1;32m<ipython-input-2-98997ddd7348>\u001b[0m in \u001b[0;36mloader\u001b[1;34m()\u001b[0m\n\u001b[0;32m    179\u001b[0m     \u001b[1;32mprint\u001b[0m \u001b[0mpath\u001b[0m\u001b[1;33m\u001b[0m\u001b[0m\n\u001b[0;32m    180\u001b[0m \u001b[1;33m\u001b[0m\u001b[0m\n\u001b[1;32m--> 181\u001b[1;33m     \u001b[0mdff\u001b[0m\u001b[1;33m=\u001b[0m\u001b[0mpd\u001b[0m\u001b[1;33m.\u001b[0m\u001b[0mread_pickle\u001b[0m\u001b[1;33m(\u001b[0m\u001b[0mpath\u001b[0m\u001b[1;33m)\u001b[0m\u001b[1;33m\u001b[0m\u001b[0m\n\u001b[0m\u001b[0;32m    182\u001b[0m     \u001b[0mdf\u001b[0m\u001b[1;33m=\u001b[0m\u001b[0mdff\u001b[0m\u001b[1;33m[\u001b[0m\u001b[1;34m'df'\u001b[0m\u001b[1;33m]\u001b[0m\u001b[1;33m\u001b[0m\u001b[0m\n\u001b[0;32m    183\u001b[0m     \u001b[0mmetadata\u001b[0m\u001b[1;33m=\u001b[0m\u001b[0mdff\u001b[0m\u001b[1;33m[\u001b[0m\u001b[1;34m'metadata'\u001b[0m\u001b[1;33m]\u001b[0m\u001b[1;33m\u001b[0m\u001b[0m\n",
      "\u001b[1;32m/usr/local/lib/python2.7/dist-packages/pandas/io/pickle.pyc\u001b[0m in \u001b[0;36mread_pickle\u001b[1;34m(path)\u001b[0m\n\u001b[0;32m     63\u001b[0m \u001b[1;33m\u001b[0m\u001b[0m\n\u001b[0;32m     64\u001b[0m     \u001b[1;32mtry\u001b[0m\u001b[1;33m:\u001b[0m\u001b[1;33m\u001b[0m\u001b[0m\n\u001b[1;32m---> 65\u001b[1;33m         \u001b[1;32mreturn\u001b[0m \u001b[0mtry_read\u001b[0m\u001b[1;33m(\u001b[0m\u001b[0mpath\u001b[0m\u001b[1;33m)\u001b[0m\u001b[1;33m\u001b[0m\u001b[0m\n\u001b[0m\u001b[0;32m     66\u001b[0m     \u001b[1;32mexcept\u001b[0m\u001b[1;33m:\u001b[0m\u001b[1;33m\u001b[0m\u001b[0m\n\u001b[0;32m     67\u001b[0m         \u001b[1;32mif\u001b[0m \u001b[0mPY3\u001b[0m\u001b[1;33m:\u001b[0m\u001b[1;33m\u001b[0m\u001b[0m\n",
      "\u001b[1;32m/usr/local/lib/python2.7/dist-packages/pandas/io/pickle.pyc\u001b[0m in \u001b[0;36mtry_read\u001b[1;34m(path, encoding)\u001b[0m\n\u001b[0;32m     59\u001b[0m             \u001b[1;31m# compat pickle\u001b[0m\u001b[1;33m\u001b[0m\u001b[1;33m\u001b[0m\u001b[0m\n\u001b[0;32m     60\u001b[0m             \u001b[1;32mexcept\u001b[0m\u001b[1;33m:\u001b[0m\u001b[1;33m\u001b[0m\u001b[0m\n\u001b[1;32m---> 61\u001b[1;33m                 \u001b[1;32mwith\u001b[0m \u001b[0mopen\u001b[0m\u001b[1;33m(\u001b[0m\u001b[0mpath\u001b[0m\u001b[1;33m,\u001b[0m \u001b[1;34m'rb'\u001b[0m\u001b[1;33m)\u001b[0m \u001b[1;32mas\u001b[0m \u001b[0mfh\u001b[0m\u001b[1;33m:\u001b[0m\u001b[1;33m\u001b[0m\u001b[0m\n\u001b[0m\u001b[0;32m     62\u001b[0m                     \u001b[1;32mreturn\u001b[0m \u001b[0mpc\u001b[0m\u001b[1;33m.\u001b[0m\u001b[0mload\u001b[0m\u001b[1;33m(\u001b[0m\u001b[0mfh\u001b[0m\u001b[1;33m,\u001b[0m \u001b[0mencoding\u001b[0m\u001b[1;33m=\u001b[0m\u001b[0mencoding\u001b[0m\u001b[1;33m,\u001b[0m \u001b[0mcompat\u001b[0m\u001b[1;33m=\u001b[0m\u001b[0mTrue\u001b[0m\u001b[1;33m)\u001b[0m\u001b[1;33m\u001b[0m\u001b[0m\n\u001b[0;32m     63\u001b[0m \u001b[1;33m\u001b[0m\u001b[0m\n",
      "\u001b[1;31mTypeError\u001b[0m: coercing to Unicode: need string or buffer, NoneType found"
     ]
    }
   ],
   "source": [
    "df,metadata,path=loader()\n",
    "parameters=metadata['parameters']\n",
    "pth=path.split('/')[-1].split('.bag')[0]+'.pdf'\n",
    "pfPlotter(df=df,metadata=metadata,off=3,rm=3,xt='X (m)',yt='Y (m)',s=3,pth=pth,col=[0,0,0,1],xmin=500,xmax=526,ymin=500,ymax=526)"
   ]
  },
  {
   "cell_type": "code",
   "execution_count": null,
   "metadata": {
    "collapsed": false
   },
   "outputs": [],
   "source": [
    "df.trajectory__packetFrequency.unique()"
   ]
  },
  {
   "cell_type": "code",
   "execution_count": null,
   "metadata": {
    "collapsed": true
   },
   "outputs": [],
   "source": []
  },
  {
   "cell_type": "code",
   "execution_count": null,
   "metadata": {
    "collapsed": true
   },
   "outputs": [],
   "source": []
  },
  {
   "cell_type": "code",
   "execution_count": null,
   "metadata": {
    "collapsed": true
   },
   "outputs": [],
   "source": []
  },
  {
   "cell_type": "code",
   "execution_count": null,
   "metadata": {
    "collapsed": true
   },
   "outputs": [],
   "source": []
  },
  {
   "cell_type": "code",
   "execution_count": 2,
   "metadata": {
    "collapsed": false
   },
   "outputs": [],
   "source": [
    "import matplotlib as mpl\n",
    "# df=metadata=None\n",
    "def addBoutFrame(df):\n",
    "    a=[]\n",
    "    j=0\n",
    "    for i in df.trajectory__reset:\n",
    "            if i==1:\n",
    "                j=0\n",
    "            a.append(j)\n",
    "            j+=1\n",
    "    return a\n",
    "# df[\"boutFrame\"]=a\n",
    "\n",
    "def quadPlotter(df,metadata,pth='plot.pdf',col=[0,0,0,1],off=20,\n",
    "                xmin=506,xmax=520,ymin=508,ymax=522,rm=10,s=4,xt='X (m)',yt='Y (m)'):\n",
    "    \n",
    "    parameters=metadata['parameters']\n",
    "        # row and column sharing\n",
    "    fig, ((ax2, ax1), (ax3, ax4)) = plt.subplots(2, 2, sharex=True, sharey=True,figsize=(14,14))\n",
    "    ax={4:ax4,1:ax1,2:ax2,3:ax3}\n",
    "    maxS=df.trajectory__speed.max()\n",
    "    try:\n",
    "        df.boutFrame\n",
    "    except AttributeError:\n",
    "        df['boutFrame']=addBoutFrame(df)\n",
    "    # ax1.set_title('lr anal')\n",
    "    for i in range(int(df.trajectory__trial.max()+0)):\n",
    "        try:\n",
    "            df2=df[(df.trajectory__case==i) & (df.trajectory__runNum<20) &(df.trajectory__isFlying==True)]\n",
    "    #         i=df2.trajectory__pf\n",
    "            c1=[1,0,0,0.5]\n",
    "            c2=[0,1,0,0.5]\n",
    "            sc=0.7\n",
    "            r1=sc*parameters['obj1Scale']/2\n",
    "            r2=sc*parameters['obj2Scale']/2\n",
    "\n",
    "            ls=parameters['loadingString']\n",
    "            non=[0,0,0,0]\n",
    "            red=[1,0,0,0.3]\n",
    "            green=[0,1,0,0.3]\n",
    "            wf=3 #wifth fat\n",
    "            w0=0 #width thin\n",
    "\n",
    "            if (ls=='00' or ls=='pf'):\n",
    "                l=non\n",
    "                r=non\n",
    "                w1=wf\n",
    "                w2=wf\n",
    "            elif ls=='01':\n",
    "                l=non\n",
    "                r=red\n",
    "                w1=wf\n",
    "                w2=w0\n",
    "            elif ls=='10':\n",
    "                l=green\n",
    "                r=non\n",
    "                w1=w0\n",
    "                w2=wf\n",
    "            elif ls=='11':\n",
    "                l=green\n",
    "                r=red\n",
    "                w1=w0\n",
    "                w2=w0\n",
    "            else:\n",
    "                print \"what happened\"\n",
    "\n",
    "            try:\n",
    "                if df2.trajectory__case[0] == 0:\n",
    "                    c1=l\n",
    "                    c2=l\n",
    "                    l1=w1\n",
    "                    l2=w1\n",
    "                elif df2.trajectory__case[0]== 1:\n",
    "                    c1=r\n",
    "                    c2=l\n",
    "                    l1=w2\n",
    "                    l2=w1\n",
    "                elif df2.trajectory__case[0]== 2:\n",
    "                    c1=l\n",
    "                    c2=r\n",
    "                    l1=w1\n",
    "                    l2=w2\n",
    "                elif df2.trajectory__case[0] == 3:\n",
    "                    c1=r\n",
    "                    c2=r\n",
    "                    l1=w2\n",
    "                    l2=w2\n",
    "                print 'c1 c2 is',c1,c2\n",
    "            except IndexError:\n",
    "                print \"something badsy\"\n",
    "                continue\n",
    "\n",
    "\n",
    "            x=df2.trajectory__pPos_x[::rm].values\n",
    "            y=df2.trajectory__pPos_y[::rm].values\n",
    "\n",
    "            timeCol=True\n",
    "            if df.trajectory__speedControl[0]:\n",
    "                col=df2.trajectory__speed.values/maxS\n",
    "            elif timeCol:\n",
    "    #             col = np.arange(len(x))\n",
    "                col=df2.boutFrame[::rm].values#/df2.boutFrame[::rm].max()\n",
    "            else:\n",
    "                col=col\n",
    "            ox=(df2.trajectory__pPos_x[df2.trajectory__valve2==1])[::rm]\n",
    "            oy=(df2.trajectory__pPos_y[df2.trajectory__valve2==1])[::rm]\n",
    "\n",
    "\n",
    "            im=ax[i+1].scatter(x,y,lw=0,s=s   ,c=col,cmap='viridis_r',rasterized=True)\n",
    "            ax[i+1].scatter(ox,oy)\n",
    "\n",
    "\n",
    "            ax[i+1].scatter(parameters['playerInitPos'][0],parameters['playerInitPos'][1],c=np.array([255,0,0,200])/255.,\n",
    "                            marker='^',lw=0,s=500)\n",
    "\n",
    "            ax[i+1].scatter(parameters['posL'][0],parameters['posL'][1],c=c1,lw=l1,s=sc*parameters['obj1Scale'])\n",
    "            ax[i+1].scatter(parameters['posR'][0],parameters['posR'][1],c=c2,lw=l2,s=sc*parameters[ 'obj2Scale'])\n",
    "\n",
    "            ax[i+1].add_patch(\n",
    "                patches.Rectangle(\n",
    "                    (511,200),   # (x,y)\n",
    "                    4,          # width\n",
    "                    500,          # height\n",
    "                    alpha=0.1\n",
    "                    )\n",
    "                )\n",
    "\n",
    "            ax[i+1].set_xlim([xmin,xmax])\n",
    "            ax[i+1].set_ylim([ymin,ymax])\n",
    "\n",
    "            ax[i+1].set_aspect('equal', 'datalim')\n",
    "    #         ax[i+1].set_title(i)\n",
    "\n",
    "            ax[i+1].set_xlabel(xt)\n",
    "            ax[i+1].set_ylabel(yt)\n",
    "            ax[i+1].set_title(parameters[\"odourQuad\"][int(df2.trajectory__case[100])])\n",
    "\n",
    "            print i\n",
    "            plt.tight_layout()\n",
    "        except KeyError:\n",
    "            print \"going bad again\"\n",
    "            continue\n",
    "    #         cax,kw = mpl.colorbar.make_axes([ax1,ax2,ax3,ax4])\n",
    "#         plt.colorbar(im, cax=cax, **kw)\n",
    "# #         fig.text(0.5, 0.04, xt, ha='center')\n",
    "#         fig.text(0.04, 0.5, yt, va='center', rotation='vertical')\n",
    "\n",
    "#     sns.despine()\n",
    "#     sns.set_style(\"ticks\")\n",
    "#         sns.set_style(\"white\")\n",
    "#         sns.set_style(\"whitegrid\")\n",
    "\n",
    "\n",
    "#         sns.set_style(\"ticks\", {\"xtick.major.size\": 8, \"ytick.major.size\": 8})\n",
    "    fig.subplots_adjust(right=0.8)\n",
    "    \n",
    "    if df.trajectory__speedControl[0]:\n",
    "\n",
    "        cbar_ax = fig.add_axes([0.85, 0.15, 0.05, 0.7])\n",
    "        fig.colorbar(im, cax=cbar_ax)\n",
    "    cbar_ax = fig.add_axes([0.85, 0.15, 0.05, 0.7])\n",
    "    fig.colorbar(im, cax=cbar_ax)\n",
    "\n",
    "    plt.savefig(pth, dpi=400)\n",
    "\n",
    "    plt.show()\n",
    "    return fig\n",
    "\n",
    "def loader():\n",
    "    '''Load a dataframe from pickle and analyse lr cases'''\n",
    "\n",
    "    defaultPath=\"/home/rhagoletis/catkin/src/World/bags/\"\n",
    "    path=easygui.fileopenbox(title=\"Choose pickle Dataframes\"\n",
    "                              ,default=defaultPath,\n",
    "                              multiple=False,filetypes=[\"*df.pickle\"])\n",
    "    print path\n",
    "\n",
    "    dff=pd.read_pickle(path)\n",
    "    df=dff['df']\n",
    "    metadata=dff['metadata']\n",
    "    return df,metadata,path\n"
   ]
  },
  {
   "cell_type": "code",
   "execution_count": 9,
   "metadata": {
    "collapsed": false
   },
   "outputs": [
    {
     "name": "stdout",
     "output_type": "stream",
     "text": [
      "/home/rhagoletis/catkin/src/World/bags/2017_03_12/2017-03-12__22:51:44_apple24_00_odour_gain:8_speed:1.0_bout:20_DC:0.042_full.bag_df.pickle\n",
      "c1 c2 is [0, 0, 0, 0] [0, 0, 0, 0]\n",
      "0\n",
      "c1 c2 is [0, 0, 0, 0] [0, 0, 0, 0]\n",
      "1\n",
      "c1 c2 is [0, 0, 0, 0] [0, 0, 0, 0]\n",
      "2\n",
      "c1 c2 is [0, 0, 0, 0] [0, 0, 0, 0]\n",
      "3\n"
     ]
    },
    {
     "data": {
      "text/plain": [
       "<matplotlib.figure.Figure at 0x7fbdab8528d0>"
      ]
     },
     "execution_count": 9,
     "metadata": {},
     "output_type": "execute_result"
    }
   ],
   "source": [
    "df,metadata,path=loader()\n",
    "parameters=metadata['parameters']\n",
    "pth=path.split('/')[-1].split('.bag')[0]+'.pdf'\n",
    "quadPlotter(df=df,metadata=metadata,off=3,rm=3,xt='X (m)',yt='Y (m)',s=3,pth=pth,col=[0,0,0,1],xmin=500,xmax=526,ymin=500,ymax=526)"
   ]
  },
  {
   "cell_type": "code",
   "execution_count": 4,
   "metadata": {
    "collapsed": false
   },
   "outputs": [
    {
     "name": "stdout",
     "output_type": "stream",
     "text": [
      "38804 1976\n",
      "36322 19886\n",
      "36322 15361\n",
      "36322 22744\n"
     ]
    }
   ],
   "source": [
    "for i in range(4):\n",
    "    dftot=(df[(df.trajectory__case==i)&(df.trajectory__isFlying==True)])\n",
    "    dfin=(dftot[dftot.trajectory__packetFrequency!=0])\n",
    "    print len(dftot),len(dfin)\n",
    "#     print (dfin.trajectory__packetFrequency[0],float(dfin)/dftot)\n"
   ]
  },
  {
   "cell_type": "code",
   "execution_count": null,
   "metadata": {
    "collapsed": false
   },
   "outputs": [],
   "source": [
    "dfin.trajectory__packetFrequency"
   ]
  },
  {
   "cell_type": "code",
   "execution_count": null,
   "metadata": {
    "collapsed": false
   },
   "outputs": [],
   "source": [
    "dftot[dftot.trajectory__packetFrequency!=0]"
   ]
  },
  {
   "cell_type": "code",
   "execution_count": null,
   "metadata": {
    "collapsed": false
   },
   "outputs": [],
   "source": [
    "df2=df[(df.trajectory__trial==0) & (df.trajectory__runNum<20) &(df.trajectory__isFlying==True)]\n",
    "df2"
   ]
  },
  {
   "cell_type": "code",
   "execution_count": null,
   "metadata": {
    "collapsed": true
   },
   "outputs": [],
   "source": []
  },
  {
   "cell_type": "code",
   "execution_count": null,
   "metadata": {
    "collapsed": false
   },
   "outputs": [],
   "source": [
    "df.trajectory__valve2.unique()"
   ]
  },
  {
   "cell_type": "code",
   "execution_count": null,
   "metadata": {
    "collapsed": false
   },
   "outputs": [],
   "source": [
    "parameters"
   ]
  },
  {
   "cell_type": "code",
   "execution_count": null,
   "metadata": {
    "collapsed": true
   },
   "outputs": [],
   "source": []
  }
 ],
 "metadata": {
  "kernelspec": {
   "display_name": "Python 2",
   "language": "python",
   "name": "python2"
  },
  "language_info": {
   "codemirror_mode": {
    "name": "ipython",
    "version": 2
   },
   "file_extension": ".py",
   "mimetype": "text/x-python",
   "name": "python",
   "nbconvert_exporter": "python",
   "pygments_lexer": "ipython2",
   "version": "2.7.6"
  }
 },
 "nbformat": 4,
 "nbformat_minor": 0
}
