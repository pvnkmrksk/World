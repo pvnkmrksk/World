{
 "cells": [
  {
   "cell_type": "code",
   "execution_count": 1,
   "metadata": {
    "collapsed": false
   },
   "outputs": [
    {
     "name": "stderr",
     "output_type": "stream",
     "text": [
      "/home/rhagoletis/catkin/src/beginner/scripts/panda/world/venv/lib/python2.7/site-packages/matplotlib/font_manager.py:273: UserWarning: Matplotlib is building the font cache using fc-list. This may take a moment.\n",
      "  warnings.warn('Matplotlib is building the font cache using fc-list. This may take a moment.')\n"
     ]
    }
   ],
   "source": [
    "# %matplotlib inline\n",
    "# import mpld3\n",
    "# mpld3.enable_notebook()\n",
    "import rosbag_pandas\n",
    "import pandas as pd\n",
    "import matplotlib.pyplot as plt\n",
    "import easygui\n",
    "import rosbag\n",
    "import json\n",
    "import numpy as np\n",
    "import cPickle as pkl\n",
    "import time\n",
    "def TicTocGenerator():\n",
    "    # Generator that returns time differences\n",
    "    ti = 0           # initial time\n",
    "    tf = time.time() # final time\n",
    "    while True:\n",
    "        ti = tf\n",
    "        tf = time.time()\n",
    "        yield tf-ti # returns the time difference\n",
    "\n",
    "TicToc = TicTocGenerator() # create an instance of the TicTocGen generator\n",
    "\n",
    "# This will be the main function through which we define both tic() and toc()\n",
    "def toc(tempBool=True):\n",
    "    # Prints the time difference yielded by generator instance TicToc\n",
    "    tempTimeInterval = next(TicToc)\n",
    "    if tempBool:\n",
    "        print( \"Elapsed time: %f seconds.\\n\" %tempTimeInterval )\n",
    "\n",
    "def tic():\n",
    "    # Records a time in TicToc, marks the beginning of a time interval\n",
    "    toc(False)\n",
    "    \n",
    "def pickler( obj, path):\n",
    "    \"\"\"\n",
    "    Pickle a Python object\n",
    "    \"\"\"\n",
    "    with open(path, \"wb\") as pfile:\n",
    "        pkl.dump(obj, pfile)\n",
    "\n",
    "def depickler( path):\n",
    "    \"\"\"\n",
    "    Extracts a pickled Python object and returns it\n",
    "    \"\"\"\n",
    "    with open(path, \"rb\") as pfile:\n",
    "        data = pkl.load(pfile)\n",
    "    return data\n"
   ]
  },
  {
   "cell_type": "code",
   "execution_count": null,
   "metadata": {
    "collapsed": false
   },
   "outputs": [],
   "source": [
    "'''\n",
    "Load  bag filesto make into respective dataframes\n",
    "'''\n",
    "defaultPath=\"/home/rhagoletis/catkin/src/beginner/scripts/panda/world/bags/\"\n",
    "paths=easygui.fileopenbox(title=\"Bags to Dataframes\"\n",
    "                          ,default=defaultPath,\n",
    "                          multiple=True,filetypes=[\"*traj.bag\"])\n",
    "print paths, \"\\n\"\n",
    "metadata=None\n",
    "\n",
    "i=1\n",
    "for path in paths:\n",
    "    tic()\n",
    "    print \"starting analysis of file %s , %s / %s files\" %(path.split('/')[-1],i,len(paths))\n",
    "    df=rosbag_pandas.bag_to_dataframe(path,include=['/trajectory'])\n",
    "    bag=rosbag.Bag(path)\n",
    "    \n",
    "    try:\n",
    "        for topic,msg,t in bag.read_messages(topics='/metadata'):\n",
    "            a=msg\n",
    "        parameters=json.loads(a.data)\n",
    "        metadata={\"meta\":parameters}\n",
    "\n",
    "    except :\n",
    "        print \"no such file!\"\n",
    "    \n",
    "    \n",
    "#     metadataPath=path.split('traj.bag')[0]+'full' #get the filename of pickle file , it has no .bag\n",
    "#     try:\n",
    "#         with open(metadataPath, \"rb\") as pfile:\n",
    "#             data = pkl.load(pfile)\n",
    "#         parameters=data[0]\n",
    "#         metadata={\"meta\":data}\n",
    "#         print \"metadata added\"\n",
    "\n",
    "#     except IOError:\n",
    "#         \"no  file %s\"%(metadataPath)\n",
    "        \n",
    "    obj=dict(df=df,metadata=metadata)\n",
    "    \n",
    "    picklepath=path+\"_df.pickle\"\n",
    "    pickler(obj,picklepath)\n",
    "#     df.to_pickle(picklepath)\n",
    "    \n",
    "    i+=1\n",
    "    toc()\n",
    "print \"\\nanalysis of %s files complete\" %len(paths)\n"
   ]
  },
  {
   "cell_type": "code",
   "execution_count": 2,
   "metadata": {
    "collapsed": false
   },
   "outputs": [],
   "source": [
    "\n",
    "def analyser(winTitle):\n",
    "    \n",
    "    '''\n",
    "    takes window title input and returns average \n",
    "    compensation during stimulus period for each speed as a df\n",
    "    '''\n",
    "    #unknown rare bug, shabby fix\n",
    "    df.trajectory__impose[0]=0\n",
    "    \n",
    "    impose=df.trajectory__impose.copy()\n",
    "    impose[df.trajectory__impose==0]=1 #replace impose zero with one fordiv by zero\n",
    "    compensation=df.trajectory__imposeResponse/impose\n",
    "    compensationSmooth=df.trajectory__imposeResponseSmooth/impose\n",
    "\n",
    "    cp = pd.DataFrame(index=compensation.index,columns=['a'])\n",
    "\n",
    "    #flips are position where there is a rise or fall\n",
    "    flips=np.sign(np.diff(df.trajectory__impose))\n",
    "\n",
    "    #impose is impose df without first element\n",
    "    impose=df.trajectory__impose.drop(df.trajectory__impose.index[0])\n",
    "\n",
    "    #cw is clockWise, ccw is Counter clockwise\n",
    "    #start and stop are positions where the impose starts or stops\n",
    "    #start(stop) is zero everywhere except when there is the respective start(stop) event\n",
    "    ccwStart=np.logical_and((flips==1) , (impose>0))\n",
    "    ccwStop=np.logical_and((flips==-1) , (impose==0))\n",
    "    cwStart=np.logical_and((flips==-1) , (impose<0))\n",
    "    cwStop=np.logical_and((flips==1) , (impose==0))\n",
    "\n",
    "#     plt.plot(np.array(impose),'r')\n",
    "#     plt.plot(np.array(flips),'g')\n",
    "#     plt.plot(np.array(ccwStart)*1,'b')\n",
    "#     plt.plot(np.array(ccwStop)*1,'k')\n",
    "#     plt.plot(np.array(cwStart)*1,'m')\n",
    "#     plt.plot(np.array(cwStop)*1,'y')\n",
    "#     print ccwStart.shape,ccwStop.shape\n",
    "#     print cwStart.shape,cwStop.shape\n",
    "#     plt.show()\n",
    "\n",
    "    #(c)cwStart(stop)Index is just those positions where flips occured\n",
    "\n",
    "    ccwStartIndex= ccwStart[ccwStart==1]\n",
    "    cwStartIndex= cwStart[cwStart==1]\n",
    "    ccwStopIndex= ccwStop[ccwStop==1]\n",
    "    cwStopIndex= cwStop[cwStop==1]\n",
    "#     print ccwStartIndex.shape,ccwStopIndex.shape\n",
    "#     print cwStartIndex.shape,cwStopIndex.shape\n",
    "\n",
    "#     print ccwStartIndex,ccwStopIndex\n",
    "#     print cwStartIndex,cwStopIndex\n",
    "\n",
    "\n",
    "    #compensationMean is a df who is zero when impose is false, \n",
    "    # and has mean value of compensation during the corresponding impose\n",
    "    compensationMean = pd.DataFrame(index=compensation.index,columns=['mean']) #empty df with same index\n",
    "\n",
    "    # print compensation\n",
    "    def compMean(start,stop,compIn,compOut):\n",
    "        consol=pd.DataFrame(columns=['fly','gain','impose','compensation'])\n",
    "\n",
    "\n",
    "        print \"calculating Mean\"\n",
    "        #if there are more starts than stop because of abrupt ending while recording\n",
    "        #remove the last start event\n",
    "        try: \n",
    "            assert len(start)==len(stop)\n",
    "        except AssertionError:\n",
    "            print 'assertion error'\n",
    "            start=start[:-1] \n",
    "\n",
    "        for i in range(len(stop)):\n",
    "#             print \"impose is\",df.trajectory__impose[start.index[i]]\n",
    "#             print \"gain is\",df.trajectory__gain[start.index[i]]\n",
    "\n",
    "\n",
    "#             print \"i mean is\",compIn.ix[start.index[i]:stop.index[i]].mean()\n",
    "            currCompensationMean=compIn.ix[start.index[i]:stop.index[i]].mean()\n",
    "            compOut.ix[start.index[i]:stop.index[i]]=currCompensationMean\n",
    "            curr=pd.DataFrame([{'fly':parameters['fly'],\n",
    "                                                 \"gain\":df.trajectory__gain[start.index[i]],\n",
    "                                                 \"impose\":df.trajectory__impose[start.index[i]],\n",
    "                                                 'compensation':currCompensationMean}])\n",
    "            consol=consol.append(curr,ignore_index=True)        \n",
    "        cols=['fly','gain','impose','compensation']\n",
    "        consol=consol[cols]\n",
    "#         print \"total measn were\",i+1\n",
    "        return consol\n",
    "\n",
    "    cw=compMean(cwStartIndex,cwStopIndex,compensation,cp)\n",
    "    ccw=compMean(ccwStartIndex,ccwStopIndex,compensation,cp)\n",
    "    \n",
    "    \n",
    "    \n",
    "#     plt.plot(df.trajectory__imposeResponseSmooth,c=(0,0,1,0.2))\n",
    "#     plt.plot(compensationSmooth,c=(1,0,0,0.6))\n",
    "#     plt.plot(df.trajectory__impose)\n",
    "#     plt.plot(cp,'g')\n",
    "#     plt.axhline(y=1)\n",
    "#     plt.title(winTitle)\n",
    "#     plt.show()\n",
    "    \n",
    "    return ccw, cw\n"
   ]
  },
  {
   "cell_type": "code",
   "execution_count": 33,
   "metadata": {
    "collapsed": false
   },
   "outputs": [
    {
     "name": "stdout",
     "output_type": "stream",
     "text": [
      "\n",
      "\n",
      "currentl;y analysisnh /home/rhagoletis/catkin/src/beginner/scripts/panda/world/bags/2016_08_08/full/2016-08-08__21:34:18_fly8_quad_00_gain14.0_trial_1_full.bag_df.pickle\n",
      "Elapsed time: 0.931843 seconds.\n",
      "\n",
      "2016-08-08__21:34:18_fly8_quad_00_gain14.0_trial_1_full.bag_df.pickle\n",
      "calculating Mean\n",
      "calculating Mean\n"
     ]
    },
    {
     "name": "stderr",
     "output_type": "stream",
     "text": [
      "/usr/local/lib/python2.7/dist-packages/ipykernel/__main__.py:9: SettingWithCopyWarning: \n",
      "A value is trying to be set on a copy of a slice from a DataFrame\n",
      "\n",
      "See the caveats in the documentation: http://pandas.pydata.org/pandas-docs/stable/indexing.html#indexing-view-versus-copy\n"
     ]
    },
    {
     "name": "stdout",
     "output_type": "stream",
     "text": [
      "    fly  gain    impose  compensation\n",
      "0  fly8  14.0  1.000000      0.812248\n",
      "1  fly8  14.0  1.333333      0.706668\n",
      "2  fly8  14.0  1.777778      0.753109\n",
      "3  fly8  14.0 -1.000000      0.851405\n",
      "4  fly8  14.0 -1.333333      0.863237\n"
     ]
    }
   ],
   "source": [
    "'''Load a dataframe from pickle'''\n",
    "defaultPath=\"/home/rhagoletis/catkin/src/beginner/scripts/panda/world/bags/\"\n",
    "paths=easygui.fileopenbox(title=\"Bags to Dataframes\"\n",
    "                          ,default=defaultPath,\n",
    "                          multiple=True,filetypes=[\"*df.pickle\"])\n",
    "fullConsol=pd.DataFrame()\n",
    "# print paths, \"\\n\"\n",
    "for path in paths:\n",
    "    \n",
    "    tic()\n",
    "    print \"\\n\\ncurrentl;y analysisnh\",path\n",
    "    # picklepath=path+\"_df.pickle\"\n",
    "    data=depickler(path)\n",
    "    df=data[\"df\"]\n",
    "    parameters=data[\"metadata\"]['meta']\n",
    "    # df=pd.read_pickle(path)\n",
    "    toc()\n",
    "    Wtitle=path.split('/')[-1]\n",
    "    print Wtitle\n",
    "#     df.trajectory__imposeResponse.plot(title=path.split('/')[-1])\n",
    "#     df.trajectory__impose.plot(title=path.split('/')[-1])\n",
    "\n",
    "\n",
    "    \n",
    "#     print \"parameter keys are\", parameters.keys()\n",
    "#     print \"\\nparameter keys length are\", len(parameters.keys())\n",
    "\n",
    "#     plt.show()\n",
    "    ccw,cw=analyser(Wtitle)\n",
    "    fullConsol=fullConsol.append(ccw,ignore_index=True)\n",
    "    fullConsol=fullConsol.append(cw,ignore_index=True)\n",
    "    \n",
    "print fullConsol"
   ]
  },
  {
   "cell_type": "code",
   "execution_count": null,
   "metadata": {
    "collapsed": false
   },
   "outputs": [],
   "source": [
    "ccw,cw=analyser(Wtitle)\n",
    "fullConsol=fullConsol.append(ccw,ignore_index=True)\n",
    "fullConsol=fullConsol.append(cw,ignore_index=True)"
   ]
  },
  {
   "cell_type": "code",
   "execution_count": 31,
   "metadata": {
    "collapsed": false
   },
   "outputs": [],
   "source": [
    "from bokeh.plotting import figure, output_file, show\n",
    "from bokeh.models.widgets import Panel, Tabs\n",
    "output_file(\"line.html\")\n",
    "\n",
    "x=df.trajectory__impose.index\n",
    "y1=df.trajectory__impose\n",
    "y2=df.trajectory__imposeResponse\n",
    "y3=df.trajectory__imposeResponseSmooth\n",
    "y4=compensationSmooth\n",
    "y5=cp.fillna(0).abs()\n",
    "# y5=cp\n",
    "\n",
    "p1 = figure(plot_width=800, plot_height=800, y_range=(-3,3),x_axis_type=\"datetime\")\n",
    "p2 = figure(plot_width=800, plot_height=800, y_range=(-3,3),x_axis_type=\"datetime\")\n",
    "p3 = figure(plot_width=800, plot_height=800, y_range=(-3,3),x_axis_type=\"datetime\")\n",
    "p4 = figure(plot_width=800, plot_height=800, y_range=(-3,3),x_axis_type=\"datetime\")\n",
    "p5 = figure(plot_width=800, plot_height=800, y_range=(-3,3),x_axis_type=\"datetime\")\n",
    "\n",
    "p1.line(x,y1, line_width=2, line_color=\"navy\")\n",
    "\n",
    "p2.line(x,y2, line_width=0.75,line_color=\"orange\",line_alpha=0.2)\n",
    "\n",
    "p3.line(x,y1, line_width=2, line_color=\"navy\")\n",
    "p3.line(x,y2, line_width=0.75,line_color=\"orange\",line_alpha=0.2)\n",
    "p3.line(x,y3, line_width=1,line_color=\"olive\",line_alpha=1)\n",
    "\n",
    "p4.line(x,y1, line_width=2, line_color=\"navy\")\n",
    "p4.line(x,y3, line_width=0.75,line_color=\"orange\",line_alpha=0.5)\n",
    "p4.line(x,y4, line_width=1,line_color=\"olive\",line_alpha=0.5)\n",
    "\n",
    "p5.line(x,y5, line_width=2,line_color=\"darkgrey\",line_alpha=1)\n",
    "p5.line(x,y1, line_width=2, line_color=\"navy\")\n",
    "p5.line(x,y3, line_width=0.75,line_color=\"orange\",line_alpha=0.5)\n",
    "p5.line(x,y4, line_width=1,line_color=\"olive\",line_alpha=0.5)\n",
    "\n",
    "\n",
    "tab1 = Panel(child=p1, title=\"impose\")\n",
    "tab2 = Panel(child=p2, title=\"imposeResponse\")\n",
    "tab3 = Panel(child=p3, title=\"imposeResponseSmooth\")\n",
    "tab4 = Panel(child=p4, title=\"compensation\")\n",
    "tab5 = Panel(child=p5, title=\"compensationMean\")\n",
    "\n",
    "\n",
    "\n",
    "\n",
    "tabs = Tabs(tabs=[tab1,tab2,tab3,tab4 ,tab5])\n",
    "\n",
    "show(tabs)\n"
   ]
  },
  {
   "cell_type": "code",
   "execution_count": 5,
   "metadata": {
    "collapsed": false
   },
   "outputs": [
    {
     "name": "stdout",
     "output_type": "stream",
     "text": [
      "calculating Mean\n",
      "calculating Mean\n"
     ]
    },
    {
     "name": "stderr",
     "output_type": "stream",
     "text": [
      "/usr/local/lib/python2.7/dist-packages/ipykernel/__main__.py:8: SettingWithCopyWarning: \n",
      "A value is trying to be set on a copy of a slice from a DataFrame\n",
      "\n",
      "See the caveats in the documentation: http://pandas.pydata.org/pandas-docs/stable/indexing.html#indexing-view-versus-copy\n"
     ]
    }
   ],
   "source": [
    "\n",
    "\n",
    "'''\n",
    "takes window title input and returns average \n",
    "compensation during stimulus period for each speed as a df\n",
    "'''\n",
    "#unknown rare bug, shabby fix\n",
    "df.trajectory__impose[0]=0\n",
    "\n",
    "impose=df.trajectory__impose.copy()\n",
    "impose[df.trajectory__impose==0]=1 #replace impose zero with one fordiv by zero\n",
    "compensation=df.trajectory__imposeResponse/impose\n",
    "compensationSmooth=df.trajectory__imposeResponseSmooth/impose\n",
    "\n",
    "cp = pd.DataFrame(index=compensation.index,columns=['a'])\n",
    "\n",
    "#flips are position where there is a rise or fall\n",
    "flips=np.sign(np.diff(df.trajectory__impose))\n",
    "\n",
    "#impose is impose df without first element\n",
    "impose=df.trajectory__impose.drop(df.trajectory__impose.index[0])\n",
    "\n",
    "#cw is clockWise, ccw is Counter clockwise\n",
    "#start and stop are positions where the impose starts or stops\n",
    "#start(stop) is zero everywhere except when there is the respective start(stop) event\n",
    "ccwStart=np.logical_and((flips==1) , (impose>0))\n",
    "ccwStop=np.logical_and((flips==-1) , (impose==0))\n",
    "cwStart=np.logical_and((flips==-1) , (impose<0))\n",
    "cwStop=np.logical_and((flips==1) , (impose==0))\n",
    "\n",
    "#     plt.plot(np.array(impose),'r')\n",
    "#     plt.plot(np.array(flips),'g')\n",
    "#     plt.plot(np.array(ccwStart)*1,'b')\n",
    "#     plt.plot(np.array(ccwStop)*1,'k')\n",
    "#     plt.plot(np.array(cwStart)*1,'m')\n",
    "#     plt.plot(np.array(cwStop)*1,'y')\n",
    "#     print ccwStart.shape,ccwStop.shape\n",
    "#     print cwStart.shape,cwStop.shape\n",
    "#     plt.show()\n",
    "\n",
    "#(c)cwStart(stop)Index is just those positions where flips occured\n",
    "\n",
    "ccwStartIndex= ccwStart[ccwStart==1]\n",
    "cwStartIndex= cwStart[cwStart==1]\n",
    "ccwStopIndex= ccwStop[ccwStop==1]\n",
    "cwStopIndex= cwStop[cwStop==1]\n",
    "#     print ccwStartIndex.shape,ccwStopIndex.shape\n",
    "#     print cwStartIndex.shape,cwStopIndex.shape\n",
    "\n",
    "#     print ccwStartIndex,ccwStopIndex\n",
    "#     print cwStartIndex,cwStopIndex\n",
    "\n",
    "\n",
    "#compensationMean is a df who is zero when impose is false, \n",
    "# and has mean value of compensation during the corresponding impose\n",
    "compensationMean = pd.DataFrame(index=compensation.index,columns=['mean']) #empty df with same index\n",
    "\n",
    "# print compensation\n",
    "def compMean(start,stop,compIn,compOut):\n",
    "    consol=pd.DataFrame(columns=['fly','gain','impose','compensation'])\n",
    "\n",
    "\n",
    "    print \"calculating Mean\"\n",
    "    #if there are more starts than stop because of abrupt ending while recording\n",
    "    #remove the last start event\n",
    "    try: \n",
    "        assert len(start)==len(stop)\n",
    "    except AssertionError:\n",
    "        print 'assertion error'\n",
    "        start=start[:-1] \n",
    "\n",
    "    for i in range(len(stop)):\n",
    "#             print \"impose is\",df.trajectory__impose[start.index[i]]\n",
    "#             print \"gain is\",df.trajectory__gain[start.index[i]]\n",
    "\n",
    "\n",
    "#             print \"i mean is\",compIn.ix[start.index[i]:stop.index[i]].mean()\n",
    "        currCompensationMean=compIn.ix[start.index[i]:stop.index[i]].mean()\n",
    "        compOut.ix[start.index[i]:stop.index[i]]=currCompensationMean\n",
    "        curr=pd.DataFrame([{'fly':parameters['fly'],\n",
    "                                             \"gain\":df.trajectory__gain[start.index[i]],\n",
    "                                             \"impose\":df.trajectory__impose[start.index[i]],\n",
    "                                             'compensation':currCompensationMean}])\n",
    "        consol=consol.append(curr,ignore_index=True)        \n",
    "    cols=['fly','gain','impose','compensation']\n",
    "    consol=consol[cols]\n",
    "#         print \"total measn were\",i+1\n",
    "    return consol\n",
    "\n",
    "cw=compMean(cwStartIndex,cwStopIndex,compensation,cp)\n",
    "ccw=compMean(ccwStartIndex,ccwStopIndex,compensation,cp)\n",
    "\n",
    "\n",
    "\n",
    "#     plt.plot(df.trajectory__imposeResponseSmooth)\n",
    "#     plt.plot(compensation,c=(1,0,0,0.2))\n",
    "#     plt.plot(df.trajectory__impose)\n",
    "# #     plt.plot(cp,'g')\n",
    "#     plt.axhline(y=1)\n",
    "#     plt.title(winTitle)\n",
    "#     plt.show()\n",
    "\n"
   ]
  },
  {
   "cell_type": "code",
   "execution_count": null,
   "metadata": {
    "collapsed": true
   },
   "outputs": [],
   "source": []
  },
  {
   "cell_type": "code",
   "execution_count": 9,
   "metadata": {
    "collapsed": true
   },
   "outputs": [],
   "source": [
    "import seaborn as sns\n",
    "sns.set_style(\"whitegrid\")"
   ]
  },
  {
   "cell_type": "code",
   "execution_count": 12,
   "metadata": {
    "collapsed": false
   },
   "outputs": [],
   "source": [
    "ax = sns.stripplot(hue=fullConsol['impose'].round(1).abs(),   jitter=True,\n",
    "                   y=fullConsol['compensation'],x=fullConsol['gain'],\n",
    "                   split=True,palette=\"BuGn\",linewidth=1)\n",
    "plt.show()"
   ]
  },
  {
   "cell_type": "code",
   "execution_count": 29,
   "metadata": {
    "collapsed": true
   },
   "outputs": [],
   "source": [
    "ax = sns.stripplot(x=fullConsol['impose'].round(1).abs(),   jitter=True,\n",
    "                   y=fullConsol['compensation'],hue=fullConsol['gain'],\n",
    "                   split=True,palette=\"BuGn\",linewidth=1)\n",
    "plt.show()"
   ]
  },
  {
   "cell_type": "code",
   "execution_count": 13,
   "metadata": {
    "collapsed": false
   },
   "outputs": [],
   "source": [
    "plt.plot(fullConsol.impose,fullConsol.compensation)\n",
    "plt.show()"
   ]
  },
  {
   "cell_type": "code",
   "execution_count": 15,
   "metadata": {
    "collapsed": false
   },
   "outputs": [],
   "source": [
    "pickler(fullConsol,'consolidatedDF')"
   ]
  },
  {
   "cell_type": "code",
   "execution_count": 16,
   "metadata": {
    "collapsed": true
   },
   "outputs": [],
   "source": [
    "a=depickler('consolidatedDF')"
   ]
  },
  {
   "cell_type": "code",
   "execution_count": 28,
   "metadata": {
    "collapsed": false
   },
   "outputs": [],
   "source": [
    "a['impose']=a['impose'].abs()\n",
    "b=a.groupby(['fly','gain','impose'],as_index=False).mean()\n",
    "\n",
    "ax = sns.stripplot(hue=b['impose'].round(1).abs(),   jitter=True,\n",
    "                   y=b['compensation'],x=b['gain'],split=True,palette=\"viridis_r\",size=8)\n",
    "plt.show()"
   ]
  },
  {
   "cell_type": "code",
   "execution_count": null,
   "metadata": {
    "collapsed": true
   },
   "outputs": [],
   "source": []
  },
  {
   "cell_type": "code",
   "execution_count": null,
   "metadata": {
    "collapsed": true
   },
   "outputs": [],
   "source": []
  },
  {
   "cell_type": "code",
   "execution_count": null,
   "metadata": {
    "collapsed": true
   },
   "outputs": [],
   "source": []
  },
  {
   "cell_type": "code",
   "execution_count": null,
   "metadata": {
    "collapsed": true
   },
   "outputs": [],
   "source": []
  },
  {
   "cell_type": "code",
   "execution_count": null,
   "metadata": {
    "collapsed": true
   },
   "outputs": [],
   "source": []
  },
  {
   "cell_type": "code",
   "execution_count": null,
   "metadata": {
    "collapsed": false
   },
   "outputs": [],
   "source": [
    "impose=df.trajectory__impose.copy()\n",
    "impose[df.trajectory__impose==0]=1 #replace impose zero with one fordiv by zero\n",
    "compensation=df.trajectory__imposeResponseSmooth/impose\n",
    "# plt.plot(df.trajectory__imposeResponseSmooth)\n",
    "plt.plot(compensation,c=(1,0,0,0.2))\n",
    "plt.plot(df.trajectory__impose)\n",
    "plt.plot(cp,'g')\n",
    "plt.axhline(y=1)\n",
    "plt.show()"
   ]
  },
  {
   "cell_type": "code",
   "execution_count": null,
   "metadata": {
    "collapsed": false
   },
   "outputs": [],
   "source": [
    "parameters"
   ]
  },
  {
   "cell_type": "code",
   "execution_count": null,
   "metadata": {
    "collapsed": false
   },
   "outputs": [],
   "source": [
    "#flips are position where there is a rise or fall\n",
    "flips=np.sign(np.diff(df.trajectory__impose))\n",
    "\n",
    "#impose is impose df without first element\n",
    "impose=df.trajectory__impose.drop(df.trajectory__impose.index[0])\n",
    "\n",
    "#cw is clockWise, ccw is Counter clockwise\n",
    "#start and stop are positions where the impose starts or stops\n",
    "#start(stop) is zero everywhere except when there is the respective start(stop) event\n",
    "ccwStart=np.logical_and((flips==1) , (impose>0))\n",
    "ccwStop=np.logical_and((flips==-1) , (impose==0))\n",
    "cwStart=np.logical_and((flips==-1) , (impose<0))\n",
    "cwStop=np.logical_and((flips==1) , (impose==0))\n",
    "\n",
    "# plt.plot(np.array(impose),'r')\n",
    "# plt.plot(np.array(flips),'g')\n",
    "# plt.plot(np.array(ccwStart)*1,'b')\n",
    "# plt.plot(np.array(ccwStop)*1,'k')\n",
    "# plt.plot(np.array(cwStart)*1,'m')\n",
    "# plt.plot(np.array(cwStop)*1,'y')\n",
    "# print ccwStart.shape,ccwStop.shape\n",
    "# print cwStart.shape,cwStop.shape\n",
    "plt.show()\n",
    "\n",
    "#(c)cwStart(stop)Index is just those positions where flips occured\n",
    "\n",
    "ccwStartIndex= ccwStart[ccwStart==1]\n",
    "cwStartIndex= cwStart[cwStart==1]\n",
    "ccwStopIndex= ccwStop[ccwStop==1]\n",
    "cwStopIndex= cwStop[cwStop==1]\n",
    "print ccwStartIndex.shape\n",
    "print ccwStopIndex.shape\n",
    "\n",
    "print cwStartIndex.shape\n",
    "print cwStopIndex.shape\n",
    "\n",
    "\n",
    "cp = pd.DataFrame(index=compensation.index,columns=['a'])\n",
    "\n",
    "#compensationMean is a df who is zero when impose is false, \n",
    "# and has mean value of compensation during the corresponding impose\n",
    "compensationMean = pd.DataFrame(index=compensation.index,columns=['mean']) #empty df with same index\n",
    "\n",
    "# print compensation\n",
    "def compMean(start,stop,compIn,compOut):\n",
    "    print \"calculating Mean\"\n",
    "    #if there are more starts than stop because of abrupt ending while recording\n",
    "    #remove the last start event\n",
    "    try: \n",
    "        assert len(start)==len(stop)\n",
    "    except AssertionError:\n",
    "        print 'assertion error'\n",
    "        start=start[:-1] \n",
    "\n",
    "    for i in range(len(stop)):\n",
    "\n",
    "        print \"i mean is\",compIn.ix[start.index[i]:\n",
    "                                          stop.index[i]].mean()\n",
    "        compOut.ix[start.index[i]:stop.index[i]]=compIn.ix[start.index[i]:stop.index[i]].mean()\n",
    "\n",
    "    print \"total measn were\",i+1\n",
    "compMean(cwStartIndex,cwStopIndex,compensation,cp)\n",
    "compMean(ccwStartIndex,ccwStopIndex,compensation,cp)"
   ]
  },
  {
   "cell_type": "code",
   "execution_count": null,
   "metadata": {
    "collapsed": false
   },
   "outputs": [],
   "source": [
    "df.trajectory__imposeResponse.plot()\n",
    "df.trajectory__impose.plot()\n",
    "\n",
    "plt.show()"
   ]
  },
  {
   "cell_type": "code",
   "execution_count": null,
   "metadata": {
    "collapsed": false
   },
   "outputs": [],
   "source": [
    "plt.plot(pd.rolling_mean((df.trajectory__imposeResponse),window=10))\n",
    "plt.plot(pd.rolling_mean((df.trajectory__imposeResponse),window=100),'r')\n",
    "plt.show()\n",
    "         "
   ]
  },
  {
   "cell_type": "code",
   "execution_count": null,
   "metadata": {
    "collapsed": false
   },
   "outputs": [],
   "source": [
    "# ccwStart=pd.DataFrame(0, index=np.arange(len(df)), columns=[\"feature_list\"])\n",
    "flips=np.sign(df.trajectory__impose.diff)\n",
    "ccwStart[flips>0]=1\n",
    "plt.plot(flips)\n",
    "plt.show()"
   ]
  },
  {
   "cell_type": "code",
   "execution_count": null,
   "metadata": {
    "collapsed": false
   },
   "outputs": [],
   "source": [
    "flips=np.sign(np.diff(df.trajectory__impose))\n",
    "impose=df.trajectory__impose.drop(df.trajectory__impose.index[1])\n",
    "# a=np.roll(a,-1)\n",
    "ccwStart=np.logical_and((flips==1) , (impose>0))\n",
    "ccwStop=np.logical_and((flips==-1) , (impose==0))\n",
    "cwStart=np.logical_and((flips==-1) , (impose<0))\n",
    "cwStop=np.logical_and((flips==1) , (impose==0))\n",
    "\n",
    "plt.plot(np.array(impose),'r')\n",
    "plt.plot(np.array(flips),'g')\n",
    "plt.plot(np.array(ccwStart)*1,'b')\n",
    "plt.plot(np.array(ccwStop)*1,'k')\n",
    "plt.plot(np.array(cwStart)*1,'m')\n",
    "plt.plot(np.array(cwStop)*1,'y')\n",
    "print ccwStart.shape,ccwStop.shape\n",
    "print cwStart.shape,cwStop.shape\n",
    "\n",
    "ccwStart= ccwStart[ccwStart==1]\n",
    "cwStart= cwStart[cwStart==1]\n",
    "ccwStop= ccwStop[ccwStop==1]\n",
    "cwStop= cwStop[cwStop==1]\n",
    "print ccwStart,ccwStop\n",
    "\n",
    "plt.show()"
   ]
  },
  {
   "cell_type": "code",
   "execution_count": null,
   "metadata": {
    "collapsed": false
   },
   "outputs": [],
   "source": [
    "cp = pd.DataFrame(index=compensation.index,columns=['a'])\n",
    "# print compensation\n",
    "for i in range(len(ccwStart)):\n",
    "    try: \n",
    "        assert len(ccwStart)==len(ccwStop)\n",
    "    except AssertionError:\n",
    "        ccwStop=ccwStop[:-1]\n",
    "    \n",
    "    print \"i mean is\",compensation.ix[cwStart.index[i]:\n",
    "                                      cwStop.index[i]].mean()\n",
    "    cp.ix[cwStart.index[i]:cwStop.index[i]]=compensation.ix[cwStart.index[i]:cwStop.index[i]].mean()\n",
    "    "
   ]
  },
  {
   "cell_type": "code",
   "execution_count": null,
   "metadata": {
    "collapsed": false
   },
   "outputs": [],
   "source": [
    "a={'a':1,'b':2,'c':3,'d':5}\n",
    "b={'a':2,'b':2,'c':3,'d':5}\n",
    "\n",
    "# d.append(df, ignore_index=True)\n",
    "df=pd.DataFrame([a])\n",
    "df=df.append(pd.DataFrame([b]))#,ignore_index=True)\n",
    "print df\n",
    "# print d"
   ]
  },
  {
   "cell_type": "code",
   "execution_count": null,
   "metadata": {
    "collapsed": false
   },
   "outputs": [],
   "source": [
    "a"
   ]
  },
  {
   "cell_type": "code",
   "execution_count": null,
   "metadata": {
    "collapsed": false
   },
   "outputs": [],
   "source": [
    "print (df.trajectory__impose.shape)\n",
    "a.shape"
   ]
  },
  {
   "cell_type": "code",
   "execution_count": null,
   "metadata": {
    "collapsed": false
   },
   "outputs": [],
   "source": [
    "(.3195+.34179)/2"
   ]
  },
  {
   "cell_type": "code",
   "execution_count": null,
   "metadata": {
    "collapsed": false
   },
   "outputs": [],
   "source": [
    "plt.plot(flips)\n",
    "plt.plot(np.array(b),'r')\n",
    "\n",
    "plt.show()"
   ]
  },
  {
   "cell_type": "code",
   "execution_count": null,
   "metadata": {
    "collapsed": false
   },
   "outputs": [],
   "source": [
    "df.trajectory__wbad.plot.hist(bins=60)"
   ]
  },
  {
   "cell_type": "code",
   "execution_count": null,
   "metadata": {
    "collapsed": false
   },
   "outputs": [],
   "source": [
    "''' \n",
    "Load multiple dataframe pickle file into memory and append it\n",
    "'''\n",
    "paths=easygui.fileopenbox(multiple=True,filetypes=['*.pickle'])\n",
    "i=0\n",
    "a=range(len(paths))\n",
    "for path in paths:\n",
    "    a[i]=pd.read_pickle(path)\n",
    "\n",
    "    i+=1\n",
    "    \n",
    "df=pd.concat(a)"
   ]
  },
  {
   "cell_type": "code",
   "execution_count": null,
   "metadata": {
    "collapsed": false
   },
   "outputs": [],
   "source": [
    "#load params pickle\n",
    "path=easygui.fileopenbox()\n",
    "import cPickle as pl\n",
    "import json\n",
    "a=pl.load(open( path, \"rb\" ))\n",
    "params=a[1]"
   ]
  },
  {
   "cell_type": "code",
   "execution_count": null,
   "metadata": {
    "collapsed": false
   },
   "outputs": [],
   "source": [
    "parameters\n"
   ]
  },
  {
   "cell_type": "code",
   "execution_count": null,
   "metadata": {
    "collapsed": false
   },
   "outputs": [],
   "source": [
    "df.trajectory__trial.max()"
   ]
  },
  {
   "cell_type": "code",
   "execution_count": null,
   "metadata": {
    "collapsed": false
   },
   "outputs": [],
   "source": [
    "''' \n",
    "Load multiple bag files to be converted to dataframe\n",
    "'''\n",
    "\n",
    "paths=easygui.fileopenbox(multiple=True,filetypes=['*.bag'])\n",
    "i=0\n",
    "for path in paths:\n",
    "\n",
    "    df=rosbag_pandas.bag_to_dataframe(path,include=['/trajectory'])\n",
    "    df.columns\n",
    "    bag=rosbag.Bag(path)\n",
    "    for topic,msg,t in bag.read_messages(topics='/metadata'):\n",
    "        a=msg\n",
    "    parameters=json.loads(a.data)\n",
    "    picklepath=path+\"_df.pickle\"\n",
    "    df.to_pickle(picklepath)\n",
    "    i+=1\n",
    "    \n",
    "print \"done\""
   ]
  },
  {
   "cell_type": "code",
   "execution_count": null,
   "metadata": {
    "collapsed": false
   },
   "outputs": [],
   "source": [
    "'''\n",
    "plot a single df\n",
    "'''\n",
    "\n",
    "from bokeh.plotting import figure, output_file, show\n",
    "\n",
    "# prepare some data\n",
    "N = len(df.trajectory__position_x)\n",
    "x = df.trajectory__position_x\n",
    "y = df.trajectory__position_y\n",
    "h=np.deg2rad(df.trajectory__orientation_x)\n",
    "\n",
    "dec=1\n",
    "x=x[::dec]\n",
    "y=y[::dec]\n",
    "h=h[::dec]\n",
    "colors = [\n",
    "    \"#%02x%02x%02x\" % (int(r), int(g), 150) for r, g in zip(50+2*x, 30+2*y)\n",
    "]\n",
    "\n",
    "# output to static HTML file (with CDN resources)\n",
    "output_file(path+\".html\", title=\"Trajectory Quad\", mode=\"cdn\")\n",
    "\n",
    "TOOLS=\"resize,crosshair,pan,wheel_zoom,box_zoom,reset,box_select,lasso_select,undo,redo,save\"\n",
    "\n",
    "# create a new plot with the tools above, and explicit ranges\n",
    "p = figure(tools=TOOLS, x_range=(0,256), y_range=(0,256),webgl=True,plot_width=1000, plot_height=1000)\n",
    "p.image(image=[np.flipud(np.rot90(np.invert((params[\"odourField\"])>0)*1))], \n",
    "        x=0, y=0, dw=255, dh=255, palette=\"Greys9\")\n",
    "\n",
    "# add a circle renderer with vectorized colors and sizes\n",
    "# p.circle(x,y,size=4  ,fill_alpha=0.5, line_color=None)\n",
    "p.triangle(x,y,size=10 ,angle=h ,fill_alpha=0.8, line_color=None)\n",
    "# p.wedge(x, y, radius=0.2, start_angle=0.4, end_angle=4.8,\n",
    "#         color=\"firebrick\", alpha=0.6, direction=\"clock\")\n",
    "# show the results\n",
    "show(p)"
   ]
  },
  {
   "cell_type": "code",
   "execution_count": null,
   "metadata": {
    "collapsed": false
   },
   "outputs": [],
   "source": [
    "'''plotdoor field'''\n",
    "p = figure(x_range=(0, 255), y_range=(0,255))\n",
    "\n",
    "p.image(image=[np.flipud(np.rot90(params[\"odourField\"]))], x=0, y=0, dw=255, dh=255, palette=\"Greys3\")\n",
    "\n",
    "\n",
    "# must give a vector of image data for image parameter\n",
    "\n",
    "output_file(\"image.html\", title=\"image.py example\")\n",
    "\n",
    "show(p)  # open a browser"
   ]
  },
  {
   "cell_type": "code",
   "execution_count": null,
   "metadata": {
    "collapsed": false
   },
   "outputs": [],
   "source": [
    "#load df pickle\n",
    "path=easygui.fileopenbox()\n",
    "df=pd.read_pickle(path)\n",
    "path=path.rstrip(\"_df.pickle\")"
   ]
  },
  {
   "cell_type": "code",
   "execution_count": null,
   "metadata": {
    "collapsed": false
   },
   "outputs": [],
   "source": [
    "files=easygui.fileopenbox(\"select the files to be dataframed and plotted\",multiple=True)"
   ]
  },
  {
   "cell_type": "code",
   "execution_count": null,
   "metadata": {
    "collapsed": false
   },
   "outputs": [],
   "source": [
    "'''\n",
    "plot a single df\n",
    "'''\n",
    "\n",
    "from bokeh.plotting import figure, output_file, show, gridplot\n",
    "\n",
    "# prepare some data\n",
    "N = len(df.trajectory__position_x)\n",
    "x = df.trajectory__position_x\n",
    "y = df.trajectory__position_y\n",
    "h=np.deg2rad(df.trajectory__orientation_x)\n",
    "\n",
    "dec=6\n",
    "x=x[::dec]\n",
    "y=y[::dec]\n",
    "h=h[::dec]\n",
    "colors = [\n",
    "    \"#%02x%02x%02x\" % (int(r), int(g), 150) for r, g in zip(50+2*x, 30+2*y)\n",
    "]\n",
    "\n",
    "# output to static HTML file (with CDN resources)\n",
    "output_file(path+\".html\", title=\"Trajectory Quad\", mode=\"cdn\")\n",
    "\n",
    "TOOLS=\"resize,crosshair,pan,wheel_zoom,box_zoom,reset,box_select,lasso_select,undo,redo,save\"\n",
    "\n",
    "# create a new plot with the tools above, and explicit ranges\n",
    "w=500\n",
    "h=500 \n",
    "s=3\n",
    "bl = figure(tools=TOOLS, x_range=(64-32,64+32), y_range=(32-32,32+32),webgl=True,plot_width=w, plot_height=h)\n",
    "tl = figure(tools=TOOLS, x_range=(64-32,64+32), y_range=(161-32,161+32),webgl=True,plot_width=w, plot_height=h)\n",
    "br = figure(tools=TOOLS, x_range=(193-32,193+32), y_range=(32-32,32+32),webgl=True,plot_width=w, plot_height=h)\n",
    "tr = figure(tools=TOOLS, x_range=(193-32,193+32), y_range=(161-32,161+32),webgl=True,plot_width=w, plot_height=h)\n",
    "\n",
    "bl.triangle(x,y,size=s ,angle=h ,fill_alpha=1, line_color=None)\n",
    "tl.triangle(x,y,size=s ,angle=h ,fill_alpha=1, line_color=None)\n",
    "br.triangle(x,y,size=s ,angle=h ,fill_alpha=1, line_color=None)\n",
    "tr.triangle(x,y,size=s ,angle=h ,fill_alpha=1, line_color=None)\n",
    "\n",
    "bl.image(image=[np.flipud(np.rot90(np.invert((params[\"odourField\"])>0)*1))], \n",
    "        x=0, y=0, dw=255, dh=255, palette=\"Greys9\")\n",
    "\n",
    "\n",
    "tl.image(image=[np.flipud(np.rot90(np.invert((params[\"odourField\"])>0)*1))], \n",
    "        x=0, y=0, dw=255, dh=255, palette=\"Greys9\")\n",
    "\n",
    "br.image(image=[np.flipud(np.rot90(np.invert((params[\"odourField\"])>0)*1))], \n",
    "        x=0, y=0, dw=255, dh=255, palette=\"Greys9\")\n",
    "\n",
    "tr.image(image=[np.flipud(np.rot90(np.invert((params[\"odourField\"])>0)*1))], \n",
    "        x=0, y=0, dw=255, dh=255, palette=\"Greys9\")\n",
    "\n",
    "p = gridplot([[tl, tr], [bl, br]])\n",
    "\n",
    "# add a circle renderer with vectorized colors and sizes\n",
    "# p.circle(x,y,size=4  ,fill_alpha=0.5, line_color=None)\n",
    "# p.triangle(x,y,size=4 ,angle=h ,fill_alpha=1, line_color=None)\n",
    "# p.wedge(x, y, radius=0.2, start_angle=0.4, end_angle=4.8,\n",
    "#         color=\"firebrick\", alpha=0.6, direction=\"clock\")\n",
    "# show the results\n",
    "show(p)"
   ]
  },
  {
   "cell_type": "code",
   "execution_count": null,
   "metadata": {
    "collapsed": false
   },
   "outputs": [],
   "source": [
    "params[\"odourField\"]"
   ]
  },
  {
   "cell_type": "code",
   "execution_count": null,
   "metadata": {
    "collapsed": false
   },
   "outputs": [],
   "source": [
    "a=range(0,15)\n",
    "a=a[::5]\n",
    "a"
   ]
  },
  {
   "cell_type": "code",
   "execution_count": null,
   "metadata": {
    "collapsed": false
   },
   "outputs": [],
   "source": [
    "import numpy as np\n",
    "\n",
    "from bokeh.plotting import figure, show, output_file\n",
    "\n",
    "N = 1000\n",
    "x = np.linspace(0, 10, N)\n",
    "y = np.linspace(0, 10, N)\n",
    "xx, yy = np.meshgrid(x, y)\n",
    "d = np.sin(xx)*np.cos(yy)\n",
    "\n",
    "p = figure(x_range=(0, 10), y_range=(0, 10))\n",
    "\n",
    "# must give a vector of image data for image parameter\n",
    "p.image(image=[d], x=0, y=0, dw=10, dh=10, color_mapper=1)\n",
    "\n",
    "output_file(\"image.html\", title=\"image.py example\")\n",
    "\n",
    "show(p)  # open a browser"
   ]
  },
  {
   "cell_type": "code",
   "execution_count": null,
   "metadata": {
    "collapsed": false
   },
   "outputs": [],
   "source": [
    "from hcpWorldGen import WorldGen\n",
    "df.plot.scatter('trajectory__position_x',y='trajectory__position_y',s=0.01)\n",
    "# plt.show()"
   ]
  },
  {
   "cell_type": "code",
   "execution_count": null,
   "metadata": {
    "collapsed": false,
    "scrolled": true
   },
   "outputs": [],
   "source": [
    "import numpy as np\n",
    "import matplotlib.pyplot as plt\n",
    "import pickle as pl\n",
    "\n",
    "# Plot simple sinus function\n",
    "fig_handle = plt.figure()\n",
    "\n",
    "plt.scatter(df.trajectory__position_x,df.trajectory__position_y,s=0.01)\n",
    "\n",
    "# plt.scatter(initPlot.odd[:,0],initPlot.odd[:,1],color=initPlot.oddPlotColor,marker=initPlot.oddPlotMarker)\n",
    "# plt.scatter(initPlot.even[:,0],initPlot.even[:,1],color=initPlot.evenPlotColor,marker=initPlot.evenPlotMarker),marker='|',color='g')\n",
    "# plt.axis([0,255,0,255])\n",
    "\n",
    "plt.show()\n",
    "\n",
    "\n",
    "# Save figure handle to disk\n",
    "# pl.dump(fig_handle,file('sinus.pickle','w'))\n",
    "\n"
   ]
  },
  {
   "cell_type": "code",
   "execution_count": null,
   "metadata": {
    "collapsed": false
   },
   "outputs": [],
   "source": [
    "print type(fig_handle)"
   ]
  },
  {
   "cell_type": "code",
   "execution_count": null,
   "metadata": {
    "collapsed": false
   },
   "outputs": [],
   "source": [
    "p.image(image=[d], x=0, y=0, dw=10, dh=10, palette=\"Spectral11\")"
   ]
  },
  {
   "cell_type": "code",
   "execution_count": null,
   "metadata": {
    "collapsed": false
   },
   "outputs": [],
   "source": []
  },
  {
   "cell_type": "code",
   "execution_count": null,
   "metadata": {
    "collapsed": false
   },
   "outputs": [],
   "source": []
  },
  {
   "cell_type": "code",
   "execution_count": null,
   "metadata": {
    "collapsed": false
   },
   "outputs": [],
   "source": []
  },
  {
   "cell_type": "code",
   "execution_count": null,
   "metadata": {
    "collapsed": false
   },
   "outputs": [],
   "source": []
  },
  {
   "cell_type": "code",
   "execution_count": null,
   "metadata": {
    "collapsed": false
   },
   "outputs": [],
   "source": []
  },
  {
   "cell_type": "code",
   "execution_count": null,
   "metadata": {
    "collapsed": false
   },
   "outputs": [],
   "source": [
    "'''plot hex bin'''\n",
    "\n",
    "df.plot.hexbin(x='trajectory__position_x',y='trajectory__position_y',gridsize=10,cmap=plt.cm.viridis,)\n",
    "plt.show()\n"
   ]
  },
  {
   "cell_type": "code",
   "execution_count": null,
   "metadata": {
    "collapsed": false
   },
   "outputs": [],
   "source": [
    "WorldGen.initPositions"
   ]
  },
  {
   "cell_type": "code",
   "execution_count": null,
   "metadata": {
    "collapsed": false
   },
   "outputs": [],
   "source": [
    "df.plot.hexbin(x='trajectory__position_x',y='trajectory__position_y',gridsize=100)"
   ]
  },
  {
   "cell_type": "code",
   "execution_count": null,
   "metadata": {
    "collapsed": false
   },
   "outputs": [],
   "source": [
    "plt.show()"
   ]
  },
  {
   "cell_type": "code",
   "execution_count": null,
   "metadata": {
    "collapsed": false
   },
   "outputs": [],
   "source": [
    "df.columns"
   ]
  },
  {
   "cell_type": "code",
   "execution_count": null,
   "metadata": {
    "collapsed": true
   },
   "outputs": [],
   "source": []
  },
  {
   "cell_type": "code",
   "execution_count": null,
   "metadata": {
    "collapsed": false
   },
   "outputs": [],
   "source": []
  },
  {
   "cell_type": "code",
   "execution_count": null,
   "metadata": {
    "collapsed": false
   },
   "outputs": [],
   "source": [
    "plt.imshow(np.flipud(np.rot90(params[\"odourField\"])))\n",
    "plt.show()"
   ]
  },
  {
   "cell_type": "code",
   "execution_count": null,
   "metadata": {
    "collapsed": false
   },
   "outputs": [],
   "source": [
    "params[\"odourField\"].shape"
   ]
  },
  {
   "cell_type": "code",
   "execution_count": null,
   "metadata": {
    "collapsed": false
   },
   "outputs": [],
   "source": [
    "params"
   ]
  },
  {
   "cell_type": "code",
   "execution_count": null,
   "metadata": {
    "collapsed": false
   },
   "outputs": [],
   "source": [
    "a[1]"
   ]
  },
  {
   "cell_type": "code",
   "execution_count": null,
   "metadata": {
    "collapsed": false
   },
   "outputs": [],
   "source": [
    "2+3"
   ]
  },
  {
   "cell_type": "code",
   "execution_count": null,
   "metadata": {
    "collapsed": false
   },
   "outputs": [],
   "source": [
    "print paths"
   ]
  },
  {
   "cell_type": "code",
   "execution_count": null,
   "metadata": {
    "collapsed": false
   },
   "outputs": [],
   "source": [
    "# modules\n",
    "#------------------------------------------------------------------------------\n",
    "import numpy as np\n",
    "import matplotlib.pyplot as py\n",
    "from matplotlib import animation\n",
    "\n",
    "py.close('all') # close all previous plots\n",
    "\n",
    "# create a random line to plot\n",
    "#------------------------------------------------------------------------------\n",
    "\n",
    "x = df.trajectory__position_x\n",
    "y = df.trajectory__position_y\n",
    "t = np.linspace(0,1,x.shape[0]) # your \"time\" variable\n",
    "# py.figure(1)\n",
    "# py.scatter(0, 0, s=1)\n",
    "# py.axis([0, 255, 0, 255])\n",
    "# py.show()\n",
    "\n",
    "# animation of a scatter plot using x, y from above\n",
    "#------------------------------------------------------------------------------\n",
    "\n",
    "fig = py.figure(1)\n",
    "ax = py.axes(xlim=(0, 255), ylim=(0,255))\n",
    "scat = ax.scatter([], [], s=20,marker=(3,0,0))\n",
    "\n",
    "def init():\n",
    "    scat.set_offsets([])\n",
    "    return scat,\n",
    "\n",
    "def animate(i):\n",
    "    data = np.hstack((x[:i,np.newaxis], y[:i, np.newaxis]))\n",
    "    scat.set_offsets(data)\n",
    "    scat.se\n",
    "#     scat.set_marker('o')\n",
    "    return scat,\n",
    "\n",
    "anim = animation.FuncAnimation(fig, animate, init_func=init, frames=len(x)+1, \n",
    "                               interval=1000/165., blit=True, repeat=False)\n",
    "plt.show()"
   ]
  },
  {
   "cell_type": "code",
   "execution_count": null,
   "metadata": {
    "collapsed": false
   },
   "outputs": [],
   "source": [
    "len(df.trajectory__position_x)"
   ]
  },
  {
   "cell_type": "code",
   "execution_count": null,
   "metadata": {
    "collapsed": false
   },
   "outputs": [],
   "source": [
    "i=360\n"
   ]
  },
  {
   "cell_type": "code",
   "execution_count": null,
   "metadata": {
    "collapsed": false
   },
   "outputs": [],
   "source": [
    "import matplotlib\n"
   ]
  },
  {
   "cell_type": "code",
   "execution_count": null,
   "metadata": {
    "collapsed": false
   },
   "outputs": [],
   "source": [
    "print matplotlib.__version__"
   ]
  },
  {
   "cell_type": "code",
   "execution_count": null,
   "metadata": {
    "collapsed": true
   },
   "outputs": [],
   "source": []
  }
 ],
 "metadata": {
  "kernelspec": {
   "display_name": "Python 2",
   "language": "python",
   "name": "python2"
  },
  "language_info": {
   "codemirror_mode": {
    "name": "ipython",
    "version": 2
   },
   "file_extension": ".py",
   "mimetype": "text/x-python",
   "name": "python",
   "nbconvert_exporter": "python",
   "pygments_lexer": "ipython2",
   "version": "2.7.6"
  }
 },
 "nbformat": 4,
 "nbformat_minor": 0
}
