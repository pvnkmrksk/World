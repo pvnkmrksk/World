{
 "cells": [
  {
   "cell_type": "code",
   "execution_count": 80,
   "metadata": {
    "collapsed": true
   },
   "outputs": [],
   "source": [
    "import numpy as np\n",
    "import pandas as pd\n",
    "import matplotlib.pyplot as plt\n",
    "import easygui\n",
    "import seaborn as sns"
   ]
  },
  {
   "cell_type": "code",
   "execution_count": 78,
   "metadata": {
    "collapsed": true
   },
   "outputs": [],
   "source": [
    "files=easygui.fileopenbox(multiple=True)"
   ]
  },
  {
   "cell_type": "code",
   "execution_count": 116,
   "metadata": {
    "collapsed": false
   },
   "outputs": [],
   "source": [
    "# Left wing tip, left wing base, head, right wing base, right wing tip.\n",
    "fps=4000\n",
    "unitDist=0.001 #1mm\n",
    "\n",
    "i=0\n",
    "fig, ax = plt.subplots()\n",
    "\n",
    "for f in files:\n",
    "    \n",
    "    df=pd.read_csv(f)\n",
    "    # df.columns\n",
    "    df=df[['pt3_X','pt3_Y','pt3_Z']]\n",
    "    df.columns=['X','Y','Z']\n",
    "    dist=df.diff().fillna(0.)\n",
    "    df['dist']=np.sqrt(dist.X**2 + dist.Y**2 + dist.Z**2)\n",
    "    dist.columns=['velX','velY','velZ']\n",
    "    df=pd.concat([df,dist],axis=1)\n",
    "    df['vel']=df.dist*fps*unitDist\n",
    "#     df.vel.hist()\n",
    "#     plt.show()\n",
    "    sns.distplot(df.vel,bins=np.arange(0,3,0.05), ax=ax, kde=True,label='fly'+str(i))\n",
    "    plt.legend()\n",
    "    plt.xlim(0,3)\n",
    "    plt.xlabel('velocity (m/s)')\n",
    "    i+=1\n"
   ]
  },
  {
   "cell_type": "code",
   "execution_count": 117,
   "metadata": {
    "collapsed": true
   },
   "outputs": [],
   "source": [
    "plt.show()"
   ]
  },
  {
   "cell_type": "code",
   "execution_count": null,
   "metadata": {
    "collapsed": true
   },
   "outputs": [],
   "source": [
    "np."
   ]
  }
 ],
 "metadata": {
  "kernelspec": {
   "display_name": "Python 2",
   "language": "python",
   "name": "python2"
  },
  "language_info": {
   "codemirror_mode": {
    "name": "ipython",
    "version": 2
   },
   "file_extension": ".py",
   "mimetype": "text/x-python",
   "name": "python",
   "nbconvert_exporter": "python",
   "pygments_lexer": "ipython2",
   "version": "2.7.6"
  }
 },
 "nbformat": 4,
 "nbformat_minor": 0
}
