{
 "cells": [
  {
   "cell_type": "code",
   "execution_count": 467,
   "metadata": {
    "collapsed": false
   },
   "outputs": [],
   "source": [
    "# %matplotlib inline\n",
    "# import mpld3\n",
    "# mpld3.enable_notebook()\n",
    "import rosbag_pandas\n",
    "import pandas as pd\n",
    "import matplotlib.pyplot as plt\n",
    "import easygui\n",
    "import rosbag\n",
    "import json\n",
    "import numpy as np\n",
    "import cPickle as pkl\n",
    "import time\n",
    "import seaborn as sns\n",
    "import datetime as dt\n",
    "def TicTocGenerator():\n",
    "    # Generator that returns time differences\n",
    "    ti = 0           # initial time\n",
    "    tf = time.time() # final time\n",
    "    while True:\n",
    "        ti = tf\n",
    "        tf = time.time()\n",
    "        yield tf-ti # returns the time difference\n",
    "\n",
    "TicToc = TicTocGenerator() # create an instance of the TicTocGen generator\n",
    "\n",
    "# This will be the main function through which we define both tic() and toc()\n",
    "def toc(tempBool=True):\n",
    "    # Prints the time difference yielded by generator instance TicToc\n",
    "    tempTimeInterval = next(TicToc)\n",
    "    if tempBool:\n",
    "        print( \"Elapsed time: %f seconds.\\n\" %tempTimeInterval )\n",
    "\n",
    "def tic():\n",
    "    # Records a time in TicToc, marks the beginning of a time interval\n",
    "    toc(False)\n",
    "    \n",
    "def pickler( obj, path):\n",
    "    \"\"\"\n",
    "    Pickle a Python object\n",
    "    \"\"\"\n",
    "    with open(path, \"wb\") as pfile:\n",
    "        pkl.dump(obj, pfile)\n",
    "\n",
    "def depickler( path):\n",
    "    \"\"\"\n",
    "    Extracts a pickled Python object and returns it\n",
    "    \"\"\"\n",
    "    with open(path, \"rb\") as pfile:\n",
    "        data = pkl.load(pfile)\n",
    "    return data\n"
   ]
  },
  {
   "cell_type": "code",
   "execution_count": 577,
   "metadata": {
    "collapsed": false,
    "scrolled": false
   },
   "outputs": [
    {
     "name": "stdout",
     "output_type": "stream",
     "text": [
      "['/home/rhagoletis/catkin/src/World/bags/2017_06_06/2017-06-06__19~51~30_haw09_01_gain~8_speed~1.0_bout~5_DC~-0.002_traj.bag'] \n",
      "\n",
      "starting analysis of file 2017-06-06__19~51~30_haw09_01_gain~8_speed~1.0_bout~5_DC~-0.002_traj.bag , 1 / 1 files\n",
      "Elapsed time: 4.792155 seconds.\n",
      "\n",
      "\n",
      "analysis of 1 files complete\n"
     ]
    }
   ],
   "source": [
    "'''\n",
    "Load  bag filesto make into respective dataframes\n",
    "'''\n",
    "defaultPath=\"/media/rhagoletis/6db8b2b2-ebe2-4555-9b79-93b10ef9dec31/2017_03_31/\"\n",
    "# defaultPath=\"/home/rhagoletis/catkin/src/World/bags/\"\n",
    "\n",
    "paths=easygui.fileopenbox(title=\"Bags to Dataframes\"\n",
    "                          ,default=defaultPath,\n",
    "                          multiple=True,filetypes=[\"*traj.bag\"])\n",
    "\n",
    "# paths =['/media/rhagoletis/NICE_Pavan_2B/2017_04_17/2017-04-17__23~05~43_apple34_00_odour_gain~8_speed~1.0_bout~30_DC~-0.128_traj.bag'] \n",
    "print paths, \"\\n\"\n",
    "metadata=None\n",
    "# t=time.now()\n",
    "i=1\n",
    "for path in paths:\n",
    "    tic()\n",
    "    print \"starting analysis of file %s , %s / %s files\" %(path.split('/')[-1],i,len(paths))\n",
    "    df=rosbag_pandas.bag_to_dataframe(path,include=['/trajectory'])\n",
    "    bag=rosbag.Bag(path)\n",
    "    \n",
    "    try:\n",
    "        for topic,msg,t in bag.read_messages(topics='/metadata'):\n",
    "            a=msg\n",
    "#         parameters=json.loads(a.data)\n",
    "#         metadata={\"meta\":parameters}\n",
    "\n",
    "        metadata=json.loads(a.data)\n",
    "\n",
    "    except :\n",
    "        print \"no such file!, trying the pickle\"\n",
    "        try:\n",
    "            metadata=depickler(paths[0].split('.bag')[0])\n",
    "        except IOError:\n",
    "            metadata=depickler(paths[0].split('.bag')[0]+'.pickle')\n",
    "            \n",
    "        parameters=metadata['parameters']\n",
    "        \n",
    "            \n",
    "    obj=dict(df=df,metadata=metadata)\n",
    "    \n",
    "    picklepath=path+\"_df.pickle\"\n",
    "    pickler(obj,picklepath)\n",
    "#     df.to_pickle(picklepath)\n",
    "    \n",
    "    i+=1\n",
    "    toc()\n",
    "print \"\\nanalysis of %s files complete\" %len(paths)\n",
    "# print (time.now()-t)"
   ]
  },
  {
   "cell_type": "code",
   "execution_count": 471,
   "metadata": {
    "collapsed": false
   },
   "outputs": [
    {
     "name": "stdout",
     "output_type": "stream",
     "text": [
      "0:00:03.015371\n"
     ]
    }
   ],
   "source": [
    "t=dt.datetime.now()\n",
    "time.sleep(3)\n",
    "print dt.datetime.now()-t\n",
    "\n"
   ]
  },
  {
   "cell_type": "code",
   "execution_count": null,
   "metadata": {
    "collapsed": true
   },
   "outputs": [],
   "source": [
    "pick=depickler(paths[0].split('.bag')[0])\n"
   ]
  },
  {
   "cell_type": "code",
   "execution_count": null,
   "metadata": {
    "collapsed": false
   },
   "outputs": [],
   "source": [
    "df.to_csv('f.csv')"
   ]
  },
  {
   "cell_type": "code",
   "execution_count": 3,
   "metadata": {
    "collapsed": false
   },
   "outputs": [],
   "source": [
    "import pyqtgraph as pg\n",
    "from pyqtgraph.Qt import QtCore, QtGui\n",
    "import numpy as np\n",
    "\n",
    "win = pg.GraphicsWindow()\n",
    "win.resize(800,350)\n",
    "win.setWindowTitle('pyqtgraph example: Histogram')\n",
    "plt1 = win.addPlot()\n",
    "\n",
    "## make interesting distribution of values\n",
    "vals = np.hstack([np.random.normal(size=500), np.random.normal(size=260, loc=4)])\n",
    "\n",
    "## compute standard histogram\n",
    "y,x = np.histogram(vals, bins=np.linspace(-3, 8, 40))\n",
    "\n",
    "## notice that len(x) == len(y)+1\n",
    "## We are required to use stepMode=True so that PlotCurveItem will interpret this data correctly.\n",
    "curve = pg.PlotCurveItem(x, y, stepMode=True, fillLevel=0, brush=(0, 0, 255, 80))\n",
    "plt1.addItem(curve)"
   ]
  },
  {
   "cell_type": "code",
   "execution_count": null,
   "metadata": {
    "collapsed": false
   },
   "outputs": [],
   "source": [
    "'''\n",
    "Load  bag filesto make into respective dataframes\n",
    "1726819\n",
    "'''\n",
    "defaultPath=\"/home/rhagoletis/catkin/src/beginner/scripts/panda/world/bags/\"\n",
    "paths=easygui.fileopenbox(title=\"Bags to Dataframes\"\n",
    "                          ,default=defaultPath,\n",
    "                          multiple=True,filetypes=[\"*traj.bag\"])\n",
    "print paths, \"\\n\"\n",
    "metadata=None\n",
    "\n",
    "i=1\n",
    "for path in paths:\n",
    "    tic()\n",
    "    print \"starting analysis of file %s , %s / %s files\" %(path.split('/')[-1],i,len(paths))\n",
    "    df=rosbag_pandas.bag_to_dataframe(path,include=['/trajectory'])\n",
    "    bag=rosbag.Bag(path)\n",
    "    \n",
    "#     try:\n",
    "#         for topic,msg,t in bag.read_messages(topics='/metadata'):\n",
    "#             a=msg\n",
    "# #         parameters=json.loads(a.data)\n",
    "# #         metadata={\"meta\":parameters}\n",
    "#         metadata=json.loads(a.data)\n",
    "\n",
    "#     except :\n",
    "#         print \"no such file!\"\n",
    "            \n",
    "#     obj=dict(df=df,metadata=metadata)\n",
    "    \n",
    "#     picklepath=path+\"_df.pickle\"\n",
    "#     pickler(obj,picklepath)\n",
    "# #     df.to_pickle(picklepath)\n",
    "    \n",
    "    i+=1\n",
    "    toc()\n",
    "print \"\\nanalysis of %s files complete\" %len(paths)\n"
   ]
  },
  {
   "cell_type": "code",
   "execution_count": null,
   "metadata": {
    "collapsed": false
   },
   "outputs": [],
   "source": [
    "df"
   ]
  },
  {
   "cell_type": "code",
   "execution_count": null,
   "metadata": {
    "collapsed": false
   },
   "outputs": [],
   "source": [
    "parameters=obj['metadata']['parameters']\n",
    "print parameters"
   ]
  },
  {
   "cell_type": "code",
   "execution_count": null,
   "metadata": {
    "collapsed": false
   },
   "outputs": [],
   "source": [
    "\n",
    "df[['trajectory__object1Pos_x', 'trajectory__object1Pos_y']]"
   ]
  },
  {
   "cell_type": "code",
   "execution_count": null,
   "metadata": {
    "collapsed": false
   },
   "outputs": [],
   "source": [
    "# plt.scatter(df.trajectory__position_x,df.trajectory__position_y)\n",
    "# plt.show()\n",
    "# df.trajectory__wbad.plot()\n",
    "# df.trajectory__wbas.plot()\n",
    "a=(pd.rolling_mean(df.trajectory__wbas,30))\n",
    "a.plot()\n",
    "df.trajectory__reset.plot()\n",
    "plt.show()"
   ]
  },
  {
   "cell_type": "code",
   "execution_count": null,
   "metadata": {
    "collapsed": false
   },
   "outputs": [],
   "source": [
    "df"
   ]
  },
  {
   "cell_type": "code",
   "execution_count": 253,
   "metadata": {
    "collapsed": false
   },
   "outputs": [],
   "source": [
    "\n",
    "def analyser(winTitle):\n",
    "    \n",
    "    '''\n",
    "    takes window title input and returns average \n",
    "    compensation during stimulus period for each speed as a df\n",
    "    '''\n",
    "    #unknown rare bug, shabby fix\n",
    "    df.trajectory__impose[0]=0\n",
    "    \n",
    "    impose=df.trajectory__impose.copy()\n",
    "    impose[df.trajectory__impose==0]=1 #replace impose zero with one fordiv by zero\n",
    "    compensation=df.trajectory__imposeResponse/impose\n",
    "    df.trajectory__imposeResponseSmooth=pd.rolling_mean(df.trajectory__imposeResponse,window=165)\n",
    "    compensationSmooth=df.trajectory__imposeResponseSmooth/impose\n",
    "\n",
    "    cp = pd.DataFrame(index=compensation.index,columns=['a'])\n",
    "\n",
    "    #flips are position where there is a rise or fall\n",
    "    flips=np.sign(np.diff(df.trajectory__impose))\n",
    "\n",
    "    #impose is impose df without first element\n",
    "    impose=df.trajectory__impose.drop(df.trajectory__impose.index[0])\n",
    "\n",
    "    #cw is clockWise, ccw is Counter clockwise\n",
    "    #start and stop are positions where the impose starts or stops\n",
    "    #start(stop) is zero everywhere except when there is the respective start(stop) event\n",
    "    ccwStart=np.logical_and((flips==1) , (impose>0))\n",
    "    ccwStop=np.logical_and((flips==-1) , (impose==0))\n",
    "    cwStart=np.logical_and((flips==-1) , (impose<0))\n",
    "    cwStop=np.logical_and((flips==1) , (impose==0))\n",
    "\n",
    "#     plt.plot(np.array(impose),'r')\n",
    "#     plt.plot(np.array(flips),'g')\n",
    "#     plt.plot(np.array(ccwStart)*1,'b')\n",
    "#     plt.plot(np.array(ccwStop)*1,'k')\n",
    "#     plt.plot(np.array(cwStart)*1,'m')\n",
    "#     plt.plot(np.array(cwStop)*1,'y')\n",
    "#     print ccwStart.shape,ccwStop.shape\n",
    "#     print cwStart.shape,cwStop.shape\n",
    "#     plt.show()\n",
    "\n",
    "    #(c)cwStart(stop)Index is just those positions where flips occured\n",
    "\n",
    "    ccwStartIndex= ccwStart[ccwStart==1]\n",
    "    cwStartIndex= cwStart[cwStart==1]\n",
    "    ccwStopIndex= ccwStop[ccwStop==1]\n",
    "    cwStopIndex= cwStop[cwStop==1]\n",
    "#     print ccwStartIndex.shape,ccwStopIndex.shape\n",
    "#     print cwStartIndex.shape,cwStopIndex.shape\n",
    "\n",
    "#     print ccwStartIndex,ccwStopIndex\n",
    "#     print cwStartIndex,cwStopIndex\n",
    "\n",
    "\n",
    "    #compensationMean is a df who is zero when impose is false, \n",
    "    # and has mean value of compensation during the corresponding impose\n",
    "    compensationMean = pd.DataFrame(index=compensation.index,columns=['mean']) #empty df with same index\n",
    "\n",
    "    # print compensation\n",
    "    def compMean(start,stop,compIn,compOut):\n",
    "        consol=pd.DataFrame(columns=['fly','gain','impose','compensation'])\n",
    "\n",
    "\n",
    "        print \"calculating Mean\"\n",
    "        #if there are more starts than stop because of abrupt ending while recording\n",
    "        #remove the last start event\n",
    "        \n",
    "        #remove the last events to remove noise\n",
    "        start=start[:-1]\n",
    "        stop=stop[:-1]\n",
    "\n",
    "        try: \n",
    "            assert len(start)==len(stop)\n",
    "        except AssertionError:\n",
    "            print 'assertion error'\n",
    "            start=start[:-1] \n",
    "\n",
    "        for i in range(len(stop)):\n",
    "#             print \"impose is\",df.trajectory__impose[start.index[i]]\n",
    "#             print \"gain is\",df.trajectory__gain[start.index[i]]\n",
    "\n",
    "\n",
    "#             print \"i mean is\",compIn.ix[start.index[i]:stop.index[i]].mean()\n",
    "            currCompensationMean=compIn.ix[start.index[i]:stop.index[i]].mean()\n",
    "            compOut.ix[start.index[i]:stop.index[i]]=currCompensationMean\n",
    "            curr=pd.DataFrame([{'fly':parameters['fly'],\n",
    "                                                 \"gain\":df.trajectory__gain[start.index[i]],\n",
    "                                                 \"impose\":df.trajectory__impose[start.index[i]],\n",
    "                                                 'compensation':currCompensationMean}])\n",
    "            consol=consol.append(curr,ignore_index=True)        \n",
    "        cols=['fly','gain','impose','compensation']\n",
    "        consol=consol[cols]\n",
    "#         print \"total measn were\",i+1\n",
    "        return consol\n",
    "\n",
    "    cw=compMean(cwStartIndex,cwStopIndex,compensation,cp)\n",
    "    ccw=compMean(ccwStartIndex,ccwStopIndex,compensation,cp)\n",
    "    \n",
    "    \n",
    "    \n",
    "    plt.plot(df.trajectory__imposeResponseSmooth,c=(0,0,1,0.2),label='imposeResponseSmooth')\n",
    "#     plt.plot(compensationSmooth,c=(1,0,0,0.6),label='compensationSmooth')\n",
    "    plt.plot(df.trajectory__impose,label='impose')\n",
    "    plt.plot(cp,'g',label='compensationMean')\n",
    "    plt.axhline(y=1)\n",
    "    plt.title(winTitle)\n",
    "    plt.legend()\n",
    "    plt.show()\n",
    "    \n",
    "    return ccw, cw\n"
   ]
  },
  {
   "cell_type": "code",
   "execution_count": 584,
   "metadata": {
    "collapsed": false
   },
   "outputs": [],
   "source": [
    "\n",
    "def analyser2(winTitle):\n",
    "    \n",
    "    '''\n",
    "    takes window title input and returns average \n",
    "    compensation during stimulus period for each speed as a df\n",
    "    '''\n",
    "    #unknown rare bug, shabby fix\n",
    "    df.trajectory__impose[0]=0\n",
    "    \n",
    "    impose=df.trajectory__impose.copy()\n",
    "    impose[df.trajectory__impose==0]=1 #replace impose zero with one fordiv by zero\n",
    "    imposeSign=np.sign(impose)\n",
    "#     imposeSign[imposeSign==0]=1\n",
    "#     compensation=(df.trajectory__imposeResponse-df.trajectory__impose)#*imposeSign\n",
    "#     compensation=(df.trajectory__imposeResponse-df.trajectory__impose)*imposeSign/abs(impose)\n",
    "    compensation=(df.trajectory__impose-df.trajectory__imposeResponse)\n",
    "\n",
    "\n",
    "    \n",
    "    df.trajectory__imposeResponseSmooth=pd.rolling_mean(df.trajectory__imposeResponse,window=10)\n",
    "    compensationSmooth=df.trajectory__impose-df.trajectory__imposeResponseSmooth\n",
    "\n",
    "    cp = pd.DataFrame(index=compensation.index,columns=['a'])\n",
    "\n",
    "    #flips are position where there is a rise or fall\n",
    "    flips=np.sign(np.diff(df.trajectory__impose))\n",
    "\n",
    "    #impose is impose df without first element\n",
    "    impose=df.trajectory__impose.drop(df.trajectory__impose.index[0])\n",
    "\n",
    "    #cw is clockWise, ccw is Counter clockwise\n",
    "    #start and stop are positions where the impose starts or stops\n",
    "    #start(stop) is zero everywhere except when there is the respective start(stop) event\n",
    "    ccwStart=np.logical_and((flips==1) , (impose>0))\n",
    "    ccwStop=np.logical_and((flips==-1) , (impose==0))\n",
    "    cwStart=np.logical_and((flips==-1) , (impose<0))\n",
    "    cwStop=np.logical_and((flips==1) , (impose==0))\n",
    "\n",
    "#     plt.plot(np.array(impose),'r')\n",
    "#     plt.plot(np.array(flips),'g')\n",
    "#     plt.plot(np.array(ccwStart)*1,'b')\n",
    "#     plt.plot(np.array(ccwStop)*1,'k')\n",
    "#     plt.plot(np.array(cwStart)*1,'m')\n",
    "#     plt.plot(np.array(cwStop)*1,'y')\n",
    "#     print ccwStart.shape,ccwStop.shape\n",
    "#     print cwStart.shape,cwStop.shape\n",
    "#     plt.show()\n",
    "\n",
    "    #(c)cwStart(stop)Index is just those positions where flips occured\n",
    "\n",
    "    ccwStartIndex= ccwStart[ccwStart==1]\n",
    "    cwStartIndex= cwStart[cwStart==1]\n",
    "    ccwStopIndex= ccwStop[ccwStop==1]\n",
    "    cwStopIndex= cwStop[cwStop==1]\n",
    "#     print ccwStartIndex.shape,ccwStopIndex.shape\n",
    "#     print cwStartIndex.shape,cwStopIndex.shape\n",
    "\n",
    "#     print ccwStartIndex,ccwStopIndex\n",
    "#     print cwStartIndex,cwStopIndex\n",
    "\n",
    "\n",
    "    #compensationMean is a df who is zero when impose is false, \n",
    "    # and has mean value of compensation during the corresponding impose\n",
    "    compensationMean = pd.DataFrame(index=compensation.index,columns=['mean']) #empty df with same index\n",
    "\n",
    "    # print compensation\n",
    "    def compMean(start,stop,compIn,compOut):\n",
    "        consol=pd.DataFrame(columns=['fly','gain','impose','compensation','error'])\n",
    "\n",
    "\n",
    "#         print \"calculating Mean\"\n",
    "        #if there are more starts than stop because of abrupt ending while recording\n",
    "        #remove the last start event\n",
    "        \n",
    "        #remove the last events to remove noise\n",
    "        start=start[:-1]\n",
    "        stop=stop[:-1]\n",
    "\n",
    "        try: \n",
    "            assert len(start)==len(stop)\n",
    "        except AssertionError:\n",
    "#             print 'assertion error'\n",
    "            start=start[:-1] \n",
    "\n",
    "        for i in range(len(stop)):\n",
    "#             print \"impose is\",df.trajectory__impose[start.index[i]]\n",
    "#             print \"gain is\",df.trajectory__gain[start.index[i]]\n",
    "\n",
    "\n",
    "#             print \"i mean is\",compIn.ix[start.index[i]:stop.index[i]].mean()\n",
    "            currCompensationMean=compIn.ix[start.index[i]:stop.index[i]].mean()\n",
    "            currErrorMean=compIn.ix[start.index[i]:stop.index[i]].std()\n",
    "        \n",
    "            compOut.ix[start.index[i]:stop.index[i]]=currCompensationMean\n",
    "            curr=pd.DataFrame([{'fly':parameters['fly'],\n",
    "                                                 \"gain\":df.trajectory__gain[start.index[i]],\n",
    "                                                 \"impose\":df.trajectory__impose[start.index[i]],\n",
    "                                                 'compensation':currCompensationMean,\"error\":currErrorMean}])\n",
    "            consol=consol.append(curr,ignore_index=True)        \n",
    "        cols=['fly','gain','impose','compensation','error']\n",
    "        consol=consol[cols]\n",
    "#         print \"total measn were\",i+1\n",
    "        return consol\n",
    "\n",
    "    cw=compMean(cwStartIndex,cwStopIndex,compensation,cp)\n",
    "    ccw=compMean(ccwStartIndex,ccwStopIndex,compensation,cp)\n",
    "    \n",
    "    \n",
    "#     plt.figure()\n",
    "#     plt.plot(df.trajectory__imposeResponseSmooth,c=(0,0,0.7,0.3),lw=2,label='imposeResponseSmooth')\n",
    "# #     plt.plot(df.trajectory__imposeResponse,c=(0,0,1,0.2),label='imposeResponse')\n",
    "#     plt.plot(compensationSmooth,c=(1,0,0,0.5),lw=1,label='compensationSmooth')\n",
    "# #     plt.plot(compensation,c=(1,0,0,0.6),label='compensation')\n",
    "\n",
    "#     plt.plot(df.trajectory__impose,label='impose')\n",
    "#     plt.plot(cp,'g',label='compensationMean',lw=2,alpha=1)\n",
    "# #     plt.axhline(y=1)\n",
    "#     plt.title(winTitle)\n",
    "#     plt.legend()\n",
    "#     plt.show()\n",
    "    \n",
    "    return ccw, cw\n"
   ]
  },
  {
   "cell_type": "code",
   "execution_count": 531,
   "metadata": {
    "collapsed": false,
    "scrolled": true
   },
   "outputs": [
    {
     "name": "stderr",
     "output_type": "stream",
     "text": [
      "/usr/local/lib/python2.7/dist-packages/ipykernel/__main__.py:9: SettingWithCopyWarning: \n",
      "A value is trying to be set on a copy of a slice from a DataFrame\n",
      "\n",
      "See the caveats in the documentation: http://pandas.pydata.org/pandas-docs/stable/indexing.html#indexing-view-versus-copy\n",
      "/usr/local/lib/python2.7/dist-packages/ipykernel/__main__.py:21: FutureWarning: pd.rolling_mean is deprecated for Series and will be removed in a future version, replace with \n",
      "\tSeries.rolling(window=10,center=False).mean()\n"
     ]
    }
   ],
   "source": [
    "fullConsol=pd.DataFrame()\n",
    "ccw,cw=analyser2(Wtitle)\n",
    "fullConsol=fullConsol.append(ccw,ignore_index=True)\n",
    "fullConsol=fullConsol.append(cw,ignore_index=True)\n",
    "# fullConsol"
   ]
  },
  {
   "cell_type": "code",
   "execution_count": 648,
   "metadata": {
    "collapsed": false,
    "scrolled": true
   },
   "outputs": [
    {
     "name": "stdout",
     "output_type": "stream",
     "text": [
      "['/home/rhagoletis/catkin/src/World/ipy_notebooks/impose/fly14/2016-09-04__22:45:50_fly14_impose_quad_00_gain3.5_trial_1_traj.bag_df.pickle', '/home/rhagoletis/catkin/src/World/ipy_notebooks/impose/fly14/2016-09-04__23:37:01_fly14_impose_quad_00_gain7_trial_1_traj.bag_df.pickle', '/home/rhagoletis/catkin/src/World/ipy_notebooks/impose/fly14/2016-09-04__23:53:17_fly14_impose_quad_00_gain14_trial_1_traj.bag_df.pickle', '/home/rhagoletis/catkin/src/World/ipy_notebooks/impose/fly14/2016-09-05__20:54:12_fly14_impose_quad_00_gain3.5_trial_1_traj.bag_df.pickle', '/home/rhagoletis/catkin/src/World/ipy_notebooks/impose/fly14/2016-09-05__21:34:09_fly14_impose_quad_00_gain3_trial_1_traj.bag_df.pickle', '/home/rhagoletis/catkin/src/World/ipy_notebooks/impose/fly14/2016-09-05__21:36:49_fly14_impose_quad_00_gain3_trial_1_traj.bag_df.pickle', '/home/rhagoletis/catkin/src/World/ipy_notebooks/impose/fly14/2016-09-05__23:16:41_fly14_impose_quad_00_gain3.5_trial_1_traj.bag_df.pickle', '/home/rhagoletis/catkin/src/World/ipy_notebooks/impose/fly14/2016-09-05__23:32:19_fly14_impose_quad_00_gain7_trial_1_traj.bag_df.pickle', '/home/rhagoletis/catkin/src/World/ipy_notebooks/impose/fly14/2016-09-05__23:46:55_fly14_impose_quad_00_gain14_trial_1_traj.bag_df.pickle', '/home/rhagoletis/catkin/src/World/ipy_notebooks/impose/fly14/2016-09-05__23:57:39_fly14_impose_quad_00_gain10.5_trial_1_traj.bag_df.pickle'] \n",
      "\n",
      "\n",
      "\n",
      "currentl;y analysisnh /home/rhagoletis/catkin/src/World/ipy_notebooks/impose/fly14/2016-09-04__22:45:50_fly14_impose_quad_00_gain3.5_trial_1_traj.bag_df.pickle\n",
      "Elapsed time: 2.293475 seconds.\n",
      "\n",
      "2016-09-04__22:45:50_fly14_impose_quad_00_gain3.5_trial_1_traj.bag_df.pickle\n",
      "\n",
      "parameter keys length are 106\n"
     ]
    },
    {
     "name": "stderr",
     "output_type": "stream",
     "text": [
      "/usr/local/lib/python2.7/dist-packages/ipykernel/__main__.py:9: SettingWithCopyWarning: \n",
      "A value is trying to be set on a copy of a slice from a DataFrame\n",
      "\n",
      "See the caveats in the documentation: http://pandas.pydata.org/pandas-docs/stable/indexing.html#indexing-view-versus-copy\n",
      "/usr/local/lib/python2.7/dist-packages/ipykernel/__main__.py:21: FutureWarning: pd.rolling_mean is deprecated for Series and will be removed in a future version, replace with \n",
      "\tSeries.rolling(window=10,center=False).mean()\n"
     ]
    },
    {
     "name": "stdout",
     "output_type": "stream",
     "text": [
      "\n",
      "\n",
      "currentl;y analysisnh /home/rhagoletis/catkin/src/World/ipy_notebooks/impose/fly14/2016-09-04__23:37:01_fly14_impose_quad_00_gain7_trial_1_traj.bag_df.pickle\n",
      "Elapsed time: 2.843155 seconds.\n",
      "\n",
      "2016-09-04__23:37:01_fly14_impose_quad_00_gain7_trial_1_traj.bag_df.pickle\n",
      "\n",
      "parameter keys length are 106\n",
      "\n",
      "\n",
      "currentl;y analysisnh /home/rhagoletis/catkin/src/World/ipy_notebooks/impose/fly14/2016-09-04__23:53:17_fly14_impose_quad_00_gain14_trial_1_traj.bag_df.pickle\n",
      "Elapsed time: 1.820841 seconds.\n",
      "\n",
      "2016-09-04__23:53:17_fly14_impose_quad_00_gain14_trial_1_traj.bag_df.pickle\n",
      "\n",
      "parameter keys length are 106\n",
      "\n",
      "\n",
      "currentl;y analysisnh /home/rhagoletis/catkin/src/World/ipy_notebooks/impose/fly14/2016-09-05__20:54:12_fly14_impose_quad_00_gain3.5_trial_1_traj.bag_df.pickle\n",
      "Elapsed time: 0.469094 seconds.\n",
      "\n",
      "2016-09-05__20:54:12_fly14_impose_quad_00_gain3.5_trial_1_traj.bag_df.pickle\n",
      "\n",
      "parameter keys length are 106\n",
      "\n",
      "\n",
      "currentl;y analysisnh /home/rhagoletis/catkin/src/World/ipy_notebooks/impose/fly14/2016-09-05__21:34:09_fly14_impose_quad_00_gain3_trial_1_traj.bag_df.pickle\n",
      "Elapsed time: 0.454929 seconds.\n",
      "\n",
      "2016-09-05__21:34:09_fly14_impose_quad_00_gain3_trial_1_traj.bag_df.pickle\n",
      "\n",
      "parameter keys length are 106\n",
      "\n",
      "\n",
      "currentl;y analysisnh /home/rhagoletis/catkin/src/World/ipy_notebooks/impose/fly14/2016-09-05__21:36:49_fly14_impose_quad_00_gain3_trial_1_traj.bag_df.pickle\n",
      "Elapsed time: 2.022513 seconds.\n",
      "\n",
      "2016-09-05__21:36:49_fly14_impose_quad_00_gain3_trial_1_traj.bag_df.pickle\n",
      "\n",
      "parameter keys length are 106\n",
      "\n",
      "\n",
      "currentl;y analysisnh /home/rhagoletis/catkin/src/World/ipy_notebooks/impose/fly14/2016-09-05__23:16:41_fly14_impose_quad_00_gain3.5_trial_1_traj.bag_df.pickle\n",
      "Elapsed time: 2.881100 seconds.\n",
      "\n",
      "2016-09-05__23:16:41_fly14_impose_quad_00_gain3.5_trial_1_traj.bag_df.pickle\n",
      "\n",
      "parameter keys length are 106\n",
      "\n",
      "\n",
      "currentl;y analysisnh /home/rhagoletis/catkin/src/World/ipy_notebooks/impose/fly14/2016-09-05__23:32:19_fly14_impose_quad_00_gain7_trial_1_traj.bag_df.pickle\n",
      "Elapsed time: 2.849603 seconds.\n",
      "\n",
      "2016-09-05__23:32:19_fly14_impose_quad_00_gain7_trial_1_traj.bag_df.pickle\n",
      "\n",
      "parameter keys length are 106\n",
      "\n",
      "\n",
      "currentl;y analysisnh /home/rhagoletis/catkin/src/World/ipy_notebooks/impose/fly14/2016-09-05__23:46:55_fly14_impose_quad_00_gain14_trial_1_traj.bag_df.pickle\n",
      "Elapsed time: 2.576885 seconds.\n",
      "\n",
      "2016-09-05__23:46:55_fly14_impose_quad_00_gain14_trial_1_traj.bag_df.pickle\n",
      "\n",
      "parameter keys length are 106\n",
      "\n",
      "\n",
      "currentl;y analysisnh /home/rhagoletis/catkin/src/World/ipy_notebooks/impose/fly14/2016-09-05__23:57:39_fly14_impose_quad_00_gain10.5_trial_1_traj.bag_df.pickle\n",
      "Elapsed time: 1.578869 seconds.\n",
      "\n",
      "2016-09-05__23:57:39_fly14_impose_quad_00_gain10.5_trial_1_traj.bag_df.pickle\n",
      "\n",
      "parameter keys length are 106\n"
     ]
    }
   ],
   "source": [
    "'''Load a dataframe from pickle and analyse impose compensation'''\n",
    "defaultPath=\"/home/rhagoletis/catkin/src/beginner/scripts/panda/world/bags/\"\n",
    "paths=easygui.fileopenbox(title=\"Bags to Dataframes\"\n",
    "                          ,default=defaultPath,\n",
    "                          multiple=True,filetypes=[\"*df.pickle\"])\n",
    "# paths=['/home/rhagoletis/catkin/src/World/ipy_notebooks/impose/fly13/2016-09-03__00:08:57_fly13_quad_00_gain3.5_trial_1_traj.bag_df.pickle'] \n",
    "# paths=['/home/rhagoletis/catkin/src/World/ipy_notebooks/impose/fly13/2016-09-03__00:08:57_fly13_quad_00_gain3.5_trial_1_traj.bag_df.pickle', '/home/rhagoletis/catkin/src/World/ipy_notebooks/impose/fly13/2016-09-03__00:23:58_fly13_quad_00_gain7_trial_1_traj.bag_df.pickle', '/home/rhagoletis/catkin/src/World/ipy_notebooks/impose/fly13/2016-09-03__01:03:45_fly13_quad_00_gain10.5_trial_1_traj.bag_df.pickle', '/home/rhagoletis/catkin/src/World/ipy_notebooks/impose/fly13/2016-09-03__01:17:49_fly13_quad_00_gain14_trial_1_traj.bag_df.pickle', '/home/rhagoletis/catkin/src/World/ipy_notebooks/impose/fly13/2016-09-03__01:40:40_fly13_quad_00_gain17.5_trial_1_traj.bag_df.pickle', '/home/rhagoletis/catkin/src/World/ipy_notebooks/impose/fly13/2016-09-03__01:52:56_fly13_quad_00_gain21_trial_1_traj.bag_df.pickle', '/home/rhagoletis/catkin/src/World/ipy_notebooks/impose/fly13/2016-09-03__02:10:40_fly13_quad_00_gain28_trial_1_traj.bag_df.pickle']\n",
    "# paths=['/home/rhagoletis/catkin/src/World/ipy_notebooks/impose/fly13/2016-09-03__00:08:57_fly13_quad_00_gain3.5_trial_1_traj.bag_df.pickle'] \n",
    "fullConsol=pd.DataFrame()\n",
    "print paths, \"\\n\"\n",
    "for path in paths:\n",
    "    \n",
    "    tic()\n",
    "    print \"\\n\\ncurrentl;y analysisnh\",path\n",
    "    # picklepath=path+\"_df.pickle\"\n",
    "    data=depickler(path)\n",
    "    df=data[\"df\"]\n",
    "#     parameters=data[\"metadata\"]['meta']\n",
    "    parameters=data[\"metadata\"]['parameters']\n",
    "\n",
    "    toc()\n",
    "\n",
    "    Wtitle=path.split('/')[-1]\n",
    "    print Wtitle\n",
    "    \n",
    "#     print \"parameter keys are\", parameters.keys()\n",
    "    print \"\\nparameter keys length are\", len(parameters.keys())\n",
    "\n",
    "    df.trajectory__imposeResponse.plot(title=path.split('/')[-1],label=\"impose response\")\n",
    "    df.trajectory__impose.plot(title=path.split('/')[-1],label=\"impose\")\n",
    "    df.trajectory__compensation.plot(title=path.split('/')[-1],label=\"impose\")\n",
    "\n",
    "#     plt.show()\n",
    "    \n",
    "    ccw,cw=analyser2(Wtitle)\n",
    "    fullConsol=fullConsol.append(ccw,ignore_index=True)\n",
    "    fullConsol=fullConsol.append(cw,ignore_index=True)\n",
    "\n",
    "# fullConsol[\"compensation\"]=-fullConsol[\"compensation\"]\n",
    "\n",
    "# print fullConsol"
   ]
  },
  {
   "cell_type": "code",
   "execution_count": 649,
   "metadata": {
    "collapsed": false
   },
   "outputs": [
    {
     "name": "stdout",
     "output_type": "stream",
     "text": [
      "save path is /home/rhagoletis/catkin/src/World/ipy_notebooks/impose/fly14/14_fly14_consolidatedDF.pickle\n"
     ]
    }
   ],
   "source": [
    "def consolidater():\n",
    "    path=easygui.filesavebox()\n",
    "    path+='_'+data['metadata']['parameters']['fly']+'_'+'consolidatedDF.pickle'\n",
    "\n",
    "    print \"save path is\",path\n",
    "    dataSet=dict(metadata=data['metadata'],fullConsol=fullConsol)\n",
    "    pickler(dataSet,path)\n",
    "consolidater()"
   ]
  },
  {
   "cell_type": "code",
   "execution_count": 601,
   "metadata": {
    "collapsed": false
   },
   "outputs": [
    {
     "name": "stdout",
     "output_type": "stream",
     "text": [
      "file path is /home/rhagoletis/catkin/src/World/ipy_notebooks/impose/fly9/9_fly9_consolidatedDF.pickle\n"
     ]
    }
   ],
   "source": [
    "def unConsolidater(path=''):\n",
    "    if path is \"\":\n",
    "        path=easygui.fileopenbox()\n",
    "\n",
    "    print \"file path is\",path\n",
    "    dataset=depickler(path)\n",
    "    return dataset[\"metadata\"], dataset[\"fullConsol\"]\n",
    "met,fullConsol=unConsolidater()"
   ]
  },
  {
   "cell_type": "code",
   "execution_count": 461,
   "metadata": {
    "collapsed": false
   },
   "outputs": [
    {
     "name": "stdout",
     "output_type": "stream",
     "text": [
      "['/home']\n"
     ]
    }
   ],
   "source": [
    "import glob\n",
    "print glob.glob('/home')"
   ]
  },
  {
   "cell_type": "code",
   "execution_count": 650,
   "metadata": {
    "collapsed": false
   },
   "outputs": [
    {
     "data": {
      "text/html": [
       "<div>\n",
       "<table border=\"1\" class=\"dataframe\">\n",
       "  <thead>\n",
       "    <tr style=\"text-align: right;\">\n",
       "      <th></th>\n",
       "      <th>fly</th>\n",
       "      <th>gain</th>\n",
       "      <th>impose</th>\n",
       "      <th>compensation</th>\n",
       "      <th>error</th>\n",
       "    </tr>\n",
       "  </thead>\n",
       "  <tbody>\n",
       "    <tr>\n",
       "      <th>0</th>\n",
       "      <td>fly14</td>\n",
       "      <td>3.5</td>\n",
       "      <td>0.25</td>\n",
       "      <td>-0.094407</td>\n",
       "      <td>0.589985</td>\n",
       "    </tr>\n",
       "    <tr>\n",
       "      <th>1</th>\n",
       "      <td>fly14</td>\n",
       "      <td>3.5</td>\n",
       "      <td>0.50</td>\n",
       "      <td>-0.090531</td>\n",
       "      <td>0.477979</td>\n",
       "    </tr>\n",
       "    <tr>\n",
       "      <th>2</th>\n",
       "      <td>fly14</td>\n",
       "      <td>3.5</td>\n",
       "      <td>1.00</td>\n",
       "      <td>0.091333</td>\n",
       "      <td>0.541617</td>\n",
       "    </tr>\n",
       "    <tr>\n",
       "      <th>3</th>\n",
       "      <td>fly14</td>\n",
       "      <td>3.5</td>\n",
       "      <td>2.00</td>\n",
       "      <td>0.697451</td>\n",
       "      <td>0.721469</td>\n",
       "    </tr>\n",
       "    <tr>\n",
       "      <th>4</th>\n",
       "      <td>fly14</td>\n",
       "      <td>3.5</td>\n",
       "      <td>4.00</td>\n",
       "      <td>2.293460</td>\n",
       "      <td>1.019007</td>\n",
       "    </tr>\n",
       "    <tr>\n",
       "      <th>5</th>\n",
       "      <td>fly14</td>\n",
       "      <td>3.5</td>\n",
       "      <td>8.00</td>\n",
       "      <td>7.028295</td>\n",
       "      <td>0.776628</td>\n",
       "    </tr>\n",
       "    <tr>\n",
       "      <th>6</th>\n",
       "      <td>fly14</td>\n",
       "      <td>3.5</td>\n",
       "      <td>8.00</td>\n",
       "      <td>7.578070</td>\n",
       "      <td>0.593580</td>\n",
       "    </tr>\n",
       "    <tr>\n",
       "      <th>7</th>\n",
       "      <td>fly14</td>\n",
       "      <td>3.5</td>\n",
       "      <td>4.00</td>\n",
       "      <td>2.228711</td>\n",
       "      <td>1.082816</td>\n",
       "    </tr>\n",
       "    <tr>\n",
       "      <th>8</th>\n",
       "      <td>fly14</td>\n",
       "      <td>3.5</td>\n",
       "      <td>2.00</td>\n",
       "      <td>0.477141</td>\n",
       "      <td>0.629332</td>\n",
       "    </tr>\n",
       "    <tr>\n",
       "      <th>9</th>\n",
       "      <td>fly14</td>\n",
       "      <td>3.5</td>\n",
       "      <td>1.00</td>\n",
       "      <td>0.160154</td>\n",
       "      <td>0.463322</td>\n",
       "    </tr>\n",
       "    <tr>\n",
       "      <th>10</th>\n",
       "      <td>fly14</td>\n",
       "      <td>3.5</td>\n",
       "      <td>0.50</td>\n",
       "      <td>-0.043514</td>\n",
       "      <td>0.487986</td>\n",
       "    </tr>\n",
       "    <tr>\n",
       "      <th>11</th>\n",
       "      <td>fly14</td>\n",
       "      <td>3.5</td>\n",
       "      <td>0.25</td>\n",
       "      <td>0.053490</td>\n",
       "      <td>0.432407</td>\n",
       "    </tr>\n",
       "    <tr>\n",
       "      <th>12</th>\n",
       "      <td>fly14</td>\n",
       "      <td>3.5</td>\n",
       "      <td>0.25</td>\n",
       "      <td>-0.068566</td>\n",
       "      <td>0.398484</td>\n",
       "    </tr>\n",
       "    <tr>\n",
       "      <th>13</th>\n",
       "      <td>fly14</td>\n",
       "      <td>3.5</td>\n",
       "      <td>0.50</td>\n",
       "      <td>0.072821</td>\n",
       "      <td>0.358572</td>\n",
       "    </tr>\n",
       "    <tr>\n",
       "      <th>14</th>\n",
       "      <td>fly14</td>\n",
       "      <td>3.5</td>\n",
       "      <td>1.00</td>\n",
       "      <td>0.020179</td>\n",
       "      <td>0.381080</td>\n",
       "    </tr>\n",
       "    <tr>\n",
       "      <th>15</th>\n",
       "      <td>fly14</td>\n",
       "      <td>3.5</td>\n",
       "      <td>2.00</td>\n",
       "      <td>0.575437</td>\n",
       "      <td>0.590511</td>\n",
       "    </tr>\n",
       "    <tr>\n",
       "      <th>16</th>\n",
       "      <td>fly14</td>\n",
       "      <td>3.5</td>\n",
       "      <td>4.00</td>\n",
       "      <td>1.802484</td>\n",
       "      <td>0.863250</td>\n",
       "    </tr>\n",
       "    <tr>\n",
       "      <th>17</th>\n",
       "      <td>fly14</td>\n",
       "      <td>3.5</td>\n",
       "      <td>8.00</td>\n",
       "      <td>7.623742</td>\n",
       "      <td>0.535243</td>\n",
       "    </tr>\n",
       "    <tr>\n",
       "      <th>18</th>\n",
       "      <td>fly14</td>\n",
       "      <td>3.5</td>\n",
       "      <td>8.00</td>\n",
       "      <td>7.439020</td>\n",
       "      <td>0.595823</td>\n",
       "    </tr>\n",
       "    <tr>\n",
       "      <th>19</th>\n",
       "      <td>fly14</td>\n",
       "      <td>3.5</td>\n",
       "      <td>4.00</td>\n",
       "      <td>1.959414</td>\n",
       "      <td>0.934556</td>\n",
       "    </tr>\n",
       "    <tr>\n",
       "      <th>20</th>\n",
       "      <td>fly14</td>\n",
       "      <td>3.5</td>\n",
       "      <td>2.00</td>\n",
       "      <td>0.436976</td>\n",
       "      <td>0.674852</td>\n",
       "    </tr>\n",
       "    <tr>\n",
       "      <th>21</th>\n",
       "      <td>fly14</td>\n",
       "      <td>3.5</td>\n",
       "      <td>1.00</td>\n",
       "      <td>0.000902</td>\n",
       "      <td>0.606698</td>\n",
       "    </tr>\n",
       "    <tr>\n",
       "      <th>22</th>\n",
       "      <td>fly14</td>\n",
       "      <td>3.5</td>\n",
       "      <td>0.50</td>\n",
       "      <td>0.036759</td>\n",
       "      <td>0.425570</td>\n",
       "    </tr>\n",
       "    <tr>\n",
       "      <th>23</th>\n",
       "      <td>fly14</td>\n",
       "      <td>3.5</td>\n",
       "      <td>0.25</td>\n",
       "      <td>-0.022827</td>\n",
       "      <td>0.403762</td>\n",
       "    </tr>\n",
       "    <tr>\n",
       "      <th>24</th>\n",
       "      <td>fly14</td>\n",
       "      <td>3.5</td>\n",
       "      <td>0.25</td>\n",
       "      <td>0.011345</td>\n",
       "      <td>0.398091</td>\n",
       "    </tr>\n",
       "    <tr>\n",
       "      <th>25</th>\n",
       "      <td>fly14</td>\n",
       "      <td>3.5</td>\n",
       "      <td>0.50</td>\n",
       "      <td>0.091612</td>\n",
       "      <td>0.420350</td>\n",
       "    </tr>\n",
       "    <tr>\n",
       "      <th>26</th>\n",
       "      <td>fly14</td>\n",
       "      <td>3.5</td>\n",
       "      <td>1.00</td>\n",
       "      <td>0.025981</td>\n",
       "      <td>0.504186</td>\n",
       "    </tr>\n",
       "    <tr>\n",
       "      <th>27</th>\n",
       "      <td>fly14</td>\n",
       "      <td>3.5</td>\n",
       "      <td>2.00</td>\n",
       "      <td>0.479374</td>\n",
       "      <td>0.632813</td>\n",
       "    </tr>\n",
       "    <tr>\n",
       "      <th>28</th>\n",
       "      <td>fly14</td>\n",
       "      <td>3.5</td>\n",
       "      <td>4.00</td>\n",
       "      <td>1.969093</td>\n",
       "      <td>0.797414</td>\n",
       "    </tr>\n",
       "    <tr>\n",
       "      <th>29</th>\n",
       "      <td>fly14</td>\n",
       "      <td>3.5</td>\n",
       "      <td>8.00</td>\n",
       "      <td>7.279935</td>\n",
       "      <td>0.597188</td>\n",
       "    </tr>\n",
       "    <tr>\n",
       "      <th>...</th>\n",
       "      <td>...</td>\n",
       "      <td>...</td>\n",
       "      <td>...</td>\n",
       "      <td>...</td>\n",
       "      <td>...</td>\n",
       "    </tr>\n",
       "    <tr>\n",
       "      <th>583</th>\n",
       "      <td>fly14</td>\n",
       "      <td>10.5</td>\n",
       "      <td>4.00</td>\n",
       "      <td>1.030723</td>\n",
       "      <td>1.996380</td>\n",
       "    </tr>\n",
       "    <tr>\n",
       "      <th>584</th>\n",
       "      <td>fly14</td>\n",
       "      <td>10.5</td>\n",
       "      <td>2.00</td>\n",
       "      <td>0.406054</td>\n",
       "      <td>1.308594</td>\n",
       "    </tr>\n",
       "    <tr>\n",
       "      <th>585</th>\n",
       "      <td>fly14</td>\n",
       "      <td>10.5</td>\n",
       "      <td>1.00</td>\n",
       "      <td>-0.041513</td>\n",
       "      <td>1.448173</td>\n",
       "    </tr>\n",
       "    <tr>\n",
       "      <th>586</th>\n",
       "      <td>fly14</td>\n",
       "      <td>10.5</td>\n",
       "      <td>0.50</td>\n",
       "      <td>0.116120</td>\n",
       "      <td>1.351390</td>\n",
       "    </tr>\n",
       "    <tr>\n",
       "      <th>587</th>\n",
       "      <td>fly14</td>\n",
       "      <td>10.5</td>\n",
       "      <td>0.25</td>\n",
       "      <td>0.106522</td>\n",
       "      <td>1.336801</td>\n",
       "    </tr>\n",
       "    <tr>\n",
       "      <th>588</th>\n",
       "      <td>fly14</td>\n",
       "      <td>10.5</td>\n",
       "      <td>0.25</td>\n",
       "      <td>0.111537</td>\n",
       "      <td>1.312787</td>\n",
       "    </tr>\n",
       "    <tr>\n",
       "      <th>589</th>\n",
       "      <td>fly14</td>\n",
       "      <td>10.5</td>\n",
       "      <td>-0.25</td>\n",
       "      <td>0.225257</td>\n",
       "      <td>1.495750</td>\n",
       "    </tr>\n",
       "    <tr>\n",
       "      <th>590</th>\n",
       "      <td>fly14</td>\n",
       "      <td>10.5</td>\n",
       "      <td>-0.50</td>\n",
       "      <td>-0.159578</td>\n",
       "      <td>1.496130</td>\n",
       "    </tr>\n",
       "    <tr>\n",
       "      <th>591</th>\n",
       "      <td>fly14</td>\n",
       "      <td>10.5</td>\n",
       "      <td>-1.00</td>\n",
       "      <td>-0.255182</td>\n",
       "      <td>1.394476</td>\n",
       "    </tr>\n",
       "    <tr>\n",
       "      <th>592</th>\n",
       "      <td>fly14</td>\n",
       "      <td>10.5</td>\n",
       "      <td>-2.00</td>\n",
       "      <td>-0.028439</td>\n",
       "      <td>1.454388</td>\n",
       "    </tr>\n",
       "    <tr>\n",
       "      <th>593</th>\n",
       "      <td>fly14</td>\n",
       "      <td>10.5</td>\n",
       "      <td>-4.00</td>\n",
       "      <td>-0.629255</td>\n",
       "      <td>2.019988</td>\n",
       "    </tr>\n",
       "    <tr>\n",
       "      <th>594</th>\n",
       "      <td>fly14</td>\n",
       "      <td>10.5</td>\n",
       "      <td>-8.00</td>\n",
       "      <td>-7.782179</td>\n",
       "      <td>2.773054</td>\n",
       "    </tr>\n",
       "    <tr>\n",
       "      <th>595</th>\n",
       "      <td>fly14</td>\n",
       "      <td>10.5</td>\n",
       "      <td>-8.00</td>\n",
       "      <td>-3.691253</td>\n",
       "      <td>2.316828</td>\n",
       "    </tr>\n",
       "    <tr>\n",
       "      <th>596</th>\n",
       "      <td>fly14</td>\n",
       "      <td>10.5</td>\n",
       "      <td>-4.00</td>\n",
       "      <td>-0.447132</td>\n",
       "      <td>1.786226</td>\n",
       "    </tr>\n",
       "    <tr>\n",
       "      <th>597</th>\n",
       "      <td>fly14</td>\n",
       "      <td>10.5</td>\n",
       "      <td>-2.00</td>\n",
       "      <td>-0.470963</td>\n",
       "      <td>1.506731</td>\n",
       "    </tr>\n",
       "    <tr>\n",
       "      <th>598</th>\n",
       "      <td>fly14</td>\n",
       "      <td>10.5</td>\n",
       "      <td>-1.00</td>\n",
       "      <td>-0.216029</td>\n",
       "      <td>1.338980</td>\n",
       "    </tr>\n",
       "    <tr>\n",
       "      <th>599</th>\n",
       "      <td>fly14</td>\n",
       "      <td>10.5</td>\n",
       "      <td>-0.50</td>\n",
       "      <td>-0.026386</td>\n",
       "      <td>1.328846</td>\n",
       "    </tr>\n",
       "    <tr>\n",
       "      <th>600</th>\n",
       "      <td>fly14</td>\n",
       "      <td>10.5</td>\n",
       "      <td>-0.25</td>\n",
       "      <td>-0.014388</td>\n",
       "      <td>1.243786</td>\n",
       "    </tr>\n",
       "    <tr>\n",
       "      <th>601</th>\n",
       "      <td>fly14</td>\n",
       "      <td>10.5</td>\n",
       "      <td>-0.25</td>\n",
       "      <td>-0.002685</td>\n",
       "      <td>1.406468</td>\n",
       "    </tr>\n",
       "    <tr>\n",
       "      <th>602</th>\n",
       "      <td>fly14</td>\n",
       "      <td>10.5</td>\n",
       "      <td>-0.50</td>\n",
       "      <td>-0.000841</td>\n",
       "      <td>1.143143</td>\n",
       "    </tr>\n",
       "    <tr>\n",
       "      <th>603</th>\n",
       "      <td>fly14</td>\n",
       "      <td>10.5</td>\n",
       "      <td>-1.00</td>\n",
       "      <td>-0.109810</td>\n",
       "      <td>1.129806</td>\n",
       "    </tr>\n",
       "    <tr>\n",
       "      <th>604</th>\n",
       "      <td>fly14</td>\n",
       "      <td>10.5</td>\n",
       "      <td>-2.00</td>\n",
       "      <td>-0.362361</td>\n",
       "      <td>1.348551</td>\n",
       "    </tr>\n",
       "    <tr>\n",
       "      <th>605</th>\n",
       "      <td>fly14</td>\n",
       "      <td>10.5</td>\n",
       "      <td>-4.00</td>\n",
       "      <td>-1.534616</td>\n",
       "      <td>2.412926</td>\n",
       "    </tr>\n",
       "    <tr>\n",
       "      <th>606</th>\n",
       "      <td>fly14</td>\n",
       "      <td>10.5</td>\n",
       "      <td>-8.00</td>\n",
       "      <td>-7.927547</td>\n",
       "      <td>3.884469</td>\n",
       "    </tr>\n",
       "    <tr>\n",
       "      <th>607</th>\n",
       "      <td>fly14</td>\n",
       "      <td>10.5</td>\n",
       "      <td>-8.00</td>\n",
       "      <td>-4.489198</td>\n",
       "      <td>2.438195</td>\n",
       "    </tr>\n",
       "    <tr>\n",
       "      <th>608</th>\n",
       "      <td>fly14</td>\n",
       "      <td>10.5</td>\n",
       "      <td>-4.00</td>\n",
       "      <td>-0.663388</td>\n",
       "      <td>1.620786</td>\n",
       "    </tr>\n",
       "    <tr>\n",
       "      <th>609</th>\n",
       "      <td>fly14</td>\n",
       "      <td>10.5</td>\n",
       "      <td>-2.00</td>\n",
       "      <td>-0.147540</td>\n",
       "      <td>1.497521</td>\n",
       "    </tr>\n",
       "    <tr>\n",
       "      <th>610</th>\n",
       "      <td>fly14</td>\n",
       "      <td>10.5</td>\n",
       "      <td>-1.00</td>\n",
       "      <td>-0.352792</td>\n",
       "      <td>1.684701</td>\n",
       "    </tr>\n",
       "    <tr>\n",
       "      <th>611</th>\n",
       "      <td>fly14</td>\n",
       "      <td>10.5</td>\n",
       "      <td>-0.50</td>\n",
       "      <td>-0.018734</td>\n",
       "      <td>1.333844</td>\n",
       "    </tr>\n",
       "    <tr>\n",
       "      <th>612</th>\n",
       "      <td>fly14</td>\n",
       "      <td>10.5</td>\n",
       "      <td>-0.25</td>\n",
       "      <td>0.114257</td>\n",
       "      <td>1.283768</td>\n",
       "    </tr>\n",
       "  </tbody>\n",
       "</table>\n",
       "<p>613 rows × 5 columns</p>\n",
       "</div>"
      ],
      "text/plain": [
       "       fly  gain  impose  compensation     error\n",
       "0    fly14   3.5    0.25     -0.094407  0.589985\n",
       "1    fly14   3.5    0.50     -0.090531  0.477979\n",
       "2    fly14   3.5    1.00      0.091333  0.541617\n",
       "3    fly14   3.5    2.00      0.697451  0.721469\n",
       "4    fly14   3.5    4.00      2.293460  1.019007\n",
       "5    fly14   3.5    8.00      7.028295  0.776628\n",
       "6    fly14   3.5    8.00      7.578070  0.593580\n",
       "7    fly14   3.5    4.00      2.228711  1.082816\n",
       "8    fly14   3.5    2.00      0.477141  0.629332\n",
       "9    fly14   3.5    1.00      0.160154  0.463322\n",
       "10   fly14   3.5    0.50     -0.043514  0.487986\n",
       "11   fly14   3.5    0.25      0.053490  0.432407\n",
       "12   fly14   3.5    0.25     -0.068566  0.398484\n",
       "13   fly14   3.5    0.50      0.072821  0.358572\n",
       "14   fly14   3.5    1.00      0.020179  0.381080\n",
       "15   fly14   3.5    2.00      0.575437  0.590511\n",
       "16   fly14   3.5    4.00      1.802484  0.863250\n",
       "17   fly14   3.5    8.00      7.623742  0.535243\n",
       "18   fly14   3.5    8.00      7.439020  0.595823\n",
       "19   fly14   3.5    4.00      1.959414  0.934556\n",
       "20   fly14   3.5    2.00      0.436976  0.674852\n",
       "21   fly14   3.5    1.00      0.000902  0.606698\n",
       "22   fly14   3.5    0.50      0.036759  0.425570\n",
       "23   fly14   3.5    0.25     -0.022827  0.403762\n",
       "24   fly14   3.5    0.25      0.011345  0.398091\n",
       "25   fly14   3.5    0.50      0.091612  0.420350\n",
       "26   fly14   3.5    1.00      0.025981  0.504186\n",
       "27   fly14   3.5    2.00      0.479374  0.632813\n",
       "28   fly14   3.5    4.00      1.969093  0.797414\n",
       "29   fly14   3.5    8.00      7.279935  0.597188\n",
       "..     ...   ...     ...           ...       ...\n",
       "583  fly14  10.5    4.00      1.030723  1.996380\n",
       "584  fly14  10.5    2.00      0.406054  1.308594\n",
       "585  fly14  10.5    1.00     -0.041513  1.448173\n",
       "586  fly14  10.5    0.50      0.116120  1.351390\n",
       "587  fly14  10.5    0.25      0.106522  1.336801\n",
       "588  fly14  10.5    0.25      0.111537  1.312787\n",
       "589  fly14  10.5   -0.25      0.225257  1.495750\n",
       "590  fly14  10.5   -0.50     -0.159578  1.496130\n",
       "591  fly14  10.5   -1.00     -0.255182  1.394476\n",
       "592  fly14  10.5   -2.00     -0.028439  1.454388\n",
       "593  fly14  10.5   -4.00     -0.629255  2.019988\n",
       "594  fly14  10.5   -8.00     -7.782179  2.773054\n",
       "595  fly14  10.5   -8.00     -3.691253  2.316828\n",
       "596  fly14  10.5   -4.00     -0.447132  1.786226\n",
       "597  fly14  10.5   -2.00     -0.470963  1.506731\n",
       "598  fly14  10.5   -1.00     -0.216029  1.338980\n",
       "599  fly14  10.5   -0.50     -0.026386  1.328846\n",
       "600  fly14  10.5   -0.25     -0.014388  1.243786\n",
       "601  fly14  10.5   -0.25     -0.002685  1.406468\n",
       "602  fly14  10.5   -0.50     -0.000841  1.143143\n",
       "603  fly14  10.5   -1.00     -0.109810  1.129806\n",
       "604  fly14  10.5   -2.00     -0.362361  1.348551\n",
       "605  fly14  10.5   -4.00     -1.534616  2.412926\n",
       "606  fly14  10.5   -8.00     -7.927547  3.884469\n",
       "607  fly14  10.5   -8.00     -4.489198  2.438195\n",
       "608  fly14  10.5   -4.00     -0.663388  1.620786\n",
       "609  fly14  10.5   -2.00     -0.147540  1.497521\n",
       "610  fly14  10.5   -1.00     -0.352792  1.684701\n",
       "611  fly14  10.5   -0.50     -0.018734  1.333844\n",
       "612  fly14  10.5   -0.25      0.114257  1.283768\n",
       "\n",
       "[613 rows x 5 columns]"
      ]
     },
     "execution_count": 650,
     "metadata": {},
     "output_type": "execute_result"
    }
   ],
   "source": [
    "fullConsol"
   ]
  },
  {
   "cell_type": "code",
   "execution_count": 660,
   "metadata": {
    "collapsed": false,
    "scrolled": true
   },
   "outputs": [
    {
     "name": "stdout",
     "output_type": "stream",
     "text": [
      "file path is /home/rhagoletis/catkin/src/World/ipy_notebooks/impose/Consolidated/9_fly9_consolidatedDF.pickle\n",
      "(487, 5)\n",
      "file path is /home/rhagoletis/catkin/src/World/ipy_notebooks/impose/Consolidated/11_fly11_consolidatedDF.pickle\n",
      "(155, 5)\n",
      "file path is /home/rhagoletis/catkin/src/World/ipy_notebooks/impose/Consolidated/12_fly11_consolidatedDF.pickle\n",
      "(175, 5)\n",
      "file path is /home/rhagoletis/catkin/src/World/ipy_notebooks/impose/Consolidated/13_fly13_consolidatedDF.pickle\n",
      "(553, 5)\n",
      "file path is /home/rhagoletis/catkin/src/World/ipy_notebooks/impose/Consolidated/14_fly14_consolidatedDF.pickle\n",
      "(613, 5)\n",
      "cOmplete\n"
     ]
    }
   ],
   "source": [
    "paths =easygui.fileopenbox(multiple=True)\n",
    "fullConsol=pd.DataFrame()\n",
    "for path in paths:\n",
    "    met,fc=unConsolidater(path)\n",
    "    fullConsol=fullConsol.append(fc,ignore_index=True)\n",
    "    print fc.shape\n",
    "print \"cOmplete\"\n"
   ]
  },
  {
   "cell_type": "code",
   "execution_count": 661,
   "metadata": {
    "collapsed": false
   },
   "outputs": [
    {
     "data": {
      "text/plain": [
       "array([u'fly9', u'fly11', u'fly13', u'fly14'], dtype=object)"
      ]
     },
     "execution_count": 661,
     "metadata": {},
     "output_type": "execute_result"
    }
   ],
   "source": [
    "fullConsol.fly.unique()"
   ]
  },
  {
   "cell_type": "code",
   "execution_count": 657,
   "metadata": {
    "collapsed": false
   },
   "outputs": [],
   "source": [
    "fullConsol2=fullConsol[((abs(fullConsol[\"impose\"])>2) &(abs(fullConsol[\"impose\"])<7) &(abs(fullConsol[\"gain\"])>3)  )]\n",
    "# fullConsol2"
   ]
  },
  {
   "cell_type": "code",
   "execution_count": 654,
   "metadata": {
    "collapsed": false
   },
   "outputs": [],
   "source": [
    "# fullConsol[\"compensation\"]=-fullConsol[\"compensation\"]\n",
    "fullConsol[\"compensation\"]=abs(fullConsol[\"compensation\"])\n",
    "fullConsol[\"impose\"]=abs(fullConsol[\"impose\"])\n",
    "\n",
    "\n"
   ]
  },
  {
   "cell_type": "code",
   "execution_count": 658,
   "metadata": {
    "collapsed": false
   },
   "outputs": [],
   "source": [
    "ax=sns.regplot(x=fullConsol2['gain'], y=fullConsol2['error'],x_jitter=.15,scatter_kws={\"s\": 28},label='Maneuverability');\n",
    "ax=sns.regplot(x=fullConsol2['gain'], y=fullConsol2['compensation'],x_jitter=.15,scatter_kws={\"s\": 28},label='Stability',);\n",
    "# ax=sns.regplot(x=fullConsol['gain'], y=fullConsol['compensation'],x_jitter=.15,scatter_kws={\"s\": 28},label='Stability');\n",
    "sns.set(font_scale=1.25)  # crazy big\n",
    "ax.legend()\n",
    "ax.set(xlabel='Gain (165*deg/rad/s)', ylabel='Stability and Maneuverability (rad/s)',title='Tradeoff between Stability and Maneuverability',)\n",
    "pth=path+\"regplot.png\"\n",
    "plt.savefig(pth, dpi=400)\n",
    "\n",
    "# sns.regplot(x=fullConsol['gain'], y=fullConsol['error'],x_jitter=.5);\n",
    "# \n",
    "# sns.lmplot(x=\"total_bill\", y=\"tip\", hue=\"smoker\", data=tips);"
   ]
  },
  {
   "cell_type": "code",
   "execution_count": 655,
   "metadata": {
    "collapsed": false
   },
   "outputs": [],
   "source": [
    "#lm plot of 2 graphs with impose fits\n",
    "\n",
    "ax1=sns.lmplot(x=\"gain\", y=\"error\",x_jitter=.25,scatter_kws={\"s\": 28},hue=\"impose\",data=fullConsol)\n",
    "ax1.set(xlabel='Gain (165*deg/rad/s)', ylabel='S.D. of impose respone (rad/s)',title='Effect of impose speed on Maneuverability',)\n",
    "ax2=sns.lmplot(x=\"gain\", y=\"compensation\",x_jitter=.25,scatter_kws={\"s\": 28},hue=\"impose\",data=fullConsol)\n",
    "ax2.set(xlabel='Gain (165*deg/rad/s)', ylabel='Mean of impose respone (rad/s)',title='Effect of impose speed on Stability',)\n",
    "plt.tight_layout()"
   ]
  },
  {
   "cell_type": "code",
   "execution_count": 595,
   "metadata": {
    "collapsed": false
   },
   "outputs": [
    {
     "data": {
      "text/plain": [
       "[<matplotlib.text.Text at 0x7f33bc8ec190>,\n",
       " <matplotlib.text.Text at 0x7f33be31cd10>,\n",
       " <matplotlib.text.Text at 0x7f33b1f63e90>]"
      ]
     },
     "execution_count": 595,
     "metadata": {},
     "output_type": "execute_result"
    }
   ],
   "source": [
    "ax=sns.regplot(x=\"gain\", y=\"compensation\",data=fullConsol,x_jitter=.25,scatter_kws={\"s\": 28},label='Stability');\n",
    "ax=sns.regplot(x=\"gain\", y=\"error\",data=fullConsol,x_jitter=.25,scatter_kws={\"s\": 28},label='Stability');\n",
    "ax.set(xlabel='Gain (165*deg/rad/s)', ylabel='Stability and Maneuverability (rad/s)',title='Tradeoff between Stability and Maneuverability')\n"
   ]
  },
  {
   "cell_type": "code",
   "execution_count": null,
   "metadata": {
    "collapsed": true
   },
   "outputs": [],
   "source": [
    "import seaborn as sns\n",
    "# sns.set_style(\"whitegrid\")"
   ]
  },
  {
   "cell_type": "code",
   "execution_count": 388,
   "metadata": {
    "collapsed": false
   },
   "outputs": [],
   "source": [
    "plt.figure()\n",
    "\n",
    "# ax = sns.stripplot(hue=fullConsol['impose'].round(1).abs(),   jitter=0.092,\n",
    "#                    y=(1-fullConsol['compensation']),x=fullConsol['gain'],\n",
    "#                    split=True,palette=\"viridis\",linewidth=1)\n",
    "ax = sns.stripplot( jitter=0.092,hue=fullConsol['impose'].round(1).abs(),\n",
    "                   y=(abs(fullConsol['compensation'])),x=fullConsol['gain'],\n",
    "                   split=True,palette=\"viridis\",linewidth=1)\n",
    "for val in np.unique(abs(fullConsol[\"impose\"])):\n",
    "    plt.axhline(val)\n",
    "\n",
    "plt.show()"
   ]
  },
  {
   "cell_type": "code",
   "execution_count": 386,
   "metadata": {
    "collapsed": false
   },
   "outputs": [],
   "source": [
    "#yay, \n",
    "plt.figure()\n",
    "#hue=fullConsol['impose'].round(1).abs(),  \n",
    "ax = sns.stripplot( jitter=0.2,\n",
    "                   y=fullConsol['error'],x=fullConsol['gain'],\n",
    "                   split=True,palette=\"viridis\",linewidth=.5,alpha=0.5)\n",
    "plt.axhline(y=1)\n",
    "\n",
    "plt.show()"
   ]
  },
  {
   "cell_type": "code",
   "execution_count": 383,
   "metadata": {
    "collapsed": true
   },
   "outputs": [],
   "source": [
    "plt.figure()\n",
    "\n",
    "ax = sns.stripplot(x=fullConsol['impose'].round(1).abs(),   jitter=True,\n",
    "                   y=fullConsol['compensation'],hue=fullConsol['gain'],\n",
    "                   split=True,palette=\"viridis\",linewidth=0.5,alpha=0.5)\n",
    "plt.axhline(y=1)\n",
    "\n",
    "plt.show()"
   ]
  },
  {
   "cell_type": "code",
   "execution_count": 73,
   "metadata": {
    "collapsed": true
   },
   "outputs": [],
   "source": [
    "ax = sns.stripplot(x=fullConsol['impose'].round(1).abs(),   jitter=True,\n",
    "                   y=fullConsol['error'],hue=fullConsol['gain'],\n",
    "                   split=True,palette=\"viridis\",linewidth=1)\n",
    "plt.axhline(y=1)\n",
    "\n",
    "plt.show()"
   ]
  },
  {
   "cell_type": "code",
   "execution_count": null,
   "metadata": {
    "collapsed": true
   },
   "outputs": [],
   "source": [
    "# sns.set(style=\"ticks\")\n",
    "sns.set_style(\"whitegrid\")\n",
    "# Draw a nested boxplot to show bills by day and sex\n",
    "sns.violinplot(x=fullConsol['impose'].round(1).abs() ,y=fullConsol[\"compensation\"], \n",
    "            hue=fullConsol[\"gain\"], palette=\"viridis\")\n",
    "# sns.stripplot(x=fullConsol['impose'].round(1).abs() ,y=fullConsol[\"compensation\"], \n",
    "#             hue=fullConsol[\"gain\"], palette=\"viridis\")\n",
    "plt.axhline(y=1)\n",
    "\n",
    "sns.despine(offset=1, trim=True)\n",
    "plt.show()"
   ]
  },
  {
   "cell_type": "code",
   "execution_count": null,
   "metadata": {
    "collapsed": true
   },
   "outputs": [],
   "source": [
    "# sns.set(style=\"ticks\")\n",
    "sns.set_style(\"whitegrid\")\n",
    "# Draw a nested boxplot to show bills by day and sex\n",
    "sns.violinplot(hue=fullConsol['impose'].round(1).abs() ,y=fullConsol[\"compensation\"], \n",
    "            x=fullConsol[\"gain\"], palette=\"viridis\")\n",
    "# sns.stripplot(x=fullConsol['impose'].round(1).abs() ,y=fullConsol[\"compensation\"], \n",
    "#             hue=fullConsol[\"gain\"], palette=\"viridis\")\n",
    "plt.axhline(y=1)\n",
    "\n",
    "sns.despine(offset=1, trim=True)\n",
    "plt.show()"
   ]
  },
  {
   "cell_type": "code",
   "execution_count": null,
   "metadata": {
    "collapsed": true
   },
   "outputs": [],
   "source": [
    "# sns.set(style=\"ticks\")\n",
    "sns.set_style(\"whitegrid\")\n",
    "# Draw a nested boxplot to show bills by day and sex\n",
    "sns.boxplot(hue=fullConsol['impose'].round(1).abs() ,y=fullConsol[\"compensation\"], \n",
    "            x=fullConsol[\"gain\"], palette=\"viridis\")\n",
    "# sns.stripplot(hue=fullConsol['impose'].round(1).abs() ,y=fullConsol[\"compensation\"], \n",
    "#             x=fullConsol[\"gain\"], palette=\"viridis_r\",jitter=True,split=True)\n",
    "# plt.axhline(y=1)\n",
    "\n",
    "sns.despine(offset=1, trim=True)\n",
    "plt.show()"
   ]
  },
  {
   "cell_type": "code",
   "execution_count": null,
   "metadata": {
    "collapsed": true
   },
   "outputs": [],
   "source": [
    "# sns.set(style=\"ticks\")\n",
    "sns.set_style(\"whitegrid\")\n",
    "# Draw a nested boxplot to show bills by day and sex\n",
    "sns.boxplot(x=fullConsol['impose'].round(1).abs() ,y=fullConsol[\"compensation\"], \n",
    "            hue=fullConsol[\"gain\"], palette=\"viridis\")\n",
    "# sns.stripplot(x=fullConsol['impose'].round(1).abs() ,y=fullConsol[\"compensation\"], \n",
    "#             hue=fullConsol[\"gain\"], palette=\"viridis_r\",jitter=True,split=True)\n",
    "# plt.axhline(y=1)\n",
    "\n",
    "sns.despine(offset=1, trim=True)\n",
    "plt.show()"
   ]
  },
  {
   "cell_type": "code",
   "execution_count": null,
   "metadata": {
    "collapsed": false
   },
   "outputs": [],
   "source": [
    "pickler(fullConsol,'consolidatedDF')"
   ]
  },
  {
   "cell_type": "code",
   "execution_count": null,
   "metadata": {
    "collapsed": true
   },
   "outputs": [],
   "source": [
    "a=depickler('consolidatedDF')"
   ]
  },
  {
   "cell_type": "code",
   "execution_count": null,
   "metadata": {
    "collapsed": false
   },
   "outputs": [],
   "source": [
    "a['impose']=a['impose'].abs()\n",
    "b=a.groupby(['fly','gain','impose'],as_index=False).mean()\n",
    "\n",
    "ax = sns.stripplot(hue=b['impose'].round(1).abs(),   jitter=False,\n",
    "                   y=b['compensation'],x=b['gain'],split=False,palette=\"viridis_r\",size=8)\n",
    "plt.show()"
   ]
  },
  {
   "cell_type": "code",
   "execution_count": null,
   "metadata": {
    "collapsed": true
   },
   "outputs": [],
   "source": [
    "plt.plot(b['gain'],b['compensation'])\n",
    "plt.show()"
   ]
  },
  {
   "cell_type": "code",
   "execution_count": null,
   "metadata": {
    "collapsed": false
   },
   "outputs": [],
   "source": [
    "b['gain']\n",
    "b['compensation']"
   ]
  },
  {
   "cell_type": "code",
   "execution_count": null,
   "metadata": {
    "collapsed": false
   },
   "outputs": [],
   "source": [
    "\n",
    "\n",
    "'''\n",
    "takes window title input and returns average \n",
    "compensation during stimulus period for each speed as a df\n",
    "'''\n",
    "#unknown rare bug, shabby fix\n",
    "df.trajectory__impose[0]=0\n",
    "\n",
    "impose=df.trajectory__impose.copy()\n",
    "impose[df.trajectory__impose==0]=1 #replace impose zero with one fordiv by zero\n",
    "# compensation=df.trajectory__imposeResponse/impose\n",
    "compensation=\n",
    "compensationSmooth=df.trajectory__imposeResponseSmooth/impose\n",
    "\n",
    "cp = pd.DataFrame(index=compensation.index,columns=['a'])\n",
    "\n",
    "#flips are position where there is a rise or fall\n",
    "flips=np.sign(np.diff(df.trajectory__impose))\n",
    "\n",
    "#impose is impose df without first element\n",
    "impose=df.trajectory__impose.drop(df.trajectory__impose.index[0])\n",
    "\n",
    "#cw is clockWise, ccw is Counter clockwise\n",
    "#start and stop are positions where the impose starts or stops\n",
    "#start(stop) is zero everywhere except when there is the respective start(stop) event\n",
    "ccwStart=np.logical_and((flips==1) , (impose>0))\n",
    "ccwStop=np.logical_and((flips==-1) , (impose==0))\n",
    "cwStart=np.logical_and((flips==-1) , (impose<0))\n",
    "cwStop=np.logical_and((flips==1) , (impose==0))\n",
    "\n",
    "#     plt.plot(np.array(impose),'r')\n",
    "#     plt.plot(np.array(flips),'g')\n",
    "#     plt.plot(np.array(ccwStart)*1,'b')\n",
    "#     plt.plot(np.array(ccwStop)*1,'k')\n",
    "#     plt.plot(np.array(cwStart)*1,'m')\n",
    "#     plt.plot(np.array(cwStop)*1,'y')\n",
    "#     print ccwStart.shape,ccwStop.shape\n",
    "#     print cwStart.shape,cwStop.shape\n",
    "#     plt.show()\n",
    "\n",
    "#(c)cwStart(stop)Index is just those positions where flips occured\n",
    "\n",
    "ccwStartIndex= ccwStart[ccwStart==1]\n",
    "cwStartIndex= cwStart[cwStart==1]\n",
    "ccwStopIndex= ccwStop[ccwStop==1]\n",
    "cwStopIndex= cwStop[cwStop==1]\n",
    "#     print ccwStartIndex.shape,ccwStopIndex.shape\n",
    "#     print cwStartIndex.shape,cwStopIndex.shape\n",
    "\n",
    "#     print ccwStartIndex,ccwStopIndex\n",
    "#     print cwStartIndex,cwStopIndex\n",
    "\n",
    "\n",
    "#compensationMean is a df who is zero when impose is false, \n",
    "# and has mean value of compensation during the corresponding impose\n",
    "compensationMean = pd.DataFrame(index=compensation.index,columns=['mean']) #empty df with same index\n",
    "\n",
    "# print compensation\n",
    "def compMean(start,stop,compIn,compOut):\n",
    "    consol=pd.DataFrame(columns=['fly','gain','impose','compensation'])\n",
    "\n",
    "\n",
    "    print \"calculating Mean\"\n",
    "    #if there are more starts than stop because of abrupt ending while recording\n",
    "    #remove the last start event\n",
    "    try: \n",
    "        assert len(start)==len(stop)\n",
    "    except AssertionError:\n",
    "        print 'assertion error'\n",
    "        start=start[:-1] \n",
    "\n",
    "    for i in range(len(stop)):\n",
    "#             print \"impose is\",df.trajectory__impose[start.index[i]]\n",
    "#             print \"gain is\",df.trajectory__gain[start.index[i]]\n",
    "\n",
    "\n",
    "#             print \"i mean is\",compIn.ix[start.index[i]:stop.index[i]].mean()\n",
    "        currCompensationMean=compIn.ix[start.index[i]:stop.index[i]].mean()\n",
    "        compOut.ix[start.index[i]:stop.index[i]]=currCompensationMean\n",
    "        curr=pd.DataFrame([{'fly':parameters['fly'],\n",
    "                                             \"gain\":df.trajectory__gain[start.index[i]],\n",
    "                                             \"impose\":df.trajectory__impose[start.index[i]],\n",
    "                                             'compensation':currCompensationMean}])\n",
    "        consol=consol.append(curr,ignore_index=True)        \n",
    "    cols=['fly','gain','impose','compensation']\n",
    "    consol=consol[cols]\n",
    "#         print \"total measn were\",i+1\n",
    "    return consol\n",
    "\n",
    "cw=compMean(cwStartIndex,cwStopIndex,compensation,cp)\n",
    "ccw=compMean(ccwStartIndex,ccwStopIndex,compensation,cp)\n",
    "\n",
    "\n",
    "\n",
    "#     plt.plot(df.trajectory__imposeResponseSmooth)\n",
    "#     plt.plot(compensation,c=(1,0,0,0.2))\n",
    "#     plt.plot(df.trajectory__impose)\n",
    "# #     plt.plot(cp,'g')\n",
    "#     plt.axhline(y=1)\n",
    "#     plt.title(winTitle)\n",
    "#     plt.show()\n",
    "\n"
   ]
  },
  {
   "cell_type": "code",
   "execution_count": null,
   "metadata": {
    "collapsed": true
   },
   "outputs": [],
   "source": []
  },
  {
   "cell_type": "code",
   "execution_count": null,
   "metadata": {
    "collapsed": true
   },
   "outputs": [],
   "source": []
  },
  {
   "cell_type": "code",
   "execution_count": null,
   "metadata": {
    "collapsed": true
   },
   "outputs": [],
   "source": []
  },
  {
   "cell_type": "code",
   "execution_count": null,
   "metadata": {
    "collapsed": false
   },
   "outputs": [],
   "source": [
    "impose=df.trajectory__impose.copy()\n",
    "impose[df.trajectory__impose==0]=1 #replace impose zero with one fordiv by zero\n",
    "compensation=df.trajectory__imposeResponseSmooth/impose\n",
    "# plt.plot(df.trajectory__imposeResponseSmooth)\n",
    "plt.plot(compensation,c=(1,0,0,0.2))\n",
    "plt.plot(df.trajectory__impose)\n",
    "plt.plot(cp,'g')\n",
    "plt.axhline(y=1)\n",
    "plt.show()"
   ]
  },
  {
   "cell_type": "code",
   "execution_count": null,
   "metadata": {
    "collapsed": false
   },
   "outputs": [],
   "source": [
    "'''Load a dataframe from pickle'''\n",
    "defaultPath=\"/home/rhagoletis/catkin/src/beginner/scripts/panda/world/bags/\"\n",
    "paths=easygui.fileopenbox(title=\"Bags to Dataframes\"\n",
    "                          ,default=defaultPath,\n",
    "                          multiple=True,filetypes=[\"*df.pickle\"])\n",
    "fullConsol=pd.DataFrame()\n",
    "# print paths, \"\\n\"\n",
    "for path in paths:\n",
    "    \n",
    "    tic()\n",
    "    print \"\\n\\ncurrentl;y analysisnh\",path\n",
    "    # picklepath=path+\"_df.pickle\"\n",
    "    data=depickler(path)\n",
    "    df=data[\"df\"]\n",
    "#     parameters=data[\"metadata\"]['parameters']\n",
    "\n",
    "    toc()\n",
    "\n"
   ]
  },
  {
   "cell_type": "code",
   "execution_count": null,
   "metadata": {
    "collapsed": false
   },
   "outputs": [],
   "source": [
    "plt.scatter(df.trajectory__position_x,df.trajectory__position_y)\n",
    "plt.show()"
   ]
  },
  {
   "cell_type": "code",
   "execution_count": null,
   "metadata": {
    "collapsed": false
   },
   "outputs": [],
   "source": [
    "maxdH=1\n",
    "step=100\n",
    "tot=1000\n",
    "\n",
    "\n",
    "initX=10\n",
    "initY=10\n",
    "initH=90\n",
    "\n",
    "prevH=initH\n",
    "prevX=initX\n",
    "prevY=initY\n",
    "\n",
    "fullX=np.array([initX])\n",
    "fullY=np.array([initY])\n",
    "\n",
    "for i in range(tot):\n",
    "    dH=maxdH*np.random.rand(1)\n",
    "    newH=prevH+dH\n",
    "    \n",
    "    newX=prevX+step*np.cos(np.degrees(newH))\n",
    "    newY=prevY+step*np.sin(np.degrees(newH))\n",
    "    \n",
    "    fullX=np.append(fullX,newX)\n",
    "    fullY=np.append(fullY,newY)\n",
    "    \n",
    "    prevX=newX\n",
    "    prevY=newY\n",
    "\n",
    "\n",
    "# print fullX,fullY\n",
    "plt.scatter(fullX,fullY)\n",
    "plt.show()"
   ]
  },
  {
   "cell_type": "code",
   "execution_count": null,
   "metadata": {
    "collapsed": false
   },
   "outputs": [],
   "source": [
    "parameters"
   ]
  },
  {
   "cell_type": "code",
   "execution_count": null,
   "metadata": {
    "collapsed": false
   },
   "outputs": [],
   "source": [
    "#flips are position where there is a rise or fall\n",
    "flips=np.sign(np.diff(df.trajectory__impose))\n",
    "\n",
    "#impose is impose df without first element\n",
    "impose=df.trajectory__impose.drop(df.trajectory__impose.index[0])\n",
    "\n",
    "#cw is clockWise, ccw is Counter clockwise\n",
    "#start and stop are positions where the impose starts or stops\n",
    "#start(stop) is zero everywhere except when there is the respective start(stop) event\n",
    "ccwStart=np.logical_and((flips==1) , (impose>0))\n",
    "ccwStop=np.logical_and((flips==-1) , (impose==0))\n",
    "cwStart=np.logical_and((flips==-1) , (impose<0))\n",
    "cwStop=np.logical_and((flips==1) , (impose==0))\n",
    "\n",
    "# plt.plot(np.array(impose),'r')\n",
    "# plt.plot(np.array(flips),'g')\n",
    "# plt.plot(np.array(ccwStart)*1,'b')\n",
    "# plt.plot(np.array(ccwStop)*1,'k')\n",
    "# plt.plot(np.array(cwStart)*1,'m')\n",
    "# plt.plot(np.array(cwStop)*1,'y')\n",
    "# print ccwStart.shape,ccwStop.shape\n",
    "# print cwStart.shape,cwStop.shape\n",
    "plt.show()\n",
    "\n",
    "#(c)cwStart(stop)Index is just those positions where flips occured\n",
    "\n",
    "ccwStartIndex= ccwStart[ccwStart==1]\n",
    "cwStartIndex= cwStart[cwStart==1]\n",
    "ccwStopIndex= ccwStop[ccwStop==1]\n",
    "cwStopIndex= cwStop[cwStop==1]\n",
    "print ccwStartIndex.shape\n",
    "print ccwStopIndex.shape\n",
    "\n",
    "print cwStartIndex.shape\n",
    "print cwStopIndex.shape\n",
    "\n",
    "\n",
    "cp = pd.DataFrame(index=compensation.index,columns=['a'])\n",
    "\n",
    "#compensationMean is a df who is zero when impose is false, \n",
    "# and has mean value of compensation during the corresponding impose\n",
    "compensationMean = pd.DataFrame(index=compensation.index,columns=['mean']) #empty df with same index\n",
    "\n",
    "# print compensation\n",
    "def compMean(start,stop,compIn,compOut):\n",
    "    print \"calculating Mean\"\n",
    "    #if there are more starts than stop because of abrupt ending while recording\n",
    "    #remove the last start event\n",
    "    try: \n",
    "        assert len(start)==len(stop)\n",
    "    except AssertionError:\n",
    "        print 'assertion error'\n",
    "        start=start[:-1] \n",
    "\n",
    "    for i in range(len(stop)):\n",
    "\n",
    "        print \"i mean is\",compIn.ix[start.index[i]:\n",
    "                                          stop.index[i]].mean()\n",
    "        compOut.ix[start.index[i]:stop.index[i]]=compIn.ix[start.index[i]:stop.index[i]].mean()\n",
    "\n",
    "    print \"total measn were\",i+1\n",
    "compMean(cwStartIndex,cwStopIndex,compensation,cp)\n",
    "compMean(ccwStartIndex,ccwStopIndex,compensation,cp)"
   ]
  },
  {
   "cell_type": "code",
   "execution_count": null,
   "metadata": {
    "collapsed": false
   },
   "outputs": [],
   "source": [
    "df.trajectory__imposeResponse.plot()\n",
    "df.trajectory__impose.plot()\n",
    "\n",
    "plt.show()"
   ]
  },
  {
   "cell_type": "code",
   "execution_count": null,
   "metadata": {
    "collapsed": false
   },
   "outputs": [],
   "source": [
    "plt.plot(pd.rolling_mean((df.trajectory__imposeResponse),window=10))\n",
    "plt.plot(pd.rolling_mean((df.trajectory__imposeResponse),window=100),'r')\n",
    "plt.show()\n",
    "         "
   ]
  },
  {
   "cell_type": "code",
   "execution_count": null,
   "metadata": {
    "collapsed": false
   },
   "outputs": [],
   "source": [
    "# ccwStart=pd.DataFrame(0, index=np.arange(len(df)), columns=[\"feature_list\"])\n",
    "flips=np.sign(df.trajectory__impose.diff)\n",
    "ccwStart[flips>0]=1\n",
    "plt.plot(flips)\n",
    "plt.show()"
   ]
  },
  {
   "cell_type": "code",
   "execution_count": null,
   "metadata": {
    "collapsed": false
   },
   "outputs": [],
   "source": [
    "flips=np.sign(np.diff(df.trajectory__impose))\n",
    "impose=df.trajectory__impose.drop(df.trajectory__impose.index[1])\n",
    "# a=np.roll(a,-1)\n",
    "ccwStart=np.logical_and((flips==1) , (impose>0))\n",
    "ccwStop=np.logical_and((flips==-1) , (impose==0))\n",
    "cwStart=np.logical_and((flips==-1) , (impose<0))\n",
    "cwStop=np.logical_and((flips==1) , (impose==0))\n",
    "\n",
    "plt.plot(np.array(impose),'r')\n",
    "plt.plot(np.array(flips),'g')\n",
    "plt.plot(np.array(ccwStart)*1,'b')\n",
    "plt.plot(np.array(ccwStop)*1,'k')\n",
    "plt.plot(np.array(cwStart)*1,'m')\n",
    "plt.plot(np.array(cwStop)*1,'y')\n",
    "print ccwStart.shape,ccwStop.shape\n",
    "print cwStart.shape,cwStop.shape\n",
    "\n",
    "ccwStart= ccwStart[ccwStart==1]\n",
    "cwStart= cwStart[cwStart==1]\n",
    "ccwStop= ccwStop[ccwStop==1]\n",
    "cwStop= cwStop[cwStop==1]\n",
    "print ccwStart,ccwStop\n",
    "\n",
    "plt.show()"
   ]
  },
  {
   "cell_type": "code",
   "execution_count": null,
   "metadata": {
    "collapsed": false
   },
   "outputs": [],
   "source": [
    "cp = pd.DataFrame(index=compensation.index,columns=['a'])\n",
    "# print compensation\n",
    "for i in range(len(ccwStart)):\n",
    "    try: \n",
    "        assert len(ccwStart)==len(ccwStop)\n",
    "    except AssertionError:\n",
    "        ccwStop=ccwStop[:-1]\n",
    "    \n",
    "    print \"i mean is\",compensation.ix[cwStart.index[i]:\n",
    "                                      cwStop.index[i]].mean()\n",
    "    cp.ix[cwStart.index[i]:cwStop.index[i]]=compensation.ix[cwStart.index[i]:cwStop.index[i]].mean()\n",
    "    "
   ]
  },
  {
   "cell_type": "code",
   "execution_count": 7,
   "metadata": {
    "collapsed": false
   },
   "outputs": [
    {
     "name": "stderr",
     "output_type": "stream",
     "text": [
      "/usr/local/lib/python2.7/dist-packages/ipykernel/__main__.py:9: SettingWithCopyWarning: \n",
      "A value is trying to be set on a copy of a slice from a DataFrame\n",
      "\n",
      "See the caveats in the documentation: http://pandas.pydata.org/pandas-docs/stable/indexing.html#indexing-view-versus-copy\n",
      "/usr/local/lib/python2.7/dist-packages/ipykernel/__main__.py:14: FutureWarning: pd.rolling_mean is deprecated for Series and will be removed in a future version, replace with \n",
      "\tSeries.rolling(window=165,center=False).mean()\n"
     ]
    },
    {
     "name": "stdout",
     "output_type": "stream",
     "text": [
      "calculating Mean\n",
      "assertion error\n",
      "calculating Mean\n"
     ]
    }
   ],
   "source": [
    "fullConsol=pd.DataFrame()\n",
    "ccw,cw=analyser('a')\n",
    "fullConsol=fullConsol.append(ccw,ignore_index=True)\n",
    "fullConsol=fullConsol.append(cw,ignore_index=True)"
   ]
  },
  {
   "cell_type": "code",
   "execution_count": 8,
   "metadata": {
    "collapsed": false
   },
   "outputs": [
    {
     "ename": "NameError",
     "evalue": "name 'compensationSmooth' is not defined",
     "output_type": "error",
     "traceback": [
      "\u001b[1;31m-------------------------------------------------------------------------\u001b[0m",
      "\u001b[1;31mNameError\u001b[0m                               Traceback (most recent call last)",
      "\u001b[1;32m<ipython-input-8-bc28c2b6c1ac>\u001b[0m in \u001b[0;36m<module>\u001b[1;34m()\u001b[0m\n\u001b[0;32m      7\u001b[0m \u001b[0my2\u001b[0m\u001b[1;33m=\u001b[0m\u001b[0mdf\u001b[0m\u001b[1;33m.\u001b[0m\u001b[0mtrajectory__imposeResponse\u001b[0m\u001b[1;33m\u001b[0m\u001b[0m\n\u001b[0;32m      8\u001b[0m \u001b[0my3\u001b[0m\u001b[1;33m=\u001b[0m\u001b[0mdf\u001b[0m\u001b[1;33m.\u001b[0m\u001b[0mtrajectory__imposeResponseSmooth\u001b[0m\u001b[1;33m\u001b[0m\u001b[0m\n\u001b[1;32m----> 9\u001b[1;33m \u001b[0my4\u001b[0m\u001b[1;33m=\u001b[0m\u001b[0mcompensationSmooth\u001b[0m\u001b[1;33m\u001b[0m\u001b[0m\n\u001b[0m\u001b[0;32m     10\u001b[0m \u001b[0my5\u001b[0m\u001b[1;33m=\u001b[0m\u001b[0mcp\u001b[0m\u001b[1;33m.\u001b[0m\u001b[0mfillna\u001b[0m\u001b[1;33m(\u001b[0m\u001b[1;36m0\u001b[0m\u001b[1;33m)\u001b[0m\u001b[1;33m.\u001b[0m\u001b[0mabs\u001b[0m\u001b[1;33m(\u001b[0m\u001b[1;33m)\u001b[0m\u001b[1;33m\u001b[0m\u001b[0m\n\u001b[0;32m     11\u001b[0m \u001b[1;31m# y5=cp\u001b[0m\u001b[1;33m\u001b[0m\u001b[1;33m\u001b[0m\u001b[0m\n",
      "\u001b[1;31mNameError\u001b[0m: name 'compensationSmooth' is not defined"
     ]
    }
   ],
   "source": [
    "from bokeh.plotting import figure, output_file, show\n",
    "from bokeh.models.widgets import Panel, Tabs\n",
    "output_file(\"line.html\")\n",
    "\n",
    "x=df.trajectory__impose.index\n",
    "y1=df.trajectory__impose\n",
    "y2=df.trajectory__imposeResponse\n",
    "y3=df.trajectory__imposeResponseSmooth\n",
    "y4=compensationSmooth\n",
    "y5=cp.fillna(0).abs()\n",
    "# y5=cp\n",
    "\n",
    "p1 = figure(plot_width=800, plot_height=800, y_range=(-3,3),x_axis_type=\"datetime\")\n",
    "p2 = figure(plot_width=800, plot_height=800, y_range=(-3,3),x_axis_type=\"datetime\")\n",
    "p3 = figure(plot_width=800, plot_height=800, y_range=(-3,3),x_axis_type=\"datetime\")\n",
    "p4 = figure(plot_width=800, plot_height=800, y_range=(-3,3),x_axis_type=\"datetime\")\n",
    "p5 = figure(plot_width=800, plot_height=800, y_range=(-3,3),x_axis_type=\"datetime\")\n",
    "\n",
    "p1.line(x,y1, line_width=2, line_color=\"navy\")\n",
    "\n",
    "p2.line(x,y2, line_width=0.75,line_color=\"orange\",line_alpha=0.2)\n",
    "\n",
    "p3.line(x,y1, line_width=2, line_color=\"navy\")\n",
    "p3.line(x,y2, line_width=0.75,line_color=\"orange\",line_alpha=0.2)\n",
    "p3.line(x,y3, line_width=1,line_color=\"olive\",line_alpha=1)\n",
    "\n",
    "p4.line(x,y1, line_width=2, line_color=\"navy\")\n",
    "p4.line(x,y3, line_width=0.75,line_color=\"orange\",line_alpha=0.5)\n",
    "p4.line(x,y4, line_width=1,line_color=\"olive\",line_alpha=0.5)\n",
    "\n",
    "p5.line(x,y5, line_width=2,line_color=\"darkgrey\",line_alpha=1)\n",
    "p5.line(x,y1, line_width=2, line_color=\"navy\")\n",
    "p5.line(x,y3, line_width=0.75,line_color=\"orange\",line_alpha=0.5)\n",
    "p5.line(x,y4, line_width=1,line_color=\"olive\",line_alpha=0.5)\n",
    "\n",
    "\n",
    "tab1 = Panel(child=p1, title=\"impose\")\n",
    "tab2 = Panel(child=p2, title=\"imposeResponse\")\n",
    "tab3 = Panel(child=p3, title=\"imposeResponseSmooth\")\n",
    "tab4 = Panel(child=p4, title=\"compensation\")\n",
    "tab5 = Panel(child=p5, title=\"compensationMean\")\n",
    "\n",
    "\n",
    "\n",
    "\n",
    "tabs = Tabs(tabs=[tab1,tab2,tab3,tab4 ,tab5])\n",
    "\n",
    "show(tabs)\n"
   ]
  },
  {
   "cell_type": "code",
   "execution_count": null,
   "metadata": {
    "collapsed": false
   },
   "outputs": [],
   "source": [
    "# data['metadata']['parameters']['fly']\n",
    "# print easygui.filesavebox()\n",
    "parameters['fly']"
   ]
  },
  {
   "cell_type": "code",
   "execution_count": null,
   "metadata": {
    "collapsed": false
   },
   "outputs": [],
   "source": [
    "a={'a':1,'b':2,'c':3,'d':5}\n",
    "b={'a':2,'b':2,'c':3,'d':5}\n",
    "\n",
    "# d.append(df, ignore_index=True)\n",
    "df=pd.DataFrame([a])\n",
    "df=df.append(pd.DataFrame([b]))#,ignore_index=True)\n",
    "print df\n",
    "# print d"
   ]
  },
  {
   "cell_type": "code",
   "execution_count": null,
   "metadata": {
    "collapsed": false
   },
   "outputs": [],
   "source": [
    "a"
   ]
  },
  {
   "cell_type": "code",
   "execution_count": null,
   "metadata": {
    "collapsed": false
   },
   "outputs": [],
   "source": [
    "print (df.trajectory__impose.shape)\n",
    "a.shape"
   ]
  },
  {
   "cell_type": "code",
   "execution_count": null,
   "metadata": {
    "collapsed": false
   },
   "outputs": [],
   "source": [
    "(.3195+.34179)/2"
   ]
  },
  {
   "cell_type": "code",
   "execution_count": null,
   "metadata": {
    "collapsed": false
   },
   "outputs": [],
   "source": [
    "plt.plot(flips)\n",
    "plt.plot(np.array(b),'r')\n",
    "\n",
    "plt.show()"
   ]
  },
  {
   "cell_type": "code",
   "execution_count": null,
   "metadata": {
    "collapsed": false
   },
   "outputs": [],
   "source": [
    "df.trajectory__wbad.plot.hist(bins=60)"
   ]
  },
  {
   "cell_type": "code",
   "execution_count": null,
   "metadata": {
    "collapsed": false
   },
   "outputs": [],
   "source": [
    "''' \n",
    "Load multiple dataframe pickle file into memory and append it\n",
    "'''\n",
    "paths=easygui.fileopenbox(multiple=True,filetypes=['*.pickle'])\n",
    "i=0\n",
    "a=range(len(paths))\n",
    "for path in paths:\n",
    "    a[i]=pd.read_pickle(path)\n",
    "\n",
    "    i+=1\n",
    "    \n",
    "df=pd.concat(a)"
   ]
  },
  {
   "cell_type": "code",
   "execution_count": null,
   "metadata": {
    "collapsed": false
   },
   "outputs": [],
   "source": [
    "#load params pickle\n",
    "path=easygui.fileopenbox()\n",
    "import cPickle as pl\n",
    "import json\n",
    "a=pl.load(open( path, \"rb\" ))\n",
    "params=a[1]"
   ]
  },
  {
   "cell_type": "code",
   "execution_count": null,
   "metadata": {
    "collapsed": false
   },
   "outputs": [],
   "source": [
    "parameters\n"
   ]
  },
  {
   "cell_type": "code",
   "execution_count": null,
   "metadata": {
    "collapsed": false
   },
   "outputs": [],
   "source": [
    "df.trajectory__trial.max()"
   ]
  },
  {
   "cell_type": "code",
   "execution_count": null,
   "metadata": {
    "collapsed": false
   },
   "outputs": [],
   "source": [
    "''' \n",
    "Load multiple bag files to be converted to dataframe\n",
    "'''\n",
    "\n",
    "paths=easygui.fileopenbox(multiple=True,filetypes=['*.bag'])\n",
    "i=0\n",
    "for path in paths:\n",
    "\n",
    "    df=rosbag_pandas.bag_to_dataframe(path,include=['/trajectory'])\n",
    "    df.columns\n",
    "    bag=rosbag.Bag(path)\n",
    "    for topic,msg,t in bag.read_messages(topics='/metadata'):\n",
    "        a=msg\n",
    "    parameters=json.loads(a.data)\n",
    "    picklepath=path+\"_df.pickle\"\n",
    "    df.to_pickle(picklepath)\n",
    "    i+=1\n",
    "    \n",
    "print \"done\""
   ]
  },
  {
   "cell_type": "code",
   "execution_count": null,
   "metadata": {
    "collapsed": false,
    "scrolled": true
   },
   "outputs": [],
   "source": [
    "'''\n",
    "plot a single df\n",
    "'''\n",
    "\n",
    "from bokeh.plotting import figure, output_file, show\n",
    "from bokeh.models.widgets import Slider\n",
    "from bokeh.io import output_file, show, vform\n",
    "\n",
    "\n",
    "slider = Slider(start=0, end=10, value=1, step=.1, title=\"Stuff\")\n",
    "\n",
    "# prepare some data\n",
    "N = len(df.trajectory__position_x)\n",
    "x = df.trajectory__position_x\n",
    "y = df.trajectory__position_y\n",
    "h=np.deg2rad(df.trajectory__orientation_x)\n",
    "\n",
    "dec=1\n",
    "x=x[::dec]\n",
    "y=y[::dec]\n",
    "h=h[::dec]\n",
    "colors = [\n",
    "    \"#%02x%02x%02x\" % (int(r), int(g), 150) for r, g in zip(50+2*x, 30+2*y)\n",
    "]\n",
    "\n",
    "# output to static HTML file (with CDN resources)\n",
    "output_file(path+\".html\", title=\"Trajectory Quad\", mode=\"cdn\")\n",
    "\n",
    "TOOLS=\"resize,crosshair,pan,wheel_zoom,box_zoom,reset,box_select,lasso_select,undo,redo,save\"\n",
    "\n",
    "# create a new plot with the tools above, and explicit ranges\n",
    "p = figure(tools=TOOLS, x_range=(0,256), y_range=(0,256),webgl=True,plot_width=1000, plot_height=1000)\n",
    "p.image(image=[np.flipud(np.rot90(np.invert((parameters[\"odourField\"])>0)*1))], \n",
    "        x=0, y=0, dw=255, dh=255, palette=\"Greys9\")\n",
    "\n",
    "# add a circle renderer with vectorized colors and sizes\n",
    "# p.circle(x,y,size=4  ,fill_alpha=0.5, line_color=None)\n",
    "\n",
    "print vform(slider)\n",
    "p.triangle(x,y,size=slider ,angle=h ,fill_alpha=0.8, line_color=None)\n",
    "# p.wedge(x, y, radius=0.2, start_angle=0.4, end_angle=4.8,\n",
    "#         color=\"firebrick\", alpha=0.6, direction=\"clock\")\n",
    "# show the results\n",
    "show(p)"
   ]
  },
  {
   "cell_type": "code",
   "execution_count": null,
   "metadata": {
    "collapsed": true
   },
   "outputs": [],
   "source": [
    "\n",
    "from bokeh.models.widgets import Slider\n",
    "from bokeh.io import output_file, show, vform\n",
    "\n",
    "output_file(\"slider.html\")\n",
    "\n",
    "slider = Slider(start=0, end=10, value=1, step=.1, title=\"Stuff\")\n",
    "\n",
    "show(vform(slider))\n",
    "\n",
    "\n",
    "import numpy as np\n",
    "\n",
    "from bokeh.layouts import row, widgetbox\n",
    "from bokeh.models import CustomJS, Slider\n",
    "from bokeh.plotting import figure, output_file, show, ColumnDataSource\n",
    "\n",
    "x = np.linspace(0, 10, 500)\n",
    "y = np.sin(x)\n",
    "\n",
    "source = ColumnDataSource(data=dict(x=x, y=y))\n",
    "\n",
    "plot = figure(y_range=(-10, 10), plot_width=400, plot_height=400)\n",
    "\n",
    "plot.line('x', 'y', source=source, line_width=3, line_alpha=0.6)\n",
    "\n",
    "callback = CustomJS(args=dict(source=source), code=\"\"\"\n",
    "    var data = source.get('data');\n",
    "    var A = amp.get('value')\n",
    "    var k = freq.get('value')\n",
    "    var phi = phase.get('value')\n",
    "    var B = offset.get('value')\n",
    "    x = data['x']\n",
    "    y = data['y']\n",
    "    for (i = 0; i < x.length; i++) {\n",
    "        y[i] = B + A*Math.sin(k*x[i]+phi);\n",
    "    }\n",
    "    source.trigger('change');\n",
    "\"\"\")\n",
    "\n",
    "amp_slider = Slider(start=0.1, end=10, value=1, step=.1,\n",
    "                    title=\"Amplitude\", callback=callback)\n",
    "callback.args[\"amp\"] = amp_slider\n",
    "\n",
    "freq_slider = Slider(start=0.1, end=10, value=1, step=.1,\n",
    "                     title=\"Frequency\", callback=callback)\n",
    "callback.args[\"freq\"] = freq_slider\n",
    "\n",
    "phase_slider = Slider(start=0, end=6.4, value=0, step=.1,\n",
    "                      title=\"Phase\", callback=callback)\n",
    "callback.args[\"phase\"] = phase_slider\n",
    "\n",
    "offset_slider = Slider(start=-5, end=5, value=0, step=.1,\n",
    "                       title=\"Offset\", callback=callback)\n",
    "callback.args[\"offset\"] = offset_slider\n",
    "\n",
    "layout = row(\n",
    "    plot,\n",
    "    widgetbox(amp_slider, freq_slider, phase_slider, offset_slider),\n",
    ")\n",
    "\n",
    "output_file(\"slider.html\", title=\"slider.py example\")\n",
    "\n",
    "show(layout)"
   ]
  },
  {
   "cell_type": "code",
   "execution_count": null,
   "metadata": {
    "collapsed": false
   },
   "outputs": [],
   "source": [
    "'''plotdoor field'''\n",
    "p = figure(x_range=(0, 255), y_range=(0,255))\n",
    "\n",
    "parameters[\"odourField\"]=np.array(parameters[\"odourField\"]['__ndarray__'])\n",
    "\n",
    "p.image(image=[np.flipud(np.rot90(rescale(parameters['odourField'], 10)))], x=0, y=0, dw=255, dh=255, palette=\"Greys3\")\n",
    "\n",
    "\n",
    "# must give a vector of image data for image parameter\n",
    "\n",
    "output_file(\"image.html\", title=\"image.py example\")\n",
    "\n",
    "show(p)  # open a browser"
   ]
  },
  {
   "cell_type": "code",
   "execution_count": null,
   "metadata": {
    "collapsed": false
   },
   "outputs": [],
   "source": [
    "# parameters[\"odourField\"]=parameters[\"odourField\"]['__ndarray__']\n",
    "parameters['odourField']=np.array((parameters[\"odourField\"]))\n",
    "from skimage.transform import rescale\n",
    "rescale(parameters['odourField'], 10).shape\n"
   ]
  },
  {
   "cell_type": "code",
   "execution_count": null,
   "metadata": {
    "collapsed": false
   },
   "outputs": [],
   "source": [
    "#load df pickle\n",
    "path=easygui.fileopenbox()\n",
    "df=pd.read_pickle(path)\n",
    "path=path.rstrip(\"_df.pickle\")"
   ]
  },
  {
   "cell_type": "code",
   "execution_count": null,
   "metadata": {
    "collapsed": false
   },
   "outputs": [],
   "source": [
    "files=easygui.fileopenbox(\"select the files to be dataframed and plotted\",multiple=True)"
   ]
  },
  {
   "cell_type": "code",
   "execution_count": null,
   "metadata": {
    "collapsed": false
   },
   "outputs": [],
   "source": [
    "'''\n",
    "plot a single df\n",
    "'''\n",
    "\n",
    "from bokeh.plotting import figure, output_file, show, gridplot\n",
    "\n",
    "# prepare some data\n",
    "N = len(df.trajectory__position_x)\n",
    "x = df.trajectory__position_x\n",
    "y = df.trajectory__position_y\n",
    "h=np.deg2rad(df.trajectory__orientation_x)\n",
    "\n",
    "dec=6\n",
    "x=x[::dec]\n",
    "y=y[::dec]\n",
    "h=h[::dec]\n",
    "colors = [\n",
    "    \"#%02x%02x%02x\" % (int(r), int(g), 150) for r, g in zip(50+2*x, 30+2*y)\n",
    "]\n",
    "\n",
    "# output to static HTML file (with CDN resources)\n",
    "output_file(path+\".html\", title=\"Trajectory Quad\", mode=\"cdn\")\n",
    "\n",
    "TOOLS=\"resize,crosshair,pan,wheel_zoom,box_zoom,reset,box_select,lasso_select,undo,redo,save\"\n",
    "\n",
    "# create a new plot with the tools above, and explicit ranges\n",
    "w=500\n",
    "h=500 \n",
    "s=3\n",
    "bl = figure(tools=TOOLS, x_range=(64-32,64+32), y_range=(32-32,32+32),webgl=True,plot_width=w, plot_height=h)\n",
    "tl = figure(tools=TOOLS, x_range=(64-32,64+32), y_range=(161-32,161+32),webgl=True,plot_width=w, plot_height=h)\n",
    "br = figure(tools=TOOLS, x_range=(193-32,193+32), y_range=(32-32,32+32),webgl=True,plot_width=w, plot_height=h)\n",
    "tr = figure(tools=TOOLS, x_range=(193-32,193+32), y_range=(161-32,161+32),webgl=True,plot_width=w, plot_height=h)\n",
    "\n",
    "bl.triangle(x,y,size=s ,angle=h ,fill_alpha=1, line_color=None)\n",
    "tl.triangle(x,y,size=s ,angle=h ,fill_alpha=1, line_color=None)\n",
    "br.triangle(x,y,size=s ,angle=h ,fill_alpha=1, line_color=None)\n",
    "tr.triangle(x,y,size=s ,angle=h ,fill_alpha=1, line_color=None)\n",
    "\n",
    "bl.image(image=[np.flipud(np.rot90(np.invert((params[\"odourField\"])>0)*1))], \n",
    "        x=0, y=0, dw=255, dh=255, palette=\"Greys9\")\n",
    "\n",
    "\n",
    "tl.image(image=[np.flipud(np.rot90(np.invert((params[\"odourField\"])>0)*1))], \n",
    "        x=0, y=0, dw=255, dh=255, palette=\"Greys9\")\n",
    "\n",
    "br.image(image=[np.flipud(np.rot90(np.invert((params[\"odourField\"])>0)*1))], \n",
    "        x=0, y=0, dw=255, dh=255, palette=\"Greys9\")\n",
    "\n",
    "tr.image(image=[np.flipud(np.rot90(np.invert((params[\"odourField\"])>0)*1))], \n",
    "        x=0, y=0, dw=255, dh=255, palette=\"Greys9\")\n",
    "\n",
    "p = gridplot([[tl, tr], [bl, br]])\n",
    "\n",
    "# add a circle renderer with vectorized colors and sizes\n",
    "# p.circle(x,y,size=4  ,fill_alpha=0.5, line_color=None)\n",
    "# p.triangle(x,y,size=4 ,angle=h ,fill_alpha=1, line_color=None)\n",
    "# p.wedge(x, y, radius=0.2, start_angle=0.4, end_angle=4.8,\n",
    "#         color=\"firebrick\", alpha=0.6, direction=\"clock\")\n",
    "# show the results\n",
    "show(p)"
   ]
  },
  {
   "cell_type": "code",
   "execution_count": null,
   "metadata": {
    "collapsed": false
   },
   "outputs": [],
   "source": [
    "params[\"odourField\"]"
   ]
  },
  {
   "cell_type": "code",
   "execution_count": null,
   "metadata": {
    "collapsed": false
   },
   "outputs": [],
   "source": [
    "a=range(0,15)\n",
    "a=a[::5]\n",
    "a"
   ]
  },
  {
   "cell_type": "code",
   "execution_count": null,
   "metadata": {
    "collapsed": false
   },
   "outputs": [],
   "source": [
    "import numpy as np\n",
    "\n",
    "from bokeh.plotting import figure, show, output_file\n",
    "\n",
    "N = 1000\n",
    "x = np.linspace(0, 10, N)\n",
    "y = np.linspace(0, 10, N)\n",
    "xx, yy = np.meshgrid(x, y)\n",
    "d = np.sin(xx)*np.cos(yy)\n",
    "\n",
    "p = figure(x_range=(0, 10), y_range=(0, 10))\n",
    "\n",
    "# must give a vector of image data for image parameter\n",
    "p.image(image=[d], x=0, y=0, dw=10, dh=10, color_mapper=1)\n",
    "\n",
    "output_file(\"image.html\", title=\"image.py example\")\n",
    "\n",
    "show(p)  # open a browser"
   ]
  },
  {
   "cell_type": "code",
   "execution_count": null,
   "metadata": {
    "collapsed": false
   },
   "outputs": [],
   "source": [
    "from hcpWorldGen import WorldGen\n",
    "df.plot.scatter('trajectory__position_x',y='trajectory__position_y',s=0.01)\n",
    "# plt.show()"
   ]
  },
  {
   "cell_type": "code",
   "execution_count": null,
   "metadata": {
    "collapsed": false,
    "scrolled": true
   },
   "outputs": [],
   "source": [
    "import numpy as np\n",
    "import matplotlib.pyplot as plt\n",
    "import pickle as pl\n",
    "\n",
    "# Plot simple sinus function\n",
    "fig_handle = plt.figure()\n",
    "x = df.trajectory__position_x\n",
    "y = df.trajectory__position_y\n",
    "\n",
    "h=np.deg2rad(df.trajectory__orientation_x)\n",
    "\n",
    "dec=1\n",
    "\n",
    "x=x[::dec]\n",
    "y=y[::dec]\n",
    "h=h[::dec]\n",
    "plt.scatter(x,y,marker='o',s=5,color=(1,0,0,0.1802))\n",
    "\n",
    "# plt.scatter(initPlot.odd[:,0],initPlot.odd[:,1],color=initPlot.oddPlotColor,marker=initPlot.oddPlotMarker)\n",
    "# plt.scatter(initPlot.even[:,0],initPlot.even[:,1],color=initPlot.evenPlotColor,marker=initPlot.evenPlotMarker),marker='|',color='g')\n",
    "# plt.axis([0,255,0,255])\n",
    "\n",
    "plt.show()\n",
    "\n",
    "\n",
    "# Save figure handle to disk\n",
    "# pl.dump(fig_handle,file('sinus.pickle','w'))\n",
    "\n"
   ]
  },
  {
   "cell_type": "code",
   "execution_count": null,
   "metadata": {
    "collapsed": false
   },
   "outputs": [],
   "source": [
    "print type(fig_handle)"
   ]
  },
  {
   "cell_type": "code",
   "execution_count": null,
   "metadata": {
    "collapsed": false
   },
   "outputs": [],
   "source": [
    "p.image(image=[d], x=0, y=0, dw=10, dh=10, palette=\"Spectral11\")"
   ]
  },
  {
   "cell_type": "code",
   "execution_count": null,
   "metadata": {
    "collapsed": false
   },
   "outputs": [],
   "source": [
    "# parameters[\"odourField\"]=np.array(parameters[\"odourField\"]['__ndarray__'])\n",
    "x = df.trajectory__position_x\n",
    "y = df.trajectory__position_y\n",
    "c=df.trajectory__valve\n",
    "h=np.deg2rad(df.trajectory__orientation_x)\n",
    "\n",
    "dec=3\n",
    "\n",
    "x=x[::dec]\n",
    "y=y[::dec]\n",
    "h=h[::dec]\n",
    "c=c[::dec]\n",
    "\n",
    "plt.imshow(np.flipud(np.rot90(parameters[\"odourField\"])),cmap='Greys')\n",
    "plt.scatter(x,y,marker='o',s=5,c=c,cmap='seismic',lw=0)\n",
    "\n",
    "plt.show()"
   ]
  },
  {
   "cell_type": "code",
   "execution_count": null,
   "metadata": {
    "collapsed": false
   },
   "outputs": [],
   "source": [
    "df.trajectory__valve.hist()\n",
    "plt.show()"
   ]
  },
  {
   "cell_type": "code",
   "execution_count": null,
   "metadata": {
    "collapsed": false
   },
   "outputs": [],
   "source": []
  },
  {
   "cell_type": "code",
   "execution_count": null,
   "metadata": {
    "collapsed": false
   },
   "outputs": [],
   "source": []
  },
  {
   "cell_type": "code",
   "execution_count": null,
   "metadata": {
    "collapsed": false
   },
   "outputs": [],
   "source": []
  },
  {
   "cell_type": "code",
   "execution_count": null,
   "metadata": {
    "collapsed": false
   },
   "outputs": [],
   "source": [
    "'''plot hex bin'''\n",
    "\n",
    "df.plot.hexbin(x='trajectory__position_x',y='trajectory__position_y',gridsize=100,cmap=plt.cm.viridis,)\n",
    "plt.show()\n"
   ]
  },
  {
   "cell_type": "code",
   "execution_count": null,
   "metadata": {
    "collapsed": false
   },
   "outputs": [],
   "source": [
    "WorldGen.initPositions"
   ]
  },
  {
   "cell_type": "code",
   "execution_count": null,
   "metadata": {
    "collapsed": false
   },
   "outputs": [],
   "source": [
    "df.plot.hexbin(x='trajectory__position_x',y='trajectory__position_y',gridsize=100)"
   ]
  },
  {
   "cell_type": "code",
   "execution_count": null,
   "metadata": {
    "collapsed": false
   },
   "outputs": [],
   "source": [
    "plt.show()"
   ]
  },
  {
   "cell_type": "code",
   "execution_count": null,
   "metadata": {
    "collapsed": false
   },
   "outputs": [],
   "source": [
    "df.columns"
   ]
  },
  {
   "cell_type": "code",
   "execution_count": null,
   "metadata": {
    "collapsed": true
   },
   "outputs": [],
   "source": []
  },
  {
   "cell_type": "code",
   "execution_count": null,
   "metadata": {
    "collapsed": false
   },
   "outputs": [],
   "source": []
  },
  {
   "cell_type": "code",
   "execution_count": null,
   "metadata": {
    "collapsed": false
   },
   "outputs": [],
   "source": [
    "plt.imshow(np.flipud(np.rot90(parameters[\"odourField\"])))\n",
    "plt.show()"
   ]
  },
  {
   "cell_type": "code",
   "execution_count": null,
   "metadata": {
    "collapsed": false
   },
   "outputs": [],
   "source": [
    "params[\"odourField\"].shape"
   ]
  },
  {
   "cell_type": "code",
   "execution_count": null,
   "metadata": {
    "collapsed": false
   },
   "outputs": [],
   "source": [
    "params"
   ]
  },
  {
   "cell_type": "code",
   "execution_count": null,
   "metadata": {
    "collapsed": false
   },
   "outputs": [],
   "source": [
    "a[1]"
   ]
  },
  {
   "cell_type": "code",
   "execution_count": null,
   "metadata": {
    "collapsed": false
   },
   "outputs": [],
   "source": [
    "2+3"
   ]
  },
  {
   "cell_type": "code",
   "execution_count": null,
   "metadata": {
    "collapsed": false
   },
   "outputs": [],
   "source": [
    "print paths"
   ]
  },
  {
   "cell_type": "code",
   "execution_count": null,
   "metadata": {
    "collapsed": false
   },
   "outputs": [],
   "source": [
    "# modules\n",
    "#------------------------------------------------------------------------------\n",
    "import numpy as np\n",
    "import matplotlib.pyplot as py\n",
    "from matplotlib import animation\n",
    "\n",
    "py.close('all') # close all previous plots\n",
    "\n",
    "# create a random line to plot\n",
    "#------------------------------------------------------------------------------\n",
    "\n",
    "x = df.trajectory__position_x\n",
    "y = df.trajectory__position_y\n",
    "t = np.linspace(0,1,x.shape[0]) # your \"time\" variable\n",
    "# py.figure(1)\n",
    "# py.scatter(0, 0, s=1)\n",
    "# py.axis([0, 255, 0, 255])\n",
    "# py.show()\n",
    "\n",
    "# animation of a scatter plot using x, y from above\n",
    "#------------------------------------------------------------------------------\n",
    "\n",
    "fig = py.figure(1)\n",
    "ax = py.axes(xlim=(0, 255), ylim=(0,255))\n",
    "scat = ax.scatter([], [], s=20,marker=(3,0,0))\n",
    "\n",
    "def init():\n",
    "    scat.set_offsets([])\n",
    "    return scat,\n",
    "\n",
    "def animate(i):\n",
    "    data = np.hstack((x[:i,np.newaxis], y[:i, np.newaxis]))\n",
    "    scat.set_offsets(data)\n",
    "    scat.se\n",
    "#     scat.set_marker('o')\n",
    "    return scat,\n",
    "\n",
    "anim = animation.FuncAnimation(fig, animate, init_func=init, frames=len(x)+1, \n",
    "                               interval=1000/165., blit=True, repeat=False)\n",
    "plt.show()"
   ]
  },
  {
   "cell_type": "code",
   "execution_count": null,
   "metadata": {
    "collapsed": false
   },
   "outputs": [],
   "source": [
    "len(df.trajectory__position_x)"
   ]
  },
  {
   "cell_type": "code",
   "execution_count": null,
   "metadata": {
    "collapsed": false
   },
   "outputs": [],
   "source": [
    "i=360\n"
   ]
  },
  {
   "cell_type": "code",
   "execution_count": null,
   "metadata": {
    "collapsed": false
   },
   "outputs": [],
   "source": [
    "import matplotlib\n"
   ]
  },
  {
   "cell_type": "code",
   "execution_count": null,
   "metadata": {
    "collapsed": false
   },
   "outputs": [],
   "source": [
    "print matplotlib.__version__"
   ]
  },
  {
   "cell_type": "code",
   "execution_count": null,
   "metadata": {
    "collapsed": true
   },
   "outputs": [],
   "source": []
  }
 ],
 "metadata": {
  "kernelspec": {
   "display_name": "Python 2",
   "language": "python",
   "name": "python2"
  },
  "language_info": {
   "codemirror_mode": {
    "name": "ipython",
    "version": 2
   },
   "file_extension": ".py",
   "mimetype": "text/x-python",
   "name": "python",
   "nbconvert_exporter": "python",
   "pygments_lexer": "ipython2",
   "version": "2.7.6"
  }
 },
 "nbformat": 4,
 "nbformat_minor": 0
}
