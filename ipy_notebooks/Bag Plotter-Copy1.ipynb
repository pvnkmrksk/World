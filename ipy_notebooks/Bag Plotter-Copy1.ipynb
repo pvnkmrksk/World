{
 "cells": [
  {
   "cell_type": "code",
   "execution_count": 67,
   "metadata": {
    "collapsed": false
   },
   "outputs": [],
   "source": [
    "# %matplotlib inline\n",
    "# import mpld3\n",
    "# mpld3.enable_notebook()\n",
    "import rosbag_pandas\n",
    "import pandas as pd\n",
    "import matplotlib.pyplot as plt\n",
    "import easygui\n",
    "import rosbag\n",
    "import json\n",
    "import numpy as np\n",
    "import cPickle as pkl\n",
    "import time\n",
    "import seaborn as sns\n",
    "def TicTocGenerator():\n",
    "    # Generator that returns time differences\n",
    "    ti = 0           # initial time\n",
    "    tf = time.time() # final time\n",
    "    while True:\n",
    "        ti = tf\n",
    "        tf = time.time()\n",
    "        yield tf-ti # returns the time difference\n",
    "\n",
    "TicToc = TicTocGenerator() # create an instance of the TicTocGen generator\n",
    "\n",
    "# This will be the main function through which we define both tic() and toc()\n",
    "def toc(tempBool=True):\n",
    "    # Prints the time difference yielded by generator instance TicToc\n",
    "    tempTimeInterval = next(TicToc)\n",
    "    if tempBool:\n",
    "        print( \"Elapsed time: %f seconds.\\n\" %tempTimeInterval )\n",
    "\n",
    "def tic():\n",
    "    # Records a time in TicToc, marks the beginning of a time interval\n",
    "    toc(False)\n",
    "    \n",
    "def pickler( obj, path):\n",
    "    \"\"\"\n",
    "    Pickle a Python object\n",
    "    \"\"\"\n",
    "    with open(path, \"wb\") as pfile:\n",
    "        pkl.dump(obj, pfile)\n",
    "\n",
    "def depickler( path):\n",
    "    \"\"\"\n",
    "    Extracts a pickled Python object and returns it\n",
    "    \"\"\"\n",
    "    with open(path, \"rb\") as pfile:\n",
    "        data = pkl.load(pfile)\n",
    "    return data\n"
   ]
  },
  {
   "cell_type": "code",
   "execution_count": 62,
   "metadata": {
    "collapsed": false
   },
   "outputs": [
    {
     "name": "stdout",
     "output_type": "stream",
     "text": [
      "['/home/rhagoletis/catkin/src/World/bags/2017_01_05/2017-01-05__02:58:15_apple15_00_traj.bag'] \n",
      "\n",
      "starting analysis of file 2017-01-05__02:58:15_apple15_00_traj.bag , 1 / 1 files\n",
      "Elapsed time: 4.012536 seconds.\n",
      "\n",
      "\n",
      "analysis of 1 files complete\n",
      "Elapsed time: 0.000270 seconds.\n",
      "\n"
     ]
    }
   ],
   "source": [
    "'''\n",
    "Load  bag filesto make into respective dataframes\n",
    "'''\n",
    "defaultPath=\"/home/rhagoletis/catkin/src/World/bags/\"\n",
    "paths=easygui.fileopenbox(title=\"Bags to Dataframes\"\n",
    "                          ,default=defaultPath,\n",
    "                          multiple=True,filetypes=[\"*traj.bag\"])\n",
    "print paths, \"\\n\"\n",
    "metadata=None\n",
    "tic()\n",
    "i=1\n",
    "for path in paths:\n",
    "    tic()\n",
    "    print \"starting analysis of file %s , %s / %s files\" %(path.split('/')[-1],i,len(paths))\n",
    "    df=rosbag_pandas.bag_to_dataframe(path,include=['/trajectory'])\n",
    "    bag=rosbag.Bag(path)\n",
    "    \n",
    "    try:\n",
    "        for topic,msg,t in bag.read_messages(topics='/metadata'):\n",
    "            a=msg\n",
    "#         parameters=json.loads(a.data)\n",
    "#         metadata={\"meta\":parameters}\n",
    "\n",
    "        metadata=json.loads(a.data)\n",
    "\n",
    "    except :\n",
    "        print \"no such file!, trying the pickle\"\n",
    "        metadata=depickler(paths[0].split('.bag')[0])\n",
    "        parameters=metadata['parameters']\n",
    "        \n",
    "            \n",
    "    obj=dict(df=df,metadata=metadata)\n",
    "    \n",
    "    picklepath=path+\"_df.pickle\"\n",
    "    pickler(obj,picklepath)\n",
    "    df.\n",
    "#     df.to_pickle(picklepath)\n",
    "    \n",
    "    i+=1\n",
    "    toc()\n",
    "print \"\\nanalysis of %s files complete\" %len(paths)\n",
    "toc()"
   ]
  },
  {
   "cell_type": "code",
   "execution_count": 49,
   "metadata": {
    "collapsed": false
   },
   "outputs": [
    {
     "data": {
      "text/plain": [
       "'/home/rhagoletis/catkin/src/World/bags/2017_01_01/2017-01-01__19:59:14_apple11_n_11_traj'"
      ]
     },
     "execution_count": 49,
     "metadata": {},
     "output_type": "execute_result"
    }
   ],
   "source": [
    "paths[0].split('.bag')[0]"
   ]
  },
  {
   "cell_type": "code",
   "execution_count": 50,
   "metadata": {
    "collapsed": true
   },
   "outputs": [],
   "source": [
    "pick=depickler(paths[0].split('.bag')[0])\n"
   ]
  },
  {
   "cell_type": "code",
   "execution_count": 65,
   "metadata": {
    "collapsed": false
   },
   "outputs": [],
   "source": [
    "df.to_csv('f.csv')"
   ]
  },
  {
   "cell_type": "code",
   "execution_count": 66,
   "metadata": {
    "collapsed": false
   },
   "outputs": [
    {
     "name": "stdout",
     "output_type": "stream",
     "text": [
      "\u001b[0m\u001b[01;34m20161031\u001b[0m/       all.csv                  image.html\r\n",
      "\u001b[01;34m20161101\u001b[0m/       als.csv                  lr analyser.ipynb\r\n",
      "\u001b[01;34m20161101_HIGH\u001b[0m/  als.xls                  \u001b[01;34mmusca traj\u001b[0m/\r\n",
      "\u001b[01;34m20161108\u001b[0m/       Bag Plotter-Copy1.ipynb  musca trajectory analysis.ipynb\r\n",
      "\u001b[01;34m20161108_noon\u001b[0m/  f                        processed_GC-PID_31-01-01high.csv\r\n",
      "\u001b[01;34m20161111\u001b[0m/       f.csv                    temp.html\r\n",
      "\u001b[01;34m20161111_noon\u001b[0m/  GC_PID_plotter.ipynb     test.py\r\n",
      "\u001b[01;34m20161112\u001b[0m/       HeadingHist.ipynb        test.pyc\r\n",
      "\u001b[01;34m20161117\u001b[0m/       histogram_color.html     Untitled.ipynb\r\n"
     ]
    }
   ],
   "source": [
    "ls\n"
   ]
  },
  {
   "cell_type": "code",
   "execution_count": 6,
   "metadata": {
    "collapsed": false
   },
   "outputs": [
    {
     "name": "stdout",
     "output_type": "stream",
     "text": [
      "None \n",
      "\n"
     ]
    },
    {
     "ename": "TypeError",
     "evalue": "'NoneType' object is not iterable",
     "output_type": "error",
     "traceback": [
      "\u001b[1;31m---------------------------------------------------------------------------\u001b[0m",
      "\u001b[1;31mTypeError\u001b[0m                                 Traceback (most recent call last)",
      "\u001b[1;32m<ipython-input-6-598d535f0bd6>\u001b[0m in \u001b[0;36m<module>\u001b[1;34m()\u001b[0m\n\u001b[0;32m     11\u001b[0m \u001b[1;33m\u001b[0m\u001b[0m\n\u001b[0;32m     12\u001b[0m \u001b[0mi\u001b[0m\u001b[1;33m=\u001b[0m\u001b[1;36m1\u001b[0m\u001b[1;33m\u001b[0m\u001b[0m\n\u001b[1;32m---> 13\u001b[1;33m \u001b[1;32mfor\u001b[0m \u001b[0mpath\u001b[0m \u001b[1;32min\u001b[0m \u001b[0mpaths\u001b[0m\u001b[1;33m:\u001b[0m\u001b[1;33m\u001b[0m\u001b[0m\n\u001b[0m\u001b[0;32m     14\u001b[0m     \u001b[0mtic\u001b[0m\u001b[1;33m(\u001b[0m\u001b[1;33m)\u001b[0m\u001b[1;33m\u001b[0m\u001b[0m\n\u001b[0;32m     15\u001b[0m     \u001b[1;32mprint\u001b[0m \u001b[1;34m\"starting analysis of file %s , %s / %s files\"\u001b[0m \u001b[1;33m%\u001b[0m\u001b[1;33m(\u001b[0m\u001b[0mpath\u001b[0m\u001b[1;33m.\u001b[0m\u001b[0msplit\u001b[0m\u001b[1;33m(\u001b[0m\u001b[1;34m'/'\u001b[0m\u001b[1;33m)\u001b[0m\u001b[1;33m[\u001b[0m\u001b[1;33m-\u001b[0m\u001b[1;36m1\u001b[0m\u001b[1;33m]\u001b[0m\u001b[1;33m,\u001b[0m\u001b[0mi\u001b[0m\u001b[1;33m,\u001b[0m\u001b[0mlen\u001b[0m\u001b[1;33m(\u001b[0m\u001b[0mpaths\u001b[0m\u001b[1;33m)\u001b[0m\u001b[1;33m)\u001b[0m\u001b[1;33m\u001b[0m\u001b[0m\n",
      "\u001b[1;31mTypeError\u001b[0m: 'NoneType' object is not iterable"
     ]
    }
   ],
   "source": [
    "'''\n",
    "Load  bag filesto make into respective dataframes\n",
    "1726819\n",
    "'''\n",
    "defaultPath=\"/home/rhagoletis/catkin/src/beginner/scripts/panda/world/bags/\"\n",
    "paths=easygui.fileopenbox(title=\"Bags to Dataframes\"\n",
    "                          ,default=defaultPath,\n",
    "                          multiple=True,filetypes=[\"*traj.bag\"])\n",
    "print paths, \"\\n\"\n",
    "metadata=None\n",
    "\n",
    "i=1\n",
    "for path in paths:\n",
    "    tic()\n",
    "    print \"starting analysis of file %s , %s / %s files\" %(path.split('/')[-1],i,len(paths))\n",
    "    df=rosbag_pandas.bag_to_dataframe(path,include=['/trajectory'])\n",
    "    bag=rosbag.Bag(path)\n",
    "    \n",
    "#     try:\n",
    "#         for topic,msg,t in bag.read_messages(topics='/metadata'):\n",
    "#             a=msg\n",
    "# #         parameters=json.loads(a.data)\n",
    "# #         metadata={\"meta\":parameters}\n",
    "#         metadata=json.loads(a.data)\n",
    "\n",
    "#     except :\n",
    "#         print \"no such file!\"\n",
    "            \n",
    "#     obj=dict(df=df,metadata=metadata)\n",
    "    \n",
    "#     picklepath=path+\"_df.pickle\"\n",
    "#     pickler(obj,picklepath)\n",
    "# #     df.to_pickle(picklepath)\n",
    "    \n",
    "    i+=1\n",
    "    toc()\n",
    "print \"\\nanalysis of %s files complete\" %len(paths)\n"
   ]
  },
  {
   "cell_type": "code",
   "execution_count": null,
   "metadata": {
    "collapsed": false
   },
   "outputs": [],
   "source": [
    "df"
   ]
  },
  {
   "cell_type": "code",
   "execution_count": 7,
   "metadata": {
    "collapsed": false
   },
   "outputs": [
    {
     "name": "stdout",
     "output_type": "stream",
     "text": [
      "{u'interTrial': 3, u'stepMode': True, u'mouseMode': False, u'greenTexPath': u'/home/transire/catkin/src/world/models/green.tga', u'speed': 0.0, u'gainIncrement': 0.02, u'headingListGen': False, u'windDirection': 180, u'wbas': 0, u'wbad': 0, u'stepDur': -1, u'captureScale': 1, u'fps': 165, u'worldSize': 1025, u'startDur': 12, u'stopDur': 2, u'odour3Mask': u'', u'loadOdour': False, u'imposeStimulus': False, u'modelSizeSuffix': u'1025', u'pausePlot': True, u'frameNum': 0, u'trajectoryUpdateInterval': 30, u'windowHeight': 2560, u'startHeading': 2.1, u'phi': 0.0, u'object1': u'models/3D_Models/appletree/appletree_mp.egg', u'object2': u'models/3D_Models/appletree/appletree_mp_a.egg', u'loadNullModels': False, u'radius': 3.0, u'playbackIncrement': 1, u'packetDur': 0.006, u'captureStart': 0, u'loadTrajectory': False, u'camHpr': [0, 10, 0], u'nSteps': 5, u'race': u'apple', u'recordDur': 10, u'resetObject': False, u'speedIncrement': 0.05, u'odour4': u'models/odour/4.png', u'obj2Z': 0.0, u'odour1': u'models/odour/1.png', u'lockFps': True, u'odour3': u'models/odour/3.png', u'odour2': u'models/odour/2.png', u'boutNum': 2, u'minFlightSpeed': 0.5, u'maxDistance': 99, u'posL': [516, 516, 0], u'useOdourMask': False, u'maxWbas': 2.5, u'skyMapNull': u'models/sky_null.egg', u'replayWorld': False, u'bboxDist': 1.0, u'posR': [510, 516, 0], u'gpMode': True, u'origin': [0, 0, 0], u'durList': [3, 3, 3, 3, 3, 3], u'frameRecord': False, u'odour1Mask': u'', u'beepPath': u'/home/rhagoletis/catkin/src/World/models/sounds/beep.wav', u'nReps': 20, u'skyMap': u'models/sky.egg', u'durListGen': False, u'area': 8, u'bagFullTopics': u'/rhag_camera/image_raw/compressed /kinefly/image_output /servo_camera/image_raw/compressed /kinefly/flystate /trajectory  ', u'generateWorld': True, u'DCoffset': -0.034, u'odour2Mask': u'', u'numObj': 8, u'modelTextureMapNull': u'/home/transire/catkin/src/world/models/texture257_quadrant_t2_sym_null.png', u'intraTrial': 3, u'minWbas': 1.2, u'loadWind': False, u'emergence': u'2000-01-01', u'maxSpeed': 1.0, u'gain': 8, u'quad': True, u'fly': u'apple11', u'DCoffsetIncrement': 0.002, u'areaMode': True, u'recordFps': 30, u'bagTrajTopics': u'/kinefly/flystate /trajectory ', u'redTexPath': u'/home/transire/catkin/src/world/models/red.tga', u'obj2Scale': 4.0, u'odour4Mask': u'', u'obj1Z': 0.0, u'signFlip': True, u'randPos': False, u'windowWidth': 4320, u'humanDisplay': False, u'orderFlip': True, u'factorDur': 0.65, u'toTuplify': [u'camHpr', u'posL', u'posR', u'origin', u'camFOV', u'playerInitPos'], u'plotOdourQuad': False, u'modelHeightMap': u'models/height2570.png', u'windQuad': [180, 180, 180, 180], u'loadingString': u'11', u'headingRate': [0.25, 0.5, 1, 2, 4, 8], u'obj1Scale': 4.0, u'camFOV': [120, 140], u'maxFlightSpeed': 1.0, u'modelTextureMap': u'models/3D_Models/terrain/terrain.egg', u'maxBoutDur': 20, u'playerInitPos': [513, 507, 1.8], u'odourQuad': [1.2, 2.5, 3.7, 4.9], u'playerInitH': 0, u'loadWorld': True, u'treeTexPath': u'/home/transire/catkin/src/world/models/BarkBrown.tga'}\n"
     ]
    }
   ],
   "source": [
    "parameters=obj['metadata']['parameters']\n",
    "print parameters"
   ]
  },
  {
   "cell_type": "code",
   "execution_count": null,
   "metadata": {
    "collapsed": false
   },
   "outputs": [],
   "source": [
    "\n",
    "df[['trajectory__object1Pos_x', 'trajectory__object1Pos_y']]"
   ]
  },
  {
   "cell_type": "code",
   "execution_count": null,
   "metadata": {
    "collapsed": false
   },
   "outputs": [],
   "source": [
    "# plt.scatter(df.trajectory__position_x,df.trajectory__position_y)\n",
    "# plt.show()\n",
    "# df.trajectory__wbad.plot()\n",
    "# df.trajectory__wbas.plot()\n",
    "a=(pd.rolling_mean(df.trajectory__wbas,30))\n",
    "a.plot()\n",
    "df.trajectory__reset.plot()\n",
    "plt.show()"
   ]
  },
  {
   "cell_type": "code",
   "execution_count": null,
   "metadata": {
    "collapsed": false
   },
   "outputs": [],
   "source": [
    "df"
   ]
  },
  {
   "cell_type": "code",
   "execution_count": null,
   "metadata": {
    "collapsed": false
   },
   "outputs": [],
   "source": [
    "\n",
    "def analyser(winTitle):\n",
    "    \n",
    "    '''\n",
    "    takes window title input and returns average \n",
    "    compensation during stimulus period for each speed as a df\n",
    "    '''\n",
    "    #unknown rare bug, shabby fix\n",
    "    df.trajectory__impose[0]=0\n",
    "    \n",
    "    impose=df.trajectory__impose.copy()\n",
    "    impose[df.trajectory__impose==0]=1 #replace impose zero with one fordiv by zero\n",
    "    compensation=df.trajectory__imposeResponse/impose\n",
    "    df.trajectory__imposeResponseSmooth=pd.rolling_mean(df.trajectory__imposeResponse,window=165)\n",
    "    compensationSmooth=df.trajectory__imposeResponseSmooth/impose\n",
    "\n",
    "    cp = pd.DataFrame(index=compensation.index,columns=['a'])\n",
    "\n",
    "    #flips are position where there is a rise or fall\n",
    "    flips=np.sign(np.diff(df.trajectory__impose))\n",
    "\n",
    "    #impose is impose df without first element\n",
    "    impose=df.trajectory__impose.drop(df.trajectory__impose.index[0])\n",
    "\n",
    "    #cw is clockWise, ccw is Counter clockwise\n",
    "    #start and stop are positions where the impose starts or stops\n",
    "    #start(stop) is zero everywhere except when there is the respective start(stop) event\n",
    "    ccwStart=np.logical_and((flips==1) , (impose>0))\n",
    "    ccwStop=np.logical_and((flips==-1) , (impose==0))\n",
    "    cwStart=np.logical_and((flips==-1) , (impose<0))\n",
    "    cwStop=np.logical_and((flips==1) , (impose==0))\n",
    "\n",
    "#     plt.plot(np.array(impose),'r')\n",
    "#     plt.plot(np.array(flips),'g')\n",
    "#     plt.plot(np.array(ccwStart)*1,'b')\n",
    "#     plt.plot(np.array(ccwStop)*1,'k')\n",
    "#     plt.plot(np.array(cwStart)*1,'m')\n",
    "#     plt.plot(np.array(cwStop)*1,'y')\n",
    "#     print ccwStart.shape,ccwStop.shape\n",
    "#     print cwStart.shape,cwStop.shape\n",
    "#     plt.show()\n",
    "\n",
    "    #(c)cwStart(stop)Index is just those positions where flips occured\n",
    "\n",
    "    ccwStartIndex= ccwStart[ccwStart==1]\n",
    "    cwStartIndex= cwStart[cwStart==1]\n",
    "    ccwStopIndex= ccwStop[ccwStop==1]\n",
    "    cwStopIndex= cwStop[cwStop==1]\n",
    "#     print ccwStartIndex.shape,ccwStopIndex.shape\n",
    "#     print cwStartIndex.shape,cwStopIndex.shape\n",
    "\n",
    "#     print ccwStartIndex,ccwStopIndex\n",
    "#     print cwStartIndex,cwStopIndex\n",
    "\n",
    "\n",
    "    #compensationMean is a df who is zero when impose is false, \n",
    "    # and has mean value of compensation during the corresponding impose\n",
    "    compensationMean = pd.DataFrame(index=compensation.index,columns=['mean']) #empty df with same index\n",
    "\n",
    "    # print compensation\n",
    "    def compMean(start,stop,compIn,compOut):\n",
    "        consol=pd.DataFrame(columns=['fly','gain','impose','compensation'])\n",
    "\n",
    "\n",
    "        print \"calculating Mean\"\n",
    "        #if there are more starts than stop because of abrupt ending while recording\n",
    "        #remove the last start event\n",
    "        \n",
    "        #remove the last events to remove noise\n",
    "        start=start[:-1]\n",
    "        stop=stop[:-1]\n",
    "\n",
    "        try: \n",
    "            assert len(start)==len(stop)\n",
    "        except AssertionError:\n",
    "            print 'assertion error'\n",
    "            start=start[:-1] \n",
    "\n",
    "        for i in range(len(stop)):\n",
    "#             print \"impose is\",df.trajectory__impose[start.index[i]]\n",
    "#             print \"gain is\",df.trajectory__gain[start.index[i]]\n",
    "\n",
    "\n",
    "#             print \"i mean is\",compIn.ix[start.index[i]:stop.index[i]].mean()\n",
    "            currCompensationMean=compIn.ix[start.index[i]:stop.index[i]].mean()\n",
    "            compOut.ix[start.index[i]:stop.index[i]]=currCompensationMean\n",
    "            curr=pd.DataFrame([{'fly':parameters['fly'],\n",
    "                                                 \"gain\":df.trajectory__gain[start.index[i]],\n",
    "                                                 \"impose\":df.trajectory__impose[start.index[i]],\n",
    "                                                 'compensation':currCompensationMean}])\n",
    "            consol=consol.append(curr,ignore_index=True)        \n",
    "        cols=['fly','gain','impose','compensation']\n",
    "        consol=consol[cols]\n",
    "#         print \"total measn were\",i+1\n",
    "        return consol\n",
    "\n",
    "    cw=compMean(cwStartIndex,cwStopIndex,compensation,cp)\n",
    "    ccw=compMean(ccwStartIndex,ccwStopIndex,compensation,cp)\n",
    "    \n",
    "    \n",
    "    \n",
    "    plt.plot(df.trajectory__imposeResponseSmooth,c=(0,0,1,0.2),label='imposeResponseSmooth')\n",
    "#     plt.plot(compensationSmooth,c=(1,0,0,0.6),label='compensationSmooth')\n",
    "    plt.plot(df.trajectory__impose,label='impose')\n",
    "    plt.plot(cp,'g',label='compensationMean')\n",
    "    plt.axhline(y=1)\n",
    "    plt.title(winTitle)\n",
    "    plt.legend()\n",
    "    plt.show()\n",
    "    \n",
    "    return ccw, cw\n"
   ]
  },
  {
   "cell_type": "code",
   "execution_count": null,
   "metadata": {
    "collapsed": false
   },
   "outputs": [],
   "source": [
    "\n",
    "def analyser2(winTitle):\n",
    "    \n",
    "    '''\n",
    "    takes window title input and returns average \n",
    "    compensation during stimulus period for each speed as a df\n",
    "    '''\n",
    "    #unknown rare bug, shabby fix\n",
    "    df.trajectory__impose[0]=0\n",
    "    \n",
    "    impose=df.trajectory__impose.copy()\n",
    "    impose[df.trajectory__impose==0]=1 #replace impose zero with one fordiv by zero\n",
    "    imposeSign=np.sign(impose)\n",
    "#     imposeSign[imposeSign==0]=1\n",
    "    compensation=(df.trajectory__imposeResponse-df.trajectory__impose)*imposeSign/abs(impose)\n",
    "    \n",
    "    df.trajectory__imposeResponseSmooth=pd.rolling_mean(df.trajectory__imposeResponse,window=165)\n",
    "    compensationSmooth=df.trajectory__imposeResponseSmooth/impose\n",
    "\n",
    "    cp = pd.DataFrame(index=compensation.index,columns=['a'])\n",
    "\n",
    "    #flips are position where there is a rise or fall\n",
    "    flips=np.sign(np.diff(df.trajectory__impose))\n",
    "\n",
    "    #impose is impose df without first element\n",
    "    impose=df.trajectory__impose.drop(df.trajectory__impose.index[0])\n",
    "\n",
    "    #cw is clockWise, ccw is Counter clockwise\n",
    "    #start and stop are positions where the impose starts or stops\n",
    "    #start(stop) is zero everywhere except when there is the respective start(stop) event\n",
    "    ccwStart=np.logical_and((flips==1) , (impose>0))\n",
    "    ccwStop=np.logical_and((flips==-1) , (impose==0))\n",
    "    cwStart=np.logical_and((flips==-1) , (impose<0))\n",
    "    cwStop=np.logical_and((flips==1) , (impose==0))\n",
    "\n",
    "#     plt.plot(np.array(impose),'r')\n",
    "#     plt.plot(np.array(flips),'g')\n",
    "#     plt.plot(np.array(ccwStart)*1,'b')\n",
    "#     plt.plot(np.array(ccwStop)*1,'k')\n",
    "#     plt.plot(np.array(cwStart)*1,'m')\n",
    "#     plt.plot(np.array(cwStop)*1,'y')\n",
    "#     print ccwStart.shape,ccwStop.shape\n",
    "#     print cwStart.shape,cwStop.shape\n",
    "#     plt.show()\n",
    "\n",
    "    #(c)cwStart(stop)Index is just those positions where flips occured\n",
    "\n",
    "    ccwStartIndex= ccwStart[ccwStart==1]\n",
    "    cwStartIndex= cwStart[cwStart==1]\n",
    "    ccwStopIndex= ccwStop[ccwStop==1]\n",
    "    cwStopIndex= cwStop[cwStop==1]\n",
    "#     print ccwStartIndex.shape,ccwStopIndex.shape\n",
    "#     print cwStartIndex.shape,cwStopIndex.shape\n",
    "\n",
    "#     print ccwStartIndex,ccwStopIndex\n",
    "#     print cwStartIndex,cwStopIndex\n",
    "\n",
    "\n",
    "    #compensationMean is a df who is zero when impose is false, \n",
    "    # and has mean value of compensation during the corresponding impose\n",
    "    compensationMean = pd.DataFrame(index=compensation.index,columns=['mean']) #empty df with same index\n",
    "\n",
    "    # print compensation\n",
    "    def compMean(start,stop,compIn,compOut):\n",
    "        consol=pd.DataFrame(columns=['fly','gain','impose','compensation'])\n",
    "\n",
    "\n",
    "#         print \"calculating Mean\"\n",
    "        #if there are more starts than stop because of abrupt ending while recording\n",
    "        #remove the last start event\n",
    "        \n",
    "        #remove the last events to remove noise\n",
    "        start=start[:-1]\n",
    "        stop=stop[:-1]\n",
    "\n",
    "        try: \n",
    "            assert len(start)==len(stop)\n",
    "        except AssertionError:\n",
    "#             print 'assertion error'\n",
    "            start=start[:-1] \n",
    "\n",
    "        for i in range(len(stop)):\n",
    "#             print \"impose is\",df.trajectory__impose[start.index[i]]\n",
    "#             print \"gain is\",df.trajectory__gain[start.index[i]]\n",
    "\n",
    "\n",
    "#             print \"i mean is\",compIn.ix[start.index[i]:stop.index[i]].mean()\n",
    "            currCompensationMean=compIn.ix[start.index[i]:stop.index[i]].mean()\n",
    "            compOut.ix[start.index[i]:stop.index[i]]=currCompensationMean\n",
    "            curr=pd.DataFrame([{'fly':parameters['fly'],\n",
    "                                                 \"gain\":df.trajectory__gain[start.index[i]],\n",
    "                                                 \"impose\":df.trajectory__impose[start.index[i]],\n",
    "                                                 'compensation':currCompensationMean}])\n",
    "            consol=consol.append(curr,ignore_index=True)        \n",
    "        cols=['fly','gain','impose','compensation']\n",
    "        consol=consol[cols]\n",
    "#         print \"total measn were\",i+1\n",
    "        return consol\n",
    "\n",
    "    cw=compMean(cwStartIndex,cwStopIndex,compensation,cp)\n",
    "    ccw=compMean(ccwStartIndex,ccwStopIndex,compensation,cp)\n",
    "    \n",
    "    \n",
    "    \n",
    "#     plt.plot(df.trajectory__imposeResponseSmooth,c=(0,0,1,0.2),label='imposeResponseSmooth')\n",
    "    plt.plot(df.trajectory__imposeResponse,c=(0,0,1,0.2),label='imposeResponse')\n",
    "#     plt.plot(compensationSmooth,c=(1,0,0,0.6),label='compensationSmooth')\n",
    "    plt.plot(compensation,c=(1,0,0,0.6),label='compensation')\n",
    "\n",
    "    plt.plot(df.trajectory__impose,label='impose')\n",
    "    plt.plot(cp,'g',label='compensationMean',lw=4)\n",
    "#     plt.axhline(y=1)\n",
    "    plt.title(winTitle)\n",
    "    plt.legend()\n",
    "    plt.show()\n",
    "    \n",
    "    return ccw, cw\n"
   ]
  },
  {
   "cell_type": "code",
   "execution_count": null,
   "metadata": {
    "collapsed": false
   },
   "outputs": [],
   "source": [
    "a=analyser2(Wtitle)\n",
    "# fullConsol=fullConsol.append(ccw,ignore_index=True)\n",
    "# fullConsol=fullConsol.append(cw,ignore_index=True)"
   ]
  },
  {
   "cell_type": "code",
   "execution_count": null,
   "metadata": {
    "collapsed": false
   },
   "outputs": [],
   "source": [
    "'''Load a dataframe from pickle and analyse impose compensation'''\n",
    "defaultPath=\"/home/rhagoletis/catkin/src/beginner/scripts/panda/world/bags/\"\n",
    "paths=easygui.fileopenbox(title=\"Bags to Dataframes\"\n",
    "                          ,default=defaultPath,\n",
    "                          multiple=True,filetypes=[\"*df.pickle\"])\n",
    "fullConsol=pd.DataFrame()\n",
    "# print paths, \"\\n\"\n",
    "for path in paths:\n",
    "    \n",
    "    tic()\n",
    "    print \"\\n\\ncurrentl;y analysisnh\",path\n",
    "    # picklepath=path+\"_df.pickle\"\n",
    "    data=depickler(path)\n",
    "    df=data[\"df\"]\n",
    "#     parameters=data[\"metadata\"]['meta']\n",
    "    parameters=data[\"metadata\"]['parameters']\n",
    "\n",
    "    toc()\n",
    "\n",
    "    Wtitle=path.split('/')[-1]\n",
    "    print Wtitle\n",
    "    \n",
    "#     print \"parameter keys are\", parameters.keys()\n",
    "#     print \"\\nparameter keys length are\", len(parameters.keys())\n",
    "\n",
    "#     df.trajectory__imposeResponse.plot(title=path.split('/')[-1])\n",
    "#     df.trajectory__impose.plot(title=path.split('/')[-1])\n",
    "#     plt.show()\n",
    "    \n",
    "#     ccw,cw=analyser2(Wtitle)\n",
    "#     fullConsol=fullConsol.append(ccw,ignore_index=True)\n",
    "#     fullConsol=fullConsol.append(cw,ignore_index=True)\n",
    "    \n",
    "# print fullConsol"
   ]
  },
  {
   "cell_type": "code",
   "execution_count": null,
   "metadata": {
    "collapsed": false,
    "scrolled": true
   },
   "outputs": [],
   "source": [
    "import numpy as np\n",
    "import matplotlib.pyplot as plt\n",
    "import pickle as pl\n",
    "\n",
    "# Plot simple sinus function\n",
    "fig_handle = plt.figure()\n",
    "x = df.trajectory__position_x\n",
    "y = df.trajectory__position_y\n",
    "\n",
    "h=np.deg2rad(df.trajectory__orientation_x)\n",
    "\n",
    "dec=1\n",
    "\n",
    "x=x[::dec]\n",
    "y=y[::dec]\n",
    "h=h[::dec]\n",
    "plt.scatter(x,y,marker='o',s=5,color=(1,0,0,0.1802))\n",
    "\n",
    "# plt.scatter(initPl}ot.odd[:,0],initPlot.odd[:,1],color=initPlot.oddPlotColor,marker=initPlot.oddPlotMarker)\n",
    "# plt.scatter(initPlot.even[:,0],initPlot.even[:,1],color=initPlot.evenPlotColor,marker=initPlot.evenPlotMarker),marker='|',color='g')\n",
    "# plt.axis([0,255,0,255])\n",
    "\n",
    "plt.show()\n",
    "\n",
    "\n",
    "# Save figure handle to disk\n",
    "# pl.dump(fig_handle,file('sinus.pickle','w'))\n",
    "\n"
   ]
  },
  {
   "cell_type": "code",
   "execution_count": 19,
   "metadata": {
    "collapsed": false
   },
   "outputs": [
    {
     "name": "stdout",
     "output_type": "stream",
     "text": [
      "\n",
      "\n",
      "currentl;y analysisnh /media/rhagoletis/6db8b2b2-ebe2-4555-9b79-93b10ef9dec31/2016_08_08/traj/2016-08-08__22:34:07_fly8_quad_00_gain3.5_trial_1_traj.bag_df.pickle\n",
      "Elapsed time: 1.148888 seconds.\n",
      "\n"
     ]
    }
   ],
   "source": [
    "'''Load a dataframe from pickle'''\n",
    "defaultPath=\"/home/rhagoletis/catkin/src/beginner/scripts/panda/world/bags/\"\n",
    "paths=easygui.fileopenbox(title=\"Bags to Dataframes\"\n",
    "                          ,default=defaultPath,\n",
    "                          multiple=True,filetypes=[\"*df.pickle\"])\n",
    "fullConsol=pd.DataFrame()\n",
    "# print paths, \"\\n\"\n",
    "for path in paths:\n",
    "    \n",
    "    tic()\n",
    "    print \"\\n\\ncurrentl;y analysisnh\",path\n",
    "    # picklepath=path+\"_df.pickle\"\n",
    "    data=depickler(path)\n",
    "    df=data[\"df\"]\n",
    "#     parameters=data[\"metadata\"]['parameters']\n",
    "\n",
    "    toc()\n",
    "\n"
   ]
  },
  {
   "cell_type": "code",
   "execution_count": 20,
   "metadata": {
    "collapsed": false
   },
   "outputs": [],
   "source": [
    "plt.scatter(df.trajectory__position_x,df.trajectory__position_y)\n",
    "plt.show()"
   ]
  },
  {
   "cell_type": "code",
   "execution_count": 16,
   "metadata": {
    "collapsed": false
   },
   "outputs": [],
   "source": [
    "maxdH=1\n",
    "step=100\n",
    "tot=1000\n",
    "\n",
    "\n",
    "initX=10\n",
    "initY=10\n",
    "initH=90\n",
    "\n",
    "prevH=initH\n",
    "prevX=initX\n",
    "prevY=initY\n",
    "\n",
    "fullX=np.array([initX])\n",
    "fullY=np.array([initY])\n",
    "\n",
    "for i in range(tot):\n",
    "    dH=maxdH*np.random.rand(1)\n",
    "    newH=prevH+dH\n",
    "    \n",
    "    newX=prevX+step*np.cos(np.degrees(newH))\n",
    "    newY=prevY+step*np.sin(np.degrees(newH))\n",
    "    \n",
    "    fullX=np.append(fullX,newX)\n",
    "    fullY=np.append(fullY,newY)\n",
    "    \n",
    "    prevX=newX\n",
    "    prevY=newY\n",
    "\n",
    "\n",
    "# print fullX,fullY\n",
    "plt.scatter(fullX,fullY)\n",
    "plt.show()"
   ]
  },
  {
   "cell_type": "code",
   "execution_count": null,
   "metadata": {
    "collapsed": false
   },
   "outputs": [],
   "source": [
    "fullConsol=pd.DataFrame()\n",
    "ccw,cw=analyser('a')\n",
    "fullConsol=fullConsol.append(ccw,ignore_index=True)\n",
    "fullConsol=fullConsol.append(cw,ignore_index=True)"
   ]
  },
  {
   "cell_type": "code",
   "execution_count": null,
   "metadata": {
    "collapsed": false
   },
   "outputs": [],
   "source": [
    "from bokeh.plotting import figure, output_file, show\n",
    "from bokeh.models.widgets import Panel, Tabs\n",
    "output_file(\"line.html\")\n",
    "\n",
    "x=df.trajectory__impose.index\n",
    "y1=df.trajectory__impose\n",
    "y2=df.trajectory__imposeResponse\n",
    "y3=df.trajectory__imposeResponseSmooth\n",
    "y4=compensationSmooth\n",
    "y5=cp.fillna(0).abs()\n",
    "# y5=cp\n",
    "\n",
    "p1 = figure(plot_width=800, plot_height=800, y_range=(-3,3),x_axis_type=\"datetime\")\n",
    "p2 = figure(plot_width=800, plot_height=800, y_range=(-3,3),x_axis_type=\"datetime\")\n",
    "p3 = figure(plot_width=800, plot_height=800, y_range=(-3,3),x_axis_type=\"datetime\")\n",
    "p4 = figure(plot_width=800, plot_height=800, y_range=(-3,3),x_axis_type=\"datetime\")\n",
    "p5 = figure(plot_width=800, plot_height=800, y_range=(-3,3),x_axis_type=\"datetime\")\n",
    "\n",
    "p1.line(x,y1, line_width=2, line_color=\"navy\")\n",
    "\n",
    "p2.line(x,y2, line_width=0.75,line_color=\"orange\",line_alpha=0.2)\n",
    "\n",
    "p3.line(x,y1, line_width=2, line_color=\"navy\")\n",
    "p3.line(x,y2, line_width=0.75,line_color=\"orange\",line_alpha=0.2)\n",
    "p3.line(x,y3, line_width=1,line_color=\"olive\",line_alpha=1)\n",
    "\n",
    "p4.line(x,y1, line_width=2, line_color=\"navy\")\n",
    "p4.line(x,y3, line_width=0.75,line_color=\"orange\",line_alpha=0.5)\n",
    "p4.line(x,y4, line_width=1,line_color=\"olive\",line_alpha=0.5)\n",
    "\n",
    "p5.line(x,y5, line_width=2,line_color=\"darkgrey\",line_alpha=1)\n",
    "p5.line(x,y1, line_width=2, line_color=\"navy\")\n",
    "p5.line(x,y3, line_width=0.75,line_color=\"orange\",line_alpha=0.5)\n",
    "p5.line(x,y4, line_width=1,line_color=\"olive\",line_alpha=0.5)\n",
    "\n",
    "\n",
    "tab1 = Panel(child=p1, title=\"impose\")\n",
    "tab2 = Panel(child=p2, title=\"imposeResponse\")\n",
    "tab3 = Panel(child=p3, title=\"imposeResponseSmooth\")\n",
    "tab4 = Panel(child=p4, title=\"compensation\")\n",
    "tab5 = Panel(child=p5, title=\"compensationMean\")\n",
    "\n",
    "\n",
    "\n",
    "\n",
    "tabs = Tabs(tabs=[tab1,tab2,tab3,tab4 ,tab5])\n",
    "\n",
    "show(tabs)\n"
   ]
  },
  {
   "cell_type": "code",
   "execution_count": null,
   "metadata": {
    "collapsed": false
   },
   "outputs": [],
   "source": [
    "# data['metadata']['parameters']['fly']\n",
    "# print easygui.filesavebox()\n",
    "parameters['fly']"
   ]
  },
  {
   "cell_type": "code",
   "execution_count": null,
   "metadata": {
    "collapsed": false
   },
   "outputs": [],
   "source": [
    "def consolidater():\n",
    "    path=easygui.filesavebox()\n",
    "    path+='_'+data['metadata']['parameters']['fly']+'_'+'consolidatedDF.pickle'\n",
    "\n",
    "    print \"save path is\",path\n",
    "    dataSet=dict(metadata=data['metadata'],fullConsol=fullConsol)\n",
    "    pickler(dataSet,path)\n",
    "consolidater()"
   ]
  },
  {
   "cell_type": "code",
   "execution_count": null,
   "metadata": {
    "collapsed": false
   },
   "outputs": [],
   "source": [
    "def unConsolidater():\n",
    "    path=easygui.fileopenbox()\n",
    "\n",
    "    print \"file path is\",path\n",
    "    dataset=depickler(path)\n",
    "unConsolidater()"
   ]
  },
  {
   "cell_type": "code",
   "execution_count": null,
   "metadata": {
    "collapsed": true
   },
   "outputs": [],
   "source": [
    "import seaborn as sns\n",
    "# sns.set_style(\"whitegrid\")"
   ]
  },
  {
   "cell_type": "code",
   "execution_count": null,
   "metadata": {
    "collapsed": false
   },
   "outputs": [],
   "source": [
    "ax = sns.stripplot(hue=fullConsol['impose'].round(1).abs(),   jitter=0.092,\n",
    "                   y=fullConsol['compensation'],x=fullConsol['gain'],\n",
    "                   split=True,palette=\"viridis\",linewidth=1)\n",
    "plt.axhline(y=-1)\n",
    "\n",
    "plt.show()"
   ]
  },
  {
   "cell_type": "code",
   "execution_count": null,
   "metadata": {
    "collapsed": true
   },
   "outputs": [],
   "source": [
    "ax = sns.stripplot(x=fullConsol['impose'].round(1).abs(),   jitter=True,\n",
    "                   y=fullConsol['compensation'],hue=fullConsol['gain'],\n",
    "                   split=True,palette=\"viridis\",linewidth=1)\n",
    "plt.axhline(y=1)\n",
    "\n",
    "plt.show()"
   ]
  },
  {
   "cell_type": "code",
   "execution_count": null,
   "metadata": {
    "collapsed": true
   },
   "outputs": [],
   "source": [
    "# sns.set(style=\"ticks\")\n",
    "sns.set_style(\"whitegrid\")\n",
    "# Draw a nested boxplot to show bills by day and sex\n",
    "sns.violinplot(x=fullConsol['impose'].round(1).abs() ,y=fullConsol[\"compensation\"], \n",
    "            hue=fullConsol[\"gain\"], palette=\"viridis\")\n",
    "# sns.stripplot(x=fullConsol['impose'].round(1).abs() ,y=fullConsol[\"compensation\"], \n",
    "#             hue=fullConsol[\"gain\"], palette=\"viridis\")\n",
    "plt.axhline(y=1)\n",
    "\n",
    "sns.despine(offset=1, trim=True)\n",
    "plt.show()"
   ]
  },
  {
   "cell_type": "code",
   "execution_count": null,
   "metadata": {
    "collapsed": true
   },
   "outputs": [],
   "source": [
    "# sns.set(style=\"ticks\")\n",
    "sns.set_style(\"whitegrid\")\n",
    "# Draw a nested boxplot to show bills by day and sex\n",
    "sns.violinplot(hue=fullConsol['impose'].round(1).abs() ,y=fullConsol[\"compensation\"], \n",
    "            x=fullConsol[\"gain\"], palette=\"viridis\")\n",
    "# sns.stripplot(x=fullConsol['impose'].round(1).abs() ,y=fullConsol[\"compensation\"], \n",
    "#             hue=fullConsol[\"gain\"], palette=\"viridis\")\n",
    "plt.axhline(y=1)\n",
    "\n",
    "sns.despine(offset=1, trim=True)\n",
    "plt.show()"
   ]
  },
  {
   "cell_type": "code",
   "execution_count": null,
   "metadata": {
    "collapsed": true
   },
   "outputs": [],
   "source": [
    "# sns.set(style=\"ticks\")\n",
    "sns.set_style(\"whitegrid\")\n",
    "# Draw a nested boxplot to show bills by day and sex\n",
    "sns.boxplot(hue=fullConsol['impose'].round(1).abs() ,y=fullConsol[\"compensation\"], \n",
    "            x=fullConsol[\"gain\"], palette=\"viridis\")\n",
    "# sns.stripplot(hue=fullConsol['impose'].round(1).abs() ,y=fullConsol[\"compensation\"], \n",
    "#             x=fullConsol[\"gain\"], palette=\"viridis_r\",jitter=True,split=True)\n",
    "# plt.axhline(y=1)\n",
    "\n",
    "sns.despine(offset=1, trim=True)\n",
    "plt.show()"
   ]
  },
  {
   "cell_type": "code",
   "execution_count": null,
   "metadata": {
    "collapsed": true
   },
   "outputs": [],
   "source": [
    "# sns.set(style=\"ticks\")\n",
    "sns.set_style(\"whitegrid\")\n",
    "# Draw a nested boxplot to show bills by day and sex\n",
    "sns.boxplot(x=fullConsol['impose'].round(1).abs() ,y=fullConsol[\"compensation\"], \n",
    "            hue=fullConsol[\"gain\"], palette=\"viridis\")\n",
    "# sns.stripplot(x=fullConsol['impose'].round(1).abs() ,y=fullConsol[\"compensation\"], \n",
    "#             hue=fullConsol[\"gain\"], palette=\"viridis_r\",jitter=True,split=True)\n",
    "# plt.axhline(y=1)\n",
    "\n",
    "sns.despine(offset=1, trim=True)\n",
    "plt.show()"
   ]
  },
  {
   "cell_type": "code",
   "execution_count": null,
   "metadata": {
    "collapsed": false
   },
   "outputs": [],
   "source": [
    "pickler(fullConsol,'consolidatedDF')"
   ]
  },
  {
   "cell_type": "code",
   "execution_count": null,
   "metadata": {
    "collapsed": true
   },
   "outputs": [],
   "source": [
    "a=depickler('consolidatedDF')"
   ]
  },
  {
   "cell_type": "code",
   "execution_count": null,
   "metadata": {
    "collapsed": false
   },
   "outputs": [],
   "source": [
    "a['impose']=a['impose'].abs()\n",
    "b=a.groupby(['fly','gain','impose'],as_index=False).mean()\n",
    "\n",
    "ax = sns.stripplot(hue=b['impose'].round(1).abs(),   jitter=False,\n",
    "                   y=b['compensation'],x=b['gain'],split=False,palette=\"viridis_r\",size=8)\n",
    "plt.show()"
   ]
  },
  {
   "cell_type": "code",
   "execution_count": null,
   "metadata": {
    "collapsed": true
   },
   "outputs": [],
   "source": [
    "plt.plot(b['gain'],b['compensation'])\n",
    "plt.show()"
   ]
  },
  {
   "cell_type": "code",
   "execution_count": null,
   "metadata": {
    "collapsed": false
   },
   "outputs": [],
   "source": [
    "b['gain']\n",
    "b['compensation']"
   ]
  },
  {
   "cell_type": "code",
   "execution_count": null,
   "metadata": {
    "collapsed": false
   },
   "outputs": [],
   "source": [
    "\n",
    "\n",
    "'''\n",
    "takes window title input and returns average \n",
    "compensation during stimulus period for each speed as a df\n",
    "'''\n",
    "#unknown rare bug, shabby fix\n",
    "df.trajectory__impose[0]=0\n",
    "\n",
    "impose=df.trajectory__impose.copy()\n",
    "impose[df.trajectory__impose==0]=1 #replace impose zero with one fordiv by zero\n",
    "# compensation=df.trajectory__imposeResponse/impose\n",
    "compensation=\n",
    "compensationSmooth=df.trajectory__imposeResponseSmooth/impose\n",
    "\n",
    "cp = pd.DataFrame(index=compensation.index,columns=['a'])\n",
    "\n",
    "#flips are position where there is a rise or fall\n",
    "flips=np.sign(np.diff(df.trajectory__impose))\n",
    "\n",
    "#impose is impose df without first element\n",
    "impose=df.trajectory__impose.drop(df.trajectory__impose.index[0])\n",
    "\n",
    "#cw is clockWise, ccw is Counter clockwise\n",
    "#start and stop are positions where the impose starts or stops\n",
    "#start(stop) is zero everywhere except when there is the respective start(stop) event\n",
    "ccwStart=np.logical_and((flips==1) , (impose>0))\n",
    "ccwStop=np.logical_and((flips==-1) , (impose==0))\n",
    "cwStart=np.logical_and((flips==-1) , (impose<0))\n",
    "cwStop=np.logical_and((flips==1) , (impose==0))\n",
    "\n",
    "#     plt.plot(np.array(impose),'r')\n",
    "#     plt.plot(np.array(flips),'g')\n",
    "#     plt.plot(np.array(ccwStart)*1,'b')\n",
    "#     plt.plot(np.array(ccwStop)*1,'k')\n",
    "#     plt.plot(np.array(cwStart)*1,'m')\n",
    "#     plt.plot(np.array(cwStop)*1,'y')\n",
    "#     print ccwStart.shape,ccwStop.shape\n",
    "#     print cwStart.shape,cwStop.shape\n",
    "#     plt.show()\n",
    "\n",
    "#(c)cwStart(stop)Index is just those positions where flips occured\n",
    "\n",
    "ccwStartIndex= ccwStart[ccwStart==1]\n",
    "cwStartIndex= cwStart[cwStart==1]\n",
    "ccwStopIndex= ccwStop[ccwStop==1]\n",
    "cwStopIndex= cwStop[cwStop==1]\n",
    "#     print ccwStartIndex.shape,ccwStopIndex.shape\n",
    "#     print cwStartIndex.shape,cwStopIndex.shape\n",
    "\n",
    "#     print ccwStartIndex,ccwStopIndex\n",
    "#     print cwStartIndex,cwStopIndex\n",
    "\n",
    "\n",
    "#compensationMean is a df who is zero when impose is false, \n",
    "# and has mean value of compensation during the corresponding impose\n",
    "compensationMean = pd.DataFrame(index=compensation.index,columns=['mean']) #empty df with same index\n",
    "\n",
    "# print compensation\n",
    "def compMean(start,stop,compIn,compOut):\n",
    "    consol=pd.DataFrame(columns=['fly','gain','impose','compensation'])\n",
    "\n",
    "\n",
    "    print \"calculating Mean\"\n",
    "    #if there are more starts than stop because of abrupt ending while recording\n",
    "    #remove the last start event\n",
    "    try: \n",
    "        assert len(start)==len(stop)\n",
    "    except AssertionError:\n",
    "        print 'assertion error'\n",
    "        start=start[:-1] \n",
    "\n",
    "    for i in range(len(stop)):\n",
    "#             print \"impose is\",df.trajectory__impose[start.index[i]]\n",
    "#             print \"gain is\",df.trajectory__gain[start.index[i]]\n",
    "\n",
    "\n",
    "#             print \"i mean is\",compIn.ix[start.index[i]:stop.index[i]].mean()\n",
    "        currCompensationMean=compIn.ix[start.index[i]:stop.index[i]].mean()\n",
    "        compOut.ix[start.index[i]:stop.index[i]]=currCompensationMean\n",
    "        curr=pd.DataFrame([{'fly':parameters['fly'],\n",
    "                                             \"gain\":df.trajectory__gain[start.index[i]],\n",
    "                                             \"impose\":df.trajectory__impose[start.index[i]],\n",
    "                                             'compensation':currCompensationMean}])\n",
    "        consol=consol.append(curr,ignore_index=True)        \n",
    "    cols=['fly','gain','impose','compensation']\n",
    "    consol=consol[cols]\n",
    "#         print \"total measn were\",i+1\n",
    "    return consol\n",
    "\n",
    "cw=compMean(cwStartIndex,cwStopIndex,compensation,cp)\n",
    "ccw=compMean(ccwStartIndex,ccwStopIndex,compensation,cp)\n",
    "\n",
    "\n",
    "\n",
    "#     plt.plot(df.trajectory__imposeResponseSmooth)\n",
    "#     plt.plot(compensation,c=(1,0,0,0.2))\n",
    "#     plt.plot(df.trajectory__impose)\n",
    "# #     plt.plot(cp,'g')\n",
    "#     plt.axhline(y=1)\n",
    "#     plt.title(winTitle)\n",
    "#     plt.show()\n",
    "\n"
   ]
  },
  {
   "cell_type": "code",
   "execution_count": null,
   "metadata": {
    "collapsed": true
   },
   "outputs": [],
   "source": []
  },
  {
   "cell_type": "code",
   "execution_count": null,
   "metadata": {
    "collapsed": true
   },
   "outputs": [],
   "source": []
  },
  {
   "cell_type": "code",
   "execution_count": null,
   "metadata": {
    "collapsed": true
   },
   "outputs": [],
   "source": []
  },
  {
   "cell_type": "code",
   "execution_count": null,
   "metadata": {
    "collapsed": false
   },
   "outputs": [],
   "source": [
    "impose=df.trajectory__impose.copy()\n",
    "impose[df.trajectory__impose==0]=1 #replace impose zero with one fordiv by zero\n",
    "compensation=df.trajectory__imposeResponseSmooth/impose\n",
    "# plt.plot(df.trajectory__imposeResponseSmooth)\n",
    "plt.plot(compensation,c=(1,0,0,0.2))\n",
    "plt.plot(df.trajectory__impose)\n",
    "plt.plot(cp,'g')\n",
    "plt.axhline(y=1)\n",
    "plt.show()"
   ]
  },
  {
   "cell_type": "code",
   "execution_count": null,
   "metadata": {
    "collapsed": false
   },
   "outputs": [],
   "source": [
    "parameters"
   ]
  },
  {
   "cell_type": "code",
   "execution_count": null,
   "metadata": {
    "collapsed": false
   },
   "outputs": [],
   "source": [
    "#flips are position where there is a rise or fall\n",
    "flips=np.sign(np.diff(df.trajectory__impose))\n",
    "\n",
    "#impose is impose df without first element\n",
    "impose=df.trajectory__impose.drop(df.trajectory__impose.index[0])\n",
    "\n",
    "#cw is clockWise, ccw is Counter clockwise\n",
    "#start and stop are positions where the impose starts or stops\n",
    "#start(stop) is zero everywhere except when there is the respective start(stop) event\n",
    "ccwStart=np.logical_and((flips==1) , (impose>0))\n",
    "ccwStop=np.logical_and((flips==-1) , (impose==0))\n",
    "cwStart=np.logical_and((flips==-1) , (impose<0))\n",
    "cwStop=np.logical_and((flips==1) , (impose==0))\n",
    "\n",
    "# plt.plot(np.array(impose),'r')\n",
    "# plt.plot(np.array(flips),'g')\n",
    "# plt.plot(np.array(ccwStart)*1,'b')\n",
    "# plt.plot(np.array(ccwStop)*1,'k')\n",
    "# plt.plot(np.array(cwStart)*1,'m')\n",
    "# plt.plot(np.array(cwStop)*1,'y')\n",
    "# print ccwStart.shape,ccwStop.shape\n",
    "# print cwStart.shape,cwStop.shape\n",
    "plt.show()\n",
    "\n",
    "#(c)cwStart(stop)Index is just those positions where flips occured\n",
    "\n",
    "ccwStartIndex= ccwStart[ccwStart==1]\n",
    "cwStartIndex= cwStart[cwStart==1]\n",
    "ccwStopIndex= ccwStop[ccwStop==1]\n",
    "cwStopIndex= cwStop[cwStop==1]\n",
    "print ccwStartIndex.shape\n",
    "print ccwStopIndex.shape\n",
    "\n",
    "print cwStartIndex.shape\n",
    "print cwStopIndex.shape\n",
    "\n",
    "\n",
    "cp = pd.DataFrame(index=compensation.index,columns=['a'])\n",
    "\n",
    "#compensationMean is a df who is zero when impose is false, \n",
    "# and has mean value of compensation during the corresponding impose\n",
    "compensationMean = pd.DataFrame(index=compensation.index,columns=['mean']) #empty df with same index\n",
    "\n",
    "# print compensation\n",
    "def compMean(start,stop,compIn,compOut):\n",
    "    print \"calculating Mean\"\n",
    "    #if there are more starts than stop because of abrupt ending while recording\n",
    "    #remove the last start event\n",
    "    try: \n",
    "        assert len(start)==len(stop)\n",
    "    except AssertionError:\n",
    "        print 'assertion error'\n",
    "        start=start[:-1] \n",
    "\n",
    "    for i in range(len(stop)):\n",
    "\n",
    "        print \"i mean is\",compIn.ix[start.index[i]:\n",
    "                                          stop.index[i]].mean()\n",
    "        compOut.ix[start.index[i]:stop.index[i]]=compIn.ix[start.index[i]:stop.index[i]].mean()\n",
    "\n",
    "    print \"total measn were\",i+1\n",
    "compMean(cwStartIndex,cwStopIndex,compensation,cp)\n",
    "compMean(ccwStartIndex,ccwStopIndex,compensation,cp)"
   ]
  },
  {
   "cell_type": "code",
   "execution_count": null,
   "metadata": {
    "collapsed": false
   },
   "outputs": [],
   "source": [
    "df.trajectory__imposeResponse.plot()\n",
    "df.trajectory__impose.plot()\n",
    "\n",
    "plt.show()"
   ]
  },
  {
   "cell_type": "code",
   "execution_count": null,
   "metadata": {
    "collapsed": false
   },
   "outputs": [],
   "source": [
    "plt.plot(pd.rolling_mean((df.trajectory__imposeResponse),window=10))\n",
    "plt.plot(pd.rolling_mean((df.trajectory__imposeResponse),window=100),'r')\n",
    "plt.show()\n",
    "         "
   ]
  },
  {
   "cell_type": "code",
   "execution_count": null,
   "metadata": {
    "collapsed": false
   },
   "outputs": [],
   "source": [
    "# ccwStart=pd.DataFrame(0, index=np.arange(len(df)), columns=[\"feature_list\"])\n",
    "flips=np.sign(df.trajectory__impose.diff)\n",
    "ccwStart[flips>0]=1\n",
    "plt.plot(flips)\n",
    "plt.show()"
   ]
  },
  {
   "cell_type": "code",
   "execution_count": null,
   "metadata": {
    "collapsed": false
   },
   "outputs": [],
   "source": [
    "flips=np.sign(np.diff(df.trajectory__impose))\n",
    "impose=df.trajectory__impose.drop(df.trajectory__impose.index[1])\n",
    "# a=np.roll(a,-1)\n",
    "ccwStart=np.logical_and((flips==1) , (impose>0))\n",
    "ccwStop=np.logical_and((flips==-1) , (impose==0))\n",
    "cwStart=np.logical_and((flips==-1) , (impose<0))\n",
    "cwStop=np.logical_and((flips==1) , (impose==0))\n",
    "\n",
    "plt.plot(np.array(impose),'r')\n",
    "plt.plot(np.array(flips),'g')\n",
    "plt.plot(np.array(ccwStart)*1,'b')\n",
    "plt.plot(np.array(ccwStop)*1,'k')\n",
    "plt.plot(np.array(cwStart)*1,'m')\n",
    "plt.plot(np.array(cwStop)*1,'y')\n",
    "print ccwStart.shape,ccwStop.shape\n",
    "print cwStart.shape,cwStop.shape\n",
    "\n",
    "ccwStart= ccwStart[ccwStart==1]\n",
    "cwStart= cwStart[cwStart==1]\n",
    "ccwStop= ccwStop[ccwStop==1]\n",
    "cwStop= cwStop[cwStop==1]\n",
    "print ccwStart,ccwStop\n",
    "\n",
    "plt.show()"
   ]
  },
  {
   "cell_type": "code",
   "execution_count": null,
   "metadata": {
    "collapsed": false
   },
   "outputs": [],
   "source": [
    "cp = pd.DataFrame(index=compensation.index,columns=['a'])\n",
    "# print compensation\n",
    "for i in range(len(ccwStart)):\n",
    "    try: \n",
    "        assert len(ccwStart)==len(ccwStop)\n",
    "    except AssertionError:\n",
    "        ccwStop=ccwStop[:-1]\n",
    "    \n",
    "    print \"i mean is\",compensation.ix[cwStart.index[i]:\n",
    "                                      cwStop.index[i]].mean()\n",
    "    cp.ix[cwStart.index[i]:cwStop.index[i]]=compensation.ix[cwStart.index[i]:cwStop.index[i]].mean()\n",
    "    "
   ]
  },
  {
   "cell_type": "code",
   "execution_count": null,
   "metadata": {
    "collapsed": false
   },
   "outputs": [],
   "source": [
    "a={'a':1,'b':2,'c':3,'d':5}\n",
    "b={'a':2,'b':2,'c':3,'d':5}\n",
    "\n",
    "# d.append(df, ignore_index=True)\n",
    "df=pd.DataFrame([a])\n",
    "df=df.append(pd.DataFrame([b]))#,ignore_index=True)\n",
    "print df\n",
    "# print d"
   ]
  },
  {
   "cell_type": "code",
   "execution_count": null,
   "metadata": {
    "collapsed": false
   },
   "outputs": [],
   "source": [
    "a"
   ]
  },
  {
   "cell_type": "code",
   "execution_count": null,
   "metadata": {
    "collapsed": false
   },
   "outputs": [],
   "source": [
    "print (df.trajectory__impose.shape)\n",
    "a.shape"
   ]
  },
  {
   "cell_type": "code",
   "execution_count": null,
   "metadata": {
    "collapsed": false
   },
   "outputs": [],
   "source": [
    "(.3195+.34179)/2"
   ]
  },
  {
   "cell_type": "code",
   "execution_count": null,
   "metadata": {
    "collapsed": false
   },
   "outputs": [],
   "source": [
    "plt.plot(flips)\n",
    "plt.plot(np.array(b),'r')\n",
    "\n",
    "plt.show()"
   ]
  },
  {
   "cell_type": "code",
   "execution_count": null,
   "metadata": {
    "collapsed": false
   },
   "outputs": [],
   "source": [
    "df.trajectory__wbad.plot.hist(bins=60)"
   ]
  },
  {
   "cell_type": "code",
   "execution_count": null,
   "metadata": {
    "collapsed": false
   },
   "outputs": [],
   "source": [
    "''' \n",
    "Load multiple dataframe pickle file into memory and append it\n",
    "'''\n",
    "paths=easygui.fileopenbox(multiple=True,filetypes=['*.pickle'])\n",
    "i=0\n",
    "a=range(len(paths))\n",
    "for path in paths:\n",
    "    a[i]=pd.read_pickle(path)\n",
    "\n",
    "    i+=1\n",
    "    \n",
    "df=pd.concat(a)"
   ]
  },
  {
   "cell_type": "code",
   "execution_count": null,
   "metadata": {
    "collapsed": false
   },
   "outputs": [],
   "source": [
    "#load params pickle\n",
    "path=easygui.fileopenbox()\n",
    "import cPickle as pl\n",
    "import json\n",
    "a=pl.load(open( path, \"rb\" ))\n",
    "params=a[1]"
   ]
  },
  {
   "cell_type": "code",
   "execution_count": null,
   "metadata": {
    "collapsed": false
   },
   "outputs": [],
   "source": [
    "parameters\n"
   ]
  },
  {
   "cell_type": "code",
   "execution_count": null,
   "metadata": {
    "collapsed": false
   },
   "outputs": [],
   "source": [
    "df.trajectory__trial.max()"
   ]
  },
  {
   "cell_type": "code",
   "execution_count": null,
   "metadata": {
    "collapsed": false
   },
   "outputs": [],
   "source": [
    "''' \n",
    "Load multiple bag files to be converted to dataframe\n",
    "'''\n",
    "\n",
    "paths=easygui.fileopenbox(multiple=True,filetypes=['*.bag'])\n",
    "i=0\n",
    "for path in paths:\n",
    "\n",
    "    df=rosbag_pandas.bag_to_dataframe(path,include=['/trajectory'])\n",
    "    df.columns\n",
    "    bag=rosbag.Bag(path)\n",
    "    for topic,msg,t in bag.read_messages(topics='/metadata'):\n",
    "        a=msg\n",
    "    parameters=json.loads(a.data)\n",
    "    picklepath=path+\"_df.pickle\"\n",
    "    df.to_pickle(picklepath)\n",
    "    i+=1\n",
    "    \n",
    "print \"done\""
   ]
  },
  {
   "cell_type": "code",
   "execution_count": null,
   "metadata": {
    "collapsed": false,
    "scrolled": true
   },
   "outputs": [],
   "source": [
    "'''\n",
    "plot a single df\n",
    "'''\n",
    "\n",
    "from bokeh.plotting import figure, output_file, show\n",
    "from bokeh.models.widgets import Slider\n",
    "from bokeh.io import output_file, show, vform\n",
    "\n",
    "\n",
    "slider = Slider(start=0, end=10, value=1, step=.1, title=\"Stuff\")\n",
    "\n",
    "# prepare some data\n",
    "N = len(df.trajectory__position_x)\n",
    "x = df.trajectory__position_x\n",
    "y = df.trajectory__position_y\n",
    "h=np.deg2rad(df.trajectory__orientation_x)\n",
    "\n",
    "dec=1\n",
    "x=x[::dec]\n",
    "y=y[::dec]\n",
    "h=h[::dec]\n",
    "colors = [\n",
    "    \"#%02x%02x%02x\" % (int(r), int(g), 150) for r, g in zip(50+2*x, 30+2*y)\n",
    "]\n",
    "\n",
    "# output to static HTML file (with CDN resources)\n",
    "output_file(path+\".html\", title=\"Trajectory Quad\", mode=\"cdn\")\n",
    "\n",
    "TOOLS=\"resize,crosshair,pan,wheel_zoom,box_zoom,reset,box_select,lasso_select,undo,redo,save\"\n",
    "\n",
    "# create a new plot with the tools above, and explicit ranges\n",
    "p = figure(tools=TOOLS, x_range=(0,256), y_range=(0,256),webgl=True,plot_width=1000, plot_height=1000)\n",
    "p.image(image=[np.flipud(np.rot90(np.invert((parameters[\"odourField\"])>0)*1))], \n",
    "        x=0, y=0, dw=255, dh=255, palette=\"Greys9\")\n",
    "\n",
    "# add a circle renderer with vectorized colors and sizes\n",
    "# p.circle(x,y,size=4  ,fill_alpha=0.5, line_color=None)\n",
    "\n",
    "print vform(slider)\n",
    "p.triangle(x,y,size=slider ,angle=h ,fill_alpha=0.8, line_color=None)\n",
    "# p.wedge(x, y, radius=0.2, start_angle=0.4, end_angle=4.8,\n",
    "#         color=\"firebrick\", alpha=0.6, direction=\"clock\")\n",
    "# show the results\n",
    "show(p)"
   ]
  },
  {
   "cell_type": "code",
   "execution_count": null,
   "metadata": {
    "collapsed": true
   },
   "outputs": [],
   "source": [
    "\n",
    "from bokeh.models.widgets import Slider\n",
    "from bokeh.io import output_file, show, vform\n",
    "\n",
    "output_file(\"slider.html\")\n",
    "\n",
    "slider = Slider(start=0, end=10, value=1, step=.1, title=\"Stuff\")\n",
    "\n",
    "show(vform(slider))\n",
    "\n",
    "\n",
    "import numpy as np\n",
    "\n",
    "from bokeh.layouts import row, widgetbox\n",
    "from bokeh.models import CustomJS, Slider\n",
    "from bokeh.plotting import figure, output_file, show, ColumnDataSource\n",
    "\n",
    "x = np.linspace(0, 10, 500)\n",
    "y = np.sin(x)\n",
    "\n",
    "source = ColumnDataSource(data=dict(x=x, y=y))\n",
    "\n",
    "plot = figure(y_range=(-10, 10), plot_width=400, plot_height=400)\n",
    "\n",
    "plot.line('x', 'y', source=source, line_width=3, line_alpha=0.6)\n",
    "\n",
    "callback = CustomJS(args=dict(source=source), code=\"\"\"\n",
    "    var data = source.get('data');\n",
    "    var A = amp.get('value')\n",
    "    var k = freq.get('value')\n",
    "    var phi = phase.get('value')\n",
    "    var B = offset.get('value')\n",
    "    x = data['x']\n",
    "    y = data['y']\n",
    "    for (i = 0; i < x.length; i++) {\n",
    "        y[i] = B + A*Math.sin(k*x[i]+phi);\n",
    "    }\n",
    "    source.trigger('change');\n",
    "\"\"\")\n",
    "\n",
    "amp_slider = Slider(start=0.1, end=10, value=1, step=.1,\n",
    "                    title=\"Amplitude\", callback=callback)\n",
    "callback.args[\"amp\"] = amp_slider\n",
    "\n",
    "freq_slider = Slider(start=0.1, end=10, value=1, step=.1,\n",
    "                     title=\"Frequency\", callback=callback)\n",
    "callback.args[\"freq\"] = freq_slider\n",
    "\n",
    "phase_slider = Slider(start=0, end=6.4, value=0, step=.1,\n",
    "                      title=\"Phase\", callback=callback)\n",
    "callback.args[\"phase\"] = phase_slider\n",
    "\n",
    "offset_slider = Slider(start=-5, end=5, value=0, step=.1,\n",
    "                       title=\"Offset\", callback=callback)\n",
    "callback.args[\"offset\"] = offset_slider\n",
    "\n",
    "layout = row(\n",
    "    plot,\n",
    "    widgetbox(amp_slider, freq_slider, phase_slider, offset_slider),\n",
    ")\n",
    "\n",
    "output_file(\"slider.html\", title=\"slider.py example\")\n",
    "\n",
    "show(layout)"
   ]
  },
  {
   "cell_type": "code",
   "execution_count": null,
   "metadata": {
    "collapsed": false
   },
   "outputs": [],
   "source": [
    "'''plotdoor field'''\n",
    "p = figure(x_range=(0, 255), y_range=(0,255))\n",
    "\n",
    "parameters[\"odourField\"]=np.array(parameters[\"odourField\"]['__ndarray__'])\n",
    "\n",
    "p.image(image=[np.flipud(np.rot90(rescale(parameters['odourField'], 10)))], x=0, y=0, dw=255, dh=255, palette=\"Greys3\")\n",
    "\n",
    "\n",
    "# must give a vector of image data for image parameter\n",
    "\n",
    "output_file(\"image.html\", title=\"image.py example\")\n",
    "\n",
    "show(p)  # open a browser"
   ]
  },
  {
   "cell_type": "code",
   "execution_count": null,
   "metadata": {
    "collapsed": false
   },
   "outputs": [],
   "source": [
    "# parameters[\"odourField\"]=parameters[\"odourField\"]['__ndarray__']\n",
    "parameters['odourField']=np.array((parameters[\"odourField\"]))\n",
    "from skimage.transform import rescale\n",
    "rescale(parameters['odourField'], 10).shape\n"
   ]
  },
  {
   "cell_type": "code",
   "execution_count": null,
   "metadata": {
    "collapsed": false
   },
   "outputs": [],
   "source": [
    "#load df pickle\n",
    "path=easygui.fileopenbox()\n",
    "df=pd.read_pickle(path)\n",
    "path=path.rstrip(\"_df.pickle\")"
   ]
  },
  {
   "cell_type": "code",
   "execution_count": null,
   "metadata": {
    "collapsed": false
   },
   "outputs": [],
   "source": [
    "files=easygui.fileopenbox(\"select the files to be dataframed and plotted\",multiple=True)"
   ]
  },
  {
   "cell_type": "code",
   "execution_count": null,
   "metadata": {
    "collapsed": false
   },
   "outputs": [],
   "source": [
    "'''\n",
    "plot a single df\n",
    "'''\n",
    "\n",
    "from bokeh.plotting import figure, output_file, show, gridplot\n",
    "\n",
    "# prepare some data\n",
    "N = len(df.trajectory__position_x)\n",
    "x = df.trajectory__position_x\n",
    "y = df.trajectory__position_y\n",
    "h=np.deg2rad(df.trajectory__orientation_x)\n",
    "\n",
    "dec=6\n",
    "x=x[::dec]\n",
    "y=y[::dec]\n",
    "h=h[::dec]\n",
    "colors = [\n",
    "    \"#%02x%02x%02x\" % (int(r), int(g), 150) for r, g in zip(50+2*x, 30+2*y)\n",
    "]\n",
    "\n",
    "# output to static HTML file (with CDN resources)\n",
    "output_file(path+\".html\", title=\"Trajectory Quad\", mode=\"cdn\")\n",
    "\n",
    "TOOLS=\"resize,crosshair,pan,wheel_zoom,box_zoom,reset,box_select,lasso_select,undo,redo,save\"\n",
    "\n",
    "# create a new plot with the tools above, and explicit ranges\n",
    "w=500\n",
    "h=500 \n",
    "s=3\n",
    "bl = figure(tools=TOOLS, x_range=(64-32,64+32), y_range=(32-32,32+32),webgl=True,plot_width=w, plot_height=h)\n",
    "tl = figure(tools=TOOLS, x_range=(64-32,64+32), y_range=(161-32,161+32),webgl=True,plot_width=w, plot_height=h)\n",
    "br = figure(tools=TOOLS, x_range=(193-32,193+32), y_range=(32-32,32+32),webgl=True,plot_width=w, plot_height=h)\n",
    "tr = figure(tools=TOOLS, x_range=(193-32,193+32), y_range=(161-32,161+32),webgl=True,plot_width=w, plot_height=h)\n",
    "\n",
    "bl.triangle(x,y,size=s ,angle=h ,fill_alpha=1, line_color=None)\n",
    "tl.triangle(x,y,size=s ,angle=h ,fill_alpha=1, line_color=None)\n",
    "br.triangle(x,y,size=s ,angle=h ,fill_alpha=1, line_color=None)\n",
    "tr.triangle(x,y,size=s ,angle=h ,fill_alpha=1, line_color=None)\n",
    "\n",
    "bl.image(image=[np.flipud(np.rot90(np.invert((params[\"odourField\"])>0)*1))], \n",
    "        x=0, y=0, dw=255, dh=255, palette=\"Greys9\")\n",
    "\n",
    "\n",
    "tl.image(image=[np.flipud(np.rot90(np.invert((params[\"odourField\"])>0)*1))], \n",
    "        x=0, y=0, dw=255, dh=255, palette=\"Greys9\")\n",
    "\n",
    "br.image(image=[np.flipud(np.rot90(np.invert((params[\"odourField\"])>0)*1))], \n",
    "        x=0, y=0, dw=255, dh=255, palette=\"Greys9\")\n",
    "\n",
    "tr.image(image=[np.flipud(np.rot90(np.invert((params[\"odourField\"])>0)*1))], \n",
    "        x=0, y=0, dw=255, dh=255, palette=\"Greys9\")\n",
    "\n",
    "p = gridplot([[tl, tr], [bl, br]])\n",
    "\n",
    "# add a circle renderer with vectorized colors and sizes\n",
    "# p.circle(x,y,size=4  ,fill_alpha=0.5, line_color=None)\n",
    "# p.triangle(x,y,size=4 ,angle=h ,fill_alpha=1, line_color=None)\n",
    "# p.wedge(x, y, radius=0.2, start_angle=0.4, end_angle=4.8,\n",
    "#         color=\"firebrick\", alpha=0.6, direction=\"clock\")\n",
    "# show the results\n",
    "show(p)"
   ]
  },
  {
   "cell_type": "code",
   "execution_count": null,
   "metadata": {
    "collapsed": false
   },
   "outputs": [],
   "source": [
    "params[\"odourField\"]"
   ]
  },
  {
   "cell_type": "code",
   "execution_count": null,
   "metadata": {
    "collapsed": false
   },
   "outputs": [],
   "source": [
    "a=range(0,15)\n",
    "a=a[::5]\n",
    "a"
   ]
  },
  {
   "cell_type": "code",
   "execution_count": null,
   "metadata": {
    "collapsed": false
   },
   "outputs": [],
   "source": [
    "import numpy as np\n",
    "\n",
    "from bokeh.plotting import figure, show, output_file\n",
    "\n",
    "N = 1000\n",
    "x = np.linspace(0, 10, N)\n",
    "y = np.linspace(0, 10, N)\n",
    "xx, yy = np.meshgrid(x, y)\n",
    "d = np.sin(xx)*np.cos(yy)\n",
    "\n",
    "p = figure(x_range=(0, 10), y_range=(0, 10))\n",
    "\n",
    "# must give a vector of image data for image parameter\n",
    "p.image(image=[d], x=0, y=0, dw=10, dh=10, color_mapper=1)\n",
    "\n",
    "output_file(\"image.html\", title=\"image.py example\")\n",
    "\n",
    "show(p)  # open a browser"
   ]
  },
  {
   "cell_type": "code",
   "execution_count": null,
   "metadata": {
    "collapsed": false
   },
   "outputs": [],
   "source": [
    "from hcpWorldGen import WorldGen\n",
    "df.plot.scatter('trajectory__position_x',y='trajectory__position_y',s=0.01)\n",
    "# plt.show()"
   ]
  },
  {
   "cell_type": "code",
   "execution_count": null,
   "metadata": {
    "collapsed": false,
    "scrolled": true
   },
   "outputs": [],
   "source": [
    "import numpy as np\n",
    "import matplotlib.pyplot as plt\n",
    "import pickle as pl\n",
    "\n",
    "# Plot simple sinus function\n",
    "fig_handle = plt.figure()\n",
    "x = df.trajectory__position_x\n",
    "y = df.trajectory__position_y\n",
    "\n",
    "h=np.deg2rad(df.trajectory__orientation_x)\n",
    "\n",
    "dec=1\n",
    "\n",
    "x=x[::dec]\n",
    "y=y[::dec]\n",
    "h=h[::dec]\n",
    "plt.scatter(x,y,marker='o',s=5,color=(1,0,0,0.1802))\n",
    "\n",
    "# plt.scatter(initPlot.odd[:,0],initPlot.odd[:,1],color=initPlot.oddPlotColor,marker=initPlot.oddPlotMarker)\n",
    "# plt.scatter(initPlot.even[:,0],initPlot.even[:,1],color=initPlot.evenPlotColor,marker=initPlot.evenPlotMarker),marker='|',color='g')\n",
    "# plt.axis([0,255,0,255])\n",
    "\n",
    "plt.show()\n",
    "\n",
    "\n",
    "# Save figure handle to disk\n",
    "# pl.dump(fig_handle,file('sinus.pickle','w'))\n",
    "\n"
   ]
  },
  {
   "cell_type": "code",
   "execution_count": null,
   "metadata": {
    "collapsed": false
   },
   "outputs": [],
   "source": [
    "print type(fig_handle)"
   ]
  },
  {
   "cell_type": "code",
   "execution_count": null,
   "metadata": {
    "collapsed": false
   },
   "outputs": [],
   "source": [
    "p.image(image=[d], x=0, y=0, dw=10, dh=10, palette=\"Spectral11\")"
   ]
  },
  {
   "cell_type": "code",
   "execution_count": null,
   "metadata": {
    "collapsed": false
   },
   "outputs": [],
   "source": [
    "# parameters[\"odourField\"]=np.array(parameters[\"odourField\"]['__ndarray__'])\n",
    "x = df.trajectory__position_x\n",
    "y = df.trajectory__position_y\n",
    "c=df.trajectory__valve\n",
    "h=np.deg2rad(df.trajectory__orientation_x)\n",
    "\n",
    "dec=3\n",
    "\n",
    "x=x[::dec]\n",
    "y=y[::dec]\n",
    "h=h[::dec]\n",
    "c=c[::dec]\n",
    "\n",
    "plt.imshow(np.flipud(np.rot90(parameters[\"odourField\"])),cmap='Greys')\n",
    "plt.scatter(x,y,marker='o',s=5,c=c,cmap='seismic',lw=0)\n",
    "\n",
    "plt.show()"
   ]
  },
  {
   "cell_type": "code",
   "execution_count": null,
   "metadata": {
    "collapsed": false
   },
   "outputs": [],
   "source": [
    "df.trajectory__valve.hist()\n",
    "plt.show()"
   ]
  },
  {
   "cell_type": "code",
   "execution_count": null,
   "metadata": {
    "collapsed": false
   },
   "outputs": [],
   "source": []
  },
  {
   "cell_type": "code",
   "execution_count": null,
   "metadata": {
    "collapsed": false
   },
   "outputs": [],
   "source": []
  },
  {
   "cell_type": "code",
   "execution_count": null,
   "metadata": {
    "collapsed": false
   },
   "outputs": [],
   "source": []
  },
  {
   "cell_type": "code",
   "execution_count": null,
   "metadata": {
    "collapsed": false
   },
   "outputs": [],
   "source": [
    "'''plot hex bin'''\n",
    "\n",
    "df.plot.hexbin(x='trajectory__position_x',y='trajectory__position_y',gridsize=100,cmap=plt.cm.viridis,)\n",
    "plt.show()\n"
   ]
  },
  {
   "cell_type": "code",
   "execution_count": null,
   "metadata": {
    "collapsed": false
   },
   "outputs": [],
   "source": [
    "WorldGen.initPositions"
   ]
  },
  {
   "cell_type": "code",
   "execution_count": null,
   "metadata": {
    "collapsed": false
   },
   "outputs": [],
   "source": [
    "df.plot.hexbin(x='trajectory__position_x',y='trajectory__position_y',gridsize=100)"
   ]
  },
  {
   "cell_type": "code",
   "execution_count": null,
   "metadata": {
    "collapsed": false
   },
   "outputs": [],
   "source": [
    "plt.show()"
   ]
  },
  {
   "cell_type": "code",
   "execution_count": null,
   "metadata": {
    "collapsed": false
   },
   "outputs": [],
   "source": [
    "df.columns"
   ]
  },
  {
   "cell_type": "code",
   "execution_count": null,
   "metadata": {
    "collapsed": true
   },
   "outputs": [],
   "source": []
  },
  {
   "cell_type": "code",
   "execution_count": null,
   "metadata": {
    "collapsed": false
   },
   "outputs": [],
   "source": []
  },
  {
   "cell_type": "code",
   "execution_count": null,
   "metadata": {
    "collapsed": false
   },
   "outputs": [],
   "source": [
    "plt.imshow(np.flipud(np.rot90(parameters[\"odourField\"])))\n",
    "plt.show()"
   ]
  },
  {
   "cell_type": "code",
   "execution_count": null,
   "metadata": {
    "collapsed": false
   },
   "outputs": [],
   "source": [
    "params[\"odourField\"].shape"
   ]
  },
  {
   "cell_type": "code",
   "execution_count": null,
   "metadata": {
    "collapsed": false
   },
   "outputs": [],
   "source": [
    "params"
   ]
  },
  {
   "cell_type": "code",
   "execution_count": null,
   "metadata": {
    "collapsed": false
   },
   "outputs": [],
   "source": [
    "a[1]"
   ]
  },
  {
   "cell_type": "code",
   "execution_count": null,
   "metadata": {
    "collapsed": false
   },
   "outputs": [],
   "source": [
    "2+3"
   ]
  },
  {
   "cell_type": "code",
   "execution_count": null,
   "metadata": {
    "collapsed": false
   },
   "outputs": [],
   "source": [
    "print paths"
   ]
  },
  {
   "cell_type": "code",
   "execution_count": null,
   "metadata": {
    "collapsed": false
   },
   "outputs": [],
   "source": [
    "# modules\n",
    "#------------------------------------------------------------------------------\n",
    "import numpy as np\n",
    "import matplotlib.pyplot as py\n",
    "from matplotlib import animation\n",
    "\n",
    "py.close('all') # close all previous plots\n",
    "\n",
    "# create a random line to plot\n",
    "#------------------------------------------------------------------------------\n",
    "\n",
    "x = df.trajectory__position_x\n",
    "y = df.trajectory__position_y\n",
    "t = np.linspace(0,1,x.shape[0]) # your \"time\" variable\n",
    "# py.figure(1)\n",
    "# py.scatter(0, 0, s=1)\n",
    "# py.axis([0, 255, 0, 255])\n",
    "# py.show()\n",
    "\n",
    "# animation of a scatter plot using x, y from above\n",
    "#------------------------------------------------------------------------------\n",
    "\n",
    "fig = py.figure(1)\n",
    "ax = py.axes(xlim=(0, 255), ylim=(0,255))\n",
    "scat = ax.scatter([], [], s=20,marker=(3,0,0))\n",
    "\n",
    "def init():\n",
    "    scat.set_offsets([])\n",
    "    return scat,\n",
    "\n",
    "def animate(i):\n",
    "    data = np.hstack((x[:i,np.newaxis], y[:i, np.newaxis]))\n",
    "    scat.set_offsets(data)\n",
    "    scat.se\n",
    "#     scat.set_marker('o')\n",
    "    return scat,\n",
    "\n",
    "anim = animation.FuncAnimation(fig, animate, init_func=init, frames=len(x)+1, \n",
    "                               interval=1000/165., blit=True, repeat=False)\n",
    "plt.show()"
   ]
  },
  {
   "cell_type": "code",
   "execution_count": null,
   "metadata": {
    "collapsed": false
   },
   "outputs": [],
   "source": [
    "len(df.trajectory__position_x)"
   ]
  },
  {
   "cell_type": "code",
   "execution_count": null,
   "metadata": {
    "collapsed": false
   },
   "outputs": [],
   "source": [
    "i=360\n"
   ]
  },
  {
   "cell_type": "code",
   "execution_count": null,
   "metadata": {
    "collapsed": false
   },
   "outputs": [],
   "source": [
    "import matplotlib\n"
   ]
  },
  {
   "cell_type": "code",
   "execution_count": null,
   "metadata": {
    "collapsed": false
   },
   "outputs": [],
   "source": [
    "print matplotlib.__version__"
   ]
  },
  {
   "cell_type": "code",
   "execution_count": null,
   "metadata": {
    "collapsed": true
   },
   "outputs": [],
   "source": []
  }
 ],
 "metadata": {
  "kernelspec": {
   "display_name": "Python 2",
   "language": "python",
   "name": "python2"
  },
  "language_info": {
   "codemirror_mode": {
    "name": "ipython",
    "version": 2
   },
   "file_extension": ".py",
   "mimetype": "text/x-python",
   "name": "python",
   "nbconvert_exporter": "python",
   "pygments_lexer": "ipython2",
   "version": "2.7.6"
  }
 },
 "nbformat": 4,
 "nbformat_minor": 0
}
