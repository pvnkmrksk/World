{
 "cells": [
  {
   "cell_type": "code",
   "execution_count": 2,
   "metadata": {
    "collapsed": false
   },
   "outputs": [
    {
     "name": "stderr",
     "output_type": "stream",
     "text": [
      "/usr/local/lib/python2.7/dist-packages/matplotlib/font_manager.py:273: UserWarning: Matplotlib is building the font cache using fc-list. This may take a moment.\n",
      "  warnings.warn('Matplotlib is building the font cache using fc-list. This may take a moment.')\n"
     ]
    }
   ],
   "source": [
    "import numpy as np\n",
    "import pandas as pd\n",
    "import matplotlib.pyplot as plt\n",
    "import easygui\n",
    "import seaborn as sns"
   ]
  },
  {
   "cell_type": "code",
   "execution_count": 99,
   "metadata": {
    "collapsed": false
   },
   "outputs": [],
   "source": [
    "def unit_vector(vector):\n",
    "    \"\"\" Returns the unit vector of the vector.  \"\"\"\n",
    "    return vector / np.linalg.norm(vector)\n",
    "\n",
    "def angle_between(v1, v2):\n",
    "    \"\"\" Returns the angle in radians between vectors 'v1' and 'v2'::\n",
    "\n",
    "            >>> angle_between((1, 0, 0), (0, 1, 0))\n",
    "            1.5707963267948966\n",
    "            >>> angle_between((1, 0, 0), (1, 0, 0))\n",
    "            0.0\n",
    "            >>> angle_between((1, 0, 0), (-1, 0, 0))\n",
    "            3.141592653589793\n",
    "    \"\"\"\n",
    "    v1_u = unit_vector(v1)\n",
    "    v2_u = unit_vector(v2)\n",
    "    return np.degrees(np.arccos(np.clip(np.dot(v1_u, v2_u), -1.0, 1.0)))\n",
    "\n",
    "angle=np.vectorize(angle_between)\n"
   ]
  },
  {
   "cell_type": "code",
   "execution_count": 128,
   "metadata": {
    "collapsed": true
   },
   "outputs": [],
   "source": [
    "files=easygui.fileopenbox(multiple=True)"
   ]
  },
  {
   "cell_type": "code",
   "execution_count": 119,
   "metadata": {
    "collapsed": false
   },
   "outputs": [],
   "source": [
    "# Left wing tip, left wing base, head, right wing base, right wing tip.\n",
    "fps=4000\n",
    "unitDist=0.001 #1mm\n",
    "\n",
    "i=0\n",
    "fig, ax = plt.subplots()\n",
    "\n",
    "for f in files:\n",
    "    \n",
    "    df=pd.read_csv(f)\n",
    "    df.columns\n",
    "    df=df[['pt3_X','pt3_Y','pt3_Z']]\n",
    "    df.columns=['X','Y','Z']\n",
    "    dist=df.diff().fillna(0.)\n",
    "    df['dist']=np.sqrt(dist.X**2 + dist.Y**2 + dist.Z**2)\n",
    "    dist.columns=['velX','velY','velZ']\n",
    "    df=pd.concat([df,dist],axis=1)\n",
    "    df['vel']=df.dist*fps*unitDist\n",
    "#     df.vel.hist()\n",
    "#     plt.show()\n",
    "    sns.distplot(df.vel,bins=np.arange(0,3,0.05), ax=ax, kde=True,label='fly'+str(i))\n",
    "    plt.legend()\n",
    "    plt.xlim(0,3)\n",
    "    plt.xlabel('velocity (m/s)')\n",
    "    i+=1\n",
    "plt.show()"
   ]
  },
  {
   "cell_type": "code",
   "execution_count": 129,
   "metadata": {
    "collapsed": false
   },
   "outputs": [],
   "source": [
    "# Left wing tip, left wing base, head, right wing base, right wing tip.\n",
    "fps=4000\n",
    "unitDist=0.001 #1mm\n",
    "\n",
    "i=0\n",
    "fig, ax = plt.subplots()\n",
    "\n",
    "for f in files:\n",
    "    \n",
    "    df=pd.read_csv(f)\n",
    "#     df.columns\n",
    "    df=df[['pt2_X','pt2_Y','pt2_Z','pt3_X','pt3_Y','pt3_Z','pt5_X','pt5_Y','pt5_Z']]\n",
    "    df.columns=['lX','lY','lZ','hX','hY','hZ','rX','rY','rZ']\n",
    "    df['bX']=(df.lX+df.rX)/2\n",
    "    df['bY']=(df.lY+df.rY)/2\n",
    "    df['bZ']=(df.lZ+df.rZ)/2\n",
    "\n",
    "    df['ov']=list(zip(df.bX-df.hX,df.bY-df.hY,df.bZ-df.hZ))\n",
    "    df['ovr']=np.roll(df.ov,1)\n",
    "    df['t']=angle(df.ov,df.ovr)\n",
    "    plt.hist(df.t)\n",
    "    plt.show()\n",
    "#     sns.distplot(df.t, ax=ax)\n",
    "#     sns.distplot(df.t,bins=np.arange(0,10,0.5), ax=ax, kde=True,label='fly'+str(i))\n",
    "\n",
    "#     dist=df.diff().fillna(0.)\n",
    "#     df['dist']=np.sqrt(dist.X**2 + dist.Y**2 + dist.Z**2)\n",
    "#     dist.columns=['velX','velY','velZ']\n",
    "#     df=pd.concat([df,dist],axis=1)\n",
    "#     df['vel']=df.dist*fps*unitDist\n",
    "# #     df.vel.hist()\n",
    "# #     plt.show()\n",
    "#     sns.distplot(df.vel,bins=np.arange(0,3,0.05), ax=ax, kde=True,label='fly'+str(i))\n",
    "#     plt.legend()\n",
    "#     plt.xlim(0,3)\n",
    "#     plt.xlabel('velocity (m/s)')\n",
    "#     i+=1\n",
    "# plt.show()\n",
    "df.head()\n",
    "plt.show()\n"
   ]
  },
  {
   "cell_type": "code",
   "execution_count": 113,
   "metadata": {
    "collapsed": false
   },
   "outputs": [
    {
     "data": {
      "text/plain": [
       "<matplotlib.axes._subplots.AxesSubplot at 0x7f1bb8435250>"
      ]
     },
     "execution_count": 113,
     "metadata": {},
     "output_type": "execute_result"
    }
   ],
   "source": [
    "df.t.hist()"
   ]
  },
  {
   "cell_type": "code",
   "execution_count": 116,
   "metadata": {
    "collapsed": true
   },
   "outputs": [],
   "source": [
    "df.head()\n",
    "plt.show()"
   ]
  },
  {
   "cell_type": "code",
   "execution_count": 115,
   "metadata": {
    "collapsed": false
   },
   "outputs": [
    {
     "data": {
      "text/plain": [
       "<matplotlib.axes._subplots.AxesSubplot at 0x7f1bc98ba250>"
      ]
     },
     "execution_count": 115,
     "metadata": {},
     "output_type": "execute_result"
    }
   ],
   "source": [
    "df.t.plot()"
   ]
  },
  {
   "cell_type": "code",
   "execution_count": null,
   "metadata": {
    "collapsed": true
   },
   "outputs": [],
   "source": [
    "df\n"
   ]
  }
 ],
 "metadata": {
  "kernelspec": {
   "display_name": "Python 2",
   "language": "python",
   "name": "python2"
  },
  "language_info": {
   "codemirror_mode": {
    "name": "ipython",
    "version": 2
   },
   "file_extension": ".py",
   "mimetype": "text/x-python",
   "name": "python",
   "nbconvert_exporter": "python",
   "pygments_lexer": "ipython2",
   "version": "2.7.6"
  }
 },
 "nbformat": 4,
 "nbformat_minor": 0
}
