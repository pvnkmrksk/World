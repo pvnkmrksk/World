{
 "metadata": {
  "name": ""
 },
 "nbformat": 3,
 "nbformat_minor": 0,
 "worksheets": [
  {
   "cells": [
    {
     "cell_type": "code",
     "collapsed": false,
     "input": [
      "import numpy as np\n",
      "\n",
      "from bokeh.plotting import figure, output_file, show\n",
      "\n",
      "# prepare some data\n",
      "N = 4000\n",
      "x = np.random.random(size=N) * 100\n",
      "y = np.random.random(size=N) * 100\n",
      "radii = np.random.random(size=N) * 1.5\n",
      "colors = [\n",
      "    \"#%02x%02x%02x\" % (int(r), int(g), 150) for r, g in zip(50+2*x, 30+2*y)\n",
      "]\n",
      "\n",
      "# output to static HTML file (with CDN resources)\n",
      "output_file(\"color_scatter.html\", title=\"color_scatter.py example\", mode=\"cdn\")\n",
      "\n",
      "TOOLS=\"resize,crosshair,pan,wheel_zoom,box_zoom,reset,box_select,lasso_select\"\n",
      "\n",
      "# create a new plot with the tools above, and explicit ranges\n",
      "p = figure(tools=TOOLS, x_range=(0,100), y_range=(0,100))\n",
      "\n",
      "# add a circle renderer with vectorized colors and sizes\n",
      "p.circle(x,y, radius=radii, fill_color=colors, fill_alpha=0.6, line_color=None)\n",
      "\n",
      "# show the results\n",
      "show(p)"
     ],
     "language": "python",
     "metadata": {},
     "outputs": [],
     "prompt_number": 2
    },
    {
     "cell_type": "code",
     "collapsed": false,
     "input": [],
     "language": "python",
     "metadata": {},
     "outputs": []
    }
   ],
   "metadata": {}
  }
 ]
}