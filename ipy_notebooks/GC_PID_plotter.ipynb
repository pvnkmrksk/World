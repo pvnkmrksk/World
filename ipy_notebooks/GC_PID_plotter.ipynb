{
 "cells": [
  {
   "cell_type": "code",
   "execution_count": 12,
   "metadata": {
    "collapsed": false
   },
   "outputs": [],
   "source": [
    "# %matplotlib inline\n",
    "import pandas as pd\n",
    "import numpy as np\n",
    "import easygui\n",
    "import matplotlib.pyplot as plt\n",
    "import seaborn as sns\n",
    "import matplotlib\n",
    "import collections\n",
    "import bokeh.charts\n",
    "import bokeh.charts.utils\n",
    "import bokeh.io\n",
    "import bokeh.models\n",
    "import bokeh.palettes\n",
    "import bokeh.plotting\n"
   ]
  },
  {
   "cell_type": "code",
   "execution_count": 14,
   "metadata": {
    "collapsed": false
   },
   "outputs": [],
   "source": [
    "\n",
    "def osc(files,timeBase=2.5,proc=collections.OrderedDict(),meanLen=300,prestim=200,scale1=1,\n",
    "        scale2=100,rollWindow=100,threshold=2,xlim=(0,1300),ylim=(-0.01,0.04),\n",
    "        lims=True,metaLabel=None,exceptions=None,):\n",
    "    \n",
    "    Yoffsets=collections.OrderedDict()\n",
    "    Xoffsets=collections.OrderedDict()\n",
    "    area=collections.OrderedDict()\n",
    "    def exceptionHandler(exceptions,df):\n",
    "        if exceptions:#handle exception if dict present\n",
    "            for key, value in exceptions.iteritems():\n",
    "                if key in file:\n",
    "#                     print file\n",
    "#                     print len(df)\n",
    "                    df=df[value:]#delete 1st n items which are junk\n",
    "#                     print len(df)\n",
    "        return df\n",
    "\n",
    "    def readFile(file):\n",
    "        df=pd.read_csv(file)\n",
    "        df=df.ix[:,4]\n",
    "        df=df.dropna()\n",
    "#         timeBase=timeBase #seconds/div\n",
    "        \n",
    "        return df\n",
    "\n",
    "    for file in files:\n",
    "        df=readFile(file)\n",
    "            \n",
    "        if 'CH2' in file:\n",
    "\n",
    "            \n",
    "            df=exceptionHandler(exceptions,df)\n",
    "            ind=file.index('CH')\n",
    "            label=file[ind-2:ind]\n",
    "            \n",
    "#             Yoffset=3.5\n",
    "            Yoffset = df.ix[1:meanLen].mean()\n",
    "            thresh=(df.diff()>threshold)\n",
    "            fall=thresh[thresh==True]\n",
    "#             Xoffset=fall.index[0]\n",
    "            try:\n",
    "                Xoffset=fall.index[0]\n",
    "            except IndexError:\n",
    "                print \"No trigger pulse for\",label \n",
    "                Xoffset=0\n",
    "                \n",
    "            Xoffsets[label]=Xoffset\n",
    "\n",
    "            df=df-Yoffset\n",
    "            df=df/scale2\n",
    "            df=abs(df) #flipping\n",
    "            df=df.ix[Xoffsets[label]-prestim:]\n",
    "            df.index/=timeBase*10. #seconds/div*noofdiv\n",
    "    \n",
    "            proc['trig_fname'+label]=df\n",
    "            plt.plot(df,label='trig')\n",
    "\n",
    "#     plt.plot(df,label='trig')\n",
    "\n",
    "    # plt.show()\n",
    "\n",
    "\n",
    "\n",
    "    for file in files:\n",
    "        df=readFile(file)\n",
    "\n",
    "#         df=pd.read_csv(file)\n",
    "#         df=df.ix[:,4]\n",
    "#         df=df.dropna()\n",
    "        if 'CH1' in file:\n",
    "            \n",
    "            df=exceptionHandler(exceptions,df)\n",
    "\n",
    "            Yoffset =df[1:meanLen].mean() #1st point is off\n",
    "            ind=file.index('CH')\n",
    "            \n",
    "            label=file[ind-2:ind]\n",
    "            Yoffsets[label]=Yoffset\n",
    "            df=df-Yoffset\n",
    "            df=df/scale1\n",
    "            try:\n",
    "                df=df.ix[Xoffsets[label]-prestim:]\n",
    "            except KeyError:\n",
    "                Xoffsets[label]=0\n",
    "                df=df.ix[Xoffsets[label]-prestim:]\n",
    "\n",
    "            df=df.rolling(window=rollWindow).mean()\n",
    "            if metaLabel:\n",
    "                try:\n",
    "                    label=metaLabel[int(label)]+'_fname'+label\n",
    "                except KeyError:\n",
    "                    print \"%s key missing\"%label\n",
    "            \n",
    "            df.index/=timeBase*10. #seconds/div*noofdiv\n",
    "\n",
    "            proc[label]=df\n",
    "            df.dropna()\n",
    "            area[label]=np.trapz(df.iloc[200:800])\n",
    "            plt.plot(df,label=label)\n",
    "            \n",
    "\n",
    "    if lims:\n",
    "        plt.xlim(xlim)\n",
    "        plt.ylim(ylim)\n",
    "        \n",
    "    proc=pd.DataFrame(proc)\n",
    "#     proc=proc.dropna()\n",
    "#     print proc\n",
    "    print area\n",
    "    return proc,area\n",
    "\n",
    "#     plt.legend()\n",
    "#     plt.show()\n",
    "    \n"
   ]
  },
  {
   "cell_type": "code",
   "execution_count": 4,
   "metadata": {
    "collapsed": true
   },
   "outputs": [],
   "source": [
    "files08=easygui.fileopenbox(filetypes=['*.CSV'],multiple=True,)"
   ]
  },
  {
   "cell_type": "code",
   "execution_count": 21,
   "metadata": {
    "collapsed": false
   },
   "outputs": [
    {
     "name": "stdout",
     "output_type": "stream",
     "text": [
      "OrderedDict([('ODP small nozzle 0.5/off_fname08', 6.712283935742966), ('0 0 col_fname09', 11.177661542168671), ('0.5 0 col_fname10', -4.3415407068272973), ('0.5 0 nozzle_fname11', -5.6630680481927662), ('0.5, 0.5 nozzle_fname12', -1.9539499919678731)])\n"
     ]
    }
   ],
   "source": [
    "files08=easygui.fileopenbox(filetypes=['*.CSV'],multiple=True,)\n",
    "df,area=osc(files08,scale1=10,metaLabel=metaLabel,meanLen=250,\n",
    "            exceptions={'50':140,'45':300,'51':200,'55':275,'82':200,'80':400,'81':100},lims=False)\n",
    "timeBase=2.5 #seconds/div\n",
    "df.index/=timeBase*10. #seconds/div*noofdiv\n",
    "plt.legend()\n",
    "plt.show()\n"
   ]
  },
  {
   "cell_type": "code",
   "execution_count": 7,
   "metadata": {
    "collapsed": false
   },
   "outputs": [
    {
     "name": "stdout",
     "output_type": "stream",
     "text": [
      "OrderedDict([('ODP 0.5/0.5_fname35', 0.37041094779116646)])\n"
     ]
    }
   ],
   "source": [
    "df,area=osc(files08,scale1=10,metaLabel=metaLabel,meanLen=250,\n",
    "            exceptions={'50':140,'45':300,'55':275,'82':200,'80':400,'81':100},lims=False)\n",
    "timeBase=2.5 #seconds/div\n",
    "df.index/=timeBase*10. #seconds/div*noofdiv\n",
    "plt.legend()\n",
    "plt.show()\n"
   ]
  },
  {
   "cell_type": "code",
   "execution_count": 19,
   "metadata": {
    "collapsed": true
   },
   "outputs": [],
   "source": [
    "metaLabel={\n",
    "    35:'ODP 0.5/0.5',\n",
    "    46:'TYGON 0.5/0.5',\n",
    "    0:'ODP 0.5/0.5',\n",
    "    2:'ODP 0.5/off',\n",
    "    6:'ODP small nozzle 0.5/0.5',\n",
    "    8:'ODP small nozzle 0.5/off',\n",
    "    9:'0 0 col',\n",
    "    10:'0.5 0 col',\n",
    "    11:'0.5 0 nozzle',\n",
    "    12:'0.5, 0.5 nozzle',\n",
    "    13:'0.5 0 insect'\n",
    "}"
   ]
  },
  {
   "cell_type": "code",
   "execution_count": 32,
   "metadata": {
    "collapsed": true
   },
   "outputs": [],
   "source": [
    "# df.to_csv('all.csv')\n",
    "pd.re"
   ]
  },
  {
   "cell_type": "code",
   "execution_count": 8,
   "metadata": {
    "collapsed": false
   },
   "outputs": [
    {
     "name": "stderr",
     "output_type": "stream",
     "text": [
      "/usr/local/lib/python2.7/dist-packages/numpy/lib/function_base.py:3834: RuntimeWarning: Invalid value encountered in percentile\n",
      "  RuntimeWarning)\n"
     ]
    },
    {
     "data": {
      "text/html": [
       "<div>\n",
       "<table border=\"1\" class=\"dataframe\">\n",
       "  <thead>\n",
       "    <tr style=\"text-align: right;\">\n",
       "      <th></th>\n",
       "      <th>ODP 0.5/0.5_fname35</th>\n",
       "    </tr>\n",
       "  </thead>\n",
       "  <tbody>\n",
       "    <tr>\n",
       "      <th>count</th>\n",
       "      <td>2400.000000</td>\n",
       "    </tr>\n",
       "    <tr>\n",
       "      <th>mean</th>\n",
       "      <td>-0.000044</td>\n",
       "    </tr>\n",
       "    <tr>\n",
       "      <th>std</th>\n",
       "      <td>0.005495</td>\n",
       "    </tr>\n",
       "    <tr>\n",
       "      <th>min</th>\n",
       "      <td>-0.009916</td>\n",
       "    </tr>\n",
       "    <tr>\n",
       "      <th>25%</th>\n",
       "      <td>NaN</td>\n",
       "    </tr>\n",
       "    <tr>\n",
       "      <th>50%</th>\n",
       "      <td>NaN</td>\n",
       "    </tr>\n",
       "    <tr>\n",
       "      <th>75%</th>\n",
       "      <td>NaN</td>\n",
       "    </tr>\n",
       "    <tr>\n",
       "      <th>max</th>\n",
       "      <td>0.014342</td>\n",
       "    </tr>\n",
       "  </tbody>\n",
       "</table>\n",
       "</div>"
      ],
      "text/plain": [
       "       ODP 0.5/0.5_fname35\n",
       "count          2400.000000\n",
       "mean             -0.000044\n",
       "std               0.005495\n",
       "min              -0.009916\n",
       "25%                    NaN\n",
       "50%                    NaN\n",
       "75%                    NaN\n",
       "max               0.014342"
      ]
     },
     "execution_count": 8,
     "metadata": {},
     "output_type": "execute_result"
    }
   ],
   "source": [
    "df.describe()"
   ]
  },
  {
   "cell_type": "code",
   "execution_count": 11,
   "metadata": {
    "collapsed": false
   },
   "outputs": [],
   "source": [
    "from pyqtgraph import examples\n",
    "examples.run()"
   ]
  },
  {
   "cell_type": "code",
   "execution_count": 37,
   "metadata": {
    "collapsed": false
   },
   "outputs": [
    {
     "ename": "TypeError",
     "evalue": "'_list_attr_splat' object is not callable",
     "output_type": "error",
     "traceback": [
      "\u001b[1;31m---------------------------------------------------------------------------\u001b[0m",
      "\u001b[1;31mTypeError\u001b[0m                                 Traceback (most recent call last)",
      "\u001b[1;32m<ipython-input-37-1e2e1202408a>\u001b[0m in \u001b[0;36m<module>\u001b[1;34m()\u001b[0m\n\u001b[0;32m     15\u001b[0m                 \u001b[0mline_color\u001b[0m\u001b[1;33m=\u001b[0m\u001b[0mmypalette\u001b[0m\u001b[1;33m,\u001b[0m\u001b[1;33m\u001b[0m\u001b[0m\n\u001b[0;32m     16\u001b[0m                 line_width=5)\n\u001b[1;32m---> 17\u001b[1;33m \u001b[0mp\u001b[0m\u001b[1;33m.\u001b[0m\u001b[0mlegend\u001b[0m\u001b[1;33m(\u001b[0m\u001b[1;33m)\u001b[0m\u001b[1;33m\u001b[0m\u001b[0m\n\u001b[0m\u001b[0;32m     18\u001b[0m \u001b[0mshow\u001b[0m\u001b[1;33m(\u001b[0m\u001b[0mp\u001b[0m\u001b[1;33m)\u001b[0m\u001b[1;33m\u001b[0m\u001b[0m\n",
      "\u001b[1;31mTypeError\u001b[0m: '_list_attr_splat' object is not callable"
     ]
    }
   ],
   "source": [
    "import pandas as pd\n",
    "import numpy as np\n",
    "from bokeh.palettes import Spectral11\n",
    "from bokeh.plotting import figure, show, output_file\n",
    "output_file('temp.html')\n",
    "\n",
    "# toy_df = pd.DataFrame(data=np.random.rand(5,3), columns = ('a', 'b' ,'c'), index = pd.DatetimeIndex(start='01-01-2015',periods=5, freq='d'))   \n",
    "toy_df=df\n",
    "numlines=len(toy_df.columns)\n",
    "mypalette=Spectral11[0:numlines]\n",
    "\n",
    "p = figure(width=1000, height=500, x_axis_type=\"datetime\",) \n",
    "p.multi_line(xs=[toy_df.index.values]*numlines,\n",
    "                ys=[toy_df[name].values for name in toy_df],\n",
    "                line_color=mypalette,\n",
    "                line_width=5)\n",
    "show(p)"
   ]
  },
  {
   "cell_type": "code",
   "execution_count": 40,
   "metadata": {
    "collapsed": false
   },
   "outputs": [
    {
     "ename": "NameError",
     "evalue": "name 'ColumnDataSource' is not defined",
     "output_type": "error",
     "traceback": [
      "\u001b[1;31m---------------------------------------------------------------------------\u001b[0m",
      "\u001b[1;31mNameError\u001b[0m                                 Traceback (most recent call last)",
      "\u001b[1;32m<ipython-input-40-32afa2f95f3b>\u001b[0m in \u001b[0;36m<module>\u001b[1;34m()\u001b[0m\n\u001b[0;32m     31\u001b[0m     \u001b[0mname_for_display\u001b[0m \u001b[1;33m=\u001b[0m \u001b[0mnp\u001b[0m\u001b[1;33m.\u001b[0m\u001b[0mtile\u001b[0m\u001b[1;33m(\u001b[0m\u001b[0mname\u001b[0m\u001b[1;33m,\u001b[0m \u001b[1;33m[\u001b[0m\u001b[0mlen\u001b[0m\u001b[1;33m(\u001b[0m\u001b[0mtoy_df\u001b[0m\u001b[1;33m.\u001b[0m\u001b[0mindex\u001b[0m\u001b[1;33m)\u001b[0m\u001b[1;33m,\u001b[0m\u001b[1;36m1\u001b[0m\u001b[1;33m]\u001b[0m\u001b[1;33m)\u001b[0m\u001b[1;33m\u001b[0m\u001b[0m\n\u001b[0;32m     32\u001b[0m \u001b[1;33m\u001b[0m\u001b[0m\n\u001b[1;32m---> 33\u001b[1;33m     \u001b[0msource\u001b[0m \u001b[1;33m=\u001b[0m \u001b[0mColumnDataSource\u001b[0m\u001b[1;33m(\u001b[0m\u001b[1;33m{\u001b[0m\u001b[1;34m'x'\u001b[0m\u001b[1;33m:\u001b[0m \u001b[0mtoy_df\u001b[0m\u001b[1;33m.\u001b[0m\u001b[0mindex\u001b[0m\u001b[1;33m,\u001b[0m \u001b[1;34m'y'\u001b[0m\u001b[1;33m:\u001b[0m \u001b[0mseries\u001b[0m\u001b[1;33m.\u001b[0m\u001b[0mvalues\u001b[0m\u001b[1;33m,\u001b[0m \u001b[1;34m'series_name'\u001b[0m\u001b[1;33m:\u001b[0m \u001b[0mname_for_display\u001b[0m\u001b[1;33m,\u001b[0m \u001b[1;34m'Date'\u001b[0m\u001b[1;33m:\u001b[0m \u001b[0mtoy_df\u001b[0m\u001b[1;33m.\u001b[0m\u001b[0mindex\u001b[0m\u001b[1;33m.\u001b[0m\u001b[0mformat\u001b[0m\u001b[1;33m(\u001b[0m\u001b[1;33m)\u001b[0m\u001b[1;33m}\u001b[0m\u001b[1;33m)\u001b[0m\u001b[1;33m\u001b[0m\u001b[0m\n\u001b[0m\u001b[0;32m     34\u001b[0m     \u001b[1;31m# trouble formating x as datestring, so pre-formating and using an extra column. It's not pretty but it works.\u001b[0m\u001b[1;33m\u001b[0m\u001b[1;33m\u001b[0m\u001b[0m\n\u001b[0;32m     35\u001b[0m \u001b[1;33m\u001b[0m\u001b[0m\n",
      "\u001b[1;31mNameError\u001b[0m: name 'ColumnDataSource' is not defined"
     ]
    }
   ],
   "source": [
    "import pandas as pd\n",
    "import numpy as np\n",
    "from bokeh.charts import TimeSeries\n",
    "from bokeh.models import HoverTool\n",
    "from bokeh.plotting import show\n",
    "\n",
    "toy_df = pd.DataFrame(data=np.random.rand(5,3), columns = ('a', 'b' ,'c'), index = pd.DatetimeIndex(start='01-01-2015',periods=5, freq='d'))       \n",
    "_tools_to_show = 'box_zoom,pan,save,hover,resize,reset,tap,wheel_zoom'        \n",
    "# toy_df = df\n",
    "\n",
    "p = figure(width=1200, height=900, x_axis_type=\"datetime\", tools=_tools_to_show)\n",
    "\n",
    "\n",
    "# FIRST plot ALL lines (This is a hack to get it working, why can't i pass in a dataframe to multi_line?)   \n",
    "# It's not pretty but it works. \n",
    "# what I want to do!: p.multi_line(df)\n",
    "ts_list_of_list = []\n",
    "for i in range(0,len(toy_df.columns)):\n",
    "    ts_list_of_list.append(toy_df.index.T)\n",
    "\n",
    "vals_list_of_list = toy_df.values.T.tolist()\n",
    "\n",
    "# Define colors because otherwise multi_line will use blue for all lines...\n",
    "cols_to_use =  ['Black', 'Red', 'Lime']\n",
    "p.multi_line(ts_list_of_list, vals_list_of_list, line_color=cols_to_use)\n",
    "\n",
    "\n",
    "# THEN put  scatter one at a time on top of each one to get tool tips (HACK! lines with tooltips not yet supported by Bokeh?) \n",
    "for (name, series) in toy_df.iteritems():\n",
    "    # need to repmat the name to be same dimension as index\n",
    "    name_for_display = np.tile(name, [len(toy_df.index),1])\n",
    "\n",
    "    source = ColumnDataSource({'x': toy_df.index, 'y': series.values, 'series_name': name_for_display, 'Date': toy_df.index.format()})\n",
    "    # trouble formating x as datestring, so pre-formating and using an extra column. It's not pretty but it works.\n",
    "\n",
    "    p.scatter('x', 'y', source = source, fill_alpha=0, line_alpha=0.3, line_color=\"grey\")     \n",
    "\n",
    "    hover = p.select(dict(type=HoverTool))\n",
    "    hover.tooltips = [(\"Series\", \"@series_name\"), (\"Date\", \"@Date\"),  (\"Value\", \"@y{0.00%}\"),]\n",
    "    hover.mode = 'mouse'\n",
    "\n",
    "show(p)"
   ]
  },
  {
   "cell_type": "code",
   "execution_count": 5,
   "metadata": {
    "collapsed": false
   },
   "outputs": [],
   "source": [
    "metaLabel={20:'0.5 5.8', 21:'1.5 5.8',22:'off off',23:'0.5 5.8',25:'0.5 30',27:'0.5 55',28:'0.5 15', 29:'0.5 off',\n",
    "          30:'1_lpm',31:'1.5_lpm',32:'0.5_lpm',33:'2_lpm',\n",
    "           34:'0lpm',45:'splitless',\n",
    "           46:'split',50:'white obj',52:'cone adjust',57:'split loose',62:'direct',63:'direct gap' ,\n",
    "           65:'split',\n",
    "           66:'split',\n",
    "           70:'flush',\n",
    "           71:'not flush',\n",
    "           72:'flush',\n",
    "           73:'new',\n",
    "           75:'pipette',\n",
    "           76:'0.1ul pure',\n",
    "           77:'0.5s pipette',\n",
    "           78:'3s pipette',\n",
    "           80:'pure 0.1ul splitless',\n",
    "           81:'0.1ul 10E-2 splitless',\n",
    "           82:'pure 0.1ul split 1:1',\n",
    "           84:'0.1ul 10E-2  split 1:1'\n",
    "          }"
   ]
  },
  {
   "cell_type": "code",
   "execution_count": 63,
   "metadata": {
    "collapsed": false
   },
   "outputs": [],
   "source": [
    "df.plot()\n",
    "plt.show()"
   ]
  },
  {
   "cell_type": "code",
   "execution_count": null,
   "metadata": {
    "collapsed": false
   },
   "outputs": [],
   "source": [
    "df=None"
   ]
  },
  {
   "cell_type": "code",
   "execution_count": null,
   "metadata": {
    "collapsed": false
   },
   "outputs": [],
   "source": [
    "area"
   ]
  },
  {
   "cell_type": "code",
   "execution_count": null,
   "metadata": {
    "collapsed": false
   },
   "outputs": [],
   "source": [
    "# df['48'].plot()\n",
    "# plt.show()\n",
    "# np.trapz(df['48']\n",
    "np.trapz(df['48'].iloc[260:1000])-df['48'].iloc[250:1000].sum()"
   ]
  },
  {
   "cell_type": "code",
   "execution_count": null,
   "metadata": {
    "collapsed": false
   },
   "outputs": [],
   "source": [
    "df['48'].iloc[250:1000].sum()"
   ]
  },
  {
   "cell_type": "code",
   "execution_count": null,
   "metadata": {
    "collapsed": false
   },
   "outputs": [],
   "source": [
    "p = bokeh.charts.Line(df)\n",
    "\n",
    "# Display it\n",
    "bokeh.io.show(p)"
   ]
  },
  {
   "cell_type": "code",
   "execution_count": null,
   "metadata": {
    "collapsed": true
   },
   "outputs": [],
   "source": [
    "from bokeh.charts import Histogram, output_file, show\n",
    "from bokeh.sampledata.autompg import autompg as df\n",
    "\n",
    "p = Histogram(df, values='hp', color='cyl',\n",
    "              title=\"HP Distribution (color grouped by CYL)\",\n",
    "              legend='top_right')\n",
    "\n",
    "output_file(\"histogram_color.html\")\n",
    "\n",
    "show(p)"
   ]
  },
  {
   "cell_type": "code",
   "execution_count": null,
   "metadata": {
    "collapsed": false
   },
   "outputs": [],
   "source": [
    "files31 = easygui.fileopenbox(filetypes=['*.CSV'],multiple=True)\n",
    "files01 = easygui.fileopenbox(filetypes=['*.CSV'],multiple=True)\n",
    "files01h = easygui.fileopenbox(filetypes=['*.CSV'],multiple=True)\n"
   ]
  },
  {
   "cell_type": "code",
   "execution_count": null,
   "metadata": {
    "collapsed": false
   },
   "outputs": [],
   "source": [
    "#13 15\n",
    "df=osc(files31)\n",
    "\n",
    "#20 27\n",
    "df=osc(files01,scale1=10,metaLabel=metaLabel,proc=df)\n",
    "\n",
    "df=osc(files01h,scale1=10,metaLabel=metaLabel,proc=df)\n",
    "\n",
    "timeBase=5 #seconds/div\n",
    "df.index/=timeBase*10. #seconds/div*noofdiv\n",
    "plt.legend()\n",
    "plt.show()\n",
    "df.index"
   ]
  },
  {
   "cell_type": "code",
   "execution_count": null,
   "metadata": {
    "collapsed": true
   },
   "outputs": [],
   "source": [
    "df.to_csv('test.csv')"
   ]
  },
  {
   "cell_type": "code",
   "execution_count": null,
   "metadata": {
    "collapsed": false
   },
   "outputs": [],
   "source": [
    "158+180+174+232+370+366+380+171+469+269+133+468+206+190+400+275+158+200+190+100+213+363+420+221+290+127+249+115+225+200+284\n"
   ]
  },
  {
   "cell_type": "code",
   "execution_count": null,
   "metadata": {
    "collapsed": false
   },
   "outputs": [],
   "source": [
    "554+633+570+776+728+791+765+733+716+949+621"
   ]
  },
  {
   "cell_type": "code",
   "execution_count": null,
   "metadata": {
    "collapsed": false
   },
   "outputs": [],
   "source": [
    "3893+744+131+8825+2585+73+486"
   ]
  },
  {
   "cell_type": "code",
   "execution_count": null,
   "metadata": {
    "collapsed": false
   },
   "outputs": [],
   "source": [
    "4930+4424+4039+4897+3428+3661"
   ]
  },
  {
   "cell_type": "code",
   "execution_count": null,
   "metadata": {
    "collapsed": false
   },
   "outputs": [],
   "source": [
    "2075+1042+1076+1259+2016"
   ]
  },
  {
   "cell_type": "code",
   "execution_count": null,
   "metadata": {
    "collapsed": false
   },
   "outputs": [],
   "source": [
    "422+4917+2459+1934+273+390+569+2595+1484+569+991+829+219+917+1424+1730"
   ]
  },
  {
   "cell_type": "code",
   "execution_count": null,
   "metadata": {
    "collapsed": false
   },
   "outputs": [],
   "source": [
    "7796+7836+16737+25379+7468+21722"
   ]
  },
  {
   "cell_type": "code",
   "execution_count": null,
   "metadata": {
    "collapsed": true
   },
   "outputs": [],
   "source": [
    "250+300+500+"
   ]
  },
  {
   "cell_type": "code",
   "execution_count": 23,
   "metadata": {
    "collapsed": true
   },
   "outputs": [],
   "source": [
    "import numpy as np"
   ]
  },
  {
   "cell_type": "code",
   "execution_count": 27,
   "metadata": {
    "collapsed": false
   },
   "outputs": [],
   "source": [
    "b=1\n",
    "r=range(100)\n"
   ]
  },
  {
   "cell_type": "code",
   "execution_count": 32,
   "metadata": {
    "collapsed": false
   },
   "outputs": [],
   "source": [
    "t=2*np.arctan(b/(2.0*np.array(r)))"
   ]
  },
  {
   "cell_type": "code",
   "execution_count": 33,
   "metadata": {
    "collapsed": true
   },
   "outputs": [],
   "source": [
    "plt.plot(r,t)\n",
    "plt.show()"
   ]
  },
  {
   "cell_type": "code",
   "execution_count": 8,
   "metadata": {
    "collapsed": false
   },
   "outputs": [
    {
     "data": {
      "text/plain": [
       "30691"
      ]
     },
     "execution_count": 8,
     "metadata": {},
     "output_type": "execute_result"
    }
   ],
   "source": [
    "'amazon'\n",
    "# 12762+4058+1364+1465\n",
    "640+5049+6433-1080+12762+4058+1364+1465\n",
    "12762+4058+1364+6433-1080+1465+5049+640"
   ]
  },
  {
   "cell_type": "code",
   "execution_count": 3,
   "metadata": {
    "collapsed": false
   },
   "outputs": [
    {
     "data": {
      "text/plain": [
       "22613"
      ]
     },
     "execution_count": 3,
     "metadata": {},
     "output_type": "execute_result"
    }
   ],
   "source": [
    "'om'\n",
    "422+4917+2459+1934+273+390+569+2595+1484+569+991+829+219+917+1424+1730+733+158"
   ]
  },
  {
   "cell_type": "code",
   "execution_count": 6,
   "metadata": {
    "collapsed": false
   },
   "outputs": [
    {
     "data": {
      "text/plain": [
       "20596"
      ]
     },
     "execution_count": 6,
     "metadata": {},
     "output_type": "execute_result"
    }
   ],
   "source": [
    "'misc big'\n",
    "4897+5546+6654+3499"
   ]
  },
  {
   "cell_type": "code",
   "execution_count": 4,
   "metadata": {
    "collapsed": false
   },
   "outputs": [
    {
     "data": {
      "text/plain": [
       "7316"
      ]
     },
     "execution_count": 4,
     "metadata": {},
     "output_type": "execute_result"
    }
   ],
   "source": [
    "'misc 500+'\n",
    "400+468+728+949+469+621+776+716+765+791+633"
   ]
  },
  {
   "cell_type": "code",
   "execution_count": 5,
   "metadata": {
    "collapsed": false
   },
   "outputs": [
    {
     "data": {
      "text/plain": [
       "4575"
      ]
     },
     "execution_count": 5,
     "metadata": {},
     "output_type": "execute_result"
    }
   ],
   "source": [
    "'misc --500-'\n",
    "174+180+127+140+171+380+370+366+232+115+225+200+363+213+100+190+200+158+275+190+206"
   ]
  },
  {
   "cell_type": "code",
   "execution_count": 7,
   "metadata": {
    "collapsed": false
   },
   "outputs": [
    {
     "data": {
      "text/plain": [
       "1215"
      ]
     },
     "execution_count": 7,
     "metadata": {},
     "output_type": "execute_result"
    }
   ],
   "source": [
    "290+221+420+284"
   ]
  },
  {
   "cell_type": "code",
   "execution_count": null,
   "metadata": {
    "collapsed": true
   },
   "outputs": [],
   "source": []
  }
 ],
 "metadata": {
  "kernelspec": {
   "display_name": "Python 2",
   "language": "python",
   "name": "python2"
  },
  "language_info": {
   "codemirror_mode": {
    "name": "ipython",
    "version": 2
   },
   "file_extension": ".py",
   "mimetype": "text/x-python",
   "name": "python",
   "nbconvert_exporter": "python",
   "pygments_lexer": "ipython2",
   "version": "2.7.6"
  }
 },
 "nbformat": 4,
 "nbformat_minor": 0
}
