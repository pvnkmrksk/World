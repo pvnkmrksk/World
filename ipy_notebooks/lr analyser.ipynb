{
 "cells": [
  {
   "cell_type": "code",
   "execution_count": 3,
   "metadata": {
    "collapsed": false
   },
   "outputs": [],
   "source": [
    "# %matplotlib inline\n",
    "# import mpld3\n",
    "# mpld3.enable_notebook()\n",
    "import rosbag_pandas\n",
    "import pandas as pd\n",
    "import matplotlib.pyplot as plt\n",
    "import easygui\n",
    "import rosbag\n",
    "import json_tricks as json\n",
    "import numpy as np\n",
    "import cPickle as pkl\n",
    "import time\n",
    "import seaborn as sns\n",
    "from matplotlib.patches import Rectangle, Circle\n",
    "# import mpld3\n",
    "# mpld3.enable_notebook()\n",
    "def TicTocGenerator():\n",
    "    # Generator that returns time differences\n",
    "    ti = 0           # initial time\n",
    "    tf = time.time() # final time\n",
    "    while True:\n",
    "        ti = tf\n",
    "        tf = time.time()\n",
    "        yield tf-ti # returns the time difference\n",
    "\n",
    "TicToc = TicTocGenerator() # create an instance of the TicTocGen generator\n",
    "\n",
    "# This will be the main function through which we define both tic() and toc()\n",
    "def toc(tempBool=True):\n",
    "    # Prints the time difference yielded by generator instance TicToc\n",
    "    tempTimeInterval = next(TicToc)\n",
    "    if tempBool:\n",
    "        print( \"Elapsed time: %f seconds.\\n\" %tempTimeInterval )\n",
    "\n",
    "def tic():\n",
    "    # Records a time in TicToc, marks the beginning of a time interval\n",
    "    toc(False)\n",
    "    \n",
    "def pickler( obj, path):\n",
    "    \"\"\"\n",
    "    Pickle a Python object\n",
    "    \"\"\"\n",
    "    with open(path, \"wb\") as pfile:\n",
    "        pkl.dump(obj, pfile)\n",
    "\n",
    "def depickler( path):\n",
    "    \"\"\"\n",
    "    Extracts a pickled Python object and returns it\n",
    "    \"\"\"\n",
    "    with open(path, \"rb\") as pfile:\n",
    "        data = pkl.load(pfile)\n",
    "    return data\n",
    "def circles(x, y, s, c='b',ax=None, vmin=None, vmax=None, **kwargs):\n",
    "    \"\"\"\n",
    "    Make a scatter of circles plot of x vs y, where x and y are sequence \n",
    "    like objects of the same lengths. The size of circles are in data scale.\n",
    "\n",
    "    Parameters\n",
    "    ----------\n",
    "    x,y : scalar or array_like, shape (n, )\n",
    "        Input data\n",
    "    s : scalar or array_like, shape (n, ) \n",
    "        Radius of circle in data unit.\n",
    "    c : color or sequence of color, optional, default : 'b'\n",
    "        `c` can be a single color format string, or a sequence of color\n",
    "        specifications of length `N`, or a sequence of `N` numbers to be\n",
    "        mapped to colors using the `cmap` and `norm` specified via kwargs.\n",
    "        Note that `c` should not be a single numeric RGB or RGBA sequence \n",
    "        because that is indistinguishable from an array of values\n",
    "        to be colormapped. (If you insist, use `color` instead.)  \n",
    "        `c` can be a 2-D array in which the rows are RGB or RGBA, however. \n",
    "    vmin, vmax : scalar, optional, default: None\n",
    "        `vmin` and `vmax` are used in conjunction with `norm` to normalize\n",
    "        luminance data.  If either are `None`, the min and max of the\n",
    "        color array is used.\n",
    "    kwargs : `~matplotlib.collections.Collection` properties\n",
    "        Eg. alpha, edgecolor(ec), facecolor(fc), linewidth(lw), linestyle(ls), \n",
    "        norm, cmap, transform, etc.\n",
    "\n",
    "    Returns\n",
    "    -------\n",
    "    paths : `~matplotlib.collections.PathCollection`\n",
    "\n",
    "    Examples\n",
    "    --------\n",
    "    a = np.arange(11)\n",
    "    circles(a, a, a*0.2, c=a, alpha=0.5, edgecolor='none')\n",
    "    plt.colorbar()\n",
    "\n",
    "    License\n",
    "    --------\n",
    "    This code is under [The BSD 3-Clause License]\n",
    "    (http://opensource.org/licenses/BSD-3-Clause)\n",
    "    \"\"\"\n",
    "    import numpy as np\n",
    "    import matplotlib.pyplot as plt\n",
    "    from matplotlib.patches import Circle\n",
    "    from matplotlib.collections import PatchCollection\n",
    "\n",
    "    if np.isscalar(c):\n",
    "        kwargs.setdefault('color', c)\n",
    "        c = None\n",
    "    if 'fc' in kwargs: kwargs.setdefault('facecolor', kwargs.pop('fc'))\n",
    "    if 'ec' in kwargs: kwargs.setdefault('edgecolor', kwargs.pop('ec'))\n",
    "    if 'ls' in kwargs: kwargs.setdefault('linestyle', kwargs.pop('ls'))\n",
    "    if 'lw' in kwargs: kwargs.setdefault('linewidth', kwargs.pop('lw'))\n",
    "\n",
    "    patches = [Circle((x_, y_), s_) for x_, y_, s_ in np.broadcast(x, y, s)]\n",
    "    collection = PatchCollection(patches, **kwargs)\n",
    "    if c is not None:\n",
    "        collection.set_array(np.asarray(c))\n",
    "        collection.set_clim(vmin, vmax)\n",
    "    if ax is not None:\n",
    "        ax = plt.gca()\n",
    "    ax.add_collection(collection)\n",
    "    ax.autoscale_view()\n",
    "    if c is not None:\n",
    "        plt.sci(collection)\n",
    "    return collection"
   ]
  },
  {
   "cell_type": "code",
   "execution_count": 28,
   "metadata": {
    "collapsed": false
   },
   "outputs": [
    {
     "data": {
      "text/plain": [
       "array([[ 0.5488135 ,  0.71518937],\n",
       "       [ 0.60276338,  0.54488318],\n",
       "       [ 0.4236548 ,  0.64589411]])"
      ]
     },
     "execution_count": 28,
     "metadata": {},
     "output_type": "execute_result"
    }
   ],
   "source": [
    "np.random.seed(0)\n",
    "np.random.rand(3,2)"
   ]
  },
  {
   "cell_type": "code",
   "execution_count": 77,
   "metadata": {
    "collapsed": false
   },
   "outputs": [],
   "source": [
    "import matplotlib as mpl\n",
    "# df=metadata=None\n",
    "def quadPlotter(df,metadata,pth='plot.pdf',col=[0,0,0,1],off=20,\n",
    "                xmin=506,xmax=520,ymin=508,ymax=522,rm=10,s=4,xt='X (m)',yt='Y (m)'):\n",
    "    \n",
    "    parameters=metadata['parameters']\n",
    "        # row and column sharing\n",
    "    fig, ((ax2, ax1), (ax3, ax4)) = plt.subplots(2, 2, sharex=True, sharey=True,figsize=(14,14))\n",
    "    ax={4:ax4,1:ax1,2:ax2,3:ax3}\n",
    "    maxS=df.trajectory__speed.max()\n",
    "    # ax1.set_title('lr anal')\n",
    "    for i in range(int(df.trajectory__case.max()+1)):\n",
    "        df2=df[(df.trajectory__case==i) & (df.trajectory__runNum<20) &(df.trajectory__isFlying==True)]\n",
    "        c1=[1,0,0,0.5]\n",
    "        c2=[0,1,0,0.5]\n",
    "\n",
    "#         circles(df2.trajectory__o1Pos_x[0],df2.trajectory__o1Pos_y[0],ax=ax[i+1],color=c1,lw=0,s=parameters['obj1Scale']/2)\n",
    "#         circles(df2.trajectory__o2Pos_x[0],df2.trajectory__o2Pos_y[0],ax=ax[i+1],color=c2,lw=0,s=parameters['obj1Scale']/2)\n",
    "        sc=0.7\n",
    "        r1=sc*parameters['obj1Scale']/2\n",
    "        r2=sc*parameters['obj2Scale']/2\n",
    "        \n",
    "        ls=parameters['loadingString']\n",
    "        non=[0,0,0,0]\n",
    "        red=[1,0,0,0.3]\n",
    "        green=[0,1,0,0.3]\n",
    "        wf=3 #wifth fat\n",
    "        w0=0 #width thin\n",
    "        \n",
    "        if ls=='00':\n",
    "            l=non\n",
    "            r=non\n",
    "            w1=wf\n",
    "            w2=wf\n",
    "        elif ls=='01':\n",
    "            l=non\n",
    "            r=red\n",
    "            w1=wf\n",
    "            w2=w0\n",
    "        elif ls=='10':\n",
    "            l=green\n",
    "            r=non\n",
    "            w1=w0\n",
    "            w2=wf\n",
    "        elif ls=='11':\n",
    "            l=green\n",
    "            r=red\n",
    "            w1=w0\n",
    "            w2=w0\n",
    "\n",
    "        if df2.trajectory__case[0] == 0:\n",
    "            c1=l\n",
    "            c2=l\n",
    "            l1=w1\n",
    "            l2=w1\n",
    "        elif df2.trajectory__case[0]== 1:\n",
    "            c1=r\n",
    "            c2=l\n",
    "            l1=w2\n",
    "            l2=w1\n",
    "        elif df2.trajectory__case[0]== 2:\n",
    "            c1=l\n",
    "            c2=r\n",
    "            l1=w1\n",
    "            l2=w2\n",
    "        elif df2.trajectory__case[0] == 3:\n",
    "            c1=r\n",
    "            c2=r\n",
    "            l1=w2\n",
    "            l2=w2\n",
    "        print 'c1 c2 is',c1,c2\n",
    "        \n",
    "#         ax[i+1].add_artist(Circle(xy=(parameters['posL'][0],parameters['posL'][1]), color=c1, radius=r1)) \n",
    "\n",
    "#         ax[i+1].add_artist(Circle(xy=(parameters['posR'][0],parameters['posR'][1]), color=c2, radius=r2)) \n",
    "            \n",
    "        \n",
    "        if df.trajectory__speedControl[0]:\n",
    "            col=df2.trajectory__speed.values/maxS\n",
    "        else:\n",
    "            col=col\n",
    "            \n",
    "        im=ax[i+1].scatter(df2.trajectory__pPos_x[::rm],df2.trajectory__pPos_y[::rm],lw=0,s=s\n",
    "                        ,c=col,cmap='viridis',rasterized=True)\n",
    "        \n",
    "        ax[i+1].scatter(parameters['playerInitPos'][0],parameters['playerInitPos'][1],c=np.array([62,218,0,200])/255.,\n",
    "                        marker='^',lw=0,s=500)\n",
    "\n",
    "        ax[i+1].scatter(parameters['posL'][0],parameters['posL'][1],c=c1,lw=l1,s=sc*parameters['obj1Scale'])\n",
    "        ax[i+1].scatter(parameters['posR'][0],parameters['posR'][1],c=c2,lw=l2,s=sc*parameters[ 'obj2Scale'])\n",
    "\n",
    "        ax[i+1].set_xlim([xmin,xmax])\n",
    "        ax[i+1].set_ylim([ymin,ymax])\n",
    "\n",
    "        ax[i+1].set_aspect('equal', 'datalim')\n",
    "#         ax[i+1].set_title(i)\n",
    "        \n",
    "        ax[i+1].set_xlabel(xt)\n",
    "        ax[i+1].set_ylabel(yt)\n",
    "\n",
    "        print i\n",
    "    \n",
    "#     # Colorbar\n",
    "#     ax3.cax.colorbar(ax3)\n",
    "#     ax3.cax.toggle_label(True)\n",
    "#     fig.colorbar(im, ax=ax3)\n",
    "    \n",
    "#     cax,kw = mpl.colorbar.make_axes([ax1,ax2,ax3,ax4])\n",
    "#     plt.colorbar(im, cax=cax, **kw)\n",
    "        plt.tight_layout()\n",
    "#         fig.text(0.5, 0.04, xt, ha='center')\n",
    "#         fig.text(0.04, 0.5, yt, va='center', rotation='vertical')\n",
    "\n",
    "#     sns.despine()\n",
    "#     sns.set_style(\"ticks\")\n",
    "#         sns.set_style(\"white\")\n",
    "#         sns.set_style(\"whitegrid\")\n",
    "\n",
    "\n",
    "#         sns.set_style(\"ticks\", {\"xtick.major.size\": 8, \"ytick.major.size\": 8})\n",
    "#     fig.subplots_adjust(right=0.8)\n",
    "    \n",
    "    if df.trajectory__speedControl[0]:\n",
    "\n",
    "        cbar_ax = fig.add_axes([0.85, 0.15, 0.05, 0.7])\n",
    "        fig.colorbar(im, cax=cbar_ax)\n",
    "    \n",
    "    plt.savefig(pth, dpi=400)\n",
    "\n",
    "    plt.show()\n",
    "    return fig\n",
    "\n",
    "def loader():\n",
    "    '''Load a dataframe from pickle and analyse lr cases'''\n",
    "\n",
    "    defaultPath=\"/home/rhagoletis/catkin/src/World/bags/\"\n",
    "    path=easygui.fileopenbox(title=\"Choose pickle Dataframes\"\n",
    "                              ,default=defaultPath,\n",
    "                              multiple=False,filetypes=[\"*.pickle\"])\n",
    "    print path\n",
    "\n",
    "    dff=pd.read_pickle(path)\n",
    "    df=dff['df']\n",
    "    metadata=dff['metadata']\n",
    "    return df,metadata,path\n"
   ]
  },
  {
   "cell_type": "code",
   "execution_count": 80,
   "metadata": {
    "collapsed": false,
    "scrolled": true
   },
   "outputs": [
    {
     "name": "stdout",
     "output_type": "stream",
     "text": [
      "/home/rhagoletis/catkin/src/World/bags/2017_01_04/2017-01-04__22:11:20_apple15_11_traj.bag_df.pickle\n"
     ]
    },
    {
     "ename": "KeyboardInterrupt",
     "evalue": "(None, <function _new_Index at 0x7f79d9938668>, (<class 'pandas.indexes.base.Index'>, {'data': array(['trajectory__DCoffset', 'trajectory__case',\n       'trajectory__compensation', 'trajectory__gain',\n       'trajectory__headingControl', 'trajectory__impose',\n       'trajectory__imposeHeading', 'trajectory__imposeResponse',\n       'trajectory__imposeResponseHeading',\n       'trajectory__imposeResponseSmooth', 'trajectory__isFlying',\n       'trajectory__o1Pos_x', 'trajectory__o1Pos_y', 'trajectory__o1Pos_z',\n       'trajectory__o2Pos_x', 'trajectory__o2Pos_y', 'trajectory__o2Pos_z',\n       'trajectory__pOri_x', 'trajectory__pOri_y', 'trajectory__pOri_z',\n       'trajectory__pPos_x', 'trajectory__pPos_y', 'trajectory__pPos_z',\n       'trajectory__packetDuration', 'trajectory__packetFrequency',\n       'trajectory__quadrant', 'trajectory__reset', 'trajectory__runNum',\n       'trajectory__servoAngle', 'trajectory__speed',\n       'trajectory__speedControl', 'trajectory__trial',\n       'trajectory__valve1', 'trajectory__valve2', 'trajectory__valve3',\n       'trajectory__wbad', 'trajectory__wbas'], dtype=object), 'name': None}))",
     "output_type": "error",
     "traceback": [
      "\u001b[1;31m---------------------------------------------------------------------------\u001b[0m",
      "\u001b[1;31mKeyboardInterrupt\u001b[0m                         Traceback (most recent call last)",
      "\u001b[1;32m<ipython-input-80-53fc7ea6c769>\u001b[0m in \u001b[0;36m<module>\u001b[1;34m()\u001b[0m\n\u001b[1;32m----> 1\u001b[1;33m \u001b[0mdf\u001b[0m\u001b[1;33m,\u001b[0m\u001b[0mmetadata\u001b[0m\u001b[1;33m,\u001b[0m\u001b[0mpath\u001b[0m\u001b[1;33m=\u001b[0m\u001b[0mloader\u001b[0m\u001b[1;33m(\u001b[0m\u001b[1;33m)\u001b[0m\u001b[1;33m\u001b[0m\u001b[0m\n\u001b[0m\u001b[0;32m      2\u001b[0m \u001b[0mparameters\u001b[0m\u001b[1;33m=\u001b[0m\u001b[0mmetadata\u001b[0m\u001b[1;33m[\u001b[0m\u001b[1;34m'parameters'\u001b[0m\u001b[1;33m]\u001b[0m\u001b[1;33m\u001b[0m\u001b[0m\n\u001b[0;32m      3\u001b[0m \u001b[0mpth\u001b[0m\u001b[1;33m=\u001b[0m\u001b[0mpath\u001b[0m\u001b[1;33m.\u001b[0m\u001b[0msplit\u001b[0m\u001b[1;33m(\u001b[0m\u001b[1;34m'/'\u001b[0m\u001b[1;33m)\u001b[0m\u001b[1;33m[\u001b[0m\u001b[1;33m-\u001b[0m\u001b[1;36m1\u001b[0m\u001b[1;33m]\u001b[0m\u001b[1;33m.\u001b[0m\u001b[0msplit\u001b[0m\u001b[1;33m(\u001b[0m\u001b[1;34m'.bag'\u001b[0m\u001b[1;33m)\u001b[0m\u001b[1;33m[\u001b[0m\u001b[1;36m0\u001b[0m\u001b[1;33m]\u001b[0m\u001b[1;33m+\u001b[0m\u001b[1;34m'.pdf'\u001b[0m\u001b[1;33m\u001b[0m\u001b[0m\n\u001b[0;32m      4\u001b[0m \u001b[0mquadPlotter\u001b[0m\u001b[1;33m(\u001b[0m\u001b[0mdf\u001b[0m\u001b[1;33m=\u001b[0m\u001b[0mdf\u001b[0m\u001b[1;33m,\u001b[0m\u001b[0mmetadata\u001b[0m\u001b[1;33m=\u001b[0m\u001b[0mmetadata\u001b[0m\u001b[1;33m,\u001b[0m\u001b[0moff\u001b[0m\u001b[1;33m=\u001b[0m\u001b[1;36m3\u001b[0m\u001b[1;33m,\u001b[0m\u001b[0mrm\u001b[0m\u001b[1;33m=\u001b[0m\u001b[1;36m2\u001b[0m\u001b[1;33m,\u001b[0m\u001b[0mxt\u001b[0m\u001b[1;33m=\u001b[0m\u001b[1;34m'X (m)'\u001b[0m\u001b[1;33m,\u001b[0m\u001b[0myt\u001b[0m\u001b[1;33m=\u001b[0m\u001b[1;34m'Y (m)'\u001b[0m\u001b[1;33m,\u001b[0m\u001b[0ms\u001b[0m\u001b[1;33m=\u001b[0m\u001b[1;36m3\u001b[0m\u001b[1;33m,\u001b[0m\u001b[0mpth\u001b[0m\u001b[1;33m=\u001b[0m\u001b[0mpth\u001b[0m\u001b[1;33m,\u001b[0m\u001b[0mcol\u001b[0m\u001b[1;33m=\u001b[0m\u001b[1;33m[\u001b[0m\u001b[1;36m0\u001b[0m\u001b[1;33m,\u001b[0m\u001b[1;36m0\u001b[0m\u001b[1;33m,\u001b[0m\u001b[1;36m0\u001b[0m\u001b[1;33m,\u001b[0m\u001b[1;36m1\u001b[0m\u001b[1;33m]\u001b[0m\u001b[1;33m)\u001b[0m\u001b[1;33m\u001b[0m\u001b[0m\n",
      "\u001b[1;32m<ipython-input-77-e52292bae3f3>\u001b[0m in \u001b[0;36mloader\u001b[1;34m()\u001b[0m\n\u001b[0;32m    140\u001b[0m     \u001b[1;32mprint\u001b[0m \u001b[0mpath\u001b[0m\u001b[1;33m\u001b[0m\u001b[0m\n\u001b[0;32m    141\u001b[0m \u001b[1;33m\u001b[0m\u001b[0m\n\u001b[1;32m--> 142\u001b[1;33m     \u001b[0mdff\u001b[0m\u001b[1;33m=\u001b[0m\u001b[0mpd\u001b[0m\u001b[1;33m.\u001b[0m\u001b[0mread_pickle\u001b[0m\u001b[1;33m(\u001b[0m\u001b[0mpath\u001b[0m\u001b[1;33m)\u001b[0m\u001b[1;33m\u001b[0m\u001b[0m\n\u001b[0m\u001b[0;32m    143\u001b[0m     \u001b[0mdf\u001b[0m\u001b[1;33m=\u001b[0m\u001b[0mdff\u001b[0m\u001b[1;33m[\u001b[0m\u001b[1;34m'df'\u001b[0m\u001b[1;33m]\u001b[0m\u001b[1;33m\u001b[0m\u001b[0m\n\u001b[0;32m    144\u001b[0m     \u001b[0mmetadata\u001b[0m\u001b[1;33m=\u001b[0m\u001b[0mdff\u001b[0m\u001b[1;33m[\u001b[0m\u001b[1;34m'metadata'\u001b[0m\u001b[1;33m]\u001b[0m\u001b[1;33m\u001b[0m\u001b[0m\n",
      "\u001b[1;32m/usr/local/lib/python2.7/dist-packages/pandas/io/pickle.pyc\u001b[0m in \u001b[0;36mread_pickle\u001b[1;34m(path)\u001b[0m\n\u001b[0;32m     63\u001b[0m \u001b[1;33m\u001b[0m\u001b[0m\n\u001b[0;32m     64\u001b[0m     \u001b[1;32mtry\u001b[0m\u001b[1;33m:\u001b[0m\u001b[1;33m\u001b[0m\u001b[0m\n\u001b[1;32m---> 65\u001b[1;33m         \u001b[1;32mreturn\u001b[0m \u001b[0mtry_read\u001b[0m\u001b[1;33m(\u001b[0m\u001b[0mpath\u001b[0m\u001b[1;33m)\u001b[0m\u001b[1;33m\u001b[0m\u001b[0m\n\u001b[0m\u001b[0;32m     66\u001b[0m     \u001b[1;32mexcept\u001b[0m\u001b[1;33m:\u001b[0m\u001b[1;33m\u001b[0m\u001b[0m\n\u001b[0;32m     67\u001b[0m         \u001b[1;32mif\u001b[0m \u001b[0mPY3\u001b[0m\u001b[1;33m:\u001b[0m\u001b[1;33m\u001b[0m\u001b[0m\n",
      "\u001b[1;32m/usr/local/lib/python2.7/dist-packages/pandas/io/pickle.pyc\u001b[0m in \u001b[0;36mtry_read\u001b[1;34m(path, encoding)\u001b[0m\n\u001b[0;32m     50\u001b[0m         \u001b[1;32mtry\u001b[0m\u001b[1;33m:\u001b[0m\u001b[1;33m\u001b[0m\u001b[0m\n\u001b[0;32m     51\u001b[0m             \u001b[1;32mwith\u001b[0m \u001b[0mopen\u001b[0m\u001b[1;33m(\u001b[0m\u001b[0mpath\u001b[0m\u001b[1;33m,\u001b[0m \u001b[1;34m'rb'\u001b[0m\u001b[1;33m)\u001b[0m \u001b[1;32mas\u001b[0m \u001b[0mfh\u001b[0m\u001b[1;33m:\u001b[0m\u001b[1;33m\u001b[0m\u001b[0m\n\u001b[1;32m---> 52\u001b[1;33m                 \u001b[1;32mreturn\u001b[0m \u001b[0mpkl\u001b[0m\u001b[1;33m.\u001b[0m\u001b[0mload\u001b[0m\u001b[1;33m(\u001b[0m\u001b[0mfh\u001b[0m\u001b[1;33m)\u001b[0m\u001b[1;33m\u001b[0m\u001b[0m\n\u001b[0m\u001b[0;32m     53\u001b[0m         \u001b[1;32mexcept\u001b[0m \u001b[0mException\u001b[0m\u001b[1;33m:\u001b[0m\u001b[1;33m\u001b[0m\u001b[0m\n\u001b[0;32m     54\u001b[0m             \u001b[1;31m# reg/patched pickle\u001b[0m\u001b[1;33m\u001b[0m\u001b[1;33m\u001b[0m\u001b[0m\n",
      "\u001b[1;32m/usr/local/lib/python2.7/dist-packages/pandas/indexes/base.pyc\u001b[0m in \u001b[0;36m_new_Index\u001b[1;34m(cls, d)\u001b[0m\n\u001b[0;32m     64\u001b[0m \u001b[1;33m\u001b[0m\u001b[0m\n\u001b[0;32m     65\u001b[0m \u001b[1;33m\u001b[0m\u001b[0m\n\u001b[1;32m---> 66\u001b[1;33m \u001b[1;32mdef\u001b[0m \u001b[0m_new_Index\u001b[0m\u001b[1;33m(\u001b[0m\u001b[0mcls\u001b[0m\u001b[1;33m,\u001b[0m \u001b[0md\u001b[0m\u001b[1;33m)\u001b[0m\u001b[1;33m:\u001b[0m\u001b[1;33m\u001b[0m\u001b[0m\n\u001b[0m\u001b[0;32m     67\u001b[0m     \"\"\" This is called upon unpickling, rather than the default which doesn't\n\u001b[0;32m     68\u001b[0m     \u001b[0mhave\u001b[0m \u001b[0marguments\u001b[0m \u001b[1;32mand\u001b[0m \u001b[0mbreaks\u001b[0m \u001b[0m__new__\u001b[0m\u001b[1;33m\u001b[0m\u001b[0m\n",
      "\u001b[1;31mKeyboardInterrupt\u001b[0m: (None, <function _new_Index at 0x7f79d9938668>, (<class 'pandas.indexes.base.Index'>, {'data': array(['trajectory__DCoffset', 'trajectory__case',\n       'trajectory__compensation', 'trajectory__gain',\n       'trajectory__headingControl', 'trajectory__impose',\n       'trajectory__imposeHeading', 'trajectory__imposeResponse',\n       'trajectory__imposeResponseHeading',\n       'trajectory__imposeResponseSmooth', 'trajectory__isFlying',\n       'trajectory__o1Pos_x', 'trajectory__o1Pos_y', 'trajectory__o1Pos_z',\n       'trajectory__o2Pos_x', 'trajectory__o2Pos_y', 'trajectory__o2Pos_z',\n       'trajectory__pOri_x', 'trajectory__pOri_y', 'trajectory__pOri_z',\n       'trajectory__pPos_x', 'trajectory__pPos_y', 'trajectory__pPos_z',\n       'trajectory__packetDuration', 'trajectory__packetFrequency',\n       'trajectory__quadrant', 'trajectory__reset', 'trajectory__runNum',\n       'trajectory__servoAngle', 'trajectory__speed',\n       'trajectory__speedControl', 'trajectory__trial',\n       'trajectory__valve1', 'trajectory__valve2', 'trajectory__valve3',\n       'trajectory__wbad', 'trajectory__wbas'], dtype=object), 'name': None}))"
     ]
    }
   ],
   "source": [
    "df,metadata,path=loader()\n",
    "parameters=metadata['parameters']\n",
    "pth=path.split('/')[-1].split('.bag')[0]+'.pdf'\n",
    "quadPlotter(df=df,metadata=metadata,off=3,rm=2,xt='X (m)',yt='Y (m)',s=3,pth=pth,col=[0,0,0,1])"
   ]
  },
  {
   "cell_type": "code",
   "execution_count": 70,
   "metadata": {
    "collapsed": true
   },
   "outputs": [],
   "source": [
    "import matplotlib as mpl\n",
    "# df=metadata=None\n",
    "def quadDistPlotter(pth='plot.pdf',col=[0,0,0,1],off=20,\n",
    "                xmin=506,xmax=520,ymin=508,ymax=522,rm=10,s=4,xt='X (m)',yt='Y (m)'):\n",
    "    \n",
    "        # row and column sharing\n",
    "    fig, ((ax2, ax1), (ax3, ax4)) = plt.subplots(2, 2, sharex=True, sharey=True,figsize=(14,14))\n",
    "    ax={4:ax4,1:ax1,2:ax2,3:ax3}\n",
    "#     maxS=df.trajectory__speed.max()\n",
    "    # ax1.set_title('lr anal')\n",
    "    dfD,metadataD,paths=multLoader()\n",
    "    for i in range(int(4)):\n",
    "#         df,metadata,path=loader()\n",
    "        df=dfD[i]\n",
    "        metadata=metadataD[i]\n",
    "        parameters=metadata['parameters']\n",
    "        df2=df[(df.trajectory__case==2) &(df.trajectory__isFlying==True)]\n",
    "        c1=[1,0,0,0.5]\n",
    "        c2=[0,1,0,0.5]\n",
    "\n",
    "#         circles(df2.trajectory__o1Pos_x[0],df2.trajectory__o1Pos_y[0],ax=ax[i+1],color=c1,lw=0,s=parameters['obj1Scale']/2)\n",
    "#         circles(df2.trajectory__o2Pos_x[0],df2.trajectory__o2Pos_y[0],ax=ax[i+1],color=c2,lw=0,s=parameters['obj1Scale']/2)\n",
    "        sc=0.7\n",
    "        r1=sc*parameters['obj1Scale']/2\n",
    "        r2=sc*parameters['obj2Scale']/2\n",
    "        \n",
    "        ls=parameters['loadingString']\n",
    "        non=[0,0,0,0]\n",
    "        red=[1,0,0,0.3]\n",
    "        green=[0,1,0,0.3]\n",
    "        wf=3 #wifth fat\n",
    "        w0=0 #width thin\n",
    "        \n",
    "        if ls=='00':\n",
    "            l=non\n",
    "            r=non\n",
    "            w1=wf\n",
    "            w2=wf\n",
    "        elif ls=='01':\n",
    "            l=non\n",
    "            r=red\n",
    "            w1=wf\n",
    "            w2=w0\n",
    "        elif ls=='10':\n",
    "            l=green\n",
    "            r=non\n",
    "            w1=w0\n",
    "            w2=wf\n",
    "        elif ls=='11':\n",
    "            l=green\n",
    "            r=red\n",
    "            w1=w0\n",
    "            w2=w0\n",
    "\n",
    "        if df2.trajectory__case[0] == 0:\n",
    "            c1=l\n",
    "            c2=l\n",
    "            l1=w1\n",
    "            l2=w1\n",
    "        elif df2.trajectory__case[0]== 1:\n",
    "            c1=r\n",
    "            c2=l\n",
    "            l1=w2\n",
    "            l2=w1\n",
    "        elif df2.trajectory__case[0]== 2:\n",
    "            c1=l\n",
    "            c2=r\n",
    "            l1=w1\n",
    "            l2=w2\n",
    "        elif df2.trajectory__case[0] == 3:\n",
    "            c1=r\n",
    "            c2=r\n",
    "            l1=w2\n",
    "            l2=w2\n",
    "        print 'c1 c2 is',c1,c2\n",
    "        \n",
    "#         ax[i+1].add_artist(Circle(xy=(parameters['posL'][0],parameters['posL'][1]), color=c1, radius=r1)) \n",
    "\n",
    "#         ax[i+1].add_artist(Circle(xy=(parameters['posR'][0],parameters['posR'][1]), color=c2, radius=r2)) \n",
    "            \n",
    "        \n",
    "        if df.trajectory__speedControl[0]:\n",
    "            col=df2.trajectory__speed.values/maxS\n",
    "        else:\n",
    "            col=col\n",
    "            \n",
    "        im=ax[i+1].scatter(df2.trajectory__pPos_x[::rm],df2.trajectory__pPos_y[::rm],lw=0,s=s\n",
    "                        ,c=col,cmap='viridis',rasterized=True)\n",
    "        \n",
    "        parameters['playerInitPos']=(df2.trajectory__pPos_x[0],df2.trajectory__pPos_y[0])\n",
    "        print \"init pos\",parameters['playerInitPos'][0]\n",
    "        ax[i+1].scatter(parameters['playerInitPos'][0],parameters['playerInitPos'][1],c=np.array([62,218,0,200])/255.,\n",
    "                        marker='^',lw=0,s=500)\n",
    "\n",
    "        ax[i+1].scatter(parameters['posL'][0],parameters['posL'][1],c=c1,lw=l1,s=sc*parameters['obj1Scale'])\n",
    "        ax[i+1].scatter(parameters['posR'][0],parameters['posR'][1],c=c2,lw=l2,s=sc*parameters[ 'obj2Scale'])\n",
    "\n",
    "        ax[i+1].set_xlim([xmin,xmax])\n",
    "        ax[i+1].set_ylim([ymin,ymax])\n",
    "\n",
    "        ax[i+1].set_aspect('equal', 'datalim')\n",
    "#         ax[i+1].set_title(i)\n",
    "        \n",
    "        ax[i+1].set_xlabel(xt)\n",
    "        ax[i+1].set_ylabel(yt)\n",
    "\n",
    "        print i\n",
    "    \n",
    "#     # Colorbar\n",
    "#     ax3.cax.colorbar(ax3)\n",
    "#     ax3.cax.toggle_label(True)\n",
    "#     fig.colorbar(im, ax=ax3)\n",
    "    \n",
    "#     cax,kw = mpl.colorbar.make_axes([ax1,ax2,ax3,ax4])\n",
    "#     plt.colorbar(im, cax=cax, **kw)\n",
    "        plt.tight_layout()\n",
    "#         fig.text(0.5, 0.04, xt, ha='center')\n",
    "#         fig.text(0.04, 0.5, yt, va='center', rotation='vertical')\n",
    "\n",
    "#     sns.despine()\n",
    "#     sns.set_style(\"ticks\")\n",
    "#         sns.set_style(\"white\")\n",
    "#         sns.set_style(\"whitegrid\")\n",
    "\n",
    "\n",
    "#         sns.set_style(\"ticks\", {\"xtick.major.size\": 8, \"ytick.major.size\": 8})\n",
    "#     fig.subplots_adjust(right=0.8)\n",
    "    \n",
    "    if df.trajectory__speedControl[0]:\n",
    "\n",
    "        cbar_ax = fig.add_axes([0.85, 0.15, 0.05, 0.7])\n",
    "        fig.colorbar(im, cax=cbar_ax)\n",
    "    \n",
    "    plt.savefig(pth, dpi=400)\n",
    "\n",
    "    plt.show()\n",
    "    return fig\n",
    "\n",
    "def multLoader():\n",
    "    '''Load a dataframe from pickle and analyse lr cases'''\n",
    "\n",
    "    defaultPath=\"/home/rhagoletis/catkin/src/World/bags/\"\n",
    "#     paths=easygui.fileopenbox(title=\"Choose pickle Dataframes\"\n",
    "#                               ,default=defaultPath,\n",
    "#                               multiple=True,filetypes=[\"*.pickle\"])\n",
    "    paths=['/home/rhagoletis/catkin/src/World/bags/2017_01_02/2017-01-02__15:54:36_apple11_01_traj.bag_df.pickle', '/home/rhagoletis/catkin/src/World/bags/2017_01_02/2017-01-02__17:01:04_apple11_01_traj.bag_df.pickle', '/home/rhagoletis/catkin/src/World/bags/2017_01_02/2017-01-02__17:18:07_apple11_01_traj.bag_df.pickle', '/home/rhagoletis/catkin/src/World/bags/2017_01_02/2017-01-02__18:07:00_apple11_01_traj.bag_df.pickle']\n",
    "    print paths\n",
    "    \n",
    "    df={}\n",
    "    metadata={}\n",
    "    \n",
    "    i=0\n",
    "    for path in paths:\n",
    "        dff=pd.read_pickle(path)\n",
    "        df[i]=dff['df']\n",
    "        metadata[i]=dff['metadata']\n",
    "        i+=1\n",
    "    return df,metadata,paths\n"
   ]
  },
  {
   "cell_type": "code",
   "execution_count": 74,
   "metadata": {
    "collapsed": false,
    "scrolled": true
   },
   "outputs": [
    {
     "name": "stdout",
     "output_type": "stream",
     "text": [
      "['/home/rhagoletis/catkin/src/World/bags/2017_01_02/2017-01-02__15:54:36_apple11_01_traj.bag_df.pickle', '/home/rhagoletis/catkin/src/World/bags/2017_01_02/2017-01-02__17:01:04_apple11_01_traj.bag_df.pickle', '/home/rhagoletis/catkin/src/World/bags/2017_01_02/2017-01-02__17:18:07_apple11_01_traj.bag_df.pickle', '/home/rhagoletis/catkin/src/World/bags/2017_01_02/2017-01-02__18:07:00_apple11_01_traj.bag_df.pickle']\n",
      "c1 c2 is [0, 1, 0, 0.3] [0, 0, 0, 0]\n",
      "init pos 513.0\n",
      "0\n",
      "c1 c2 is [0, 1, 0, 0.3] [0, 0, 0, 0]\n",
      "init pos 513.0\n",
      "1\n",
      "c1 c2 is [0, 1, 0, 0.3] [0, 0, 0, 0]\n",
      "init pos 513.0\n",
      "2\n",
      "c1 c2 is [0, 1, 0, 0.3] [0, 0, 0, 0]\n",
      "init pos 513.0\n",
      "3\n"
     ]
    },
    {
     "data": {
      "text/plain": [
       "<matplotlib.figure.Figure at 0x7f798bb97bd0>"
      ]
     },
     "execution_count": 74,
     "metadata": {},
     "output_type": "execute_result"
    }
   ],
   "source": [
    "# df,metadata,path=loader()\n",
    "# parameters=metadata['parameters']\n",
    "# pth=path.split('/')[-1].split('.bag')[0]+'.pdf'\n",
    "quadDistPlotter(off=3,rm=2,xt='X (m)',yt='Y (m)',s=3,col=[0,0,0,1],ymin=490,ymax=520,xmin=498,xmax=528)"
   ]
  },
  {
   "cell_type": "code",
   "execution_count": 79,
   "metadata": {
    "collapsed": true
   },
   "outputs": [],
   "source": [
    "plt.show()"
   ]
  },
  {
   "cell_type": "code",
   "execution_count": 38,
   "metadata": {
    "collapsed": false
   },
   "outputs": [
    {
     "data": {
      "text/plain": [
       "array([ 0.5,  1. ,  1.5])"
      ]
     },
     "execution_count": 38,
     "metadata": {},
     "output_type": "execute_result"
    }
   ],
   "source": [
    "np.array([1,2,3])/2."
   ]
  },
  {
   "cell_type": "code",
   "execution_count": null,
   "metadata": {
    "collapsed": false
   },
   "outputs": [],
   "source": [
    "df.trajectory__case.plot()\n",
    "plt.show()"
   ]
  },
  {
   "cell_type": "code",
   "execution_count": null,
   "metadata": {
    "collapsed": false
   },
   "outputs": [],
   "source": [
    "import matplotlib.pyplot as plt, mpld3\n",
    "plt.plot([3,1,4,1,5], 'ks-', mec='w', mew=5, ms=20)\n",
    "mpld3.show()"
   ]
  },
  {
   "cell_type": "code",
   "execution_count": null,
   "metadata": {
    "collapsed": false
   },
   "outputs": [],
   "source": [
    "# row and column sharing\n",
    "f, ((ax2, ax1), (ax3, ax4)) = plt.subplots(2, 2, sharex=True, sharey=True,figsize=(16,16))\n",
    "ax={4:ax4,1:ax1,2:ax2,3:ax3}\n",
    "# ax1.set_title('lr anal')\n",
    "for i in range(int(df.trajectory__case.max()+1)):\n",
    "    df2=df[(df.trajectory__case==i) & (df.trajectory__runNum<20) &(df.trajectory__isFlying==True)]\n",
    "    ax[i+1].scatter(df2.trajectory__pPos_x,df2.trajectory__pPos_y,lw=0,alpha=1,s=0.2,c=(df2.trajectory__speed,df2.trajectory__speed,1))\n",
    "    ax[i+1].set_aspect('equal', 'datalim')\n",
    "    ax[i+1].set_title(i)\n",
    "    print i\n",
    "plt.tight_layout()\n",
    "plt.show()\n",
    "\n"
   ]
  },
  {
   "cell_type": "code",
   "execution_count": null,
   "metadata": {
    "collapsed": true
   },
   "outputs": [],
   "source": []
  },
  {
   "cell_type": "code",
   "execution_count": null,
   "metadata": {
    "collapsed": false
   },
   "outputs": [],
   "source": [
    "'''Load a dataframe from pickle and analyse lr cases'''\n",
    "\n",
    "defaultPath=\"/home/rhagoletis/catkin/src/World/bags/\"\n",
    "path=easygui.fileopenbox(title=\"Choose pickle Dataframes\"\n",
    "                          ,default=defaultPath,\n",
    "                          multiple=False,filetypes=[\"*.pickle\"])\n",
    "print path\n",
    "\n",
    "dff=pd.read_pickle(path)\n",
    "df=dff['df']\n",
    "dff"
   ]
  },
  {
   "cell_type": "code",
   "execution_count": null,
   "metadata": {
    "collapsed": false
   },
   "outputs": [],
   "source": [
    "print df2.trajectory__o1Pos_x[0],df2.trajectory__o1Pos_y[0]\n",
    "print df2.trajectory__o2Pos_x[0],df2.trajectory__o2Pos_y[0]"
   ]
  },
  {
   "cell_type": "code",
   "execution_count": null,
   "metadata": {
    "collapsed": true
   },
   "outputs": [],
   "source": [
    "df2.trajectory__o1Pos_x.plot()\n",
    "df2.trajectory__o2Pos_x.plot()\n",
    "df2.trajectory__o1Pos_y.plot()\n",
    "df2.trajectory__o2Pos_y.plot()\n",
    "plt.show()"
   ]
  },
  {
   "cell_type": "code",
   "execution_count": null,
   "metadata": {
    "collapsed": false
   },
   "outputs": [],
   "source": [
    "df2=df[df.trajectory__case==3]\n",
    "# df2"
   ]
  },
  {
   "cell_type": "code",
   "execution_count": null,
   "metadata": {
    "collapsed": false
   },
   "outputs": [],
   "source": [
    "plt.scatter(df2.trajectory__pPos_x,df2.trajectory__pPos_y,lw=0)\n",
    "plt.show()"
   ]
  },
  {
   "cell_type": "code",
   "execution_count": null,
   "metadata": {
    "collapsed": false
   },
   "outputs": [],
   "source": [
    "range(3)"
   ]
  },
  {
   "cell_type": "code",
   "execution_count": null,
   "metadata": {
    "collapsed": false
   },
   "outputs": [],
   "source": [
    "df.trajectory__case.max()"
   ]
  },
  {
   "cell_type": "code",
   "execution_count": null,
   "metadata": {
    "collapsed": false
   },
   "outputs": [],
   "source": [
    "jsonPath=paths[0].split('.bag')[0]+'.json'\n",
    "jsonPath"
   ]
  },
  {
   "cell_type": "code",
   "execution_count": null,
   "metadata": {
    "collapsed": false
   },
   "outputs": [],
   "source": [
    "with open(jsonPath,'r') as js:\n",
    "    a= js.read()"
   ]
  },
  {
   "cell_type": "code",
   "execution_count": null,
   "metadata": {
    "collapsed": false
   },
   "outputs": [],
   "source": [
    "json.loads(a)"
   ]
  },
  {
   "cell_type": "code",
   "execution_count": null,
   "metadata": {
    "collapsed": true
   },
   "outputs": [],
   "source": []
  }
 ],
 "metadata": {
  "kernelspec": {
   "display_name": "Python 2",
   "language": "python",
   "name": "python2"
  },
  "language_info": {
   "codemirror_mode": {
    "name": "ipython",
    "version": 2
   },
   "file_extension": ".py",
   "mimetype": "text/x-python",
   "name": "python",
   "nbconvert_exporter": "python",
   "pygments_lexer": "ipython2",
   "version": "2.7.6"
  }
 },
 "nbformat": 4,
 "nbformat_minor": 0
}
