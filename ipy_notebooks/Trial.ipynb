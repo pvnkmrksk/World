{
 "metadata": {
  "name": ""
 },
 "nbformat": 3,
 "nbformat_minor": 0,
 "worksheets": [
  {
   "cells": [
    {
     "cell_type": "code",
     "collapsed": false,
     "input": [
      "from psychopy import data\n",
      "import numpy as np\n"
     ],
     "language": "python",
     "metadata": {},
     "outputs": [],
     "prompt_number": 2
    },
    {
     "cell_type": "code",
     "collapsed": false,
     "input": [],
     "language": "python",
     "metadata": {},
     "outputs": [],
     "prompt_number": 6
    },
    {
     "cell_type": "code",
     "collapsed": false,
     "input": [
      "stimList=[]\n",
      "\n",
      "for quad in range(4):\n",
      "    stimList.append(\n",
      "                   {'quad':quad}\n",
      "                        )\n",
      "        \n",
      "quad=data.TrialHandler(stimList,nReps=10,extraInfo={'fd':'fdf'})\n",
      "\n",
      "test=[]\n",
      "\n",
      "\n",
      "for frame in range(600):\n",
      "    test.append(\n",
      "                   {'frame':frame}\n",
      "                        )\n",
      "       \n",
      "        \n",
      "trials=data.TrialHandler(test,nReps=1,extraInfo={'fd':'fdf'})\n",
      "\n",
      "trials.data.addDataType('position')\n",
      "trials.data.addDataType('orientation')\n",
      "trials.data.addDataType('speed')\n",
      "trials.data.addDataType('gain')\n",
      "trials.data.addDataType('closedState')\n",
      "trials.data.addDataType('wbad')\n",
      "trials.data.addDataType('wbas')\n",
      "trials.data.addDataType('time')\n",
      "        \n",
      "\n",
      "\n",
      "\n",
      "    "
     ],
     "language": "python",
     "metadata": {},
     "outputs": [],
     "prompt_number": 27
    },
    {
     "cell_type": "code",
     "collapsed": false,
     "input": [
      "nDone=0\n",
      "\n",
      "for thisQuad in quad:\n",
      "    for thisTrial in trials:\n",
      "    \n",
      "            \n",
      "        thisWbad=2\n",
      "        thisWbas=False\n",
      "        trials.data.add('wbad',thisWbad)\n",
      "        trials.data.add('wbas',thisWbas)\n",
      "        \n",
      "    nDone+=1\n",
      "    "
     ],
     "language": "python",
     "metadata": {},
     "outputs": [],
     "prompt_number": 28
    },
    {
     "cell_type": "code",
     "collapsed": false,
     "input": [
      "print quad"
     ],
     "language": "python",
     "metadata": {},
     "outputs": [
      {
       "output_type": "stream",
       "stream": "stdout",
       "text": [
        "psychopy.data.TrialHandler(\n",
        "\tdata={'ran': masked_array(data =\n",
        " [[1.0 1.0 1.0 1.0 1.0 1.0 1.0 1.0 1.0 1.0]\n",
        " [1.0 1.0 1.0 1.0 1.0 1.0 1.0 1.0 1.0 1.0]\n",
        " [1.0 1.0 1.0 1.0 1.0 1.0 1.0 1.0 1.0 1.0]\n",
        " [1.0 1.0 1.0 1.0 1.0 1.0 1.0 1.0 1.0 1.0]],\n",
        "             mask =\n",
        " [[False False False False False False False False False False]\n",
        " [False False False False False False False False False False]\n",
        " [False False False False False False False False False False]\n",
        " [False False False False False False False False False False]],\n",
        "       fill_value = 1e+20)\n",
        ", 'order': masked_array(data =\n",
        " [[2.0 5.0 9.0 15.0 17.0 21.0 25.0 29.0 35.0 37.0]\n",
        " [3.0 6.0 10.0 12.0 18.0 20.0 26.0 30.0 33.0 38.0]\n",
        " [0.0 4.0 11.0 14.0 19.0 23.0 27.0 31.0 34.0 39.0]\n",
        " [1.0 7.0 8.0 13.0 16.0 22.0 24.0 28.0 32.0 36.0]],\n",
        "             mask =\n",
        " [[False False False False False False False False False False]\n",
        " [False False False False False False False False False False]\n",
        " [False False False False False False False False False False]\n",
        " [False False False False False False False False False False]],\n",
        "       fill_value = 1e+20)\n",
        "}\n",
        "\tautoLog=True\n",
        "\textraInfo={'fd': 'fdf'}\n",
        "\tfinished=True\n",
        "\tmethod=random\n",
        "\tnRemaining=-1\n",
        "\tnReps=10\n",
        "\tnTotal=40\n",
        "\tname=\n",
        "\torigin=None\n",
        "\toriginPath=<type 'str'>\n",
        "\tseed=None\n",
        "\tsequenceIndices=<type 'numpy.ndarray'>\n",
        "\tthisIndex=2\n",
        "\tthisN=40\n",
        "\tthisRepN=10\n",
        "\tthisTrial=[]\n",
        "\tthisTrialN=0\n",
        "\ttrialList=<type 'list'>\n",
        ")\n"
       ]
      }
     ],
     "prompt_number": 32
    },
    {
     "cell_type": "code",
     "collapsed": false,
     "input": [
      "a=[range(4)]\n"
     ],
     "language": "python",
     "metadata": {},
     "outputs": [],
     "prompt_number": 21
    },
    {
     "cell_type": "code",
     "collapsed": false,
     "input": [
      "a\n"
     ],
     "language": "python",
     "metadata": {},
     "outputs": [
      {
       "metadata": {},
       "output_type": "pyout",
       "prompt_number": 22,
       "text": [
        "[[0, 1, 2, 3]]"
       ]
      }
     ],
     "prompt_number": 22
    },
    {
     "cell_type": "code",
     "collapsed": false,
     "input": [],
     "language": "python",
     "metadata": {},
     "outputs": []
    }
   ],
   "metadata": {}
  }
 ]
}