{
 "metadata": {
  "name": ""
 },
 "nbformat": 3,
 "nbformat_minor": 0,
 "worksheets": [
  {
   "cells": [
    {
     "cell_type": "code",
     "collapsed": false,
     "input": [
      "import rosbag_pandas\n",
      "import pandas as pd\n",
      "import matplotlib.pyplot as plt\n",
      "import easygui\n",
      "import rosbag\n",
      "import json\n",
      "import numpy as np\n",
      "from bokeh.plotting import figure, output_file, show\n"
     ],
     "language": "python",
     "metadata": {},
     "outputs": [],
     "prompt_number": 1
    },
    {
     "cell_type": "code",
     "collapsed": false,
     "input": [
      "paths=easygui.fileopenbox(multiple=True,filetypes=[\"*.bag\"])\n",
      "print paths\n",
      "\n",
      "i=0\n",
      "for path in paths:\n",
      "    print \"Currently processing,\\n %s \\n\" %path\n",
      "    print \"%d of %d complete \\n \\n\" %(i, len(paths))\n",
      "    \n",
      "    df=rosbag_pandas.bag_to_dataframe(path,include=['/trajectory','/kinefly/flystate','/metadata'])\n",
      "    bag=rosbag.Bag(path)\n",
      "    for topic,msg,t in bag.read_messages(topics='/metadata'):\n",
      "        a=msg\n",
      "    parameters=json.loads(a.data)\n",
      "    picklepath=path+\"_df.pickle\"\n",
      "    df.to_pickle(picklepath)\n",
      "    \n",
      "    # xy=np.array([])\n",
      "    # t=np.array([])\n",
      "    # index=0\n",
      "    # for topic, msg,t in bag.read_messages(topics='/trajectory'):\n",
      "    #             xy=np.array([msg.position.x,msg.position.y])\n",
      "    #             t[index]=t\n",
      "    #             index+=1\n",
      "    \n",
      "    # with open('tempParams.json','w') as f:\n",
      "    #     json.dump(parameters,f)\n",
      "        \n",
      "        \n",
      "    \n",
      "    # prepare some data\n",
      "    N = len(df.trajectory__position_x)\n",
      "    x = df.trajectory__position_x\n",
      "    y = df.trajectory__position_y\n",
      "    \n",
      "   # colors = [\n",
      "    #    \"#%02x%02x%02x\" % (int(r), int(g), 150) for r, g in zip(50+2*x, 30+2*y)\n",
      "    #]\n",
      "    \n",
      "    # output to static HTML file (with CDN resources)\n",
      "    output_file(path+\".html\", title=\"Trajectory Quad\", mode=\"cdn\")\n",
      "    \n",
      "    TOOLS=\"resize,crosshair,pan,wheel_zoom,box_zoom,reset,box_select,lasso_select,undo,redo,save\"\n",
      "    \n",
      "    # create a new plot with the tools above, and explicit ranges\n",
      "    p = figure(tools=TOOLS, x_range=(0,256), y_range=(0,256),webgl=True)\n",
      "    \n",
      "    # add a circle renderer with vectorized colors and sizes\n",
      "    p.circle(x,y,  fill_alpha=0.6, line_color=None)\n",
      "    \n",
      "    # show the results\n",
      "    show(p)\n",
      "    \n",
      "    i+=1\n",
      "\n",
      "print \"Finished processing %d files \\n\" %len(paths)"
     ],
     "language": "python",
     "metadata": {},
     "outputs": [
      {
       "output_type": "stream",
       "stream": "stdout",
       "text": [
        "['/media/behaviour/NICE Pavan 1/bagfiles/fly3/fly3_quad_g0_gain7.0_speed_3.5_trial_1_2016-04-13__02:18:28.bag', '/media/behaviour/NICE Pavan 1/bagfiles/fly3/fly3_quad_r0_gain7.0_speed_3.5_trial_1_2016-04-13__01:16:33.bag', '/media/behaviour/NICE Pavan 1/bagfiles/fly3/fly3_quad_t0_gain7.0_speed_3.5_trial_1_2016-04-13__00:29:25.bag']\n",
        "Currently processing,\n",
        " /media/behaviour/NICE Pavan 1/bagfiles/fly3/fly3_quad_g0_gain7.0_speed_3.5_trial_1_2016-04-13__02:18:28.bag \n",
        "\n",
        "0 of 3 complete \n",
        " \n",
        "\n",
        "Currently processing,\n",
        " /media/behaviour/NICE Pavan 1/bagfiles/fly3/fly3_quad_r0_gain7.0_speed_3.5_trial_1_2016-04-13__01:16:33.bag \n"
       ]
      },
      {
       "output_type": "stream",
       "stream": "stdout",
       "text": [
        "\n",
        "1 of 3 complete \n",
        " \n",
        "\n",
        "Currently processing,\n",
        " /media/behaviour/NICE Pavan 1/bagfiles/fly3/fly3_quad_t0_gain7.0_speed_3.5_trial_1_2016-04-13__00:29:25.bag \n"
       ]
      },
      {
       "output_type": "stream",
       "stream": "stdout",
       "text": [
        "\n",
        "2 of 3 complete \n",
        " \n",
        "\n",
        "Finished processing 3 files \n"
       ]
      },
      {
       "output_type": "stream",
       "stream": "stdout",
       "text": [
        "\n"
       ]
      }
     ],
     "prompt_number": 7
    },
    {
     "cell_type": "code",
     "collapsed": false,
     "input": [],
     "language": "python",
     "metadata": {},
     "outputs": []
    }
   ],
   "metadata": {}
  }
 ]
}