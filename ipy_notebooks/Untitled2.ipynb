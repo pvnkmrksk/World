{
 "cells": [
  {
   "cell_type": "code",
   "execution_count": 1,
   "metadata": {
    "collapsed": false
   },
   "outputs": [],
   "source": [
    "import rosbag_pandas\n",
    "import pandas as pd\n",
    "import matplotlib.pyplot as plt\n",
    "import easygui\n",
    "import rosbag\n",
    "import json\n",
    "import numpy as np\n",
    "from bokeh.plotting import figure, output_file, show\n"
   ]
  },
  {
   "cell_type": "code",
   "execution_count": 7,
   "metadata": {
    "collapsed": false
   },
   "outputs": [
    {
     "name": "stdout",
     "output_type": "stream",
     "text": [
      "['/media/behaviour/NICE Pavan 1/bagfiles/fly3/fly3_quad_g0_gain7.0_speed_3.5_trial_1_2016-04-13__02:18:28.bag', '/media/behaviour/NICE Pavan 1/bagfiles/fly3/fly3_quad_r0_gain7.0_speed_3.5_trial_1_2016-04-13__01:16:33.bag', '/media/behaviour/NICE Pavan 1/bagfiles/fly3/fly3_quad_t0_gain7.0_speed_3.5_trial_1_2016-04-13__00:29:25.bag']\n",
      "Currently processing,\n",
      " /media/behaviour/NICE Pavan 1/bagfiles/fly3/fly3_quad_g0_gain7.0_speed_3.5_trial_1_2016-04-13__02:18:28.bag \n",
      "\n",
      "0 of 3 complete \n",
      " \n",
      "\n",
      "Currently processing,\n",
      " /media/behaviour/NICE Pavan 1/bagfiles/fly3/fly3_quad_r0_gain7.0_speed_3.5_trial_1_2016-04-13__01:16:33.bag \n",
      "\n",
      "1 of 3 complete \n",
      " \n",
      "\n",
      "Currently processing,\n",
      " /media/behaviour/NICE Pavan 1/bagfiles/fly3/fly3_quad_t0_gain7.0_speed_3.5_trial_1_2016-04-13__00:29:25.bag \n",
      "\n",
      "2 of 3 complete \n",
      " \n",
      "\n",
      "Finished processing 3 files \n",
      "\n"
     ]
    }
   ],
   "source": [
    "paths=easygui.fileopenbox(multiple=True,filetypes=[\"*.bag\"])\n",
    "print paths\n",
    "\n",
    "i=0\n",
    "for path in paths:\n",
    "    print \"Currently processing,\\n %s \\n\" %path\n",
    "    print \"%d of %d complete \\n \\n\" %(i, len(paths))\n",
    "    \n",
    "    df=rosbag_pandas.bag_to_dataframe(path,include=['/trajectory','/kinefly/flystate','/metadata'])\n",
    "    bag=rosbag.Bag(path)\n",
    "    for topic,msg,t in bag.read_messages(topics='/metadata'):\n",
    "        a=msg\n",
    "    parameters=json.loads(a.data)\n",
    "    picklepath=path+\"_df.pickle\"\n",
    "    df.to_pickle(picklepath)\n",
    "    \n",
    "    # xy=np.array([])\n",
    "    # t=np.array([])\n",
    "    # index=0\n",
    "    # for topic, msg,t in bag.read_messages(topics='/trajectory'):\n",
    "    #             xy=np.array([msg.position.x,msg.position.y])\n",
    "    #             t[index]=t\n",
    "    #             index+=1\n",
    "    \n",
    "    # with open('tempParams.json','w') as f:\n",
    "    #     json.dump(parameters,f)\n",
    "        \n",
    "        \n",
    "    \n",
    "    # prepare some data\n",
    "    N = len(df.trajectory__position_x)\n",
    "    x = df.trajectory__position_x\n",
    "    y = df.trajectory__position_y\n",
    "    \n",
    "   # colors = [\n",
    "    #    \"#%02x%02x%02x\" % (int(r), int(g), 150) for r, g in zip(50+2*x, 30+2*y)\n",
    "    #]\n",
    "    \n",
    "    # output to static HTML file (with CDN resources)\n",
    "    output_file(path+\".html\", title=\"Trajectory Quad\", mode=\"cdn\")\n",
    "    \n",
    "    TOOLS=\"resize,crosshair,pan,wheel_zoom,box_zoom,reset,box_select,lasso_select,undo,redo,save\"\n",
    "    \n",
    "    # create a new plot with the tools above, and explicit ranges\n",
    "    p = figure(tools=TOOLS, x_range=(0,256), y_range=(0,256),webgl=True)\n",
    "    \n",
    "    # add a circle renderer with vectorized colors and sizes\n",
    "    p.circle(x,y,  fill_alpha=0.6, line_color=None)\n",
    "    \n",
    "    # show the results\n",
    "    show(p)\n",
    "    \n",
    "    i+=1\n",
    "\n",
    "print \"Finished processing %d files \\n\" %len(paths)"
   ]
  },
  {
   "cell_type": "code",
   "execution_count": null,
   "metadata": {
    "collapsed": false
   },
   "outputs": [],
   "source": []
  }
 ],
 "metadata": {
  "kernelspec": {
   "display_name": "Python 2",
   "language": "python",
   "name": "python2"
  },
  "language_info": {
   "codemirror_mode": {
    "name": "ipython",
    "version": 2
   },
   "file_extension": ".py",
   "mimetype": "text/x-python",
   "name": "python",
   "nbconvert_exporter": "python",
   "pygments_lexer": "ipython2",
   "version": "2.7.6"
  }
 },
 "nbformat": 4,
 "nbformat_minor": 0
}
