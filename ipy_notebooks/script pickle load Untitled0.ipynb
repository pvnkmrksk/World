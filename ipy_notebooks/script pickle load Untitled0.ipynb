{
 "metadata": {
  "name": ""
 },
 "nbformat": 3,
 "nbformat_minor": 0,
 "worksheets": [
  {
   "cells": [
    {
     "cell_type": "code",
     "collapsed": false,
     "input": [
      "import cPickle as pickle\n",
      "import easygui"
     ],
     "language": "python",
     "metadata": {},
     "outputs": [],
     "prompt_number": 1
    },
    {
     "cell_type": "code",
     "collapsed": false,
     "input": [
      "path=easygui.fileopenbox()"
     ],
     "language": "python",
     "metadata": {},
     "outputs": [],
     "prompt_number": 2
    },
    {
     "cell_type": "code",
     "collapsed": false,
     "input": [
      "a=pickle.load(open(path,'rb'))"
     ],
     "language": "python",
     "metadata": {},
     "outputs": [],
     "prompt_number": 5
    },
    {
     "cell_type": "code",
     "collapsed": false,
     "input": [
      "print a\n"
     ],
     "language": "python",
     "metadata": {},
     "outputs": [
      {
       "output_type": "stream",
       "stream": "stdout",
       "text": [
        "{'origin': (0, 0, 0), 'bboxDist': 5, 'camHpr': (0, -2, 0), 'frameRecord': False, 'trajectoryUpdateInterval': 60, 'maxDistance': 65, 'greenTexPath': 'models/green.tga', 'speed': 0, 'gainIncrement': 0.02, 'disabledFly': False, 'hcp': False, 'windowWidth': 2720, 'speedIncrement': 0.05, 'recordFps': 30, 'spherePath': 'models/sphere.egg', 'windDirection': 190, 'wbas': 1.6295718192925088, 'treePath': 'models/treeHighB.egg', 'lattice': 25, 'generateWorld': True, 'loadWorld': True, 'fps': 60, 'recordDur': 10, 'wbad': 8.881784197001252e-16, 'heightObjects': 10, 'modelHeightMap': 'models/height2570.png', 'widthObjects': 10, 'worldSize': 257, 'treeScale': 0.04, 'loadHUD': True, 'bagTopics': '/usb_cam/image_raw /kinefly/image_output /kinefly/flystate /trajectory', 'loadingString': '00', 'lockFps': True, 'sphereScale': 1.9, 'gain': 7.0, 'offset': 129, 'sphereZ': 4.9, 'quad': True, 'camFOV': 140, 'trialNo': 1, 'fly': 'fly4', 'lrGain': 1.0, 'posL': (32, 64), 'maxSpeed': 3.5, 'initPosList': [(193, 161, 1), (64, 161, 1), (64, 32, 1), (193, 32, 1)], 'killWorldGen': True, 'treeZ': 0, 'modelSizeSuffix': '257', 'modelTextureMap': 'models/texture257_quadrant_t2.png', 'windField': array([[ 225.,  225.,  225., ...,  180.,  180.,  180.],\n",
        "       [ 225.,  225.,  225., ...,  180.,  180.,  180.],\n",
        "       [ 225.,  225.,  225., ...,  180.,  180.,  180.],\n",
        "       ..., \n",
        "       [ 135.,  135.,  135., ...,   -1.,   -1.,   -1.],\n",
        "       [ 135.,  135.,  135., ...,   -1.,   -1.,   -1.],\n",
        "       [ 135.,  135.,  135., ...,   -1.,   -1.,   -1.]]), 'playerInitPos': (64, 32, 1), 'playerInitH': 0, 'frameNum': 0, 'loadWind': True, 'treeTexPath': 'models/BarkBrown.tga', 'loadTrajectory': True, 'windowHeight': 768, 'windQuad': [-1, 180, 225, 135], 'redTexPath': 'models/red.tga', 'posR': (96, 64), 'maxBoutDur': 3600}\n"
       ]
      }
     ],
     "prompt_number": 6
    },
    {
     "cell_type": "code",
     "collapsed": false,
     "input": [],
     "language": "python",
     "metadata": {},
     "outputs": []
    }
   ],
   "metadata": {}
  }
 ]
}