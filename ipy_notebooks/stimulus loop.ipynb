{
 "cells": [
  {
   "cell_type": "code",
   "execution_count": null,
   "metadata": {
    "collapsed": false
   },
   "outputs": [],
   "source": [
    "%matplotlib inline\n",
    "from __future__ import division\n",
    "import numpy as np\n",
    "import matplotlib.pyplot as plt\n",
    "\n",
    "durList=[4,2,1]\n",
    "headingRate=[2,4,8]\n",
    "\n",
    "\n",
    "\n",
    "startDur=10\n",
    "stopDur=1\n",
    "stepDur=-1\n",
    "factorDur=0.9\n",
    "\n",
    "startHeading=2.1\n",
    "stopHeading=10\n",
    "stepHeading=1\n",
    "factorHeading=1.5\n",
    "\n",
    "intraTrial=1\n",
    "interTrial=15\n",
    "area=10\n",
    "nSteps=3\n",
    "nReps=3\n",
    "fps=165\n",
    "\n",
    "\n",
    "durListGen=True\n",
    "headingListGen=True\n",
    "gpMode=True\n",
    "areaMode=True\n",
    "\n",
    "signFlip=True\n",
    "orderFlip=True\n",
    "stepMode=True\n",
    "\n",
    "constantArea=False\n",
    "\n",
    "\n",
    "if not stepMode:\n",
    "    nSteps=np.log10(stopDur/startDur)/np.log10(factorDur)\n",
    "else: nSteps-=1 #because power estimation will increment it because factor^0 is also included\n",
    "\n",
    "\n",
    "if not areaMode:\n",
    "    area=startHeading*startDur\n",
    "    \n",
    "if durListGen:\n",
    "    if constantArea:\n",
    "        if gpMode:\n",
    "            print \"gpMode is True\"\n",
    "            durList=np.array([startDur*factorDur**x for x in range(int(nSteps+1))])\n",
    "        else:\n",
    "            durList=np.array(range(startDur,stopDur,stepDur))\n",
    "            print \"gpMode is False\"\n",
    "        \n",
    "        headingRate=area/durList\n",
    "        \n",
    "    else:\n",
    "        \n",
    "\n",
    "print \"durList is\", durList\n",
    "print \"Heading is\",headingRate\n",
    "print durList*headingRate\n",
    "i=0\n",
    "timeSeries=(np.zeros(interTrial*fps))\n",
    "\n",
    "for dur in durList:\n",
    "    try:\n",
    "        assert len(durList)==len(headingRate)\n",
    "    \n",
    "    except AssertionError:\n",
    "        print \"gain and dur of smae lengty\"\n",
    "        \n",
    "    timeSeries=np.append(timeSeries,headingRate[i]*np.ones(dur*fps))\n",
    "    timeSeries=np.append(timeSeries,np.zeros(intraTrial*fps))\n",
    "    \n",
    "    if signFlip:\n",
    "        timeSeries=np.append(timeSeries,-headingRate[i]*np.ones(dur*fps))\n",
    "        timeSeries=np.append(timeSeries,np.zeros(intraTrial*fps))\n",
    "     \n",
    "    i+=1\n",
    "    \n",
    "timeSeries=np.append(timeSeries,np.zeros(interTrial*fps))\n",
    "    \n",
    "if orderFlip:\n",
    "    timeSeries=np.append(timeSeries,np.flipud(timeSeries))\n",
    "timeSeries=np.tile(timeSeries,nReps)\n",
    "plt.plot(timeSeries)\n"
   ]
  },
  {
   "cell_type": "code",
   "execution_count": null,
   "metadata": {
    "collapsed": true
   },
   "outputs": [],
   "source": [
    "def listGen(start,stop,):\n",
    "    "
   ]
  },
  {
   "cell_type": "code",
   "execution_count": null,
   "metadata": {
    "collapsed": false
   },
   "outputs": [],
   "source": [
    "from scipy.integrate import simps\n",
    "print simps(abs(timeSeries),dx=1)"
   ]
  },
  {
   "cell_type": "code",
   "execution_count": null,
   "metadata": {
    "collapsed": false
   },
   "outputs": [],
   "source": [
    "tot=np.cumsum(timeSeries)\n",
    "plt.plot(np.cumsum(timeSeries))"
   ]
  },
  {
   "cell_type": "code",
   "execution_count": null,
   "metadata": {
    "collapsed": false
   },
   "outputs": [],
   "source": [
    "i=0\n",
    "tot=0\n",
    "sums=[0]\n",
    "for item in timeSeries:\n",
    "    if item==0:\n",
    "        tot=0\n",
    "    else:\n",
    "        tot+=item\n",
    "    sums.append(tot)\n",
    "    \n",
    "plt.plot(sums)"
   ]
  },
  {
   "cell_type": "code",
   "execution_count": null,
   "metadata": {
    "collapsed": false
   },
   "outputs": [],
   "source": [
    "range(1,5,2)"
   ]
  },
  {
   "cell_type": "code",
   "execution_count": null,
   "metadata": {
    "collapsed": false
   },
   "outputs": [],
   "source": [
    "timeSeries"
   ]
  },
  {
   "cell_type": "code",
   "execution_count": null,
   "metadata": {
    "collapsed": false
   },
   "outputs": [],
   "source": [
    "s=2\n",
    "b=36\n",
    "n=int(np.log10(b)/np.log10(s))\n",
    "print n"
   ]
  },
  {
   "cell_type": "code",
   "execution_count": null,
   "metadata": {
    "collapsed": false
   },
   "outputs": [],
   "source": [
    "a=10\n",
    "b=200\n",
    "s=2\n",
    "n=np.log10(b/a)/np.log10(s)\n",
    "print n"
   ]
  },
  {
   "cell_type": "code",
   "execution_count": null,
   "metadata": {
    "collapsed": false
   },
   "outputs": [],
   "source": [
    "print n"
   ]
  },
  {
   "cell_type": "code",
   "execution_count": null,
   "metadata": {
    "collapsed": false
   },
   "outputs": [],
   "source": [
    "b=[1,2]\n",
    "b.append(3)\n",
    "b"
   ]
  },
  {
   "cell_type": "code",
   "execution_count": null,
   "metadata": {
    "collapsed": false
   },
   "outputs": [],
   "source": [
    "a=np.array([1,2,3])\n",
    "for item in a:\n",
    "    print item"
   ]
  },
  {
   "cell_type": "code",
   "execution_count": null,
   "metadata": {
    "collapsed": false
   },
   "outputs": [],
   "source": [
    "a=1/a\n",
    "a"
   ]
  },
  {
   "cell_type": "code",
   "execution_count": null,
   "metadata": {
    "collapsed": false
   },
   "outputs": [],
   "source": [
    "2/a"
   ]
  },
  {
   "cell_type": "code",
   "execution_count": null,
   "metadata": {
    "collapsed": false
   },
   "outputs": [],
   "source": [
    "a=[1,2,3  ]\n",
    "a=a*3\n",
    "a"
   ]
  },
  {
   "cell_type": "code",
   "execution_count": null,
   "metadata": {
    "collapsed": false
   },
   "outputs": [],
   "source": [
    "for "
   ]
  },
  {
   "cell_type": "code",
   "execution_count": null,
   "metadata": {
    "collapsed": true
   },
   "outputs": [],
   "source": [
    "def stimulusListGen():\n",
    "    \"\"\"\n",
    "    If stepMode is true, the stimulus will have than many steps\n",
    "     Else it calculates, the number of steps needed to reach Start to stop in step ratio of factorDur\n",
    "\n",
    "    If areaMode is true, the stimulus will all have area equal to area given\n",
    "     Else it calculates area from startHeading rate and startDuration\n",
    "\n",
    "    If durListGen is true, it generates the list of durations, else the entered list of durations is used\n",
    "        In gp Mode, the list forms a gp with common ratio of factorDur\n",
    "        In ap Mode, the list forms a ap with common difference of stepDur\n",
    "\n",
    "    If headingListGen is true, it generates the list of heading rates, else the entered list is used\n",
    "        It generates it by dividing durlist form area, this is because, area, which is total rotation imposed every stimulus is kept constant (ex, 720degrees)\n",
    "\n",
    "\n",
    "\n",
    "    Returns:\n",
    "\n",
    "    \"\"\"\n",
    "    # print \"startDur is\", parameters[\"nSteps\"]\n",
    "\n",
    "    if not parameters[\"stepMode\"]:\n",
    "        # todo.fix this calculates steps for gp mode. Missing ap mode\n",
    "        parameters[\"nSteps\"] = np.log10(parameters[\"stopDur\"] / parameters[\"startDur\"]) / \\\n",
    "                               np.log10(parameters[\"factorDur\"])\n",
    "    else:\n",
    "        parameters[\"nSteps\"] -= 1  # because power estimation will increment it because factor^0 is also included\n",
    "\n",
    "    if not parameters[\"areaMode\"]:\n",
    "        parameters[\"area\"] = parameters[\"startHeading\"] * parameters[\"startDur\"]\n",
    "\n",
    "    if parameters[\"durListGen\"]:\n",
    "        if parameters[\"gpMode\"]:\n",
    "            # print \"GP mode is True\"\n",
    "            parameters[\"durList\"] = np.array([parameters[\"startDur\"] *\n",
    "                                              parameters[\"factorDur\"] ** x\n",
    "                                              for x in range(int(parameters[\"nSteps\"] + 1))])\n",
    "        else:\n",
    "            parameters[\"durList\"] = np.array(range(parameters[\"startDur\"],\n",
    "                                                   parameters[\"stopDur\"], parameters[\"stepDur\"]))\n",
    "            # print \"GP mode is False\"\n",
    "    if parameters[\"headingListGen\"]:\n",
    "        parameters[\"headingRate\"] = parameters[\"area\"] / parameters[\"durList\"]\n",
    "\n",
    "    print \"\\nDurlist is\", parameters[\"durList\"]\n",
    "    print \"Heading is\", parameters[\"headingRate\"]\n",
    "    print \"Imposed turn in degrees/frame is,\", parameters[\"durList\"] * parameters[\"headingRate\"]\n",
    "\n",
    "    i = 0\n",
    "    parameters[\"timeSeries\"] = (np.zeros(int(parameters[\"interTrial\"] * parameters[\"fps\"])))\n",
    "\n",
    "    for dur in parameters[\"durList\"]:\n",
    "        try:\n",
    "            assert len(parameters[\"durList\"]) == len(parameters[\"headingRate\"])#they should be equal unless there is a bug or typo\n",
    "\n",
    "        except AssertionError:\n",
    "            print \"gain and dur of smae lengty\"\n",
    "\n",
    "        parameters[\"timeSeries\"] = np.append(parameters[\"timeSeries\"],\n",
    "                                             parameters[\"headingRate\"][i] * np.ones(int(dur * parameters[\"fps\"])))\n",
    "        parameters[\"timeSeries\"] = np.append(parameters[\"timeSeries\"],\n",
    "                                             np.zeros(int(parameters[\"intraTrial\"] * parameters[\"fps\"])))\n",
    "\n",
    "        if parameters[\"signFlip\"]:\n",
    "            parameters[\"timeSeries\"] = np.append(parameters[\"timeSeries\"],\n",
    "                                                 -parameters[\"headingRate\"][i] * np.ones(int(dur * parameters[\"fps\"])))\n",
    "            parameters[\"timeSeries\"] = np.append(parameters[\"timeSeries\"],\n",
    "                                                 np.zeros(int(parameters[\"intraTrial\"] * parameters[\"fps\"])))\n",
    "\n",
    "        i += 1\n",
    "\n",
    "    parameters[\"timeSeries\"] = np.append(parameters[\"timeSeries\"],\n",
    "                                         np.zeros(int(parameters[\"interTrial\"] * parameters[\"fps\"])))\n",
    "\n",
    "    if parameters[\"orderFlip\"]:\n",
    "        parameters[\"timeSeries\"] = np.append(parameters[\"timeSeries\"], np.flipud(parameters[\"timeSeries\"]))\n",
    "    parameters[\"timeSeries\"] = np.tile(parameters[\"timeSeries\"], parameters[\"nReps\"])\n",
    "\n",
    "\n",
    "    # plt.plot(parameters[\"timeSeries\"])\n",
    "    # plt.show()\n",
    "\n",
    "\n",
    "    return parameters[\"timeSeries\"]"
   ]
  }
 ],
 "metadata": {
  "kernelspec": {
   "display_name": "Python 2",
   "language": "python",
   "name": "python2"
  },
  "language_info": {
   "codemirror_mode": {
    "name": "ipython",
    "version": 2
   },
   "file_extension": ".py",
   "mimetype": "text/x-python",
   "name": "python",
   "nbconvert_exporter": "python",
   "pygments_lexer": "ipython2",
   "version": "2.7.6"
  }
 },
 "nbformat": 4,
 "nbformat_minor": 0
}
