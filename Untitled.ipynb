{
 "cells": [
  {
   "cell_type": "code",
   "execution_count": 4,
   "metadata": {
    "collapsed": true
   },
   "outputs": [],
   "source": [
    "from classes.fieldGen import FieldGen\n",
    "import matplotlib.pyplot as plt\n",
    "\n",
    "f=FieldGen()"
   ]
  },
  {
   "cell_type": "code",
   "execution_count": 5,
   "metadata": {
    "collapsed": false
   },
   "outputs": [],
   "source": [
    "a=f.odourPacket(width=257,height=257,scale=10,packetFrequency=3,packetDuration=.2)"
   ]
  },
  {
   "cell_type": "code",
   "execution_count": 7,
   "metadata": {
    "collapsed": false
   },
   "outputs": [],
   "source": [
    "plt.imshow(a)\n",
    "plt.show()\n",
    "{\"DCoffset\": -0.002, \"DCoffsetIncrement\": 0.012, \"area\": 8, \"areaMode\": true, \"bagFullTopics\": \"/rhag_camera/image_raw/compressed /kinefly/image_output /servo_camera/image_raw/compressed /kinefly/flystate /trajectory  \", \"bagTrajTopics\": \"/kinefly/flystate /trajectory \", \"bboxDist\": 7.5, \"beepPath\": \"models/sounds/beep.wav\", \"camFOV\": [180, 140], \"camHpr\": [0, -2, 0], \"captureScale\": 1, \"captureStart\": 0, \"durList\": [3, 3, 3, 3, 3, 3], \"durListGen\": false, \"emergence\": \"2000-01-01\", \"factorDur\": 0.65, \"fly\": \"fly14\", \"fps\": 60, \"frameNum\": 0, \"frameRecord\": false, \"gain\": 3, \"gainIncrement\": 0.02, \"generateWorld\": false, \"gpMode\": true, \"greenTexPath\": \"models/green.tga\", \"headingListGen\": false, \"headingRate\": [0.25, 0.5, 1, 2, 4, 8], \"humanDisplay\": false, \"imposeStimulus\": false, \"interTrial\": 3, \"intraTrial\": 4, \"loadNullModels\": false, \"loadOdour\": true, \"loadTrajectory\": false, \"loadWind\": false, \"loadWorld\": true, \"loadingString\": \"rr\", \"lockFps\": true, \"maxBoutDur\": 9900, \"maxDistance\": 65, \"maxSpeed\": 7, \"modelHeightMap\": \"models/height2570.png\", \"modelSizeSuffix\": \"257\", \"modelTextureMap\": \"models/texture257_quadrant_t2_sym.png\", \"modelTextureMapNull\": \"models/texture257_quadrant_t2_sym_null.png\", \"mouseMode\": false, \"nReps\": 20, \"nSteps\": 5, \"odour1\": \"models/odour/1.png\", \"odour2\": \"models/odour/2.png\", \"odour3\": \"models/odour/3.png\", \"odour4\": \"models/odour/4.png\", \"odourQuad\": [1, 1, 1, 1], \"orderFlip\": true, \"origin\": [0, 0, 0], \"packetDur\": 0.05, \"packetFrequency\": 5, \"pausePlot\": false, \"playbackIncrement\": 1, \"playerInitH\": 0, \"playerInitPos\": [64, 32, 3], \"posL\": [32, 64], \"posR\": [96, 64], \"quad\": true, \"race\": \"apple\", \"recordDur\": 10, \"recordFps\": 30, \"redTexPath\": \"models/red.tga\", \"replayWorld\": false, \"resetObject\": true, \"signFlip\": true, \"skyMap\": \"models/sky.egg\", \"skyMapNull\": \"models/sky_null.egg\", \"speed\": 0.0, \"speedIncrement\": 0.05, \"spherePath\": \"models/sphere.egg\", \"sphereScale\": 1.9, \"sphereZ\": 4.9, \"startDur\": 12, \"startHeading\": 2.1, \"stepDur\": -1, \"stepMode\": true, \"stopDur\": 2, \"toTuplify\": [\"camHpr\", \"posL\", \"posR\", \"origin\", \"playerInitPos\", \"camFOV\"], \"trajectoryUpdateInterval\": 99, \"treePath\": \"models/treeHighB.egg\", \"treeScale\": 0.04, \"treeTexPath\": \"models/BarkBrown.tga\", \"treeZ\": 0.0, \"trialNo\": 1, \"wbad\": 0, \"wbas\": 0, \"windDirection\": 99, \"windQuad\": [180, 180, -1, -1], \"windowHeight\": 99, \"windowWidth\": 99, \"worldSize\": 255}"
   ]
  },
  {
   "cell_type": "code",
   "execution_count": 1,
   "metadata": {
    "collapsed": true
   },
   "outputs": [],
   "source": [
    "from params import parameters\n",
    "import json"
   ]
  },
  {
   "cell_type": "code",
   "execution_count": 3,
   "metadata": {
    "collapsed": true
   },
   "outputs": [],
   "source": [
    "with open('test.json','wb') as j:\n",
    "    json.dump(parameters,j,sort_keys=True)"
   ]
  },
  {
   "cell_type": "code",
   "execution_count": null,
   "metadata": {
    "collapsed": true
   },
   "outputs": [],
   "source": [
    "with open('jsonFiles/VR.json','r') as j:\n",
    "    a=json.load(j)"
   ]
  },
  {
   "cell_type": "code",
   "execution_count": 4,
   "metadata": {
    "collapsed": false
   },
   "outputs": [
    {
     "name": "stdout",
     "output_type": "stream",
     "text": [
      "{u'interTrial': 3, u'spherePath': u'models/sphere.egg', u'stepMode': True, u'mouseMode': False, u'greenTexPath': u'models/green.tga', u'speed': 0.0, u'gainIncrement': 0.02, u'headingListGen': False, u'nReps': 20, u'windDirection': 190, u'wbas': 0, u'wbad': 0, u'stepDur': -1, u'captureScale': 1, u'plotOdourQuad': True, u'worldSize': 257, u'startDur': 12, u'sphereScale': 1.9, u'stopDur': 2, u'emergence': u'2000-01-01', u'loadOdour': True, u'imposeStimulus': False, u'treeZ': 0.0, u'modelSizeSuffix': u'257', u'pausePlot': False, u'frameNum': 0, u'race': u'apple', u'windowHeight': 2560, u'startHeading': 2.1, u'loadNullModels': False, u'playbackIncrement': 1, u'packetDur': 0.04, u'captureStart': 0, u'loadTrajectory': False, u'camHpr': [0, -10, 0], u'treePath': u'models/treeHighB.egg', u'nSteps': 5, u'recordDur': 10, u'resetObject': False, u'speedIncrement': 0.05, u'treeScale': 0.1, u'odour4': u'models/odour/4.png', u'odour1': u'models/odour/1.png', u'lockFps': True, u'odour3': u'models/odour/3.png', u'odour2': u'models/odour/2.png', u'sphereZ': 4.9, u'maxDistance': 65, u'posL': [32, 64], u'skyMapNull': u'models/sky_null.egg', u'replayWorld': False, u'bboxDist': 7.5, u'posR': [96, 64], u'packetFrequency': 5, u'gpMode': True, u'origin': [0, 0, 0], u'durList': [3, 3, 3, 3, 3, 3], u'frameRecord': False, u'beepPath': u'/home/pavan/catkin/src/world/models/sounds/beep.wav', u'trajectoryUpdateInterval': 30, u'skyMap': u'models/sky.egg', u'durListGen': False, u'area': 8, u'bagFullTopics': u'/rhag_camera/image_raw/compressed /kinefly/image_output /servo_camera/image_raw/compressed /kinefly/flystate /trajectory  ', u'generateWorld': False, u'DCoffset': -0.002, u'modelTextureMapNull': u'models/texture257_quadrant_t2_sym_null.png', u'intraTrial': 3, u'loadWind': True, u'gain': 7, u'quad': False, u'trialNo': 1, u'fly': u'', u'DCoffsetIncrement': 0.012, u'areaMode': True, u'recordFps': 30, u'bagTrajTopics': u'/kinefly/flystate /trajectory ', u'redTexPath': u'models/red.tga', u'signFlip': True, u'windowWidth': 4320, u'humanDisplay': False, u'orderFlip': True, u'factorDur': 0.65, u'toTuplify': [u'camHpr', u'posL', u'posR', u'origin', u'camFOV', u'playerInitPos'], u'fps': 60, u'modelHeightMap': u'models/height2570.png', u'windQuad': [-1, 90, 180, 270], u'loadingString': u'rg', u'headingRate': [0.25, 0.5, 1, 2, 4, 8], u'camFOV': [180, 140], u'maxSpeed': 20.0, u'modelTextureMap': u'models/texture257_quadrant_t2_sym.png', u'maxBoutDur': 9999, u'playerInitPos': [64, 32, 3], u'odourQuad': [0, 5, 10, 50], u'playerInitH': 0, u'loadWorld': True, u'treeTexPath': u'models/BarkBrown.tga'}\n"
     ]
    }
   ],
   "source": [
    "print a"
   ]
  },
  {
   "cell_type": "code",
   "execution_count": 2,
   "metadata": {
    "collapsed": false
   },
   "outputs": [
    {
     "name": "stdout",
     "output_type": "stream",
     "text": [
      "a is 1\n",
      "A is  1\n"
     ]
    },
    {
     "data": {
      "text/plain": [
       "<__main__.my instance at 0x7fb2781126c8>"
      ]
     },
     "execution_count": 2,
     "metadata": {},
     "output_type": "execute_result"
    }
   ],
   "source": [
    "class my():\n",
    "    def __init__(self):\n",
    "        self.a=1\n",
    "        print \"a is\",self.a\n",
    "        T=tun(self)\n",
    "class tun():\n",
    "    def __init__(self,ob):\n",
    "        print \"A is \",ob.a\n",
    "my()"
   ]
  },
  {
   "cell_type": "code",
   "execution_count": 1,
   "metadata": {
    "collapsed": true
   },
   "outputs": [],
   "source": [
    "import numpy as np"
   ]
  },
  {
   "cell_type": "code",
   "execution_count": 5,
   "metadata": {
    "collapsed": false
   },
   "outputs": [
    {
     "data": {
      "text/plain": [
       "array([[False, False, False],\n",
       "       [False, False, False]], dtype=bool)"
      ]
     },
     "execution_count": 5,
     "metadata": {},
     "output_type": "execute_result"
    }
   ],
   "source": [
    "a= np.random.rand(2,3)\n",
    "np.logical_and(a,0\n",
    "              )"
   ]
  },
  {
   "cell_type": "code",
   "execution_count": null,
   "metadata": {
    "collapsed": true
   },
   "outputs": [],
   "source": []
  }
 ],
 "metadata": {
  "kernelspec": {
   "display_name": "Python 2",
   "language": "python",
   "name": "python2"
  },
  "language_info": {
   "codemirror_mode": {
    "name": "ipython",
    "version": 2
   },
   "file_extension": ".py",
   "mimetype": "text/x-python",
   "name": "python",
   "nbconvert_exporter": "python",
   "pygments_lexer": "ipython2",
   "version": "2.7.6"
  }
 },
 "nbformat": 4,
 "nbformat_minor": 0
}
