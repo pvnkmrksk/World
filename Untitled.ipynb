{
 "cells": [
  {
   "cell_type": "code",
   "execution_count": 4,
   "metadata": {
    "collapsed": true
   },
   "outputs": [],
   "source": [
    "from classes.fieldGen import FieldGen\n",
    "import matplotlib.pyplot as plt\n",
    "\n",
    "f=FieldGen()"
   ]
  },
  {
   "cell_type": "code",
   "execution_count": 5,
   "metadata": {
    "collapsed": false
   },
   "outputs": [],
   "source": [
    "a=f.odourPacket(width=257,height=257,scale=10,packetFrequency=3,packetDuration=.2)"
   ]
  },
  {
   "cell_type": "code",
   "execution_count": 7,
   "metadata": {
    "collapsed": false
   },
   "outputs": [],
   "source": [
    "plt.imshow(a)\n",
    "plt.show()\n",
    "{\"DCoffset\": -0.002, \"DCoffsetIncrement\": 0.012, \"area\": 8, \"areaMode\": true, \"bagFullTopics\": \"/rhag_camera/image_raw/compressed /kinefly/image_output /servo_camera/image_raw/compressed /kinefly/flystate /trajectory  \", \"bagTrajTopics\": \"/kinefly/flystate /trajectory \", \"bboxDist\": 7.5, \"beepPath\": \"models/sounds/beep.wav\", \"camFOV\": [180, 140], \"camHpr\": [0, -2, 0], \"captureScale\": 1, \"captureStart\": 0, \"durList\": [3, 3, 3, 3, 3, 3], \"durListGen\": false, \"emergence\": \"2000-01-01\", \"factorDur\": 0.65, \"fly\": \"fly14\", \"fps\": 60, \"frameNum\": 0, \"frameRecord\": false, \"gain\": 3, \"gainIncrement\": 0.02, \"generateWorld\": false, \"gpMode\": true, \"greenTexPath\": \"models/green.tga\", \"headingListGen\": false, \"headingRate\": [0.25, 0.5, 1, 2, 4, 8], \"humanDisplay\": false, \"imposeStimulus\": false, \"interTrial\": 3, \"intraTrial\": 4, \"loadNullModels\": false, \"loadOdour\": true, \"loadTrajectory\": false, \"loadWind\": false, \"loadWorld\": true, \"loadingString\": \"rr\", \"lockFps\": true, \"maxBoutDur\": 9900, \"maxDistance\": 65, \"maxSpeed\": 7, \"modelHeightMap\": \"models/height2570.png\", \"modelSizeSuffix\": \"257\", \"modelTextureMap\": \"models/texture257_quadrant_t2_sym.png\", \"modelTextureMapNull\": \"models/texture257_quadrant_t2_sym_null.png\", \"mouseMode\": false, \"nReps\": 20, \"nSteps\": 5, \"odour1\": \"models/odour/1.png\", \"odour2\": \"models/odour/2.png\", \"odour3\": \"models/odour/3.png\", \"odour4\": \"models/odour/4.png\", \"odourQuad\": [1, 1, 1, 1], \"orderFlip\": true, \"origin\": [0, 0, 0], \"packetDur\": 0.05, \"packetFrequency\": 5, \"pausePlot\": false, \"playbackIncrement\": 1, \"playerInitH\": 0, \"playerInitPos\": [64, 32, 3], \"posL\": [32, 64], \"posR\": [96, 64], \"quad\": true, \"race\": \"apple\", \"recordDur\": 10, \"recordFps\": 30, \"redTexPath\": \"models/red.tga\", \"replayWorld\": false, \"resetObject\": true, \"signFlip\": true, \"skyMap\": \"models/sky.egg\", \"skyMapNull\": \"models/sky_null.egg\", \"speed\": 0.0, \"speedIncrement\": 0.05, \"spherePath\": \"models/sphere.egg\", \"sphereScale\": 1.9, \"sphereZ\": 4.9, \"startDur\": 12, \"startHeading\": 2.1, \"stepDur\": -1, \"stepMode\": true, \"stopDur\": 2, \"toTuplify\": [\"camHpr\", \"posL\", \"posR\", \"origin\", \"playerInitPos\", \"camFOV\"], \"trajectoryUpdateInterval\": 99, \"treePath\": \"models/treeHighB.egg\", \"treeScale\": 0.04, \"treeTexPath\": \"models/BarkBrown.tga\", \"treeZ\": 0.0, \"trialNo\": 1, \"wbad\": 0, \"wbas\": 0, \"windDirection\": 99, \"windQuad\": [180, 180, -1, -1], \"windowHeight\": 99, \"windowWidth\": 99, \"worldSize\": 255}"
   ]
  },
  {
   "cell_type": "code",
   "execution_count": null,
   "metadata": {
    "collapsed": true
   },
   "outputs": [],
   "source": [
    "from params import parameters\n",
    "import json"
   ]
  },
  {
   "cell_type": "code",
   "execution_count": 3,
   "metadata": {},
   "outputs": [],
   "source": [
    "with open('test.json','wb') as j:\n",
    "    json.dump(parameters,j,sort_keys=True)"
   ]
  },
  {
   "cell_type": "code",
   "execution_count": null,
   "metadata": {},
   "outputs": [],
   "source": [
    ""
   ]
  }
 ],
 "metadata": {
  "kernelspec": {
   "display_name": "Python 2",
   "language": "python",
   "name": "python2"
  },
  "language_info": {
   "codemirror_mode": {
    "name": "ipython",
    "version": 2.0
   },
   "file_extension": ".py",
   "mimetype": "text/x-python",
   "name": "python",
   "nbconvert_exporter": "python",
   "pygments_lexer": "ipython2",
   "version": "2.7.6"
  }
 },
 "nbformat": 4,
 "nbformat_minor": 0
}